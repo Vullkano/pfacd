{
 "cells": [
  {
   "cell_type": "markdown",
   "id": "eb3f655a-e184-4aa8-80ca-f00c159b640a",
   "metadata": {},
   "source": [
    "### Imports"
   ]
  },
  {
   "cell_type": "code",
   "execution_count": null,
   "id": "01fbe419-c810-4a15-97c3-51488322a004",
   "metadata": {},
   "outputs": [],
   "source": [
    "import pandas as pd\n",
    "import geopandas as gpd\n",
    "import matplotlib.pyplot as plt\n",
    "import seaborn as sns\n",
    "import folium\n",
    "from folium import Choropleth\n",
    "from folium.plugins import HeatMap\n",
    "from geopy.geocoders import Nominatim\n",
    "import datetime\n",
    "import os\n",
    "from pathlib import Path\n",
    "# pip install xldr"
   ]
  },
  {
   "cell_type": "markdown",
   "id": "416d01c4-a638-4002-9770-e9039456a2b9",
   "metadata": {},
   "source": [
    "## 0. Leitura do Ficheiro"
   ]
  },
  {
   "cell_type": "code",
   "execution_count": null,
   "id": "0afe96b0-38ba-455a-aa95-964692df3779",
   "metadata": {},
   "outputs": [],
   "source": [
    "# Guardar todos os outputs numa única pasta\n",
    "output_folder = Path.cwd() / \"output\"\n",
    "output_folder.mkdir(parents=True, exist_ok=True)\n",
    "\n",
    "# Exemplo: mapa.save(output_folder / 'mapa_de_calor_portugal_Danielle.html')"
   ]
  },
  {
   "cell_type": "code",
   "execution_count": null,
   "id": "08520553-0c0e-4903-8348-4623192f25dd",
   "metadata": {},
   "outputs": [],
   "source": [
    "p = Path.cwd()\n",
    "data_folder = p.parent / \"data\"\n",
    "shape_folder = p.parent / \"shape\"\n",
    "file_path = data_folder / \"INFsumaria_IU_2020.xls\"\n",
    "\n",
    "Sumario = pd.read_excel(file_path, header=6)"
   ]
  },
  {
   "cell_type": "code",
   "execution_count": null,
   "id": "c0bf8267-f7cf-4c75-81f2-f87ef30eb56f",
   "metadata": {},
   "outputs": [],
   "source": [
    "Sumario = Sumario.drop(columns=Sumario.columns[[0, 1, 4, 6, 10, 11, 16]])\n",
    "Sumario[\"Distrito\"] = Sumario[\"Distrito\"].str.title()\n",
    "Sumario[\"Concelho\"] = Sumario[\"Concelho\"].str.title()\n",
    "Sumario[\"Freguesia\"] = Sumario[\"Freguesia\"].str.title()\n",
    "Sumario"
   ]
  },
  {
   "cell_type": "code",
   "execution_count": null,
   "id": "d7d099c8-52cf-4c80-834c-351995a35d10",
   "metadata": {},
   "outputs": [],
   "source": [
    "Sumario.columns"
   ]
  },
  {
   "cell_type": "markdown",
   "id": "be34c2a2-7800-4a9c-bce5-76a7bf695d34",
   "metadata": {},
   "source": [
    "## 1.1. Coordenadas dos acidentes"
   ]
  },
  {
   "cell_type": "raw",
   "id": "b2af791b-af45-426e-825e-7503c157b595",
   "metadata": {},
   "source": [
    "backup = Sumario"
   ]
  },
  {
   "cell_type": "raw",
   "id": "67ec6ea5-ec36-4ecb-932e-cffb6ce6af2a",
   "metadata": {},
   "source": [
    "Sumario = Sumario[1:1000]"
   ]
  },
  {
   "cell_type": "raw",
   "id": "7c615c53-7df8-4cb8-a560-ecb221cc516d",
   "metadata": {},
   "source": [
    "# Criando um mapa centrado em uma localização específica\n",
    "mapa = folium.Map(location=[Sumario['Latitude'].mean(), Sumario['Longitude'].mean()], zoom_start=4)\n",
    "\n",
    "# Adicionando marcadores para cada ponto no DataFrame\n",
    "for index, row in Sumario.iterrows():\n",
    "    folium.Marker([row['Latitude'], row['Longitude']], popup=row['Localidade']).add_to(mapa)\n",
    "mapa.save('mapa_interativo.html')"
   ]
  },
  {
   "cell_type": "raw",
   "id": "9a9863c7-1e71-4613-8bec-43d9b8755279",
   "metadata": {},
   "source": [
    "Sumario = backup"
   ]
  },
  {
   "cell_type": "markdown",
   "id": "254cec55-2250-4528-b6ca-de5d8e7e899d",
   "metadata": {},
   "source": [
    "## 1.2. Distritos Maps"
   ]
  },
  {
   "cell_type": "code",
   "execution_count": null,
   "id": "4f361bbf-7d8a-485c-bdaf-8774fdcd56ac",
   "metadata": {},
   "outputs": [],
   "source": [
    "DistritoCount = Sumario[\"Distrito\"].value_counts().reset_index()\n",
    "DistritoCount"
   ]
  },
  {
   "cell_type": "code",
   "execution_count": null,
   "id": "4065f3b8-9f90-4773-b23b-d3291bae04d9",
   "metadata": {},
   "outputs": [],
   "source": [
    "file_path = shape_folder / \"Distritos.shp\"\n",
    "Distrito = gpd.read_file(file_path)\n",
    "Distrito = Distrito[(Distrito['NAME_1'] != 'Azores') & (Distrito['NAME_1'] != 'Madeira')]\n",
    "# Renomeie a coluna 'NAME_2' para 'Distrito' para correspondência\n",
    "Distrito.rename(columns={'NAME_1': 'Distrito'}, inplace=True)\n",
    "Distrito[\"Distrito\"] = Distrito[\"Distrito\"].str.title()\n",
    "Distrito"
   ]
  },
  {
   "cell_type": "code",
   "execution_count": null,
   "id": "936a6351-bd33-4a04-b586-40801bd27f71",
   "metadata": {},
   "outputs": [],
   "source": [
    "# Mescla os dados do seu_dataframe com as geometrias dos concelhos\n",
    "mapa_data = Distrito.merge(DistritoCount, how='left', left_on='Distrito', right_on='Distrito')\n",
    "\n",
    "# Crie um mapa folium centrado em Portugal\n",
    "mapa = folium.Map(location=[39.5, -8.0], zoom_start=6)\n",
    "\n",
    "# Adicione o mapa de calor com cores diferentes para cada distrito\n",
    "Choropleth(\n",
    "    geo_data=mapa_data,\n",
    "    name='choropleth',\n",
    "    data=mapa_data,\n",
    "    columns=['Distrito', 'count'],\n",
    "    key_on='feature.properties.Distrito',\n",
    "    fill_color='YlGnBu',\n",
    "    fill_opacity=0.7,\n",
    "    line_opacity=0.2,\n",
    "    legend_name='Acidentes'\n",
    ").add_to(mapa)\n",
    "\n",
    "# Exiba o mapa\n",
    "mapa.save(output_folder / 'ANEPCdistrito.html')"
   ]
  },
  {
   "cell_type": "markdown",
   "id": "b3f59a84-4823-47d2-8032-34113810f77e",
   "metadata": {},
   "source": [
    "## 1.2. Concelho Maps"
   ]
  },
  {
   "cell_type": "code",
   "execution_count": null,
   "id": "0d0689e0-1ebd-45c6-b2a0-1ec3d9c84c35",
   "metadata": {},
   "outputs": [],
   "source": [
    "ConcelhoCount = Sumario[\"Concelho\"].value_counts().reset_index()\n",
    "ConcelhoCount.loc[ConcelhoCount['Concelho'] == 'Ponte De Sor', 'Concelho'] = 'Ponte De Sôr'\n",
    "ConcelhoCount"
   ]
  },
  {
   "cell_type": "code",
   "execution_count": null,
   "id": "6b207744-f131-4552-80f0-d877a5ff82d3",
   "metadata": {},
   "outputs": [],
   "source": [
    "file_path = shape_folder / \"concelhos.shp\"\n",
    "Concelho = gpd.read_file(file_path)\n",
    "Concelho = Concelho[(Concelho['NAME_1'] != 'Azores') & (Concelho['NAME_1'] != 'Madeira')]\n",
    "# Renomeie a coluna 'NAME_2' para 'Distrito' para correspondência\n",
    "Concelho.rename(columns={'NAME_2': 'Concelho'}, inplace=True)\n",
    "Concelho[\"Concelho\"] = Concelho[\"Concelho\"].str.title()"
   ]
  },
  {
   "cell_type": "code",
   "execution_count": null,
   "id": "30c4c8c2-552c-4127-8113-b1f14384784b",
   "metadata": {},
   "outputs": [],
   "source": [
    "# Obter as strings que estão em \"ConcelhoCount\" e não em \"Concelho\"\n",
    "strings_nao_comuns_concelho_count = ConcelhoCount[~ConcelhoCount['Concelho'].isin(Concelho['Concelho'])]['Concelho']\n",
    "print(strings_nao_comuns_concelho_count)\n",
    "\n",
    "# Obter as strings que estão em \"Concelho\" e não em \"ConcelhoCount\"\n",
    "strings_nao_comuns_concelho = Concelho[~Concelho['Concelho'].isin(ConcelhoCount['Concelho'])]['Concelho']\n",
    "strings_nao_comuns_concelho"
   ]
  },
  {
   "cell_type": "code",
   "execution_count": null,
   "id": "6673a249-f205-40c1-b749-377d8502097a",
   "metadata": {},
   "outputs": [],
   "source": [
    "Concelho[Concelho[\"Concelho\"].str.contains(\"G\")]"
   ]
  },
  {
   "cell_type": "code",
   "execution_count": null,
   "id": "7266aaad-2fc4-47bc-a61a-1c86f7a98213",
   "metadata": {},
   "outputs": [],
   "source": [
    "# Mescla os dados do seu_dataframe com as geometrias dos concelhos\n",
    "mapa_data = Concelho.merge(ConcelhoCount, how='left', left_on='Concelho', right_on='Concelho')\n",
    "\n",
    "# Crie um mapa folium centrado em Portugal\n",
    "mapa = folium.Map(location=[39.5, -8.0], zoom_start=6)\n",
    "\n",
    "# Adicione o mapa de calor com cores diferentes para cada distrito\n",
    "Choropleth(\n",
    "    geo_data=mapa_data,\n",
    "    name='choropleth',\n",
    "    data=mapa_data,\n",
    "    columns=['Concelho', 'count'],\n",
    "    key_on='feature.properties.Concelho',\n",
    "    fill_color='YlGnBu',\n",
    "    fill_opacity=0.7,\n",
    "    line_opacity=0.2,\n",
    "    legend_name='Acidentes'\n",
    ").add_to(mapa)\n",
    "\n",
    "# Exiba o mapa\n",
    "mapa.save(output_folder / 'ANEPCconcelho.html')"
   ]
  },
  {
   "cell_type": "markdown",
   "id": "128829a9-7f99-4d8c-b42a-7b14bd42a298",
   "metadata": {},
   "source": [
    "## 1.3. Freguesia Maps"
   ]
  },
  {
   "cell_type": "code",
   "execution_count": null,
   "id": "d0edb378-feaa-40e3-b356-6e5907f1df20",
   "metadata": {},
   "outputs": [],
   "source": [
    "FreguesiaCount = Sumario[\"Freguesia\"].value_counts().reset_index()\n",
    "FreguesiaCount"
   ]
  },
  {
   "cell_type": "code",
   "execution_count": null,
   "id": "4d497f36-f95e-4223-af4e-7bd2c9eb3a0b",
   "metadata": {},
   "outputs": [],
   "source": [
    "file_path = shape_folder / \"Cont_AAD_CAOP2017.shp\"\n",
    "Freguesia = gpd.read_file(file_path)\n",
    "Freguesia[\"Distrito\"] = Freguesia[\"Distrito\"].str.title()\n",
    "Freguesia[\"Concelho\"] = Freguesia[\"Concelho\"].str.title()\n",
    "Freguesia[\"Freguesia\"] = Freguesia[\"Freguesia\"].str.title()\n",
    "Freguesia"
   ]
  },
  {
   "cell_type": "code",
   "execution_count": null,
   "id": "b2a283b6-563b-4815-bf04-0990b98cbfbb",
   "metadata": {},
   "outputs": [],
   "source": [
    "# Mescla os dados do seu_dataframe com as geometrias dos concelhos\n",
    "mapa_data = Freguesia.merge(FreguesiaCount, how='left', left_on='Freguesia', right_on='Freguesia')\n",
    "\n",
    "# Crie um mapa folium centrado em Portugal\n",
    "mapa = folium.Map(location=[39.5, -8.0], zoom_start=6)\n",
    "\n",
    "# Adicione o mapa de calor com cores diferentes para cada distrito\n",
    "Choropleth(\n",
    "    geo_data=mapa_data,\n",
    "    name='choropleth',\n",
    "    data=mapa_data,\n",
    "    columns=['Freguesia', 'count'],\n",
    "    key_on='feature.properties.Freguesia',\n",
    "    fill_color='YlGnBu',\n",
    "    fill_opacity=0.7,\n",
    "    line_opacity=0.2,\n",
    "    legend_name='Acidentes'\n",
    ").add_to(mapa)\n",
    "\n",
    "# Exiba o mapa\n",
    "mapa.save(output_folder / 'ANEPCfreguesia.html')"
   ]
  },
  {
   "cell_type": "code",
   "execution_count": null,
   "id": "23aa341d-4af5-4e0d-a451-8ffa25811b02",
   "metadata": {},
   "outputs": [],
   "source": [
    "# Obter as strings que estão em \"FreguesiaCount\" e não em \"Freguesia\"\n",
    "strings_nao_comuns_freguesia_count = FreguesiaCount[~FreguesiaCount['Freguesia'].isin(Freguesia['Freguesia'])]['Freguesia']\n",
    "print(strings_nao_comuns_freguesia_count)\n",
    "\n",
    "# Obter as strings que estão em \"Freguesia\" e não em \"FreguesiaCount\"\n",
    "strings_nao_comuns_freguesia = Freguesia[~Freguesia['Freguesia'].isin(FreguesiaCount['Freguesia'])]['Freguesia']\n",
    "strings_nao_comuns_freguesia"
   ]
  },
  {
   "cell_type": "markdown",
   "id": "298a4e7c-b6cc-4b6e-b6da-13ce1e526a9d",
   "metadata": {},
   "source": [
    "# Gráficos"
   ]
  },
  {
   "cell_type": "code",
   "execution_count": null,
   "id": "8fe4c8c1-3c8e-4793-aea8-6536684db405",
   "metadata": {},
   "outputs": [],
   "source": [
    "especieFogo = Sumario[\"Importância \"].value_counts().reset_index()\n",
    "especieFogo"
   ]
  },
  {
   "cell_type": "code",
   "execution_count": null,
   "id": "3eefb8ab-a296-4138-889c-1a0bf1a3834e",
   "metadata": {},
   "outputs": [],
   "source": []
  }
 ],
 "metadata": {
  "kernelspec": {
   "display_name": "Python 3 (ipykernel)",
   "language": "python",
   "name": "python3"
  },
  "language_info": {
   "codemirror_mode": {
    "name": "ipython",
    "version": 3
   },
   "file_extension": ".py",
   "mimetype": "text/x-python",
   "name": "python",
   "nbconvert_exporter": "python",
   "pygments_lexer": "ipython3",
   "version": "3.11.5"
  }
 },
 "nbformat": 4,
 "nbformat_minor": 5
}
