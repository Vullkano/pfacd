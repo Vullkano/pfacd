{
 "cells": [
  {
   "cell_type": "code",
   "outputs": [
    {
     "data": {
      "text/plain": "         ano  mes coddistritoconcelhofreguesia          distrito  \\\n0       2022    5                       160524  Viana do Castelo   \n1       2022    5                       170402         Vila Real   \n2       2022    6                       182401             Viseu   \n3       2022   11                       130341             Porto   \n4       2023    4                       130919             Porto   \n...      ...  ...                          ...               ...   \n393701  2024    3                       181406             Viseu   \n393702  2022    5                       100608            Leiria   \n393703  2022    6                       030296             Braga   \n393704  2022    6                       160158  Viana do Castelo   \n393705  2022   11                       160128  Viana do Castelo   \n\n                 concelho                                          freguesia  \\\n0        Paredes de Coura        União das freguesias de Formariz e Ferreira   \n1              Mesão Frio                                          Cidadelhe   \n2                 Vouzela                                            Alcofra   \n3              Felgueiras        União das freguesias de Vila Verde e Santão   \n4       Paços de Ferreira                            Sanfins Lamoso Codessos   \n...                   ...                                                ...   \n393701    Santa Comba Dão                                 São João de Areias   \n393702   Caldas da Rainha                                          Nadadouro   \n393703           Barcelos  União das freguesias de Chorente, Góios, Coure...   \n393704  Arcos de Valdevez  União das freguesias de Jolda (Madalena) e Rio...   \n393705  Arcos de Valdevez                                            Prozelo   \n\n        tipo_de_instalacao                   nivel_de_tensao  cpes  \n0            Não Doméstico  Muito Alta, Alta e Média Tensões    12  \n1            Não Doméstico               Baixa Tensão Normal     7  \n2       Iluminação Pública               Baixa Tensão Normal    14  \n3                Doméstico               Baixa Tensão Normal   659  \n4            Não Doméstico             Baixa Tensão Especial     6  \n...                    ...                               ...   ...  \n393701  Iluminação Pública               Baixa Tensão Normal    18  \n393702           Doméstico               Baixa Tensão Normal  1243  \n393703  Iluminação Pública               Baixa Tensão Normal    23  \n393704       Não Doméstico               Baixa Tensão Normal    30  \n393705       Não Doméstico             Baixa Tensão Especial     2  \n\n[393706 rows x 9 columns]",
      "text/html": "<div>\n<style scoped>\n    .dataframe tbody tr th:only-of-type {\n        vertical-align: middle;\n    }\n\n    .dataframe tbody tr th {\n        vertical-align: top;\n    }\n\n    .dataframe thead th {\n        text-align: right;\n    }\n</style>\n<table border=\"1\" class=\"dataframe\">\n  <thead>\n    <tr style=\"text-align: right;\">\n      <th></th>\n      <th>ano</th>\n      <th>mes</th>\n      <th>coddistritoconcelhofreguesia</th>\n      <th>distrito</th>\n      <th>concelho</th>\n      <th>freguesia</th>\n      <th>tipo_de_instalacao</th>\n      <th>nivel_de_tensao</th>\n      <th>cpes</th>\n    </tr>\n  </thead>\n  <tbody>\n    <tr>\n      <th>0</th>\n      <td>2022</td>\n      <td>5</td>\n      <td>160524</td>\n      <td>Viana do Castelo</td>\n      <td>Paredes de Coura</td>\n      <td>União das freguesias de Formariz e Ferreira</td>\n      <td>Não Doméstico</td>\n      <td>Muito Alta, Alta e Média Tensões</td>\n      <td>12</td>\n    </tr>\n    <tr>\n      <th>1</th>\n      <td>2022</td>\n      <td>5</td>\n      <td>170402</td>\n      <td>Vila Real</td>\n      <td>Mesão Frio</td>\n      <td>Cidadelhe</td>\n      <td>Não Doméstico</td>\n      <td>Baixa Tensão Normal</td>\n      <td>7</td>\n    </tr>\n    <tr>\n      <th>2</th>\n      <td>2022</td>\n      <td>6</td>\n      <td>182401</td>\n      <td>Viseu</td>\n      <td>Vouzela</td>\n      <td>Alcofra</td>\n      <td>Iluminação Pública</td>\n      <td>Baixa Tensão Normal</td>\n      <td>14</td>\n    </tr>\n    <tr>\n      <th>3</th>\n      <td>2022</td>\n      <td>11</td>\n      <td>130341</td>\n      <td>Porto</td>\n      <td>Felgueiras</td>\n      <td>União das freguesias de Vila Verde e Santão</td>\n      <td>Doméstico</td>\n      <td>Baixa Tensão Normal</td>\n      <td>659</td>\n    </tr>\n    <tr>\n      <th>4</th>\n      <td>2023</td>\n      <td>4</td>\n      <td>130919</td>\n      <td>Porto</td>\n      <td>Paços de Ferreira</td>\n      <td>Sanfins Lamoso Codessos</td>\n      <td>Não Doméstico</td>\n      <td>Baixa Tensão Especial</td>\n      <td>6</td>\n    </tr>\n    <tr>\n      <th>...</th>\n      <td>...</td>\n      <td>...</td>\n      <td>...</td>\n      <td>...</td>\n      <td>...</td>\n      <td>...</td>\n      <td>...</td>\n      <td>...</td>\n      <td>...</td>\n    </tr>\n    <tr>\n      <th>393701</th>\n      <td>2024</td>\n      <td>3</td>\n      <td>181406</td>\n      <td>Viseu</td>\n      <td>Santa Comba Dão</td>\n      <td>São João de Areias</td>\n      <td>Iluminação Pública</td>\n      <td>Baixa Tensão Normal</td>\n      <td>18</td>\n    </tr>\n    <tr>\n      <th>393702</th>\n      <td>2022</td>\n      <td>5</td>\n      <td>100608</td>\n      <td>Leiria</td>\n      <td>Caldas da Rainha</td>\n      <td>Nadadouro</td>\n      <td>Doméstico</td>\n      <td>Baixa Tensão Normal</td>\n      <td>1243</td>\n    </tr>\n    <tr>\n      <th>393703</th>\n      <td>2022</td>\n      <td>6</td>\n      <td>030296</td>\n      <td>Braga</td>\n      <td>Barcelos</td>\n      <td>União das freguesias de Chorente, Góios, Coure...</td>\n      <td>Iluminação Pública</td>\n      <td>Baixa Tensão Normal</td>\n      <td>23</td>\n    </tr>\n    <tr>\n      <th>393704</th>\n      <td>2022</td>\n      <td>6</td>\n      <td>160158</td>\n      <td>Viana do Castelo</td>\n      <td>Arcos de Valdevez</td>\n      <td>União das freguesias de Jolda (Madalena) e Rio...</td>\n      <td>Não Doméstico</td>\n      <td>Baixa Tensão Normal</td>\n      <td>30</td>\n    </tr>\n    <tr>\n      <th>393705</th>\n      <td>2022</td>\n      <td>11</td>\n      <td>160128</td>\n      <td>Viana do Castelo</td>\n      <td>Arcos de Valdevez</td>\n      <td>Prozelo</td>\n      <td>Não Doméstico</td>\n      <td>Baixa Tensão Especial</td>\n      <td>2</td>\n    </tr>\n  </tbody>\n</table>\n<p>393706 rows × 9 columns</p>\n</div>"
     },
     "execution_count": 5,
     "metadata": {},
     "output_type": "execute_result"
    }
   ],
   "source": [
    "from pyprojroot.here import here\n",
    "from pyarrow import parquet as pq\n",
    "import duckdb\n",
    "here()\n",
    "# data =  \"20-caracterizacao-pes-contrato-ativo.parquet\"\n",
    " \n",
    "data = pq.read_table(here(\"data/20-caracterizacao-pes-contrato-ativo.parquet\")).to_pandas()\n",
    "data"
   ],
   "metadata": {
    "collapsed": false,
    "ExecuteTime": {
     "end_time": "2024-04-22T19:38:02.506920Z",
     "start_time": "2024-04-22T19:38:02.104316Z"
    }
   },
   "id": "d586512a3d7c1801",
   "execution_count": 5
  },
  {
   "cell_type": "code",
   "outputs": [
    {
     "data": {
      "text/plain": "        ano  mes coddistritoconcelhofreguesia          distrito  \\\n0      2022   11                       130341             Porto   \n1      2022   11                       161003  Viana do Castelo   \n2      2022   11                       150315           Setúbal   \n3      2022   11                       110639            Lisboa   \n4      2022   11                       182337             Viseu   \n...     ...  ...                          ...               ...   \n15728  2022   11                       160133  Viana do Castelo   \n15729  2022   11                       031323             Braga   \n15730  2022   11                       011711            Aveiro   \n15731  2022   11                       142121          Santarém   \n15732  2022   11                       160128  Viana do Castelo   \n\n                    concelho                                        freguesia  \\\n0                 Felgueiras      União das freguesias de Vila Verde e Santão   \n1      Vila Nova de Cerveira                                           Cornes   \n2                     Almada       União das freguesias de Laranjeiro e Feijó   \n3                     Lisboa                          São Domingos de Benfica   \n4                      Viseu                                  Coutos de Viseu   \n...                      ...                                              ...   \n15728      Arcos de Valdevez                                          Sabadim   \n15729             Vila Verde                                             Lage   \n15730         Sever do Vouga  União das freguesias de Silva Escura e Dornelas   \n15731                  Ourém           União das freguesias de Matas e Cercal   \n15732      Arcos de Valdevez                                          Prozelo   \n\n      tipo_de_instalacao        nivel_de_tensao   cpes  \n0              Doméstico    Baixa Tensão Normal    659  \n1          Não Doméstico  Baixa Tensão Especial      2  \n2          Não Doméstico  Baixa Tensão Especial    130  \n3              Doméstico    Baixa Tensão Normal  19979  \n4                 Outros    Baixa Tensão Normal     11  \n...                  ...                    ...    ...  \n15728      Não Doméstico    Baixa Tensão Normal     35  \n15729      Não Doméstico  Baixa Tensão Especial      5  \n15730      Não Doméstico    Baixa Tensão Normal    158  \n15731             Outros    Baixa Tensão Normal      9  \n15732      Não Doméstico  Baixa Tensão Especial      2  \n\n[15733 rows x 9 columns]",
      "text/html": "<div>\n<style scoped>\n    .dataframe tbody tr th:only-of-type {\n        vertical-align: middle;\n    }\n\n    .dataframe tbody tr th {\n        vertical-align: top;\n    }\n\n    .dataframe thead th {\n        text-align: right;\n    }\n</style>\n<table border=\"1\" class=\"dataframe\">\n  <thead>\n    <tr style=\"text-align: right;\">\n      <th></th>\n      <th>ano</th>\n      <th>mes</th>\n      <th>coddistritoconcelhofreguesia</th>\n      <th>distrito</th>\n      <th>concelho</th>\n      <th>freguesia</th>\n      <th>tipo_de_instalacao</th>\n      <th>nivel_de_tensao</th>\n      <th>cpes</th>\n    </tr>\n  </thead>\n  <tbody>\n    <tr>\n      <th>0</th>\n      <td>2022</td>\n      <td>11</td>\n      <td>130341</td>\n      <td>Porto</td>\n      <td>Felgueiras</td>\n      <td>União das freguesias de Vila Verde e Santão</td>\n      <td>Doméstico</td>\n      <td>Baixa Tensão Normal</td>\n      <td>659</td>\n    </tr>\n    <tr>\n      <th>1</th>\n      <td>2022</td>\n      <td>11</td>\n      <td>161003</td>\n      <td>Viana do Castelo</td>\n      <td>Vila Nova de Cerveira</td>\n      <td>Cornes</td>\n      <td>Não Doméstico</td>\n      <td>Baixa Tensão Especial</td>\n      <td>2</td>\n    </tr>\n    <tr>\n      <th>2</th>\n      <td>2022</td>\n      <td>11</td>\n      <td>150315</td>\n      <td>Setúbal</td>\n      <td>Almada</td>\n      <td>União das freguesias de Laranjeiro e Feijó</td>\n      <td>Não Doméstico</td>\n      <td>Baixa Tensão Especial</td>\n      <td>130</td>\n    </tr>\n    <tr>\n      <th>3</th>\n      <td>2022</td>\n      <td>11</td>\n      <td>110639</td>\n      <td>Lisboa</td>\n      <td>Lisboa</td>\n      <td>São Domingos de Benfica</td>\n      <td>Doméstico</td>\n      <td>Baixa Tensão Normal</td>\n      <td>19979</td>\n    </tr>\n    <tr>\n      <th>4</th>\n      <td>2022</td>\n      <td>11</td>\n      <td>182337</td>\n      <td>Viseu</td>\n      <td>Viseu</td>\n      <td>Coutos de Viseu</td>\n      <td>Outros</td>\n      <td>Baixa Tensão Normal</td>\n      <td>11</td>\n    </tr>\n    <tr>\n      <th>...</th>\n      <td>...</td>\n      <td>...</td>\n      <td>...</td>\n      <td>...</td>\n      <td>...</td>\n      <td>...</td>\n      <td>...</td>\n      <td>...</td>\n      <td>...</td>\n    </tr>\n    <tr>\n      <th>15728</th>\n      <td>2022</td>\n      <td>11</td>\n      <td>160133</td>\n      <td>Viana do Castelo</td>\n      <td>Arcos de Valdevez</td>\n      <td>Sabadim</td>\n      <td>Não Doméstico</td>\n      <td>Baixa Tensão Normal</td>\n      <td>35</td>\n    </tr>\n    <tr>\n      <th>15729</th>\n      <td>2022</td>\n      <td>11</td>\n      <td>031323</td>\n      <td>Braga</td>\n      <td>Vila Verde</td>\n      <td>Lage</td>\n      <td>Não Doméstico</td>\n      <td>Baixa Tensão Especial</td>\n      <td>5</td>\n    </tr>\n    <tr>\n      <th>15730</th>\n      <td>2022</td>\n      <td>11</td>\n      <td>011711</td>\n      <td>Aveiro</td>\n      <td>Sever do Vouga</td>\n      <td>União das freguesias de Silva Escura e Dornelas</td>\n      <td>Não Doméstico</td>\n      <td>Baixa Tensão Normal</td>\n      <td>158</td>\n    </tr>\n    <tr>\n      <th>15731</th>\n      <td>2022</td>\n      <td>11</td>\n      <td>142121</td>\n      <td>Santarém</td>\n      <td>Ourém</td>\n      <td>União das freguesias de Matas e Cercal</td>\n      <td>Outros</td>\n      <td>Baixa Tensão Normal</td>\n      <td>9</td>\n    </tr>\n    <tr>\n      <th>15732</th>\n      <td>2022</td>\n      <td>11</td>\n      <td>160128</td>\n      <td>Viana do Castelo</td>\n      <td>Arcos de Valdevez</td>\n      <td>Prozelo</td>\n      <td>Não Doméstico</td>\n      <td>Baixa Tensão Especial</td>\n      <td>2</td>\n    </tr>\n  </tbody>\n</table>\n<p>15733 rows × 9 columns</p>\n</div>"
     },
     "execution_count": 21,
     "metadata": {},
     "output_type": "execute_result"
    }
   ],
   "source": [
    "duckdb.query(\"\"\"\n",
    "  SELECT * FROM data \n",
    "  where ano = 2022 and mes = 11\n",
    "\"\"\").df()"
   ],
   "metadata": {
    "collapsed": false,
    "ExecuteTime": {
     "end_time": "2024-04-22T19:41:45.256701Z",
     "start_time": "2024-04-22T19:41:45.212014Z"
    }
   },
   "id": "4dbd6e9fa0e0c03b",
   "execution_count": 21
  }
 ],
 "metadata": {
  "kernelspec": {
   "display_name": "Python 3",
   "language": "python",
   "name": "python3"
  },
  "language_info": {
   "codemirror_mode": {
    "name": "ipython",
    "version": 2
   },
   "file_extension": ".py",
   "mimetype": "text/x-python",
   "name": "python",
   "nbconvert_exporter": "python",
   "pygments_lexer": "ipython2",
   "version": "2.7.6"
  }
 },
 "nbformat": 4,
 "nbformat_minor": 5
}
