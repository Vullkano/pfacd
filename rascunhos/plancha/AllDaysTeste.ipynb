{
 "cells": [
  {
   "cell_type": "code",
   "execution_count": 4,
   "id": "initial_id",
   "metadata": {
    "collapsed": true,
    "ExecuteTime": {
     "end_time": "2024-05-07T15:30:52.819679Z",
     "start_time": "2024-05-07T15:30:52.364095Z"
    }
   },
   "outputs": [
    {
     "data": {
      "text/plain": "        data_do_incidente          concelho        distrito  \\\n0              2014-01-01            Almada         Setúbal   \n1              2014-01-01             Sertã  Castelo Branco   \n2              2014-01-01        Felgueiras           Porto   \n3              2014-01-01     Torres Vedras          Lisboa   \n4              2014-01-01              Nisa      Portalegre   \n...                   ...               ...             ...   \n1008001        2023-12-31       Campo Maior      Portalegre   \n1008002        2023-12-31  Castelo De Paiva          Aveiro   \n1008003        2023-12-31         Vila Flor        Bragança   \n1008004        2023-12-31           Vimioso        Bragança   \n1008005        2023-12-31          Penedono           Viseu   \n\n                 nivel_de_tensao  numero_de_eventos  dia  mes   ano  \\\n0        Sem Eventos Excecionais                  0    1    1  2014   \n1        Sem Eventos Excecionais                  0    1    1  2014   \n2        Sem Eventos Excecionais                  0    1    1  2014   \n3        Sem Eventos Excecionais                  0    1    1  2014   \n4        Sem Eventos Excecionais                  0    1    1  2014   \n...                          ...                ...  ...  ...   ...   \n1008001  Sem Eventos Excecionais                  0   31   12  2023   \n1008002  Sem Eventos Excecionais                  0   31   12  2023   \n1008003  Sem Eventos Excecionais                  0   31   12  2023   \n1008004  Sem Eventos Excecionais                  0   31   12  2023   \n1008005  Sem Eventos Excecionais                  0   31   12  2023   \n\n         densidade_populacional  populacao_residente  ...  \\\n0                        2486.8             174592.0  ...   \n1                          34.0              15188.0  ...   \n2                         493.1              57074.0  ...   \n3                         197.2              80291.0  ...   \n4                          12.0               6929.0  ...   \n...                         ...                  ...  ...   \n1008001                    32.3               7993.0  ...   \n1008002                   134.1              15420.0  ...   \n1008003                    22.7               6042.0  ...   \n1008004                     8.6               4143.0  ...   \n1008005                    20.9               2791.0  ...   \n\n         indice_de_envelhecimento     rural  t_med  t_max  t_min  dd_med  \\\n0                           142.4  0.000000    NaN    NaN    NaN     NaN   \n1                           219.9  1.000000   10.6   12.2    8.1   222.0   \n2                            90.1  0.800000    NaN    NaN    NaN     NaN   \n3                           138.6  0.923077   14.4   15.2   12.0   232.0   \n4                           419.1  1.000000    NaN    NaN    NaN     NaN   \n...                           ...       ...    ...    ...    ...     ...   \n1008001                     163.9  1.000000    8.9   10.6    7.8   293.0   \n1008002                     188.0  1.000000    NaN    NaN    NaN   337.0   \n1008003                     398.0  1.000000    6.9    9.9    4.9   264.0   \n1008004                     573.7  1.000000    6.9    9.9    4.9   264.0   \n1008005                     418.2  1.000000    7.4   10.4    5.2   277.0   \n\n         dd_ffx  ff_med  ff_max  pr_qtd  \n0           NaN     NaN     NaN     NaN  \n1         248.0     4.0    12.6    13.8  \n2           NaN     NaN     NaN     NaN  \n3         236.0     5.4    13.4     3.8  \n4           NaN     NaN     NaN     NaN  \n...         ...     ...     ...     ...  \n1008001   328.0     2.6     8.1     1.6  \n1008002   339.0     2.6    10.1     5.8  \n1008003   208.0     2.9    12.7     0.8  \n1008004   208.0     2.9    12.7     0.8  \n1008005   214.0     3.7    10.9     4.5  \n\n[1008006 rows x 23 columns]",
      "text/html": "<div>\n<style scoped>\n    .dataframe tbody tr th:only-of-type {\n        vertical-align: middle;\n    }\n\n    .dataframe tbody tr th {\n        vertical-align: top;\n    }\n\n    .dataframe thead th {\n        text-align: right;\n    }\n</style>\n<table border=\"1\" class=\"dataframe\">\n  <thead>\n    <tr style=\"text-align: right;\">\n      <th></th>\n      <th>data_do_incidente</th>\n      <th>concelho</th>\n      <th>distrito</th>\n      <th>nivel_de_tensao</th>\n      <th>numero_de_eventos</th>\n      <th>dia</th>\n      <th>mes</th>\n      <th>ano</th>\n      <th>densidade_populacional</th>\n      <th>populacao_residente</th>\n      <th>...</th>\n      <th>indice_de_envelhecimento</th>\n      <th>rural</th>\n      <th>t_med</th>\n      <th>t_max</th>\n      <th>t_min</th>\n      <th>dd_med</th>\n      <th>dd_ffx</th>\n      <th>ff_med</th>\n      <th>ff_max</th>\n      <th>pr_qtd</th>\n    </tr>\n  </thead>\n  <tbody>\n    <tr>\n      <th>0</th>\n      <td>2014-01-01</td>\n      <td>Almada</td>\n      <td>Setúbal</td>\n      <td>Sem Eventos Excecionais</td>\n      <td>0</td>\n      <td>1</td>\n      <td>1</td>\n      <td>2014</td>\n      <td>2486.8</td>\n      <td>174592.0</td>\n      <td>...</td>\n      <td>142.4</td>\n      <td>0.000000</td>\n      <td>NaN</td>\n      <td>NaN</td>\n      <td>NaN</td>\n      <td>NaN</td>\n      <td>NaN</td>\n      <td>NaN</td>\n      <td>NaN</td>\n      <td>NaN</td>\n    </tr>\n    <tr>\n      <th>1</th>\n      <td>2014-01-01</td>\n      <td>Sertã</td>\n      <td>Castelo Branco</td>\n      <td>Sem Eventos Excecionais</td>\n      <td>0</td>\n      <td>1</td>\n      <td>1</td>\n      <td>2014</td>\n      <td>34.0</td>\n      <td>15188.0</td>\n      <td>...</td>\n      <td>219.9</td>\n      <td>1.000000</td>\n      <td>10.6</td>\n      <td>12.2</td>\n      <td>8.1</td>\n      <td>222.0</td>\n      <td>248.0</td>\n      <td>4.0</td>\n      <td>12.6</td>\n      <td>13.8</td>\n    </tr>\n    <tr>\n      <th>2</th>\n      <td>2014-01-01</td>\n      <td>Felgueiras</td>\n      <td>Porto</td>\n      <td>Sem Eventos Excecionais</td>\n      <td>0</td>\n      <td>1</td>\n      <td>1</td>\n      <td>2014</td>\n      <td>493.1</td>\n      <td>57074.0</td>\n      <td>...</td>\n      <td>90.1</td>\n      <td>0.800000</td>\n      <td>NaN</td>\n      <td>NaN</td>\n      <td>NaN</td>\n      <td>NaN</td>\n      <td>NaN</td>\n      <td>NaN</td>\n      <td>NaN</td>\n      <td>NaN</td>\n    </tr>\n    <tr>\n      <th>3</th>\n      <td>2014-01-01</td>\n      <td>Torres Vedras</td>\n      <td>Lisboa</td>\n      <td>Sem Eventos Excecionais</td>\n      <td>0</td>\n      <td>1</td>\n      <td>1</td>\n      <td>2014</td>\n      <td>197.2</td>\n      <td>80291.0</td>\n      <td>...</td>\n      <td>138.6</td>\n      <td>0.923077</td>\n      <td>14.4</td>\n      <td>15.2</td>\n      <td>12.0</td>\n      <td>232.0</td>\n      <td>236.0</td>\n      <td>5.4</td>\n      <td>13.4</td>\n      <td>3.8</td>\n    </tr>\n    <tr>\n      <th>4</th>\n      <td>2014-01-01</td>\n      <td>Nisa</td>\n      <td>Portalegre</td>\n      <td>Sem Eventos Excecionais</td>\n      <td>0</td>\n      <td>1</td>\n      <td>1</td>\n      <td>2014</td>\n      <td>12.0</td>\n      <td>6929.0</td>\n      <td>...</td>\n      <td>419.1</td>\n      <td>1.000000</td>\n      <td>NaN</td>\n      <td>NaN</td>\n      <td>NaN</td>\n      <td>NaN</td>\n      <td>NaN</td>\n      <td>NaN</td>\n      <td>NaN</td>\n      <td>NaN</td>\n    </tr>\n    <tr>\n      <th>...</th>\n      <td>...</td>\n      <td>...</td>\n      <td>...</td>\n      <td>...</td>\n      <td>...</td>\n      <td>...</td>\n      <td>...</td>\n      <td>...</td>\n      <td>...</td>\n      <td>...</td>\n      <td>...</td>\n      <td>...</td>\n      <td>...</td>\n      <td>...</td>\n      <td>...</td>\n      <td>...</td>\n      <td>...</td>\n      <td>...</td>\n      <td>...</td>\n      <td>...</td>\n      <td>...</td>\n    </tr>\n    <tr>\n      <th>1008001</th>\n      <td>2023-12-31</td>\n      <td>Campo Maior</td>\n      <td>Portalegre</td>\n      <td>Sem Eventos Excecionais</td>\n      <td>0</td>\n      <td>31</td>\n      <td>12</td>\n      <td>2023</td>\n      <td>32.3</td>\n      <td>7993.0</td>\n      <td>...</td>\n      <td>163.9</td>\n      <td>1.000000</td>\n      <td>8.9</td>\n      <td>10.6</td>\n      <td>7.8</td>\n      <td>293.0</td>\n      <td>328.0</td>\n      <td>2.6</td>\n      <td>8.1</td>\n      <td>1.6</td>\n    </tr>\n    <tr>\n      <th>1008002</th>\n      <td>2023-12-31</td>\n      <td>Castelo De Paiva</td>\n      <td>Aveiro</td>\n      <td>Sem Eventos Excecionais</td>\n      <td>0</td>\n      <td>31</td>\n      <td>12</td>\n      <td>2023</td>\n      <td>134.1</td>\n      <td>15420.0</td>\n      <td>...</td>\n      <td>188.0</td>\n      <td>1.000000</td>\n      <td>NaN</td>\n      <td>NaN</td>\n      <td>NaN</td>\n      <td>337.0</td>\n      <td>339.0</td>\n      <td>2.6</td>\n      <td>10.1</td>\n      <td>5.8</td>\n    </tr>\n    <tr>\n      <th>1008003</th>\n      <td>2023-12-31</td>\n      <td>Vila Flor</td>\n      <td>Bragança</td>\n      <td>Sem Eventos Excecionais</td>\n      <td>0</td>\n      <td>31</td>\n      <td>12</td>\n      <td>2023</td>\n      <td>22.7</td>\n      <td>6042.0</td>\n      <td>...</td>\n      <td>398.0</td>\n      <td>1.000000</td>\n      <td>6.9</td>\n      <td>9.9</td>\n      <td>4.9</td>\n      <td>264.0</td>\n      <td>208.0</td>\n      <td>2.9</td>\n      <td>12.7</td>\n      <td>0.8</td>\n    </tr>\n    <tr>\n      <th>1008004</th>\n      <td>2023-12-31</td>\n      <td>Vimioso</td>\n      <td>Bragança</td>\n      <td>Sem Eventos Excecionais</td>\n      <td>0</td>\n      <td>31</td>\n      <td>12</td>\n      <td>2023</td>\n      <td>8.6</td>\n      <td>4143.0</td>\n      <td>...</td>\n      <td>573.7</td>\n      <td>1.000000</td>\n      <td>6.9</td>\n      <td>9.9</td>\n      <td>4.9</td>\n      <td>264.0</td>\n      <td>208.0</td>\n      <td>2.9</td>\n      <td>12.7</td>\n      <td>0.8</td>\n    </tr>\n    <tr>\n      <th>1008005</th>\n      <td>2023-12-31</td>\n      <td>Penedono</td>\n      <td>Viseu</td>\n      <td>Sem Eventos Excecionais</td>\n      <td>0</td>\n      <td>31</td>\n      <td>12</td>\n      <td>2023</td>\n      <td>20.9</td>\n      <td>2791.0</td>\n      <td>...</td>\n      <td>418.2</td>\n      <td>1.000000</td>\n      <td>7.4</td>\n      <td>10.4</td>\n      <td>5.2</td>\n      <td>277.0</td>\n      <td>214.0</td>\n      <td>3.7</td>\n      <td>10.9</td>\n      <td>4.5</td>\n    </tr>\n  </tbody>\n</table>\n<p>1008006 rows × 23 columns</p>\n</div>"
     },
     "execution_count": 4,
     "metadata": {},
     "output_type": "execute_result"
    }
   ],
   "source": [
    "from pyprojroot.here import here\n",
    "\n",
    "here()\n",
    "import pandas as pd\n",
    "import duckdb\n",
    "from janitor import clean_names\n",
    "from pyarrow import parquet as pq\n",
    "import duckdb\n",
    "df = clean_names(pq.read_table(here(r\"data/AllDaysEventos.parquet\")).to_pandas())\n",
    "df"
   ]
  },
  {
   "cell_type": "code",
   "outputs": [
    {
     "data": {
      "text/plain": "  nivel_de_tensao\n0              AT\n1              MT\n2              BT",
      "text/html": "<div>\n<style scoped>\n    .dataframe tbody tr th:only-of-type {\n        vertical-align: middle;\n    }\n\n    .dataframe tbody tr th {\n        vertical-align: top;\n    }\n\n    .dataframe thead th {\n        text-align: right;\n    }\n</style>\n<table border=\"1\" class=\"dataframe\">\n  <thead>\n    <tr style=\"text-align: right;\">\n      <th></th>\n      <th>nivel_de_tensao</th>\n    </tr>\n  </thead>\n  <tbody>\n    <tr>\n      <th>0</th>\n      <td>AT</td>\n    </tr>\n    <tr>\n      <th>1</th>\n      <td>MT</td>\n    </tr>\n    <tr>\n      <th>2</th>\n      <td>BT</td>\n    </tr>\n  </tbody>\n</table>\n</div>"
     },
     "execution_count": 14,
     "metadata": {},
     "output_type": "execute_result"
    }
   ],
   "source": [
    "duckdb.query(\"\"\"\n",
    "  select distinct nivel_de_tensao from df\n",
    "  where numero_de_eventos > 1 \n",
    "  and data_do_incidente >= '2018-01-01'\n",
    "\"\"\").df()"
   ],
   "metadata": {
    "collapsed": false,
    "ExecuteTime": {
     "end_time": "2024-05-07T15:40:07.092443Z",
     "start_time": "2024-05-07T15:40:07.075348Z"
    }
   },
   "id": "55ee1f88010d93e0",
   "execution_count": 14
  },
  {
   "cell_type": "code",
   "outputs": [
    {
     "data": {
      "text/plain": "  data_do_incidente   concelho               niveis  cnt\n0        2021-05-31     Loures                BT,MT    2\n1        2018-06-21    Cartaxo                BT,MT    2\n2        2023-03-04   Almeirim  AT - Alta tensão,MT    2\n3        2021-08-13  Vila Real                BT,MT    2\n4        2019-05-09     Leiria                BT,MT    2\n5        2022-07-13    Setúbal                AT,MT    2\n6        2022-09-28     Lisboa                BT,MT    2\n7        2018-05-14      Alijó                AT,MT    2",
      "text/html": "<div>\n<style scoped>\n    .dataframe tbody tr th:only-of-type {\n        vertical-align: middle;\n    }\n\n    .dataframe tbody tr th {\n        vertical-align: top;\n    }\n\n    .dataframe thead th {\n        text-align: right;\n    }\n</style>\n<table border=\"1\" class=\"dataframe\">\n  <thead>\n    <tr style=\"text-align: right;\">\n      <th></th>\n      <th>data_do_incidente</th>\n      <th>concelho</th>\n      <th>niveis</th>\n      <th>cnt</th>\n    </tr>\n  </thead>\n  <tbody>\n    <tr>\n      <th>0</th>\n      <td>2021-05-31</td>\n      <td>Loures</td>\n      <td>BT,MT</td>\n      <td>2</td>\n    </tr>\n    <tr>\n      <th>1</th>\n      <td>2018-06-21</td>\n      <td>Cartaxo</td>\n      <td>BT,MT</td>\n      <td>2</td>\n    </tr>\n    <tr>\n      <th>2</th>\n      <td>2023-03-04</td>\n      <td>Almeirim</td>\n      <td>AT - Alta tensão,MT</td>\n      <td>2</td>\n    </tr>\n    <tr>\n      <th>3</th>\n      <td>2021-08-13</td>\n      <td>Vila Real</td>\n      <td>BT,MT</td>\n      <td>2</td>\n    </tr>\n    <tr>\n      <th>4</th>\n      <td>2019-05-09</td>\n      <td>Leiria</td>\n      <td>BT,MT</td>\n      <td>2</td>\n    </tr>\n    <tr>\n      <th>5</th>\n      <td>2022-07-13</td>\n      <td>Setúbal</td>\n      <td>AT,MT</td>\n      <td>2</td>\n    </tr>\n    <tr>\n      <th>6</th>\n      <td>2022-09-28</td>\n      <td>Lisboa</td>\n      <td>BT,MT</td>\n      <td>2</td>\n    </tr>\n    <tr>\n      <th>7</th>\n      <td>2018-05-14</td>\n      <td>Alijó</td>\n      <td>AT,MT</td>\n      <td>2</td>\n    </tr>\n  </tbody>\n</table>\n</div>"
     },
     "execution_count": 29,
     "metadata": {},
     "output_type": "execute_result"
    }
   ],
   "source": [
    "# ver se há repetidos\n",
    "duckdb.query(\"\"\"\n",
    "  select data_do_incidente, concelho, string_agg(nivel_de_tensao, ',') as niveis, count(*) as cnt from df\n",
    "  where data_do_incidente >= '2018-01-01'\n",
    "  group by data_do_incidente, concelho\n",
    "  having cnt > 1\n",
    "\"\"\").df()"
   ],
   "metadata": {
    "collapsed": false,
    "ExecuteTime": {
     "end_time": "2024-05-07T16:00:21.339520Z",
     "start_time": "2024-05-07T16:00:21.258915Z"
    }
   },
   "id": "a250ad9d79920be",
   "execution_count": 29
  }
 ],
 "metadata": {
  "kernelspec": {
   "display_name": "Python 3",
   "language": "python",
   "name": "python3"
  },
  "language_info": {
   "codemirror_mode": {
    "name": "ipython",
    "version": 2
   },
   "file_extension": ".py",
   "mimetype": "text/x-python",
   "name": "python",
   "nbconvert_exporter": "python",
   "pygments_lexer": "ipython2",
   "version": "2.7.6"
  }
 },
 "nbformat": 4,
 "nbformat_minor": 5
}
