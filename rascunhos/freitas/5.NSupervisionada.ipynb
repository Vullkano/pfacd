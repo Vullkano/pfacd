{
 "cells": [
  {
   "cell_type": "code",
   "execution_count": null,
   "id": "bdd03e38-c2ea-4c09-9617-dbd3f1ce29c0",
   "metadata": {},
   "outputs": [],
   "source": [
    "len(Quebras.columns)"
   ]
  },
  {
   "cell_type": "code",
   "execution_count": null,
   "id": "66c2eceb-78d2-4964-b0d1-1447267223f8",
   "metadata": {},
   "outputs": [],
   "source": [
    "QuebrasFinal = Quebras.copy()"
   ]
  },
  {
   "cell_type": "code",
   "execution_count": null,
   "id": "5dade15b-025c-47fa-b21e-2f8dce32424c",
   "metadata": {},
   "outputs": [],
   "source": [
    "kk"
   ]
  },
  {
   "cell_type": "code",
   "execution_count": null,
   "id": "d2c38d1a-c9bc-4405-bb39-aac7970c29d0",
   "metadata": {},
   "outputs": [],
   "source": [
    "# Selecionar apenas as colunas numéricas\n",
    "colunas_numericas = QuebrasFinal.select_dtypes(include=['float64', 'int64']).columns\n",
    "\n",
    "# 1. Estandardização\n",
    "scaler = StandardScaler()\n",
    "QuebrasFinal_scaled = scaler.fit_transform(QuebrasFinal[colunas_numericas])\n",
    "\n",
    "# 2. Imputação por Regressão\n",
    "imputer = IterativeImputer()\n",
    "QuebrasFinal_imputed = imputer.fit_transform(QuebrasFinal_scaled)\n",
    "\n",
    "# Converter de volta para DataFrame, se necessário\n",
    "QuebrasFinal_imputed = pd.DataFrame(QuebrasFinal_imputed, columns=colunas_numericas)\n",
    "\n",
    "QuebrasFinal_imputed"
   ]
  },
  {
   "cell_type": "code",
   "execution_count": null,
   "id": "89a16614-c81c-4797-89f6-f9e893efd503",
   "metadata": {},
   "outputs": [],
   "source": [
    "sns.set(style=\"whitegrid\")\n",
    "\n",
    "# Plotar violin plot para todas as colunas\n",
    "plt.figure(figsize=(16, 10))\n",
    "sns.violinplot(data=QuebrasFinal_imputed, inner=\"points\", orient=\"h\")\n",
    "plt.title(\"Violin Plot para Todas as Colunas\")\n",
    "plt.xlabel(\"Valores\")\n",
    "plt.ylabel(\"Colunas\")\n",
    "plt.show()"
   ]
  },
  {
   "cell_type": "code",
   "execution_count": null,
   "id": "ea8b6468-b858-49a5-a105-7c6ab8801cbc",
   "metadata": {},
   "outputs": [],
   "source": [
    "QuebrasFinal = QuebrasFinal[QuebrasFinal[\"aprovado\"]==0]"
   ]
  },
  {
   "cell_type": "raw",
   "id": "05bdef94-f601-476f-93f4-a0c5eac36d67",
   "metadata": {},
   "source": [
    "# Cortes\n",
    "# QuebrasFinal = QuebrasFinal[QuebrasFinal['nt'].isin([3,2])]\n",
    "QuebrasFinal = QuebrasFinal.drop([\"Dia\", \"Mês\", \"Ano\", 'nt', 'aprovado'], axis = 1)\n",
    "\n",
    "Q1 = QuebrasFinal.quantile(0.25)\n",
    "Q3 = QuebrasFinal.quantile(0.75)\n",
    "IQR = Q3 - Q1\n",
    "\n",
    "# Definir os limites inferior e superior para detecção de outliers\n",
    "limite_inferior = Q1 - 1.5 * IQR\n",
    "limite_superior = Q3 + 1.5 * IQR\n",
    "\n",
    "# Remover linhas com outliers em cada coluna\n",
    "QuebrasFinal = QuebrasFinal[(QuebrasFinal >= limite_inferior) & (QuebrasFinal <= limite_superior)].dropna()"
   ]
  },
  {
   "cell_type": "code",
   "execution_count": null,
   "id": "86600a87-2157-4652-976d-2103e0fa639f",
   "metadata": {},
   "outputs": [],
   "source": [
    "# 1. Estandardização\n",
    "scaler = StandardScaler()\n",
    "QuebrasFinal_scaled = scaler.fit_transform(QuebrasFinal)\n",
    "\n",
    "# 2. Imputação por Regressão\n",
    "imputer = IterativeImputer()\n",
    "QuebrasFinal_imputed = imputer.fit_transform(QuebrasFinal_scaled)\n",
    "\n",
    "# Converter de volta para DataFrame, se necessário\n",
    "QuebrasFinal_imputed = pd.DataFrame(QuebrasFinal_imputed, columns=QuebrasFinal.columns)\n",
    "\n",
    "QuebrasFinal_imputed"
   ]
  },
  {
   "cell_type": "code",
   "execution_count": null,
   "id": "3b8ae9ac-7b9a-4e3b-9dde-3dd4c2a2e88f",
   "metadata": {},
   "outputs": [],
   "source": [
    "sns.set(style=\"whitegrid\")\n",
    "\n",
    "# Plotar violin plot para todas as colunas\n",
    "plt.figure(figsize=(16, 10))\n",
    "sns.violinplot(data=QuebrasFinal_imputed, inner=\"points\", orient=\"h\")\n",
    "plt.title(\"Violin Plot para Todas as Colunas\")\n",
    "plt.xlabel(\"Valores\")\n",
    "plt.ylabel(\"Colunas\")\n",
    "plt.savefig(\"Apagar.png\")\n",
    "plt.show()"
   ]
  },
  {
   "cell_type": "code",
   "execution_count": null,
   "id": "0fab7ca6-5d95-4d10-816b-7e05d0155d03",
   "metadata": {},
   "outputs": [],
   "source": [
    "from sklearn.cluster import KMeans\n",
    "from sklearn.metrics import silhouette_score\n",
    "import matplotlib.pyplot as plt\n",
    "\n",
    "# Valores de k que você deseja testar\n",
    "k_values = range(2, 7)\n",
    "\n",
    "# Lista para armazenar os valores de silhueta média\n",
    "silhouette_scores = []\n",
    "\n",
    "# Iterar sobre os valores de k\n",
    "for k in k_values:\n",
    "    # Criar o modelo de clustering K-Means\n",
    "    kmeans = KMeans(n_clusters=k, random_state=42)\n",
    "    # Treinar o modelo nos dados\n",
    "    kmeans.fit(QuebrasFinal_imputed)\n",
    "    # Obter as etiquetas de cluster para cada ponto\n",
    "    labels = kmeans.labels_\n",
    "    # Calcular o score de silhueta\n",
    "    silhouette_avg = silhouette_score(QuebrasFinal_imputed, labels)\n",
    "    # Armazenar o score de silhueta na lista\n",
    "    silhouette_scores.append(silhouette_avg)\n",
    "\n",
    "# Plotar o gráfico do Método do Cotovelo\n",
    "plt.plot(k_values, silhouette_scores, 'bx-')\n",
    "plt.xlabel('Número de Clusters (k)')\n",
    "plt.ylabel('Silhueta Média')\n",
    "plt.title('Método da Silhueta para Determinar k')\n",
    "plt.show()"
   ]
  },
  {
   "cell_type": "code",
   "execution_count": null,
   "id": "c88a53c4-ee3d-4c1e-a192-c68cad82408d",
   "metadata": {},
   "outputs": [],
   "source": [
    "from sklearn.manifold import TSNE\n",
    "import matplotlib.pyplot as plt\n",
    "\n",
    "# Reduzir a dimensionalidade dos dados para 2 dimensões usando t-SNE\n",
    "tsne = TSNE(n_components=2, random_state=69)\n",
    "data_2d = tsne.fit_transform(QuebrasFinal_imputed)\n",
    "\n",
    "# Plotar os pontos em um gráfico de dispersão, colorindo-os de acordo com os clusters\n",
    "plt.scatter(data_2d[:, 0], data_2d[:, 1], c=labels, cmap='viridis')\n",
    "plt.title('Visualização dos Clusters com t-SNE')\n",
    "plt.xlabel('Componente 1')\n",
    "plt.ylabel('Componente 2')\n",
    "plt.colorbar(label='Cluster')\n",
    "plt.show()"
   ]
  },
  {
   "cell_type": "code",
   "execution_count": null,
   "id": "8ae565c4-7197-4b65-a29c-0cf87f6fd4ab",
   "metadata": {},
   "outputs": [],
   "source": [
    "import numpy as np\n",
    "import matplotlib.pyplot as plt\n",
    "from scipy.cluster.hierarchy import dendrogram\n",
    "from sklearn.datasets import make_blobs\n",
    "from sklearn.cluster import AgglomerativeClustering\n",
    "\n",
    "# Gerar dados de exemplo\n",
    "X, _ = make_blobs(n_samples=150, centers=5, random_state=42)\n",
    "\n",
    "# Executar o algoritmo de clustering hierárquico\n",
    "model = AgglomerativeClustering(distance_threshold=0, n_clusters=None)\n",
    "model.fit(X)\n",
    "\n",
    "# Função para plotar o dendrograma\n",
    "def plot_dendrogram(model, **kwargs):\n",
    "    # Calcula o layout do dendrograma\n",
    "    counts = np.zeros(model.children_.shape[0])\n",
    "    n_samples = len(model.labels_)\n",
    "    for i, merge in enumerate(model.children_):\n",
    "        current_count = 0\n",
    "        for child_idx in merge:\n",
    "            if child_idx < n_samples:\n",
    "                current_count += 1  # folha\n",
    "            else:\n",
    "                current_count += counts[child_idx - n_samples]\n",
    "        counts[i] = current_count\n",
    "\n",
    "    linkage_matrix = np.column_stack([model.children_, model.distances_, counts]).astype(float)\n",
    "\n",
    "    # Plota o dendrograma\n",
    "    dendrogram(linkage_matrix, **kwargs)\n",
    "\n",
    "# Plotando o dendrograma\n",
    "plt.figure(figsize=(10, 5))\n",
    "plt.title('Dendrograma Hierárquico')\n",
    "plot_dendrogram(model)\n",
    "plt.xlabel('Índice do Amostra')\n",
    "plt.ylabel('Distância')\n",
    "plt.grid(False)\n",
    "plt.savefig(\"Apagar.png\")\n",
    "plt.show()"
   ]
  },
  {
   "cell_type": "code",
   "execution_count": null,
   "id": "0ef689ea-c29e-43af-af2b-20590d554730",
   "metadata": {},
   "outputs": [],
   "source": [
    "from sklearn.cluster import AgglomerativeClustering\n",
    "\n",
    "# Inicialize o modelo Agglomerative Clustering com o número desejado de clusters\n",
    "n_clusters = 3  # Defina o número de clusters desejado\n",
    "agg_clustering = AgglomerativeClustering(n_clusters=n_clusters)\n",
    "\n",
    "# Ajuste o modelo aos dados\n",
    "agg_clustering.fit(QuebrasFinal_imputed)\n",
    "\n",
    "# Obtenha as etiquetas de cluster para cada amostra\n",
    "cluster_labels = agg_clustering.labels_\n",
    "\n",
    "# Adicione as etiquetas de cluster ao DataFrame QuebrasFinal_imputed\n",
    "QuebrasFinal_imputed['Cluster_Agglomerative'] = cluster_labels"
   ]
  },
  {
   "cell_type": "code",
   "execution_count": null,
   "id": "9487a544-5ee2-4a37-b900-308ded9a6a38",
   "metadata": {},
   "outputs": [],
   "source": [
    "from sklearn.metrics import silhouette_score, silhouette_samples\n",
    "import matplotlib.pyplot as plt\n",
    "import numpy as np\n",
    "\n",
    "# Calcule a silhouette média para o modelo\n",
    "silhouette_avg = silhouette_score(QuebrasFinal_imputed, cluster_labels)\n",
    "print(\"Silhouette média para o modelo Agglomerative Clustering:\", silhouette_avg)\n",
    "\n",
    "# Calcule a silhouette para cada amostra\n",
    "sample_silhouette_values = silhouette_samples(QuebrasFinal_imputed, cluster_labels)\n",
    "\n",
    "# Crie um gráfico de barras para mostrar a silhouette para cada amostra\n",
    "plt.figure(figsize=(10, 6))\n",
    "y_lower = 10\n",
    "for i in range(n_clusters):\n",
    "    # Agregue a silhouette para amostras pertencentes ao cluster i\n",
    "    ith_cluster_silhouette_values = sample_silhouette_values[cluster_labels == i]\n",
    "    ith_cluster_silhouette_values.sort()\n",
    "    size_cluster_i = ith_cluster_silhouette_values.shape[0]\n",
    "    y_upper = y_lower + size_cluster_i\n",
    "\n",
    "    color = plt.cm.nipy_spectral(float(i) / n_clusters)\n",
    "    plt.fill_betweenx(np.arange(y_lower, y_upper),\n",
    "                      0, ith_cluster_silhouette_values,\n",
    "                      facecolor=color, edgecolor=color, alpha=0.7)\n",
    "\n",
    "    # Etiqueta do cluster no meio\n",
    "    plt.text(-0.05, y_lower + 0.5 * size_cluster_i, str(i))\n",
    "\n",
    "    # Calcule o próximo y_lower para o próximo gráfico\n",
    "    y_lower = y_upper + 10  \n",
    "\n",
    "plt.title(\"Gráfico de Silhouette para Agglomerative Clustering\")\n",
    "plt.xlabel(\"Valor de silhouette\")\n",
    "plt.ylabel(\"Cluster\")\n",
    "plt.axvline(x=silhouette_avg, color=\"red\", linestyle=\"--\")  # Linha para indicar a silhouette média\n",
    "plt.yticks([])  # Limpe os yticks\n",
    "plt.show()\n"
   ]
  },
  {
   "cell_type": "code",
   "execution_count": null,
   "id": "571020b8-c5f2-451e-880a-a80efd7d1c24",
   "metadata": {},
   "outputs": [],
   "source": [
    "QuebrasFinal_imputed"
   ]
  },
  {
   "cell_type": "code",
   "execution_count": null,
   "id": "2d24797f-25fe-4643-a883-d4044ed7d964",
   "metadata": {},
   "outputs": [],
   "source": [
    "# Agrupar os dados por cluster e calcular as médias\n",
    "cluster_means = QuebrasFinal_imputed.groupby('Cluster_Agglomerative').mean()\n",
    "\n",
    "# Definir cores para os clusters\n",
    "colors = ['blue', 'green', 'orange', 'red']\n",
    "\n",
    "# Plotar os gráficos de barras para cada cluster\n",
    "for i, cluster in enumerate(cluster_means.index):\n",
    "    cluster_data = cluster_means.loc[cluster]\n",
    "    plt.figure(figsize=(10, 6))\n",
    "    plt.barh(cluster_data.index, cluster_data.values, color=colors[i])\n",
    "    plt.title(f'Médias das Variáveis para o Cluster {cluster}')\n",
    "    plt.xlabel('Média')\n",
    "    plt.ylabel('Variável')\n",
    "    plt.grid(axis='x', linestyle='--', alpha=0.7)\n",
    "    plt.show()"
   ]
  },
  {
   "cell_type": "code",
   "execution_count": null,
   "id": "72144958-431e-4d01-9f58-4c36a32dba09",
   "metadata": {},
   "outputs": [],
   "source": [
    "# Supondo que 'clusters' seja a coluna de clusters em QuebrasFinal_imputed\n",
    "clusters = QuebrasFinal_imputed['Cluster_Agglomerative']\n",
    "\n",
    "# Adicionando a coluna de clusters ao DataFrame Quebras\n",
    "Quebras['Cluster_Agglomerative'] = clusters"
   ]
  },
  {
   "cell_type": "code",
   "execution_count": null,
   "id": "a4208e33-756b-4608-bfe3-5c21390ff7f5",
   "metadata": {},
   "outputs": [],
   "source": [
    "# Agrupar os dados por causa do incidente e cluster e contar o número de ocorrências em cada grupo\n",
    "causa_cluster_counts = Quebras.groupby(['causa_do_incidente', 'Cluster_Agglomerative']).size().unstack(fill_value=0)\n",
    "\n",
    "# Plotar o gráfico de barras empilhadas para cada causa do incidente\n",
    "causa_cluster_counts.plot(kind='bar', stacked=True, figsize=(16, 12))\n",
    "plt.title('Quantidade de Incidentes por Causa e Cluster')\n",
    "plt.xlabel('Causa do Incidente')\n",
    "plt.ylabel('Quantidade')\n",
    "plt.xticks(rotation=45, ha='right')\n",
    "plt.legend(title='Cluster')\n",
    "plt.show()"
   ]
  },
  {
   "cell_type": "code",
   "execution_count": null,
   "id": "f2d87140-4e2f-46f2-8083-ae155b6b7244",
   "metadata": {},
   "outputs": [],
   "source": [
    "# Agrupar os dados por 'nt' e 'Cluster_Agglomerative' e contar o número de ocorrências em cada grupo\n",
    "nt_cluster_counts = Quebras.groupby(['nt', 'Cluster_Agglomerative']).size().unstack(fill_value=0)\n",
    "\n",
    "# Calcular a porcentagem de ocorrências de cada cluster para cada valor de 'nt'\n",
    "nt_cluster_percentages = nt_cluster_counts.div(nt_cluster_counts.sum(axis=1), axis=0) * 100\n",
    "\n",
    "# Plotar gráficos circulares para a porcentagem de clusters em cada valor de 'nt'\n",
    "for nt_value, nt_cluster_percentage in nt_cluster_percentages.iterrows():\n",
    "    fig, ax = plt.subplots(figsize=(8, 6))\n",
    "    ax.pie(nt_cluster_percentage, labels=nt_cluster_percentage.index, autopct='%1.1f%%', startangle=90)\n",
    "    ax.set_title(f'Porcentagem de Clusters em \"nt\" = {nt_value}')\n",
    "    plt.tight_layout()\n",
    "    plt.savefig(f'Porcentagem_Clusters_nt_{nt_value}.svg')\n",
    "    plt.show()\n"
   ]
  },
  {
   "cell_type": "code",
   "execution_count": null,
   "id": "a504ce1e-b8dd-4a3d-af63-f1d41e2e3891",
   "metadata": {},
   "outputs": [],
   "source": [
    "# Criar a tabela pivô\n",
    "pivot_table = Quebras.pivot_table(index='Concelho', columns='Cluster_Agglomerative', aggfunc='size', fill_value=0)\n",
    "\n",
    "# Renomear as colunas\n",
    "pivot_table.columns = ['Cluster_' + str(col) for col in pivot_table.columns]\n",
    "\n",
    "# Exibir a tabela pivô\n",
    "pivot_table\n",
    "pivot_table['Cluster_2.0'].idxmax()"
   ]
  },
  {
   "cell_type": "code",
   "execution_count": null,
   "id": "0ecaa290-969c-4ed5-92e6-a1f98ead87d4",
   "metadata": {},
   "outputs": [],
   "source": [
    "file_path = shape_folder / \"concelhos.shp\"\n",
    "Concelho = gpd.read_file(file_path)\n",
    "Concelho.rename(columns={'NAME_1': 'Distrito'}, inplace=True)\n",
    "Concelho.rename(columns={'NAME_2': 'Concelho'}, inplace=True)\n",
    "Concelho[\"Concelho\"] = Concelho[\"Concelho\"].str.title()\n",
    "Concelho = Concelho[~Concelho['Distrito'].isin(['Azores', 'Madeira'])]\n",
    "Concelho"
   ]
  },
  {
   "cell_type": "code",
   "execution_count": null,
   "id": "2a2e87cb-0ca5-4fa2-a114-25b3dfc90662",
   "metadata": {},
   "outputs": [],
   "source": [
    "Bilada = set(pivot_table.index) - set(Concelho[\"Concelho\"])\n",
    "Bilada"
   ]
  },
  {
   "cell_type": "code",
   "execution_count": null,
   "id": "333c5bcb-a04e-4e17-a103-23b62febf3f7",
   "metadata": {},
   "outputs": [],
   "source": [
    "Freguesias_com_clusters = Concelho.merge(pivot_table, left_on='Concelho', right_index=True, how=\"left\")\n",
    "Freguesias_com_clusters.fillna(0, inplace=True)\n",
    "Freguesias_com_clusters"
   ]
  },
  {
   "cell_type": "code",
   "execution_count": null,
   "id": "2a825810-dd36-4d6c-83c0-3f175fb75a98",
   "metadata": {},
   "outputs": [],
   "source": [
    "# Configurar a figura e os eixos para a grade de subplots\n",
    "fig, axs = plt.subplots(1, 3, figsize=(20, 8))\n",
    "\n",
    "# Iterar sobre cada cluster e plotar o mapa correspondente\n",
    "for i, cluster in enumerate(['Cluster_0.0', 'Cluster_1.0', 'Cluster_2.0']):\n",
    "    # Plotar o mapa das freguesias para o cluster atual\n",
    "    Freguesias_com_clusters.plot(column=cluster, cmap='RdYlGn_r', linewidth=0.8, edgecolor='black', ax=axs[i], legend=True)\n",
    "    \n",
    "    # Adicionar título para cada subplot\n",
    "    axs[i].set_title(f'Mapa do Cluster {i}', fontsize=14)\n",
    "\n",
    "# Exibir os mapas\n",
    "plt.tight_layout()\n",
    "plt.show()\n"
   ]
  },
  {
   "cell_type": "code",
   "execution_count": null,
   "id": "bad7a872-5f6e-4136-b78e-c4bc561a03d8",
   "metadata": {},
   "outputs": [],
   "source": [
    "# Configurar a figura e o eixo\n",
    "fig, ax = plt.subplots(figsize=(16, 14))\n",
    "\n",
    "# Plotar o mapa das freguesias\n",
    "Freguesias_com_clusters.plot(column='Cluster_0.0', cmap = \"RdYlGn_r\", linewidth=0.8, edgecolor='black', ax=ax, legend=True)\n",
    "\n",
    "# Adicionar título\n",
    "ax.set_title('Zonas das Freguesias', fontsize=16)\n",
    "\n",
    "# Exibir o mapa\n",
    "plt.show()"
   ]
  },
  {
   "cell_type": "code",
   "execution_count": null,
   "id": "71bc842c-d020-45c1-835a-edd1a710b034",
   "metadata": {},
   "outputs": [],
   "source": [
    "# Configurar a figura e o eixo\n",
    "fig, ax = plt.subplots(figsize=(16, 14))\n",
    "\n",
    "# Plotar o mapa das freguesias\n",
    "Freguesias_com_clusters.plot(column='Cluster_1.0', cmap = \"RdYlGn_r\", linewidth=0.8, edgecolor='black', ax=ax, legend=True)\n",
    "\n",
    "# Adicionar título\n",
    "ax.set_title('Zonas das Freguesias', fontsize=16)\n",
    "\n",
    "# Exibir o mapa\n",
    "plt.show()"
   ]
  },
  {
   "cell_type": "code",
   "execution_count": null,
   "id": "dfc58ade-d010-4977-82a3-1976cf3fbd20",
   "metadata": {},
   "outputs": [],
   "source": [
    "# Configurar a figura e o eixo\n",
    "fig, ax = plt.subplots(figsize=(16, 14))\n",
    "\n",
    "# Plotar o mapa das freguesias\n",
    "Freguesias_com_clusters.plot(column='Cluster_2.0', cmap = \"RdYlGn_r\", linewidth=0.8, edgecolor='black', ax=ax, legend=True)\n",
    "\n",
    "# Adicionar título\n",
    "ax.set_title('Zonas das Freguesias', fontsize=16)\n",
    "\n",
    "plt.savefig(\"Apagar.png\")\n",
    "\n",
    "# Exibir o mapa\n",
    "plt.show()"
   ]
  }
 ],
 "metadata": {
  "kernelspec": {
   "display_name": "Python 3 (ipykernel)",
   "language": "python",
   "name": "python3"
  },
  "language_info": {
   "codemirror_mode": {
    "name": "ipython",
    "version": 3
   },
   "file_extension": ".py",
   "mimetype": "text/x-python",
   "name": "python",
   "nbconvert_exporter": "python",
   "pygments_lexer": "ipython3",
   "version": "3.11.5"
  }
 },
 "nbformat": 4,
 "nbformat_minor": 5
}
