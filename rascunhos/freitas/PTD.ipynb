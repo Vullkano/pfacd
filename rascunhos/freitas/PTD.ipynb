{
 "cells": [
  {
   "cell_type": "code",
   "execution_count": 2,
   "id": "42d78657-a456-442c-822e-0fc4cf44197d",
   "metadata": {},
   "outputs": [],
   "source": [
    "import pandas as pd\n",
    "import geopandas as gpd\n",
    "import matplotlib.pyplot as plt\n",
    "import seaborn as sns\n",
    "import folium\n",
    "from folium import Choropleth\n",
    "from folium.plugins import HeatMap\n",
    "from geopy.geocoders import Nominatim\n",
    "import os\n",
    "from pathlib import Path"
   ]
  },
  {
   "cell_type": "code",
   "execution_count": 3,
   "id": "4d404404-a018-43be-a857-788a9a4daa89",
   "metadata": {},
   "outputs": [],
   "source": [
    "# Guardar todos os outputs numa única pasta\n",
    "output_folder = Path.cwd() / \"output\"\n",
    "output_folder.mkdir(parents=True, exist_ok=True)\n",
    "\n",
    "# Exemplo: mapa.save(output_folder / 'mapa_de_calor_portugal_Danielle.html')"
   ]
  },
  {
   "cell_type": "code",
   "execution_count": 8,
   "id": "c73bbc02-51ea-4af4-8538-b51422887d3e",
   "metadata": {},
   "outputs": [],
   "source": [
    "p = Path.cwd()\n",
    "data_folder = p.parent.parent / \"data\"\n",
    "shape_folder = p.parent.parent / \"shape\"\n",
    "file_path = data_folder / \"postos-transformacao-distribuicao.csv\"\n",
    "\n",
    "postes = pd.read_csv(file_path, sep= \";\")\n",
    "postes = postes[1:1000]"
   ]
  },
  {
   "cell_type": "code",
   "execution_count": 9,
   "id": "cc220e62-6ca5-4135-a858-7b9b2e03c3ef",
   "metadata": {},
   "outputs": [
    {
     "data": {
      "text/html": [
       "<div>\n",
       "<style scoped>\n",
       "    .dataframe tbody tr th:only-of-type {\n",
       "        vertical-align: middle;\n",
       "    }\n",
       "\n",
       "    .dataframe tbody tr th {\n",
       "        vertical-align: top;\n",
       "    }\n",
       "\n",
       "    .dataframe thead th {\n",
       "        text-align: right;\n",
       "    }\n",
       "</style>\n",
       "<table border=\"1\" class=\"dataframe\">\n",
       "  <thead>\n",
       "    <tr style=\"text-align: right;\">\n",
       "      <th></th>\n",
       "      <th>Nível de Utilização [%]</th>\n",
       "      <th>Potência instalada [kVA]</th>\n",
       "      <th>Latitude</th>\n",
       "      <th>Longitude</th>\n",
       "    </tr>\n",
       "  </thead>\n",
       "  <tbody>\n",
       "    <tr>\n",
       "      <th>1</th>\n",
       "      <td>60%-79%</td>\n",
       "      <td>160</td>\n",
       "      <td>41.2496017784715</td>\n",
       "      <td>-8.05287327180167</td>\n",
       "    </tr>\n",
       "    <tr>\n",
       "      <th>2</th>\n",
       "      <td>60%-79%</td>\n",
       "      <td>250</td>\n",
       "      <td>41.233310014201</td>\n",
       "      <td>-8.1399391790974</td>\n",
       "    </tr>\n",
       "    <tr>\n",
       "      <th>3</th>\n",
       "      <td>20%-39%</td>\n",
       "      <td>50</td>\n",
       "      <td>37.3723981032597</td>\n",
       "      <td>-8.22936327125981</td>\n",
       "    </tr>\n",
       "    <tr>\n",
       "      <th>4</th>\n",
       "      <td>40%-59%</td>\n",
       "      <td>50</td>\n",
       "      <td>37.3082916361241</td>\n",
       "      <td>-7.50980697105332</td>\n",
       "    </tr>\n",
       "    <tr>\n",
       "      <th>5</th>\n",
       "      <td>40%-59%</td>\n",
       "      <td>50</td>\n",
       "      <td>37.1529602243133</td>\n",
       "      <td>-8.68394833756373</td>\n",
       "    </tr>\n",
       "    <tr>\n",
       "      <th>...</th>\n",
       "      <td>...</td>\n",
       "      <td>...</td>\n",
       "      <td>...</td>\n",
       "      <td>...</td>\n",
       "    </tr>\n",
       "    <tr>\n",
       "      <th>995</th>\n",
       "      <td>20%-39%</td>\n",
       "      <td>50</td>\n",
       "      <td>39.5430364105494</td>\n",
       "      <td>-8.09832358007561</td>\n",
       "    </tr>\n",
       "    <tr>\n",
       "      <th>996</th>\n",
       "      <td>60%-79%</td>\n",
       "      <td>250</td>\n",
       "      <td>38.5378561217812</td>\n",
       "      <td>-8.89821267831566</td>\n",
       "    </tr>\n",
       "    <tr>\n",
       "      <th>997</th>\n",
       "      <td>40%-59%</td>\n",
       "      <td>400</td>\n",
       "      <td>38.6702010995588</td>\n",
       "      <td>-9.17877571161136</td>\n",
       "    </tr>\n",
       "    <tr>\n",
       "      <th>998</th>\n",
       "      <td>20%-39%</td>\n",
       "      <td>315</td>\n",
       "      <td>41.6984306925112</td>\n",
       "      <td>-8.83682474645197</td>\n",
       "    </tr>\n",
       "    <tr>\n",
       "      <th>999</th>\n",
       "      <td>60%-79%</td>\n",
       "      <td>100</td>\n",
       "      <td>40.4604485028232</td>\n",
       "      <td>-8.09305692902829</td>\n",
       "    </tr>\n",
       "  </tbody>\n",
       "</table>\n",
       "<p>999 rows × 4 columns</p>\n",
       "</div>"
      ],
      "text/plain": [
       "    Nível de Utilização [%]  Potência instalada [kVA]          Latitude  \\\n",
       "1                   60%-79%                       160  41.2496017784715   \n",
       "2                   60%-79%                       250   41.233310014201   \n",
       "3                   20%-39%                        50  37.3723981032597   \n",
       "4                   40%-59%                        50  37.3082916361241   \n",
       "5                   40%-59%                        50  37.1529602243133   \n",
       "..                      ...                       ...               ...   \n",
       "995                 20%-39%                        50  39.5430364105494   \n",
       "996                 60%-79%                       250  38.5378561217812   \n",
       "997                 40%-59%                       400  38.6702010995588   \n",
       "998                 20%-39%                       315  41.6984306925112   \n",
       "999                 60%-79%                       100  40.4604485028232   \n",
       "\n",
       "             Longitude  \n",
       "1    -8.05287327180167  \n",
       "2     -8.1399391790974  \n",
       "3    -8.22936327125981  \n",
       "4    -7.50980697105332  \n",
       "5    -8.68394833756373  \n",
       "..                 ...  \n",
       "995  -8.09832358007561  \n",
       "996  -8.89821267831566  \n",
       "997  -9.17877571161136  \n",
       "998  -8.83682474645197  \n",
       "999  -8.09305692902829  \n",
       "\n",
       "[999 rows x 4 columns]"
      ]
     },
     "execution_count": 9,
     "metadata": {},
     "output_type": "execute_result"
    }
   ],
   "source": [
    "postes[['Latitude', 'Longitude']] = postes['Coordenadas Geográficas'].str.split(', ', expand=True)\n",
    "postes.drop(\"Coordenadas Geográficas\", axis=1, inplace=True)\n",
    "postes"
   ]
  },
  {
   "cell_type": "code",
   "execution_count": 10,
   "id": "6287e6e2-1a7b-46e2-b41e-f144a40d7bab",
   "metadata": {},
   "outputs": [
    {
     "data": {
      "text/plain": [
       "Index(['Nível de Utilização [%]', 'Potência instalada [kVA]', 'Latitude',\n",
       "       'Longitude'],\n",
       "      dtype='object')"
      ]
     },
     "execution_count": 10,
     "metadata": {},
     "output_type": "execute_result"
    }
   ],
   "source": [
    "postes.columns"
   ]
  },
  {
   "cell_type": "code",
   "execution_count": 11,
   "id": "c418463a-5b2e-4f5f-8d96-34dd2463b27c",
   "metadata": {},
   "outputs": [],
   "source": [
    "m = folium.Map(location=[39.3999, -8.2245], zoom_start=7)\n",
    "\n",
    "# Adicionando os pontos ao mapa\n",
    "for idx, row in postes.iterrows():\n",
    "    folium.Marker(location=[row['Latitude'], row['Longitude']]).add_to(m)\n",
    "\n",
    "# Exibindo o mapa\n",
    "m.save(output_folder /'Postes.html')  # Salve o mapa como um arquivo HTML"
   ]
  },
  {
   "cell_type": "code",
   "execution_count": null,
   "id": "d43cb84a-b564-4542-b5b9-80476cdf118d",
   "metadata": {},
   "outputs": [],
   "source": []
  }
 ],
 "metadata": {
  "kernelspec": {
   "display_name": "Python 3 (ipykernel)",
   "language": "python",
   "name": "python3"
  },
  "language_info": {
   "codemirror_mode": {
    "name": "ipython",
    "version": 3
   },
   "file_extension": ".py",
   "mimetype": "text/x-python",
   "name": "python",
   "nbconvert_exporter": "python",
   "pygments_lexer": "ipython3",
   "version": "3.11.5"
  }
 },
 "nbformat": 4,
 "nbformat_minor": 5
}
