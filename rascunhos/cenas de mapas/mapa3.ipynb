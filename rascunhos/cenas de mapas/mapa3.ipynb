{
 "cells": [
  {
   "cell_type": "code",
   "execution_count": 1,
   "id": "initial_id",
   "metadata": {
    "collapsed": true,
    "ExecuteTime": {
     "end_time": "2024-02-15T11:21:21.111374300Z",
     "start_time": "2024-02-15T11:20:39.747911500Z"
    }
   },
   "outputs": [
    {
     "name": "stderr",
     "output_type": "stream",
     "text": [
      "C:\\Users\\Plancha\\Desktop\\pfacd\\.pixi\\envs\\default\\Lib\\site-packages\\openpyxl\\packaging\\core.py:99: DeprecationWarning: datetime.datetime.utcnow() is deprecated and scheduled for removal in a future version. Use timezone-aware objects to represent datetimes in UTC: datetime.datetime.now(datetime.UTC).\n",
      "  now = datetime.datetime.utcnow()\n"
     ]
    },
    {
     "data": {
      "text/plain": "        year  month     date    district              municipality  \\\n0       2023      5  2023-05    SANTAREM                 Rio Maior   \n1       2023      5  2023-05     SETUBAL                  Sesimbra   \n2       2023      5  2023-05   VILA REAL                     Murça   \n3       2023      5  2023-05   VILA REAL  Santa Marta de Penaguião   \n4       2023      5  2023-05       VISEU                   Armamar   \n...      ...    ...      ...         ...                       ...   \n165019  2022      7  2022-07    BRAGANCA                   Vinhais   \n165020  2022      7  2022-07     COIMBRA           Figueira da Foz   \n165021  2022      7  2022-07        FARO                  Alcoutim   \n165022  2022      7  2022-07      LEIRIA           Pedrógão Grande   \n165023  2022      7  2022-07  PORTALEGRE              Ponte de Sor   \n\n                             parish                     voltage_level  \\\n0       UF AZAMBUJEIRA E MALAQUEIJO  Muito Alta, Alta e Média Tensões   \n1               SESIMBRA (SANTIAGO)  Muito Alta, Alta e Média Tensões   \n2                               JOU                      Baixa Tensão   \n3                             SEVER  Muito Alta, Alta e Média Tensões   \n4             SAO MARTINHO DAS CHAS                      Baixa Tensão   \n...                             ...                               ...   \n165019                      VINHAIS  Muito Alta, Alta e Média Tensões   \n165020            MARINHA DAS ONDAS                      Baixa Tensão   \n165021                 MARTIM LONGO                      Baixa Tensão   \n165022                        GRACA                      Baixa Tensão   \n165023                     GALVEIAS  Muito Alta, Alta e Média Tensões   \n\n        active_energy_kwh_  districtcode  districtmunicipalitycode  \\\n0                42889.398            14                      1414   \n1               501913.130            15                      1511   \n2                70955.155            17                      1707   \n3                52292.716            17                      1711   \n4                95161.235            18                      1801   \n...                    ...           ...                       ...   \n165019           63732.258             4                       412   \n165020          434881.302             6                       605   \n165021          162904.786             8                       802   \n165022          107855.195            10                      1013   \n165023           49123.485            12                      1213   \n\n       districtmunicipalityparishcode  \n0                              141415  \n1                              151102  \n2                              170704  \n3                              171110  \n4                              180115  \n...                               ...  \n165019                         041235  \n165020                         060508  \n165021                         080203  \n165022                         101301  \n165023                         121301  \n\n[165024 rows x 11 columns]",
      "text/html": "<div>\n<style scoped>\n    .dataframe tbody tr th:only-of-type {\n        vertical-align: middle;\n    }\n\n    .dataframe tbody tr th {\n        vertical-align: top;\n    }\n\n    .dataframe thead th {\n        text-align: right;\n    }\n</style>\n<table border=\"1\" class=\"dataframe\">\n  <thead>\n    <tr style=\"text-align: right;\">\n      <th></th>\n      <th>year</th>\n      <th>month</th>\n      <th>date</th>\n      <th>district</th>\n      <th>municipality</th>\n      <th>parish</th>\n      <th>voltage_level</th>\n      <th>active_energy_kwh_</th>\n      <th>districtcode</th>\n      <th>districtmunicipalitycode</th>\n      <th>districtmunicipalityparishcode</th>\n    </tr>\n  </thead>\n  <tbody>\n    <tr>\n      <th>0</th>\n      <td>2023</td>\n      <td>5</td>\n      <td>2023-05</td>\n      <td>SANTAREM</td>\n      <td>Rio Maior</td>\n      <td>UF AZAMBUJEIRA E MALAQUEIJO</td>\n      <td>Muito Alta, Alta e Média Tensões</td>\n      <td>42889.398</td>\n      <td>14</td>\n      <td>1414</td>\n      <td>141415</td>\n    </tr>\n    <tr>\n      <th>1</th>\n      <td>2023</td>\n      <td>5</td>\n      <td>2023-05</td>\n      <td>SETUBAL</td>\n      <td>Sesimbra</td>\n      <td>SESIMBRA (SANTIAGO)</td>\n      <td>Muito Alta, Alta e Média Tensões</td>\n      <td>501913.130</td>\n      <td>15</td>\n      <td>1511</td>\n      <td>151102</td>\n    </tr>\n    <tr>\n      <th>2</th>\n      <td>2023</td>\n      <td>5</td>\n      <td>2023-05</td>\n      <td>VILA REAL</td>\n      <td>Murça</td>\n      <td>JOU</td>\n      <td>Baixa Tensão</td>\n      <td>70955.155</td>\n      <td>17</td>\n      <td>1707</td>\n      <td>170704</td>\n    </tr>\n    <tr>\n      <th>3</th>\n      <td>2023</td>\n      <td>5</td>\n      <td>2023-05</td>\n      <td>VILA REAL</td>\n      <td>Santa Marta de Penaguião</td>\n      <td>SEVER</td>\n      <td>Muito Alta, Alta e Média Tensões</td>\n      <td>52292.716</td>\n      <td>17</td>\n      <td>1711</td>\n      <td>171110</td>\n    </tr>\n    <tr>\n      <th>4</th>\n      <td>2023</td>\n      <td>5</td>\n      <td>2023-05</td>\n      <td>VISEU</td>\n      <td>Armamar</td>\n      <td>SAO MARTINHO DAS CHAS</td>\n      <td>Baixa Tensão</td>\n      <td>95161.235</td>\n      <td>18</td>\n      <td>1801</td>\n      <td>180115</td>\n    </tr>\n    <tr>\n      <th>...</th>\n      <td>...</td>\n      <td>...</td>\n      <td>...</td>\n      <td>...</td>\n      <td>...</td>\n      <td>...</td>\n      <td>...</td>\n      <td>...</td>\n      <td>...</td>\n      <td>...</td>\n      <td>...</td>\n    </tr>\n    <tr>\n      <th>165019</th>\n      <td>2022</td>\n      <td>7</td>\n      <td>2022-07</td>\n      <td>BRAGANCA</td>\n      <td>Vinhais</td>\n      <td>VINHAIS</td>\n      <td>Muito Alta, Alta e Média Tensões</td>\n      <td>63732.258</td>\n      <td>4</td>\n      <td>412</td>\n      <td>041235</td>\n    </tr>\n    <tr>\n      <th>165020</th>\n      <td>2022</td>\n      <td>7</td>\n      <td>2022-07</td>\n      <td>COIMBRA</td>\n      <td>Figueira da Foz</td>\n      <td>MARINHA DAS ONDAS</td>\n      <td>Baixa Tensão</td>\n      <td>434881.302</td>\n      <td>6</td>\n      <td>605</td>\n      <td>060508</td>\n    </tr>\n    <tr>\n      <th>165021</th>\n      <td>2022</td>\n      <td>7</td>\n      <td>2022-07</td>\n      <td>FARO</td>\n      <td>Alcoutim</td>\n      <td>MARTIM LONGO</td>\n      <td>Baixa Tensão</td>\n      <td>162904.786</td>\n      <td>8</td>\n      <td>802</td>\n      <td>080203</td>\n    </tr>\n    <tr>\n      <th>165022</th>\n      <td>2022</td>\n      <td>7</td>\n      <td>2022-07</td>\n      <td>LEIRIA</td>\n      <td>Pedrógão Grande</td>\n      <td>GRACA</td>\n      <td>Baixa Tensão</td>\n      <td>107855.195</td>\n      <td>10</td>\n      <td>1013</td>\n      <td>101301</td>\n    </tr>\n    <tr>\n      <th>165023</th>\n      <td>2022</td>\n      <td>7</td>\n      <td>2022-07</td>\n      <td>PORTALEGRE</td>\n      <td>Ponte de Sor</td>\n      <td>GALVEIAS</td>\n      <td>Muito Alta, Alta e Média Tensões</td>\n      <td>49123.485</td>\n      <td>12</td>\n      <td>1213</td>\n      <td>121301</td>\n    </tr>\n  </tbody>\n</table>\n<p>165024 rows × 11 columns</p>\n</div>"
     },
     "execution_count": 1,
     "metadata": {},
     "output_type": "execute_result"
    }
   ],
   "source": [
    "import numpy as np\n",
    "from pyprojroot.here import here\n",
    "import pandas as pd\n",
    "import janitor\n",
    "data = janitor.clean_names(pd.read_excel(here(\"data/por-municipios.xlsx\")))\n",
    "data "
   ]
  },
  {
   "cell_type": "code",
   "outputs": [
    {
     "name": "stderr",
     "output_type": "stream",
     "text": [
      "C:\\Users\\Plancha\\Desktop\\pfacd\\.pixi\\envs\\default\\Lib\\site-packages\\datar_pandas\\tibble.py:406: FutureWarning: DataFrameGroupBy.grouper is deprecated and will be removed in a future version of pandas.\n",
      "  \"group_vars\", self._datar[\"grouped\"].grouper.names\n",
      "C:\\Users\\Plancha\\Desktop\\pfacd\\.pixi\\envs\\default\\Lib\\site-packages\\datar_pandas\\api\\dplyr\\group_data.py:56: FutureWarning: DataFrameGroupBy.grouper is deprecated and will be removed in a future version of pandas.\n",
      "  grouper = _data._datar[\"grouped\"].grouper\n",
      "C:\\Users\\Plancha\\Desktop\\pfacd\\.pixi\\envs\\default\\Lib\\site-packages\\datar_pandas\\api\\dplyr\\summarise.py:105: FutureWarning: DataFrameGroupBy.grouper is deprecated and will be removed in a future version of pandas.\n",
      "  grouped.grouper.names,\n",
      "C:\\Users\\Plancha\\Desktop\\pfacd\\.pixi\\envs\\default\\Lib\\site-packages\\datar_pandas\\tibble.py:351: FutureWarning: DataFrameGroupBy.grouper is deprecated and will be removed in a future version of pandas.\n",
      "  grouped.grouper,\n",
      "C:\\Users\\Plancha\\Desktop\\pfacd\\.pixi\\envs\\default\\Lib\\site-packages\\datar_pandas\\api\\dplyr\\context.py:40: FutureWarning: DataFrameGroupBy.grouper is deprecated and will be removed in a future version of pandas.\n",
      "  out = grouped.grouper.size().to_frame().reset_index()\n",
      "C:\\Users\\Plancha\\Desktop\\pfacd\\.pixi\\envs\\default\\Lib\\site-packages\\datar_pandas\\api\\dplyr\\context.py:42: FutureWarning: DataFrameGroupBy.grouper is deprecated and will be removed in a future version of pandas.\n",
      "  grouped.grouper.names,\n",
      "C:\\Users\\Plancha\\Desktop\\pfacd\\.pixi\\envs\\default\\Lib\\site-packages\\datar_pandas\\broadcast.py:275: FutureWarning: SeriesGroupBy.grouper is deprecated and will be removed in a future version of pandas.\n",
      "  if not _grouper_compatible(value.grouper, base.grouper):\n",
      "C:\\Users\\Plancha\\Desktop\\pfacd\\.pixi\\envs\\default\\Lib\\site-packages\\datar_pandas\\broadcast.py:275: FutureWarning: DataFrameGroupBy.grouper is deprecated and will be removed in a future version of pandas.\n",
      "  if not _grouper_compatible(value.grouper, base.grouper):\n",
      "C:\\Users\\Plancha\\Desktop\\pfacd\\.pixi\\envs\\default\\Lib\\site-packages\\datar_pandas\\broadcast.py:281: FutureWarning: SeriesGroupBy.grouper is deprecated and will be removed in a future version of pandas.\n",
      "  if (value.grouper.size() == 1).all():\n",
      "C:\\Users\\Plancha\\Desktop\\pfacd\\.pixi\\envs\\default\\Lib\\site-packages\\datar_pandas\\tibble.py:302: FutureWarning: DataFrameGroupBy.grouper is deprecated and will be removed in a future version of pandas.\n",
      "  value = broadcast_to(value, self.index, grouped.grouper)\n",
      "C:\\Users\\Plancha\\Desktop\\pfacd\\.pixi\\envs\\default\\Lib\\site-packages\\datar_pandas\\broadcast.py:633: FutureWarning: SeriesGroupBy.grouper is deprecated and will be removed in a future version of pandas.\n",
      "  if np.array_equal(grouper.group_info[0], value.grouper.group_info[0]):\n",
      "C:\\Users\\Plancha\\Desktop\\pfacd\\.pixi\\envs\\default\\Lib\\site-packages\\datar_pandas\\tibble.py:269: FutureWarning: SeriesGroupBy.grouper is deprecated and will be removed in a future version of pandas.\n",
      "  grouped.grouper,\n",
      "C:\\Users\\Plancha\\Desktop\\pfacd\\.pixi\\envs\\default\\Lib\\site-packages\\datar_pandas\\tibble.py:302: FutureWarning: DataFrameGroupBy.grouper is deprecated and will be removed in a future version of pandas.\n",
      "  value = broadcast_to(value, self.index, grouped.grouper)\n",
      "C:\\Users\\Plancha\\Desktop\\pfacd\\.pixi\\envs\\default\\Lib\\site-packages\\datar_pandas\\broadcast.py:372: FutureWarning: DataFrameGroupBy.grouper is deprecated and will be removed in a future version of pandas.\n",
      "  if not _agg_result_compatible(value.index, base.grouper):\n",
      "C:\\Users\\Plancha\\Desktop\\pfacd\\.pixi\\envs\\default\\Lib\\site-packages\\datar_pandas\\tibble.py:302: FutureWarning: DataFrameGroupBy.grouper is deprecated and will be removed in a future version of pandas.\n",
      "  value = broadcast_to(value, self.index, grouped.grouper)\n",
      "C:\\Users\\Plancha\\Desktop\\pfacd\\.pixi\\envs\\default\\Lib\\site-packages\\datar_pandas\\tibble.py:269: FutureWarning: SeriesGroupBy.grouper is deprecated and will be removed in a future version of pandas.\n",
      "  grouped.grouper,\n",
      "C:\\Users\\Plancha\\Desktop\\pfacd\\.pixi\\envs\\default\\Lib\\site-packages\\datar_pandas\\tibble.py:302: FutureWarning: DataFrameGroupBy.grouper is deprecated and will be removed in a future version of pandas.\n",
      "  value = broadcast_to(value, self.index, grouped.grouper)\n",
      "C:\\Users\\Plancha\\Desktop\\pfacd\\.pixi\\envs\\default\\Lib\\site-packages\\datar_pandas\\broadcast.py:372: FutureWarning: DataFrameGroupBy.grouper is deprecated and will be removed in a future version of pandas.\n",
      "  if not _agg_result_compatible(value.index, base.grouper):\n",
      "C:\\Users\\Plancha\\Desktop\\pfacd\\.pixi\\envs\\default\\Lib\\site-packages\\datar_pandas\\tibble.py:302: FutureWarning: DataFrameGroupBy.grouper is deprecated and will be removed in a future version of pandas.\n",
      "  value = broadcast_to(value, self.index, grouped.grouper)\n",
      "C:\\Users\\Plancha\\Desktop\\pfacd\\.pixi\\envs\\default\\Lib\\site-packages\\datar_pandas\\tibble.py:406: FutureWarning: DataFrameGroupBy.grouper is deprecated and will be removed in a future version of pandas.\n",
      "  \"group_vars\", self._datar[\"grouped\"].grouper.names\n",
      "[2024-02-15 12:24:45][datar][   INFO] `summarise()` has grouped output by ['parish', 'districtmunicipalityparishcode'] (override with `_groups` argument)\n",
      "C:\\Users\\Plancha\\Desktop\\pfacd\\.pixi\\envs\\default\\Lib\\site-packages\\datar_pandas\\tibble.py:406: FutureWarning: DataFrameGroupBy.grouper is deprecated and will be removed in a future version of pandas.\n",
      "  \"group_vars\", self._datar[\"grouped\"].grouper.names\n",
      "C:\\Users\\Plancha\\Desktop\\pfacd\\.pixi\\envs\\default\\Lib\\site-packages\\datar_pandas\\tibble.py:351: FutureWarning: DataFrameGroupBy.grouper is deprecated and will be removed in a future version of pandas.\n",
      "  grouped.grouper,\n",
      "C:\\Users\\Plancha\\Desktop\\pfacd\\.pixi\\envs\\default\\Lib\\site-packages\\datar_pandas\\tibble.py:406: FutureWarning: DataFrameGroupBy.grouper is deprecated and will be removed in a future version of pandas.\n",
      "  \"group_vars\", self._datar[\"grouped\"].grouper.names\n",
      "C:\\Users\\Plancha\\Desktop\\pfacd\\.pixi\\envs\\default\\Lib\\site-packages\\pandas\\core\\frame.py:706: DeprecationWarning: Passing a BlockManager to TibbleGrouped is deprecated and will raise in a future version. Use public APIs instead.\n",
      "  warnings.warn(\n",
      "C:\\Users\\Plancha\\Desktop\\pfacd\\.pixi\\envs\\default\\Lib\\site-packages\\datar_pandas\\tibble.py:406: FutureWarning: DataFrameGroupBy.grouper is deprecated and will be removed in a future version of pandas.\n",
      "  \"group_vars\", self._datar[\"grouped\"].grouper.names\n",
      "C:\\Users\\Plancha\\Desktop\\pfacd\\.pixi\\envs\\default\\Lib\\site-packages\\datar_pandas\\tibble.py:251: FutureWarning: DataFrameGroupBy.grouper is deprecated and will be removed in a future version of pandas.\n",
      "  f\"(n={self._datar['grouped'].grouper.ngroups})]\"\n",
      "C:\\Users\\Plancha\\Desktop\\pfacd\\.pixi\\envs\\default\\Lib\\site-packages\\pandas\\core\\frame.py:706: DeprecationWarning: Passing a BlockManager to TibbleGrouped is deprecated and will raise in a future version. Use public APIs instead.\n",
      "  warnings.warn(\n",
      "C:\\Users\\Plancha\\Desktop\\pfacd\\.pixi\\envs\\default\\Lib\\site-packages\\datar_pandas\\tibble.py:406: FutureWarning: DataFrameGroupBy.grouper is deprecated and will be removed in a future version of pandas.\n",
      "  \"group_vars\", self._datar[\"grouped\"].grouper.names\n",
      "C:\\Users\\Plancha\\Desktop\\pfacd\\.pixi\\envs\\default\\Lib\\site-packages\\datar_pandas\\tibble.py:406: FutureWarning: DataFrameGroupBy.grouper is deprecated and will be removed in a future version of pandas.\n",
      "  \"group_vars\", self._datar[\"grouped\"].grouper.names\n",
      "C:\\Users\\Plancha\\Desktop\\pfacd\\.pixi\\envs\\default\\Lib\\site-packages\\datar_pandas\\tibble.py:243: FutureWarning: DataFrameGroupBy.grouper is deprecated and will be removed in a future version of pandas.\n",
      "  f\"(n={self._datar['grouped'].grouper.ngroups})\"\n"
     ]
    },
    {
     "data": {
      "text/plain": "                         parish parish_code     date       n  first_energy  \\\n                       <object>    <object> <object> <int64>     <float64>   \n0   UF AZAMBUJEIRA E MALAQUEIJO      141415  2023-05       2     42889.398   \n1           SESIMBRA (SANTIAGO)      151102  2023-05       2    501913.130   \n2                           JOU      170704  2023-05       1     70955.155   \n3                         SEVER      171110  2023-05       2     52292.716   \n..                          ...         ...      ...     ...           ...   \n4         SAO MARTINHO DAS CHAS      180115  2023-05       2     95161.235   \n5                SAZES DA BEIRA      091219  2022-05       1     31541.195   \n6                         NUMAO      091411  2022-05       1     27459.619   \n7                          URRO      010419  2022-06       1    106768.910   \n8                     AGUIEIRAS      040703  2022-07       1     56940.482   \n9                         GRACA      101301  2022-07       1    107855.195   \n\n    last_energy  \n      <float64>  \n0    175872.824  \n1   1179419.238  \n2           NaN  \n3     55327.776  \n..          ...  \n4     11132.964  \n5           NaN  \n6           NaN  \n7           NaN  \n8           NaN  \n9           NaN  \n\n[107152 rows x 6 columns]\n[TibbleGrouped: parish, parish_code (n=2896)]",
      "text/html": "<div>\n<style scoped>\n    .dataframe tbody tr th:only-of-type {\n        vertical-align: middle;\n    }\n\n    .dataframe tbody tr th {\n        vertical-align: top;\n    }\n\n    .dataframe thead th {\n        text-align: right;\n    }\n</style>\n<table border=\"1\" class=\"dataframe\">\n  <thead>\n    <tr style=\"text-align: right;\">\n      <th></th>\n      <th>parish</th>\n      <th>parish_code</th>\n      <th>date</th>\n      <th>n</th>\n      <th>first_energy</th>\n      <th>last_energy</th>\n    </tr>\n  </thead>\n  <tbody>\n    <tr>\n      <th style=\"font-style: italic;\" ></th>\n      <td style=\"font-style: italic;\" >&lt;object&gt;</td>\n      <td style=\"font-style: italic;\" >&lt;object&gt;</td>\n      <td style=\"font-style: italic;\" >&lt;object&gt;</td>\n      <td style=\"font-style: italic;\" >&lt;int64&gt;</td>\n      <td style=\"font-style: italic;\" >&lt;float64&gt;</td>\n      <td style=\"font-style: italic;\" >&lt;float64&gt;</td>\n    </tr>\n    <tr>\n      <th>0</th>\n      <td>UF AZAMBUJEIRA E MALAQUEIJO</td>\n      <td>141415</td>\n      <td>2023-05</td>\n      <td>2</td>\n      <td>42889.398</td>\n      <td>175872.824</td>\n    </tr>\n    <tr>\n      <th>1</th>\n      <td>SESIMBRA (SANTIAGO)</td>\n      <td>151102</td>\n      <td>2023-05</td>\n      <td>2</td>\n      <td>501913.130</td>\n      <td>1179419.238</td>\n    </tr>\n    <tr>\n      <th>2</th>\n      <td>JOU</td>\n      <td>170704</td>\n      <td>2023-05</td>\n      <td>1</td>\n      <td>70955.155</td>\n      <td>NaN</td>\n    </tr>\n    <tr>\n      <th>3</th>\n      <td>SEVER</td>\n      <td>171110</td>\n      <td>2023-05</td>\n      <td>2</td>\n      <td>52292.716</td>\n      <td>55327.776</td>\n    </tr>\n    <tr>\n      <th>...</th>\n      <td>...</td>\n      <td>...</td>\n      <td>...</td>\n      <td>...</td>\n      <td>...</td>\n      <td>...</td>\n    </tr>\n    <tr>\n      <th>4</th>\n      <td>SAO MARTINHO DAS CHAS</td>\n      <td>180115</td>\n      <td>2023-05</td>\n      <td>2</td>\n      <td>95161.235</td>\n      <td>11132.964</td>\n    </tr>\n    <tr>\n      <th>5</th>\n      <td>SAZES DA BEIRA</td>\n      <td>091219</td>\n      <td>2022-05</td>\n      <td>1</td>\n      <td>31541.195</td>\n      <td>NaN</td>\n    </tr>\n    <tr>\n      <th>6</th>\n      <td>NUMAO</td>\n      <td>091411</td>\n      <td>2022-05</td>\n      <td>1</td>\n      <td>27459.619</td>\n      <td>NaN</td>\n    </tr>\n    <tr>\n      <th>7</th>\n      <td>URRO</td>\n      <td>010419</td>\n      <td>2022-06</td>\n      <td>1</td>\n      <td>106768.910</td>\n      <td>NaN</td>\n    </tr>\n    <tr>\n      <th>8</th>\n      <td>AGUIEIRAS</td>\n      <td>040703</td>\n      <td>2022-07</td>\n      <td>1</td>\n      <td>56940.482</td>\n      <td>NaN</td>\n    </tr>\n    <tr>\n      <th>9</th>\n      <td>GRACA</td>\n      <td>101301</td>\n      <td>2022-07</td>\n      <td>1</td>\n      <td>107855.195</td>\n      <td>NaN</td>\n    </tr>\n  </tbody>\n</table>\n<p>107152 rows × 6 columns</p>\n</div>\n<p>TibbleGrouped: parish, parish_code (n=2896)"
     },
     "execution_count": 45,
     "metadata": {},
     "output_type": "execute_result"
    }
   ],
   "source": [
    "from datar.dplyr import distinct, arrange, group_by, summarise, n, rename, select, c_across, nth, filter_\n",
    "from datar import f\n",
    "\n",
    "parish_code_count = (data >> \n",
    " group_by(f.parish, f.districtmunicipalityparishcode, f.date) >> \n",
    " summarise(\n",
    "     n = n(),\n",
    "     first_energy = nth(f.active_energy_kwh_, 0),\n",
    "     last_energy = nth(f.active_energy_kwh_, 1)\n",
    " ) >>\n",
    " rename(parish_code = f.districtmunicipalityparishcode)\n",
    ")\n",
    "parish_code_count"
   ],
   "metadata": {
    "collapsed": false,
    "ExecuteTime": {
     "end_time": "2024-02-15T12:24:45.269943100Z",
     "start_time": "2024-02-15T12:24:25.075794600Z"
    }
   },
   "id": "f61d7905416427f1",
   "execution_count": 45
  },
  {
   "cell_type": "code",
   "outputs": [
    {
     "name": "stderr",
     "output_type": "stream",
     "text": [
      "C:\\Users\\Plancha\\Desktop\\pfacd\\.pixi\\envs\\default\\Lib\\site-packages\\datar_pandas\\broadcast.py:684: FutureWarning: SeriesGroupBy.grouper is deprecated and will be removed in a future version of pandas.\n",
      "  return get_obj(value).index, value.grouper\n",
      "C:\\Users\\Plancha\\Desktop\\pfacd\\.pixi\\envs\\default\\Lib\\site-packages\\datar_pandas\\broadcast.py:684: FutureWarning: SeriesGroupBy.grouper is deprecated and will be removed in a future version of pandas.\n",
      "  return get_obj(value).index, value.grouper\n",
      "C:\\Users\\Plancha\\Desktop\\pfacd\\.pixi\\envs\\default\\Lib\\site-packages\\datar_pandas\\api\\dplyr\\filter_.py:37: FutureWarning: DataFrameGroupBy.grouper is deprecated and will be removed in a future version of pandas.\n",
      "  grouper = _data._datar[\"grouped\"].grouper\n",
      "C:\\Users\\Plancha\\Desktop\\pfacd\\.pixi\\envs\\default\\Lib\\site-packages\\datar_pandas\\broadcast.py:633: FutureWarning: SeriesGroupBy.grouper is deprecated and will be removed in a future version of pandas.\n",
      "  if np.array_equal(grouper.group_info[0], value.grouper.group_info[0]):\n",
      "C:\\Users\\Plancha\\Desktop\\pfacd\\.pixi\\envs\\default\\Lib\\site-packages\\datar_pandas\\tibble.py:406: FutureWarning: DataFrameGroupBy.grouper is deprecated and will be removed in a future version of pandas.\n",
      "  \"group_vars\", self._datar[\"grouped\"].grouper.names\n",
      "C:\\Users\\Plancha\\Desktop\\pfacd\\.pixi\\envs\\default\\Lib\\site-packages\\datar_pandas\\tibble.py:406: FutureWarning: DataFrameGroupBy.grouper is deprecated and will be removed in a future version of pandas.\n",
      "  \"group_vars\", self._datar[\"grouped\"].grouper.names\n",
      "C:\\Users\\Plancha\\Desktop\\pfacd\\.pixi\\envs\\default\\Lib\\site-packages\\datar_pandas\\tibble.py:351: FutureWarning: DataFrameGroupBy.grouper is deprecated and will be removed in a future version of pandas.\n",
      "  grouped.grouper,\n",
      "C:\\Users\\Plancha\\Desktop\\pfacd\\.pixi\\envs\\default\\Lib\\site-packages\\pandas\\core\\frame.py:706: DeprecationWarning: Passing a BlockManager to TibbleGrouped is deprecated and will raise in a future version. Use public APIs instead.\n",
      "  warnings.warn(\n",
      "C:\\Users\\Plancha\\Desktop\\pfacd\\.pixi\\envs\\default\\Lib\\site-packages\\datar_pandas\\tibble.py:406: FutureWarning: DataFrameGroupBy.grouper is deprecated and will be removed in a future version of pandas.\n",
      "  \"group_vars\", self._datar[\"grouped\"].grouper.names\n",
      "C:\\Users\\Plancha\\Desktop\\pfacd\\.pixi\\envs\\default\\Lib\\site-packages\\pandas\\core\\frame.py:706: DeprecationWarning: Passing a BlockManager to TibbleGrouped is deprecated and will raise in a future version. Use public APIs instead.\n",
      "  warnings.warn(\n",
      "C:\\Users\\Plancha\\Desktop\\pfacd\\.pixi\\envs\\default\\Lib\\site-packages\\pandas\\core\\frame.py:706: DeprecationWarning: Passing a BlockManager to TibbleGrouped is deprecated and will raise in a future version. Use public APIs instead.\n",
      "  warnings.warn(\n",
      "C:\\Users\\Plancha\\Desktop\\pfacd\\.pixi\\envs\\default\\Lib\\site-packages\\datar_pandas\\tibble.py:289: FutureWarning: DataFrameGroupBy.grouper is deprecated and will be removed in a future version of pandas.\n",
      "  grouped.grouper,\n",
      "C:\\Users\\Plancha\\Desktop\\pfacd\\.pixi\\envs\\default\\Lib\\site-packages\\datar_pandas\\tibble.py:406: FutureWarning: DataFrameGroupBy.grouper is deprecated and will be removed in a future version of pandas.\n",
      "  \"group_vars\", self._datar[\"grouped\"].grouper.names\n",
      "C:\\Users\\Plancha\\Desktop\\pfacd\\.pixi\\envs\\default\\Lib\\site-packages\\pandas\\core\\frame.py:706: DeprecationWarning: Passing a BlockManager to TibbleGrouped is deprecated and will raise in a future version. Use public APIs instead.\n",
      "  warnings.warn(\n",
      "C:\\Users\\Plancha\\Desktop\\pfacd\\.pixi\\envs\\default\\Lib\\site-packages\\datar_pandas\\tibble.py:406: FutureWarning: DataFrameGroupBy.grouper is deprecated and will be removed in a future version of pandas.\n",
      "  \"group_vars\", self._datar[\"grouped\"].grouper.names\n",
      "C:\\Users\\Plancha\\Desktop\\pfacd\\.pixi\\envs\\default\\Lib\\site-packages\\pandas\\core\\frame.py:706: DeprecationWarning: Passing a BlockManager to TibbleGrouped is deprecated and will raise in a future version. Use public APIs instead.\n",
      "  warnings.warn(\n",
      "C:\\Users\\Plancha\\Desktop\\pfacd\\.pixi\\envs\\default\\Lib\\site-packages\\datar_pandas\\tibble.py:406: FutureWarning: DataFrameGroupBy.grouper is deprecated and will be removed in a future version of pandas.\n",
      "  \"group_vars\", self._datar[\"grouped\"].grouper.names\n",
      "C:\\Users\\Plancha\\Desktop\\pfacd\\.pixi\\envs\\default\\Lib\\site-packages\\datar_pandas\\tibble.py:251: FutureWarning: DataFrameGroupBy.grouper is deprecated and will be removed in a future version of pandas.\n",
      "  f\"(n={self._datar['grouped'].grouper.ngroups})]\"\n",
      "C:\\Users\\Plancha\\Desktop\\pfacd\\.pixi\\envs\\default\\Lib\\site-packages\\pandas\\core\\frame.py:706: DeprecationWarning: Passing a BlockManager to TibbleGrouped is deprecated and will raise in a future version. Use public APIs instead.\n",
      "  warnings.warn(\n",
      "C:\\Users\\Plancha\\Desktop\\pfacd\\.pixi\\envs\\default\\Lib\\site-packages\\datar_pandas\\tibble.py:406: FutureWarning: DataFrameGroupBy.grouper is deprecated and will be removed in a future version of pandas.\n",
      "  \"group_vars\", self._datar[\"grouped\"].grouper.names\n",
      "C:\\Users\\Plancha\\Desktop\\pfacd\\.pixi\\envs\\default\\Lib\\site-packages\\datar_pandas\\tibble.py:406: FutureWarning: DataFrameGroupBy.grouper is deprecated and will be removed in a future version of pandas.\n",
      "  \"group_vars\", self._datar[\"grouped\"].grouper.names\n",
      "C:\\Users\\Plancha\\Desktop\\pfacd\\.pixi\\envs\\default\\Lib\\site-packages\\datar_pandas\\tibble.py:243: FutureWarning: DataFrameGroupBy.grouper is deprecated and will be removed in a future version of pandas.\n",
      "  f\"(n={self._datar['grouped'].grouper.ngroups})\"\n"
     ]
    },
    {
     "data": {
      "text/plain": "            parish parish_code     date  first_energy  last_energy\n          <object>    <object> <object>     <float64>    <float64>\n0   AGUADA DE CIMA      010103  2022-06    610380.950  2014952.890\n1   AGUADA DE CIMA      010103  2022-02   2192026.527   711071.207\n2   AGUADA DE CIMA      010103  2021-09    635471.220  1997839.065\n3   AGUADA DE CIMA      010103  2021-08   1582618.409   634542.016\n..             ...         ...      ...           ...          ...\n4   AGUADA DE CIMA      010103  2023-09    620391.485  1436024.889\n5            BRAGA         NaN  2021-07   4775490.824     8484.711\n6            BRAGA         NaN  2022-10   3838833.279     9451.662\n7            BRAGA         NaN  2021-04      8608.839  4547294.017\n8            BRAGA         NaN  2022-09      8140.763  3432661.870\n9            BRAGA         NaN  2023-02   3728394.091    11883.246\n\n[57872 rows x 5 columns]\n[TibbleGrouped: parish, parish_code (n=1594)]",
      "text/html": "<div>\n<style scoped>\n    .dataframe tbody tr th:only-of-type {\n        vertical-align: middle;\n    }\n\n    .dataframe tbody tr th {\n        vertical-align: top;\n    }\n\n    .dataframe thead th {\n        text-align: right;\n    }\n</style>\n<table border=\"1\" class=\"dataframe\">\n  <thead>\n    <tr style=\"text-align: right;\">\n      <th></th>\n      <th>parish</th>\n      <th>parish_code</th>\n      <th>date</th>\n      <th>first_energy</th>\n      <th>last_energy</th>\n    </tr>\n  </thead>\n  <tbody>\n    <tr>\n      <th style=\"font-style: italic;\" ></th>\n      <td style=\"font-style: italic;\" >&lt;object&gt;</td>\n      <td style=\"font-style: italic;\" >&lt;object&gt;</td>\n      <td style=\"font-style: italic;\" >&lt;object&gt;</td>\n      <td style=\"font-style: italic;\" >&lt;float64&gt;</td>\n      <td style=\"font-style: italic;\" >&lt;float64&gt;</td>\n    </tr>\n    <tr>\n      <th>0</th>\n      <td>AGUADA DE CIMA</td>\n      <td>010103</td>\n      <td>2022-06</td>\n      <td>610380.950</td>\n      <td>2014952.890</td>\n    </tr>\n    <tr>\n      <th>1</th>\n      <td>AGUADA DE CIMA</td>\n      <td>010103</td>\n      <td>2022-02</td>\n      <td>2192026.527</td>\n      <td>711071.207</td>\n    </tr>\n    <tr>\n      <th>2</th>\n      <td>AGUADA DE CIMA</td>\n      <td>010103</td>\n      <td>2021-09</td>\n      <td>635471.220</td>\n      <td>1997839.065</td>\n    </tr>\n    <tr>\n      <th>3</th>\n      <td>AGUADA DE CIMA</td>\n      <td>010103</td>\n      <td>2021-08</td>\n      <td>1582618.409</td>\n      <td>634542.016</td>\n    </tr>\n    <tr>\n      <th>...</th>\n      <td>...</td>\n      <td>...</td>\n      <td>...</td>\n      <td>...</td>\n      <td>...</td>\n    </tr>\n    <tr>\n      <th>4</th>\n      <td>AGUADA DE CIMA</td>\n      <td>010103</td>\n      <td>2023-09</td>\n      <td>620391.485</td>\n      <td>1436024.889</td>\n    </tr>\n    <tr>\n      <th>5</th>\n      <td>BRAGA</td>\n      <td>NaN</td>\n      <td>2021-07</td>\n      <td>4775490.824</td>\n      <td>8484.711</td>\n    </tr>\n    <tr>\n      <th>6</th>\n      <td>BRAGA</td>\n      <td>NaN</td>\n      <td>2022-10</td>\n      <td>3838833.279</td>\n      <td>9451.662</td>\n    </tr>\n    <tr>\n      <th>7</th>\n      <td>BRAGA</td>\n      <td>NaN</td>\n      <td>2021-04</td>\n      <td>8608.839</td>\n      <td>4547294.017</td>\n    </tr>\n    <tr>\n      <th>8</th>\n      <td>BRAGA</td>\n      <td>NaN</td>\n      <td>2022-09</td>\n      <td>8140.763</td>\n      <td>3432661.870</td>\n    </tr>\n    <tr>\n      <th>9</th>\n      <td>BRAGA</td>\n      <td>NaN</td>\n      <td>2023-02</td>\n      <td>3728394.091</td>\n      <td>11883.246</td>\n    </tr>\n  </tbody>\n</table>\n<p>57872 rows × 5 columns</p>\n</div>\n<p>TibbleGrouped: parish, parish_code (n=1594)"
     },
     "execution_count": 55,
     "metadata": {},
     "output_type": "execute_result"
    }
   ],
   "source": [
    "(parish_code_count >>\n",
    " filter_(f.n > 1) >>\n",
    " select(f.parish, f.parish_code, f.date, f.first_energy, f.last_energy) >>\n",
    " arrange(f.parish_code)\n",
    ")"
   ],
   "metadata": {
    "collapsed": false,
    "ExecuteTime": {
     "end_time": "2024-02-15T13:05:09.916468600Z",
     "start_time": "2024-02-15T13:05:09.841095200Z"
    }
   },
   "id": "fe9ba6139e275977",
   "execution_count": 55
  },
  {
   "cell_type": "code",
   "outputs": [
    {
     "data": {
      "text/plain": "                         parish parish_code     date       n  first_energy  \\\n                       <object>    <object> <object> <int64>     <float64>   \n54      UF SILVEIROS E RIO COVO      0302FE  2020-12       2    220343.825   \n306                    BRAGANCA         NaN  2022-09       1   1592032.703   \n307                      LEIRIA         NaN  2021-01       1    424767.852   \n601       UF VILA COVA E FEITOS      0302FH  2020-11       2     30892.035   \n...                         ...         ...      ...     ...           ...   \n853            VIANA DO CASTELO         NaN  2023-11       1    793447.660   \n106883                     FARO         NaN  2020-11       1    116700.611   \n106971    UF QUINTIAES E AGUIAR      0302FC  2021-07       1    183766.045   \n107007    UF QUINTIAES E AGUIAR      0302FC  2022-09       1    133894.320   \n107036                    PORTO         NaN  2023-03       1   1681405.105   \n107102               PORTALEGRE         NaN  2023-05       1    213250.553   \n\n        last_energy  \n          <float64>  \n54       764479.434  \n306             NaN  \n307             NaN  \n601      320573.732  \n...             ...  \n853             NaN  \n106883          NaN  \n106971          NaN  \n107007          NaN  \n107036          NaN  \n107102          NaN  \n\n[814 rows x 6 columns]",
      "text/html": "<div>\n<style scoped>\n    .dataframe tbody tr th:only-of-type {\n        vertical-align: middle;\n    }\n\n    .dataframe tbody tr th {\n        vertical-align: top;\n    }\n\n    .dataframe thead th {\n        text-align: right;\n    }\n</style>\n<table border=\"1\" class=\"dataframe\">\n  <thead>\n    <tr style=\"text-align: right;\">\n      <th></th>\n      <th>parish</th>\n      <th>parish_code</th>\n      <th>date</th>\n      <th>n</th>\n      <th>first_energy</th>\n      <th>last_energy</th>\n    </tr>\n  </thead>\n  <tbody>\n    <tr>\n      <th style=\"font-style: italic;\" ></th>\n      <td style=\"font-style: italic;\" >&lt;object&gt;</td>\n      <td style=\"font-style: italic;\" >&lt;object&gt;</td>\n      <td style=\"font-style: italic;\" >&lt;object&gt;</td>\n      <td style=\"font-style: italic;\" >&lt;int64&gt;</td>\n      <td style=\"font-style: italic;\" >&lt;float64&gt;</td>\n      <td style=\"font-style: italic;\" >&lt;float64&gt;</td>\n    </tr>\n    <tr>\n      <th>54</th>\n      <td>UF SILVEIROS E RIO COVO</td>\n      <td>0302FE</td>\n      <td>2020-12</td>\n      <td>2</td>\n      <td>220343.825</td>\n      <td>764479.434</td>\n    </tr>\n    <tr>\n      <th>306</th>\n      <td>BRAGANCA</td>\n      <td>NaN</td>\n      <td>2022-09</td>\n      <td>1</td>\n      <td>1592032.703</td>\n      <td>NaN</td>\n    </tr>\n    <tr>\n      <th>307</th>\n      <td>LEIRIA</td>\n      <td>NaN</td>\n      <td>2021-01</td>\n      <td>1</td>\n      <td>424767.852</td>\n      <td>NaN</td>\n    </tr>\n    <tr>\n      <th>601</th>\n      <td>UF VILA COVA E FEITOS</td>\n      <td>0302FH</td>\n      <td>2020-11</td>\n      <td>2</td>\n      <td>30892.035</td>\n      <td>320573.732</td>\n    </tr>\n    <tr>\n      <th>...</th>\n      <td>...</td>\n      <td>...</td>\n      <td>...</td>\n      <td>...</td>\n      <td>...</td>\n      <td>...</td>\n    </tr>\n    <tr>\n      <th>853</th>\n      <td>VIANA DO CASTELO</td>\n      <td>NaN</td>\n      <td>2023-11</td>\n      <td>1</td>\n      <td>793447.660</td>\n      <td>NaN</td>\n    </tr>\n    <tr>\n      <th>106883</th>\n      <td>FARO</td>\n      <td>NaN</td>\n      <td>2020-11</td>\n      <td>1</td>\n      <td>116700.611</td>\n      <td>NaN</td>\n    </tr>\n    <tr>\n      <th>106971</th>\n      <td>UF QUINTIAES E AGUIAR</td>\n      <td>0302FC</td>\n      <td>2021-07</td>\n      <td>1</td>\n      <td>183766.045</td>\n      <td>NaN</td>\n    </tr>\n    <tr>\n      <th>107007</th>\n      <td>UF QUINTIAES E AGUIAR</td>\n      <td>0302FC</td>\n      <td>2022-09</td>\n      <td>1</td>\n      <td>133894.320</td>\n      <td>NaN</td>\n    </tr>\n    <tr>\n      <th>107036</th>\n      <td>PORTO</td>\n      <td>NaN</td>\n      <td>2023-03</td>\n      <td>1</td>\n      <td>1681405.105</td>\n      <td>NaN</td>\n    </tr>\n    <tr>\n      <th>107102</th>\n      <td>PORTALEGRE</td>\n      <td>NaN</td>\n      <td>2023-05</td>\n      <td>1</td>\n      <td>213250.553</td>\n      <td>NaN</td>\n    </tr>\n  </tbody>\n</table>\n<p>814 rows × 6 columns</p>\n</div>\n"
     },
     "execution_count": 59,
     "metadata": {},
     "output_type": "execute_result"
    }
   ],
   "source": [
    "from datar.base import grepl\n",
    "\n",
    "pcc = pd.DataFrame(parish_code_count)\n",
    "pcc.loc[~grepl(r\"\\d\\d\\d\\d\\d\\d\", pcc.parish_code), :]"
   ],
   "metadata": {
    "collapsed": false,
    "ExecuteTime": {
     "end_time": "2024-02-15T13:06:03.607874900Z",
     "start_time": "2024-02-15T13:06:02.424820700Z"
    }
   },
   "id": "5a55f4890fd5e7a4",
   "execution_count": 59
  },
  {
   "cell_type": "markdown",
   "source": [
    "2 tipos de erros de parish:\n",
    "- repetidos (mesma data e id com energias diferentes)\n",
    "- Concelho na freguesia (se calhar e a media?)\n",
    "\n",
    "Os ids estao em base maior que 10 ptt e preciso transferir isso tmb se for necessario"
   ],
   "metadata": {
    "collapsed": false
   },
   "id": "41262da46892635f"
  },
  {
   "cell_type": "code",
   "outputs": [
    {
     "data": {
      "text/plain": "<re.Match object; span=(0, 6), match='010101'>"
     },
     "execution_count": 50,
     "metadata": {},
     "output_type": "execute_result"
    }
   ],
   "source": [
    "import re\n",
    "pattern = re.compile(r\"\\d\\d\\d\\d\\d\\d\")\n",
    "pattern.match(\"010101\")"
   ],
   "metadata": {
    "collapsed": false,
    "ExecuteTime": {
     "end_time": "2024-02-15T12:32:07.425520800Z",
     "start_time": "2024-02-15T12:32:07.419419600Z"
    }
   },
   "id": "e4df4af443ce74a9",
   "execution_count": 50
  }
 ],
 "metadata": {
  "kernelspec": {
   "display_name": "Python 3",
   "language": "python",
   "name": "python3"
  },
  "language_info": {
   "codemirror_mode": {
    "name": "ipython",
    "version": 2
   },
   "file_extension": ".py",
   "mimetype": "text/x-python",
   "name": "python",
   "nbconvert_exporter": "python",
   "pygments_lexer": "ipython2",
   "version": "2.7.6"
  }
 },
 "nbformat": 4,
 "nbformat_minor": 5
}
