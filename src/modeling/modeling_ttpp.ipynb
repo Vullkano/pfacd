{
 "cells": [
  {
   "cell_type": "code",
   "outputs": [
    {
     "data": {
      "text/plain": "     codigo_do_relatorio           concelho data_do_incidente nivel_de_tensao  \\\n0      EDPD_2018_JAN_T_1             ALMADA        2018-01-02              MT   \n1      EDPD_2018_JAN_T_2              SERTA        2018-01-02              MT   \n2      EDPD_2018_JAN_T_3         FELGUEIRAS        2018-01-04              MT   \n3      EDPD_2018_JAN_T_4      TORRES-VEDRAS        2018-01-05              BT   \n4      EDPD_2018_JAN_T_5               NISA        2018-01-09              MT   \n...                  ...                ...               ...             ...   \n2917  EDPD_2020_DEZ_T_21             POMBAL        2020-12-24              MT   \n2918  EDPD_2020_DEZ_T_22  VILA-NOVA-DE-GAIA        2020-12-30              MT   \n2919  EDPD_2020_DEZ_T_23          ALBUFEIRA        2020-12-28              MT   \n2920  EDPD_2020_DEZ_T_24       CASTRO-MARIM        2020-12-28              MT   \n2921  EDPD_2020_DEZ_T_25            OURIQUE        2020-12-29              MT   \n\n          causa_do_incidente duracao_incidente_min_  n_º_clientes_afetados  \\\n0                 Escavações                     55                    828   \n1           Abate De Árvores                    163                    549   \n2     Deslizamento De Terras                    596                   3459   \n3                   Veículos                    178                    102   \n4                       Aves                    119                   1731   \n...                      ...                    ...                    ...   \n2917        Abate De Árvores                    139                   2517   \n2918                    Aves                     81                   3641   \n2919              Escavações                     81                   3175   \n2920                Veículos                    239                    591   \n2921                    Aves                    129                      1   \n\n      tiepi_mt_min_  saifi_mt_#_  saidi_mt_min_  ...   sen_mes   cos_mes  \\\n0          0.002935     0.000044       0.002456  ...  0.207912  0.978148   \n1          0.002933     0.000177       0.016501  ...  0.207912  0.978148   \n2          0.019228     0.000266       0.035905  ...  0.207912  0.978148   \n3          0.000000     0.000000       0.000000  ...  0.207912  0.978148   \n4          0.004422     0.000155       0.010038  ...  0.207912  0.978148   \n...             ...          ...            ...  ...       ...       ...   \n2917       0.005941     0.000461       0.017245  ...  0.587785 -0.809017   \n2918       0.011914     0.000290       0.011131  ...  0.587785 -0.809017   \n2919       0.005974     0.000086       0.005940  ...  0.587785 -0.809017   \n2920       0.006928     0.000054       0.011528  ...  0.587785 -0.809017   \n2921       0.000394     0.000011       0.001386  ...  0.587785 -0.809017   \n\n      t_med  t_max   t_min  dd_med  dd_ffx  ff_med  ff_max     pr_qtd  \n0     10.70  17.40   2.600  278.25  289.50     2.0   7.800   0.000000  \n1     10.60  13.80   6.200  249.00  270.00     2.8   8.100   0.000000  \n2     14.00  14.80  12.900  197.00  180.00     3.9  14.400   4.000000  \n3     12.40  15.10   9.100  288.00  225.00     3.6  13.900  13.200000  \n4      4.90   7.80   2.200  137.00  118.00     4.1  15.400  15.900000  \n...     ...    ...     ...     ...     ...     ...     ...        ...  \n2917   7.90  12.20   2.100    7.00  351.00     1.7   7.600   0.000000  \n2918   4.45   9.05   0.275  239.00  186.25     1.5   4.825   0.787500  \n2919  13.20  15.30   7.700  285.00  293.00     5.8  14.100   0.100000  \n2920  13.20  15.30   7.700  285.00  293.00     5.8  14.100   0.100000  \n2921   7.40  12.40   3.400  280.00  344.00     3.9   9.500   0.766667  \n\n[2922 rows x 48 columns]",
      "text/html": "<div>\n<style scoped>\n    .dataframe tbody tr th:only-of-type {\n        vertical-align: middle;\n    }\n\n    .dataframe tbody tr th {\n        vertical-align: top;\n    }\n\n    .dataframe thead th {\n        text-align: right;\n    }\n</style>\n<table border=\"1\" class=\"dataframe\">\n  <thead>\n    <tr style=\"text-align: right;\">\n      <th></th>\n      <th>codigo_do_relatorio</th>\n      <th>concelho</th>\n      <th>data_do_incidente</th>\n      <th>nivel_de_tensao</th>\n      <th>causa_do_incidente</th>\n      <th>duracao_incidente_min_</th>\n      <th>n_º_clientes_afetados</th>\n      <th>tiepi_mt_min_</th>\n      <th>saifi_mt_#_</th>\n      <th>saidi_mt_min_</th>\n      <th>...</th>\n      <th>sen_mes</th>\n      <th>cos_mes</th>\n      <th>t_med</th>\n      <th>t_max</th>\n      <th>t_min</th>\n      <th>dd_med</th>\n      <th>dd_ffx</th>\n      <th>ff_med</th>\n      <th>ff_max</th>\n      <th>pr_qtd</th>\n    </tr>\n  </thead>\n  <tbody>\n    <tr>\n      <th>0</th>\n      <td>EDPD_2018_JAN_T_1</td>\n      <td>ALMADA</td>\n      <td>2018-01-02</td>\n      <td>MT</td>\n      <td>Escavações</td>\n      <td>55</td>\n      <td>828</td>\n      <td>0.002935</td>\n      <td>0.000044</td>\n      <td>0.002456</td>\n      <td>...</td>\n      <td>0.207912</td>\n      <td>0.978148</td>\n      <td>10.70</td>\n      <td>17.40</td>\n      <td>2.600</td>\n      <td>278.25</td>\n      <td>289.50</td>\n      <td>2.0</td>\n      <td>7.800</td>\n      <td>0.000000</td>\n    </tr>\n    <tr>\n      <th>1</th>\n      <td>EDPD_2018_JAN_T_2</td>\n      <td>SERTA</td>\n      <td>2018-01-02</td>\n      <td>MT</td>\n      <td>Abate De Árvores</td>\n      <td>163</td>\n      <td>549</td>\n      <td>0.002933</td>\n      <td>0.000177</td>\n      <td>0.016501</td>\n      <td>...</td>\n      <td>0.207912</td>\n      <td>0.978148</td>\n      <td>10.60</td>\n      <td>13.80</td>\n      <td>6.200</td>\n      <td>249.00</td>\n      <td>270.00</td>\n      <td>2.8</td>\n      <td>8.100</td>\n      <td>0.000000</td>\n    </tr>\n    <tr>\n      <th>2</th>\n      <td>EDPD_2018_JAN_T_3</td>\n      <td>FELGUEIRAS</td>\n      <td>2018-01-04</td>\n      <td>MT</td>\n      <td>Deslizamento De Terras</td>\n      <td>596</td>\n      <td>3459</td>\n      <td>0.019228</td>\n      <td>0.000266</td>\n      <td>0.035905</td>\n      <td>...</td>\n      <td>0.207912</td>\n      <td>0.978148</td>\n      <td>14.00</td>\n      <td>14.80</td>\n      <td>12.900</td>\n      <td>197.00</td>\n      <td>180.00</td>\n      <td>3.9</td>\n      <td>14.400</td>\n      <td>4.000000</td>\n    </tr>\n    <tr>\n      <th>3</th>\n      <td>EDPD_2018_JAN_T_4</td>\n      <td>TORRES-VEDRAS</td>\n      <td>2018-01-05</td>\n      <td>BT</td>\n      <td>Veículos</td>\n      <td>178</td>\n      <td>102</td>\n      <td>0.000000</td>\n      <td>0.000000</td>\n      <td>0.000000</td>\n      <td>...</td>\n      <td>0.207912</td>\n      <td>0.978148</td>\n      <td>12.40</td>\n      <td>15.10</td>\n      <td>9.100</td>\n      <td>288.00</td>\n      <td>225.00</td>\n      <td>3.6</td>\n      <td>13.900</td>\n      <td>13.200000</td>\n    </tr>\n    <tr>\n      <th>4</th>\n      <td>EDPD_2018_JAN_T_5</td>\n      <td>NISA</td>\n      <td>2018-01-09</td>\n      <td>MT</td>\n      <td>Aves</td>\n      <td>119</td>\n      <td>1731</td>\n      <td>0.004422</td>\n      <td>0.000155</td>\n      <td>0.010038</td>\n      <td>...</td>\n      <td>0.207912</td>\n      <td>0.978148</td>\n      <td>4.90</td>\n      <td>7.80</td>\n      <td>2.200</td>\n      <td>137.00</td>\n      <td>118.00</td>\n      <td>4.1</td>\n      <td>15.400</td>\n      <td>15.900000</td>\n    </tr>\n    <tr>\n      <th>...</th>\n      <td>...</td>\n      <td>...</td>\n      <td>...</td>\n      <td>...</td>\n      <td>...</td>\n      <td>...</td>\n      <td>...</td>\n      <td>...</td>\n      <td>...</td>\n      <td>...</td>\n      <td>...</td>\n      <td>...</td>\n      <td>...</td>\n      <td>...</td>\n      <td>...</td>\n      <td>...</td>\n      <td>...</td>\n      <td>...</td>\n      <td>...</td>\n      <td>...</td>\n      <td>...</td>\n    </tr>\n    <tr>\n      <th>2917</th>\n      <td>EDPD_2020_DEZ_T_21</td>\n      <td>POMBAL</td>\n      <td>2020-12-24</td>\n      <td>MT</td>\n      <td>Abate De Árvores</td>\n      <td>139</td>\n      <td>2517</td>\n      <td>0.005941</td>\n      <td>0.000461</td>\n      <td>0.017245</td>\n      <td>...</td>\n      <td>0.587785</td>\n      <td>-0.809017</td>\n      <td>7.90</td>\n      <td>12.20</td>\n      <td>2.100</td>\n      <td>7.00</td>\n      <td>351.00</td>\n      <td>1.7</td>\n      <td>7.600</td>\n      <td>0.000000</td>\n    </tr>\n    <tr>\n      <th>2918</th>\n      <td>EDPD_2020_DEZ_T_22</td>\n      <td>VILA-NOVA-DE-GAIA</td>\n      <td>2020-12-30</td>\n      <td>MT</td>\n      <td>Aves</td>\n      <td>81</td>\n      <td>3641</td>\n      <td>0.011914</td>\n      <td>0.000290</td>\n      <td>0.011131</td>\n      <td>...</td>\n      <td>0.587785</td>\n      <td>-0.809017</td>\n      <td>4.45</td>\n      <td>9.05</td>\n      <td>0.275</td>\n      <td>239.00</td>\n      <td>186.25</td>\n      <td>1.5</td>\n      <td>4.825</td>\n      <td>0.787500</td>\n    </tr>\n    <tr>\n      <th>2919</th>\n      <td>EDPD_2020_DEZ_T_23</td>\n      <td>ALBUFEIRA</td>\n      <td>2020-12-28</td>\n      <td>MT</td>\n      <td>Escavações</td>\n      <td>81</td>\n      <td>3175</td>\n      <td>0.005974</td>\n      <td>0.000086</td>\n      <td>0.005940</td>\n      <td>...</td>\n      <td>0.587785</td>\n      <td>-0.809017</td>\n      <td>13.20</td>\n      <td>15.30</td>\n      <td>7.700</td>\n      <td>285.00</td>\n      <td>293.00</td>\n      <td>5.8</td>\n      <td>14.100</td>\n      <td>0.100000</td>\n    </tr>\n    <tr>\n      <th>2920</th>\n      <td>EDPD_2020_DEZ_T_24</td>\n      <td>CASTRO-MARIM</td>\n      <td>2020-12-28</td>\n      <td>MT</td>\n      <td>Veículos</td>\n      <td>239</td>\n      <td>591</td>\n      <td>0.006928</td>\n      <td>0.000054</td>\n      <td>0.011528</td>\n      <td>...</td>\n      <td>0.587785</td>\n      <td>-0.809017</td>\n      <td>13.20</td>\n      <td>15.30</td>\n      <td>7.700</td>\n      <td>285.00</td>\n      <td>293.00</td>\n      <td>5.8</td>\n      <td>14.100</td>\n      <td>0.100000</td>\n    </tr>\n    <tr>\n      <th>2921</th>\n      <td>EDPD_2020_DEZ_T_25</td>\n      <td>OURIQUE</td>\n      <td>2020-12-29</td>\n      <td>MT</td>\n      <td>Aves</td>\n      <td>129</td>\n      <td>1</td>\n      <td>0.000394</td>\n      <td>0.000011</td>\n      <td>0.001386</td>\n      <td>...</td>\n      <td>0.587785</td>\n      <td>-0.809017</td>\n      <td>7.40</td>\n      <td>12.40</td>\n      <td>3.400</td>\n      <td>280.00</td>\n      <td>344.00</td>\n      <td>3.9</td>\n      <td>9.500</td>\n      <td>0.766667</td>\n    </tr>\n  </tbody>\n</table>\n<p>2922 rows × 48 columns</p>\n</div>"
     },
     "execution_count": 2,
     "metadata": {},
     "output_type": "execute_result"
    }
   ],
   "source": [
    "import numpy as np\n",
    "from pyprojroot.here import here\n",
    "import pandas as pd\n",
    "from pyarrow import feather\n",
    "import janitor\n",
    "from janitor import clean_names\n",
    "\n",
    "groups = {\n",
    "  \"populacao\": [\"densidade_populacional\", \"populacao_residente\"],\n",
    "  \"setor\": [[\"setor_primario\", \"setor_secundario\", \"setor_terciario\"], [\"perc_prim\", \"perc_sec\"]],\n",
    "  \"causas\": [\"classe_da_causa_6\", \"causa_do_incidente\", \"classe_da_causa_4\"],\n",
    "  \"direcao do vento\" : [[\"dd_med\", \"dd_ffx\"], [\"dd_med_sin\", \"dd_med_cos\", \"dd_ffx_sin\", \"dd_ffx_cos\"]],\n",
    "\n",
    "  # TODO falta aquilo da altitude e tal\n",
    "}\n",
    "variables_to_not_use = [\"codigo_do_relatorio\", \"distrito\", \"perc_terc\"]\n",
    "\n",
    "\n",
    "# import data/EventosSemAltitudeETal.feather\n",
    "df = feather.read_feather(here(\"data/EventosSemAltitudeETal.feather\"))\n",
    "df = clean_names(df)\n",
    "df"
   ],
   "metadata": {
    "collapsed": false,
    "ExecuteTime": {
     "end_time": "2024-05-27T01:47:49.350051Z",
     "start_time": "2024-05-27T01:47:48.682132Z"
    }
   },
   "id": "6641313379b4255d",
   "execution_count": 2
  },
  {
   "cell_type": "code",
   "outputs": [
    {
     "data": {
      "text/plain": "119547037146038801333356"
     },
     "execution_count": 3,
     "metadata": {},
     "output_type": "execute_result"
    }
   ],
   "source": [
    "# read here(\"data/taxi.pkl\")\n",
    "dset = pd.read_pickle(here(\"data/taxi.pkl\"))\n",
    "dset"
   ],
   "metadata": {
    "collapsed": true,
    "ExecuteTime": {
     "end_time": "2024-05-27T01:47:51.010135Z",
     "start_time": "2024-05-27T01:47:51.005607Z"
    }
   },
   "id": "initial_id",
   "execution_count": 3
  },
  {
   "cell_type": "code",
   "outputs": [
    {
     "data": {
      "text/plain": "(tensor([[ 0.0422],\n         [ 0.1492],\n         [ 0.3919],\n         [ 0.4531],\n         [ 0.5975],\n         [ 1.0069],\n         [ 2.7178],\n         [ 3.0292],\n         [ 3.0425],\n         [ 3.4753],\n         [ 4.0200],\n         [ 7.2511],\n         [ 8.6031],\n         [ 9.5233],\n         [ 9.7911],\n         [ 9.9797],\n         [ 9.9822],\n         [11.0653],\n         [11.1733],\n         [11.2728],\n         [11.5547],\n         [11.5961],\n         [11.6761],\n         [12.1731],\n         [12.5228],\n         [12.7886],\n         [12.9022],\n         [12.9356],\n         [13.0131],\n         [13.1903],\n         [13.5981],\n         [13.6864],\n         [13.7278],\n         [14.0697],\n         [14.2944],\n         [14.4328],\n         [14.4578],\n         [14.9981],\n         [15.0844],\n         [15.3019],\n         [15.3844],\n         [15.4253],\n         [15.7714],\n         [15.9889],\n         [16.1469],\n         [16.2131],\n         [16.5147],\n         [17.2897],\n         [17.5628],\n         [17.6803],\n         [17.9728],\n         [18.5608],\n         [18.6944],\n         [18.9681],\n         [19.0444],\n         [19.8078],\n         [20.6981],\n         [21.0350],\n         [21.0603],\n         [21.9444],\n         [21.9542],\n         [23.3736],\n         [24.0000],\n         [24.0000],\n         [24.0000],\n         [24.0000],\n         [24.0000],\n         [24.0000],\n         [24.0000],\n         [24.0000],\n         [24.0000],\n         [24.0000],\n         [24.0000],\n         [24.0000],\n         [24.0000],\n         [24.0000],\n         [24.0000],\n         [24.0000],\n         [24.0000],\n         [24.0000],\n         [24.0000],\n         [24.0000],\n         [24.0000],\n         [24.0000],\n         [24.0000],\n         [24.0000],\n         [24.0000],\n         [24.0000],\n         [24.0000],\n         [24.0000],\n         [24.0000],\n         [24.0000],\n         [24.0000],\n         [24.0000],\n         [24.0000],\n         [24.0000],\n         [24.0000],\n         [24.0000],\n         [24.0000],\n         [24.0000],\n         [24.0000],\n         [24.0000],\n         [24.0000],\n         [24.0000],\n         [24.0000],\n         [24.0000],\n         [24.0000],\n         [24.0000],\n         [24.0000],\n         [24.0000],\n         [24.0000],\n         [24.0000],\n         [24.0000],\n         [24.0000],\n         [24.0000],\n         [24.0000],\n         [24.0000],\n         [24.0000],\n         [24.0000],\n         [24.0000],\n         [24.0000],\n         [24.0000],\n         [24.0000],\n         [24.0000],\n         [24.0000],\n         [24.0000],\n         [24.0000],\n         [24.0000],\n         [24.0000],\n         [24.0000],\n         [24.0000],\n         [24.0000],\n         [24.0000],\n         [24.0000],\n         [24.0000],\n         [24.0000],\n         [24.0000],\n         [24.0000],\n         [24.0000],\n         [24.0000],\n         [24.0000]]),\n tensor([[1.],\n         [1.],\n         [1.],\n         [1.],\n         [1.],\n         [1.],\n         [1.],\n         [1.],\n         [1.],\n         [1.],\n         [1.],\n         [1.],\n         [1.],\n         [1.],\n         [1.],\n         [1.],\n         [1.],\n         [1.],\n         [1.],\n         [1.],\n         [1.],\n         [1.],\n         [1.],\n         [1.],\n         [1.],\n         [1.],\n         [1.],\n         [1.],\n         [1.],\n         [1.],\n         [1.],\n         [1.],\n         [1.],\n         [1.],\n         [1.],\n         [1.],\n         [1.],\n         [1.],\n         [1.],\n         [1.],\n         [1.],\n         [1.],\n         [1.],\n         [1.],\n         [1.],\n         [1.],\n         [1.],\n         [1.],\n         [1.],\n         [1.],\n         [1.],\n         [1.],\n         [1.],\n         [1.],\n         [1.],\n         [1.],\n         [1.],\n         [1.],\n         [1.],\n         [1.],\n         [1.],\n         [1.],\n         [0.],\n         [0.],\n         [0.],\n         [0.],\n         [0.],\n         [0.],\n         [0.],\n         [0.],\n         [0.],\n         [0.],\n         [0.],\n         [0.],\n         [0.],\n         [0.],\n         [0.],\n         [0.],\n         [0.],\n         [0.],\n         [0.],\n         [0.],\n         [0.],\n         [0.],\n         [0.],\n         [0.],\n         [0.],\n         [0.],\n         [0.],\n         [0.],\n         [0.],\n         [0.],\n         [0.],\n         [0.],\n         [0.],\n         [0.],\n         [0.],\n         [0.],\n         [0.],\n         [0.],\n         [0.],\n         [0.],\n         [0.],\n         [0.],\n         [0.],\n         [0.],\n         [0.],\n         [0.],\n         [0.],\n         [0.],\n         [0.],\n         [0.],\n         [0.],\n         [0.],\n         [0.],\n         [0.],\n         [0.],\n         [0.],\n         [0.],\n         [0.],\n         [0.],\n         [0.],\n         [0.],\n         [0.],\n         [0.],\n         [0.],\n         [0.],\n         [0.],\n         [0.],\n         [0.],\n         [0.],\n         [0.],\n         [0.],\n         [0.],\n         [0.],\n         [0.],\n         [0.],\n         [0.],\n         [0.],\n         [0.],\n         [0.]]))"
     },
     "execution_count": 4,
     "metadata": {},
     "output_type": "execute_result"
    }
   ],
   "source": [
    "import torch\n",
    "map_location=torch.device('cpu')\n",
    "import ttpp\n",
    "dset = ttpp.data.load_dataset('taxi')\n",
    "dset[2]"
   ],
   "metadata": {
    "collapsed": false,
    "ExecuteTime": {
     "end_time": "2024-05-27T01:59:36.554640Z",
     "start_time": "2024-05-27T01:59:36.534643Z"
    }
   },
   "id": "27303a1654f4727f",
   "execution_count": 4
  }
 ],
 "metadata": {
  "kernelspec": {
   "display_name": "Python 3",
   "language": "python",
   "name": "python3"
  },
  "language_info": {
   "codemirror_mode": {
    "name": "ipython",
    "version": 2
   },
   "file_extension": ".py",
   "mimetype": "text/x-python",
   "name": "python",
   "nbconvert_exporter": "python",
   "pygments_lexer": "ipython2",
   "version": "2.7.6"
  }
 },
 "nbformat": 4,
 "nbformat_minor": 5
}
