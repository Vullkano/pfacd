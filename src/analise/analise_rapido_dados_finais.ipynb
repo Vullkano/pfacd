{
 "cells": [
  {
   "cell_type": "code",
   "execution_count": 139,
   "id": "initial_id",
   "metadata": {
    "collapsed": true,
    "ExecuteTime": {
     "end_time": "2024-05-26T02:14:20.307799Z",
     "start_time": "2024-05-26T02:14:20.268380Z"
    }
   },
   "outputs": [
    {
     "data": {
      "text/plain": "      codigo_do_relatorio                concelho data_do_incidente  \\\n0       EDPD_2018_JAN_T_1                  ALMADA        2018-01-02   \n1       EDPD_2018_JAN_T_2                   SERTA        2018-01-02   \n2       EDPD_2018_JAN_T_3              FELGUEIRAS        2018-01-04   \n3       EDPD_2018_JAN_T_4           TORRES-VEDRAS        2018-01-05   \n4       EDPD_2018_JAN_T_5                    NISA        2018-01-09   \n...                   ...                     ...               ...   \n7723   EDPD_2017_NOV_T_62                    OVAR        2017-11-29   \n7724   EDPD_2017_NOV_T_63    SANTA-MARIA-DA-FEIRA        2017-11-03   \n7725   EDPD_2017_NOV_T_64    SANTA-MARIA-DA-FEIRA        2017-11-23   \n7726   EDPD_2017_NOV_T_65                ALMEIRIM        2017-11-03   \n7727  IGI_2017_DEZ_TC_001  VILA-NOVA-DE-FAMALICAO        2017-12-10   \n\n     nivel_de_tensao             causa_do_incidente duracao_incidente_min_  \\\n0                 MT                     Escavações                     55   \n1                 MT               Abate De Árvores                    163   \n2                 MT         Deslizamento De Terras                    596   \n3                 BT                       Veículos                    178   \n4                 MT                           Aves                    119   \n...              ...                            ...                    ...   \n7723              BT                       Veículos                    220   \n7724              BT                       Veículos                     92   \n7725              BT                       Veículos                    121   \n7726              BT   Descarga Atmosférica Directa                    154   \n7727      AT, MT, BT  Vento Intensidade Excepcional                   2440   \n\n      n_º_clientes_afetados  tiepi_mt_min_  saifi_mt_#_  saidi_mt_min_  ...  \\\n0                       828       0.002935     0.000044       0.002456  ...   \n1                       549       0.002933     0.000177       0.016501  ...   \n2                      3459       0.019228     0.000266       0.035905  ...   \n3                       102       0.000000     0.000000       0.000000  ...   \n4                      1731       0.004422     0.000155       0.010038  ...   \n...                     ...            ...          ...            ...  ...   \n7723                      2       0.000000     0.000000       0.000000  ...   \n7724                      1       0.000000     0.000000       0.000000  ...   \n7725                      1       0.000000     0.000000       0.000000  ...   \n7726                      1       0.000000     0.000000       0.000000  ...   \n7727                1058005      17.100000     0.330000      29.300000  ...   \n\n      pr_qtd  count_zonaa  count_zonab count_zonac total_concelho_zonas  \\\n0        0.0          102           63          14                  179   \n1        0.0            0            8          29                   37   \n2        4.0            0           32          13                   45   \n3       13.2            0           27          40                   67   \n4       15.9            0            5           6                   11   \n...      ...          ...          ...         ...                  ...   \n7723     0.0            0           38          18                   56   \n7724     NaN            0           32          36                   68   \n7725     8.1            0           32          36                   68   \n7726     NaN            0           26           6                   32   \n7727     NaN            0           49          39                   88   \n\n     percentagem_zonaa percentagem_zonab  percentagem_zonac  \\\n0             0.569832          0.351955           0.078212   \n1             0.000000          0.216216           0.783784   \n2             0.000000          0.711111           0.288889   \n3             0.000000          0.402985           0.597015   \n4             0.000000          0.454545           0.545455   \n...                ...               ...                ...   \n7723          0.000000          0.678571           0.321429   \n7724          0.000000          0.470588           0.529412   \n7725          0.000000          0.470588           0.529412   \n7726          0.000000          0.812500           0.187500   \n7727          0.000000          0.556818           0.443182   \n\n      soma_degree_rede_concelho  n_subestacoes_concelho  \n0                          17.0                     7.0  \n1                           1.0                     1.0  \n2                           1.0                     2.0  \n3                           6.0                     6.0  \n4                           0.0                     2.0  \n...                         ...                     ...  \n7723                        4.0                     2.0  \n7724                       10.0                     7.0  \n7725                       10.0                     7.0  \n7726                        1.0                     1.0  \n7727                        7.0                     4.0  \n\n[7728 rows x 63 columns]",
      "text/html": "<div>\n<style scoped>\n    .dataframe tbody tr th:only-of-type {\n        vertical-align: middle;\n    }\n\n    .dataframe tbody tr th {\n        vertical-align: top;\n    }\n\n    .dataframe thead th {\n        text-align: right;\n    }\n</style>\n<table border=\"1\" class=\"dataframe\">\n  <thead>\n    <tr style=\"text-align: right;\">\n      <th></th>\n      <th>codigo_do_relatorio</th>\n      <th>concelho</th>\n      <th>data_do_incidente</th>\n      <th>nivel_de_tensao</th>\n      <th>causa_do_incidente</th>\n      <th>duracao_incidente_min_</th>\n      <th>n_º_clientes_afetados</th>\n      <th>tiepi_mt_min_</th>\n      <th>saifi_mt_#_</th>\n      <th>saidi_mt_min_</th>\n      <th>...</th>\n      <th>pr_qtd</th>\n      <th>count_zonaa</th>\n      <th>count_zonab</th>\n      <th>count_zonac</th>\n      <th>total_concelho_zonas</th>\n      <th>percentagem_zonaa</th>\n      <th>percentagem_zonab</th>\n      <th>percentagem_zonac</th>\n      <th>soma_degree_rede_concelho</th>\n      <th>n_subestacoes_concelho</th>\n    </tr>\n  </thead>\n  <tbody>\n    <tr>\n      <th>0</th>\n      <td>EDPD_2018_JAN_T_1</td>\n      <td>ALMADA</td>\n      <td>2018-01-02</td>\n      <td>MT</td>\n      <td>Escavações</td>\n      <td>55</td>\n      <td>828</td>\n      <td>0.002935</td>\n      <td>0.000044</td>\n      <td>0.002456</td>\n      <td>...</td>\n      <td>0.0</td>\n      <td>102</td>\n      <td>63</td>\n      <td>14</td>\n      <td>179</td>\n      <td>0.569832</td>\n      <td>0.351955</td>\n      <td>0.078212</td>\n      <td>17.0</td>\n      <td>7.0</td>\n    </tr>\n    <tr>\n      <th>1</th>\n      <td>EDPD_2018_JAN_T_2</td>\n      <td>SERTA</td>\n      <td>2018-01-02</td>\n      <td>MT</td>\n      <td>Abate De Árvores</td>\n      <td>163</td>\n      <td>549</td>\n      <td>0.002933</td>\n      <td>0.000177</td>\n      <td>0.016501</td>\n      <td>...</td>\n      <td>0.0</td>\n      <td>0</td>\n      <td>8</td>\n      <td>29</td>\n      <td>37</td>\n      <td>0.000000</td>\n      <td>0.216216</td>\n      <td>0.783784</td>\n      <td>1.0</td>\n      <td>1.0</td>\n    </tr>\n    <tr>\n      <th>2</th>\n      <td>EDPD_2018_JAN_T_3</td>\n      <td>FELGUEIRAS</td>\n      <td>2018-01-04</td>\n      <td>MT</td>\n      <td>Deslizamento De Terras</td>\n      <td>596</td>\n      <td>3459</td>\n      <td>0.019228</td>\n      <td>0.000266</td>\n      <td>0.035905</td>\n      <td>...</td>\n      <td>4.0</td>\n      <td>0</td>\n      <td>32</td>\n      <td>13</td>\n      <td>45</td>\n      <td>0.000000</td>\n      <td>0.711111</td>\n      <td>0.288889</td>\n      <td>1.0</td>\n      <td>2.0</td>\n    </tr>\n    <tr>\n      <th>3</th>\n      <td>EDPD_2018_JAN_T_4</td>\n      <td>TORRES-VEDRAS</td>\n      <td>2018-01-05</td>\n      <td>BT</td>\n      <td>Veículos</td>\n      <td>178</td>\n      <td>102</td>\n      <td>0.000000</td>\n      <td>0.000000</td>\n      <td>0.000000</td>\n      <td>...</td>\n      <td>13.2</td>\n      <td>0</td>\n      <td>27</td>\n      <td>40</td>\n      <td>67</td>\n      <td>0.000000</td>\n      <td>0.402985</td>\n      <td>0.597015</td>\n      <td>6.0</td>\n      <td>6.0</td>\n    </tr>\n    <tr>\n      <th>4</th>\n      <td>EDPD_2018_JAN_T_5</td>\n      <td>NISA</td>\n      <td>2018-01-09</td>\n      <td>MT</td>\n      <td>Aves</td>\n      <td>119</td>\n      <td>1731</td>\n      <td>0.004422</td>\n      <td>0.000155</td>\n      <td>0.010038</td>\n      <td>...</td>\n      <td>15.9</td>\n      <td>0</td>\n      <td>5</td>\n      <td>6</td>\n      <td>11</td>\n      <td>0.000000</td>\n      <td>0.454545</td>\n      <td>0.545455</td>\n      <td>0.0</td>\n      <td>2.0</td>\n    </tr>\n    <tr>\n      <th>...</th>\n      <td>...</td>\n      <td>...</td>\n      <td>...</td>\n      <td>...</td>\n      <td>...</td>\n      <td>...</td>\n      <td>...</td>\n      <td>...</td>\n      <td>...</td>\n      <td>...</td>\n      <td>...</td>\n      <td>...</td>\n      <td>...</td>\n      <td>...</td>\n      <td>...</td>\n      <td>...</td>\n      <td>...</td>\n      <td>...</td>\n      <td>...</td>\n      <td>...</td>\n      <td>...</td>\n    </tr>\n    <tr>\n      <th>7723</th>\n      <td>EDPD_2017_NOV_T_62</td>\n      <td>OVAR</td>\n      <td>2017-11-29</td>\n      <td>BT</td>\n      <td>Veículos</td>\n      <td>220</td>\n      <td>2</td>\n      <td>0.000000</td>\n      <td>0.000000</td>\n      <td>0.000000</td>\n      <td>...</td>\n      <td>0.0</td>\n      <td>0</td>\n      <td>38</td>\n      <td>18</td>\n      <td>56</td>\n      <td>0.000000</td>\n      <td>0.678571</td>\n      <td>0.321429</td>\n      <td>4.0</td>\n      <td>2.0</td>\n    </tr>\n    <tr>\n      <th>7724</th>\n      <td>EDPD_2017_NOV_T_63</td>\n      <td>SANTA-MARIA-DA-FEIRA</td>\n      <td>2017-11-03</td>\n      <td>BT</td>\n      <td>Veículos</td>\n      <td>92</td>\n      <td>1</td>\n      <td>0.000000</td>\n      <td>0.000000</td>\n      <td>0.000000</td>\n      <td>...</td>\n      <td>NaN</td>\n      <td>0</td>\n      <td>32</td>\n      <td>36</td>\n      <td>68</td>\n      <td>0.000000</td>\n      <td>0.470588</td>\n      <td>0.529412</td>\n      <td>10.0</td>\n      <td>7.0</td>\n    </tr>\n    <tr>\n      <th>7725</th>\n      <td>EDPD_2017_NOV_T_64</td>\n      <td>SANTA-MARIA-DA-FEIRA</td>\n      <td>2017-11-23</td>\n      <td>BT</td>\n      <td>Veículos</td>\n      <td>121</td>\n      <td>1</td>\n      <td>0.000000</td>\n      <td>0.000000</td>\n      <td>0.000000</td>\n      <td>...</td>\n      <td>8.1</td>\n      <td>0</td>\n      <td>32</td>\n      <td>36</td>\n      <td>68</td>\n      <td>0.000000</td>\n      <td>0.470588</td>\n      <td>0.529412</td>\n      <td>10.0</td>\n      <td>7.0</td>\n    </tr>\n    <tr>\n      <th>7726</th>\n      <td>EDPD_2017_NOV_T_65</td>\n      <td>ALMEIRIM</td>\n      <td>2017-11-03</td>\n      <td>BT</td>\n      <td>Descarga Atmosférica Directa</td>\n      <td>154</td>\n      <td>1</td>\n      <td>0.000000</td>\n      <td>0.000000</td>\n      <td>0.000000</td>\n      <td>...</td>\n      <td>NaN</td>\n      <td>0</td>\n      <td>26</td>\n      <td>6</td>\n      <td>32</td>\n      <td>0.000000</td>\n      <td>0.812500</td>\n      <td>0.187500</td>\n      <td>1.0</td>\n      <td>1.0</td>\n    </tr>\n    <tr>\n      <th>7727</th>\n      <td>IGI_2017_DEZ_TC_001</td>\n      <td>VILA-NOVA-DE-FAMALICAO</td>\n      <td>2017-12-10</td>\n      <td>AT, MT, BT</td>\n      <td>Vento Intensidade Excepcional</td>\n      <td>2440</td>\n      <td>1058005</td>\n      <td>17.100000</td>\n      <td>0.330000</td>\n      <td>29.300000</td>\n      <td>...</td>\n      <td>NaN</td>\n      <td>0</td>\n      <td>49</td>\n      <td>39</td>\n      <td>88</td>\n      <td>0.000000</td>\n      <td>0.556818</td>\n      <td>0.443182</td>\n      <td>7.0</td>\n      <td>4.0</td>\n    </tr>\n  </tbody>\n</table>\n<p>7728 rows × 63 columns</p>\n</div>"
     },
     "execution_count": 139,
     "metadata": {},
     "output_type": "execute_result"
    }
   ],
   "source": [
    "import numpy as np\n",
    "from pyprojroot.here import here\n",
    "import pandas as pd\n",
    "from pyarrow import feather\n",
    "import janitor\n",
    "from janitor import clean_names\n",
    "\n",
    "eventos = janitor.clean_names(feather.read_feather(here(\"data/Eventos.feather\")))\n",
    "eventos"
   ]
  },
  {
   "cell_type": "markdown",
   "source": [
    "# Incendios"
   ],
   "metadata": {
    "collapsed": false
   },
   "id": "b5ae29a6dd996fc9"
  },
  {
   "cell_type": "code",
   "outputs": [
    {
     "data": {
      "text/plain": "(21, 38)"
     },
     "execution_count": 140,
     "metadata": {},
     "output_type": "execute_result"
    }
   ],
   "source": [
    "list(eventos.columns).index('bibliotecas_e_arquivos'), list(eventos.columns).index('duracao_minutos')\n",
    "# (21, 38)"
   ],
   "metadata": {
    "collapsed": false,
    "ExecuteTime": {
     "end_time": "2024-05-26T02:14:20.451729Z",
     "start_time": "2024-05-26T02:14:20.448501Z"
    }
   },
   "id": "e01c1110efd89082",
   "execution_count": 140
  },
  {
   "cell_type": "code",
   "outputs": [
    {
     "data": {
      "text/plain": "      codigo_do_relatorio                concelho data_do_incidente  \\\n0       EDPD_2018_JAN_T_1                  ALMADA        2018-01-02   \n1       EDPD_2018_JAN_T_2                   SERTA        2018-01-02   \n2       EDPD_2018_JAN_T_3              FELGUEIRAS        2018-01-04   \n3       EDPD_2018_JAN_T_4           TORRES-VEDRAS        2018-01-05   \n4       EDPD_2018_JAN_T_5                    NISA        2018-01-09   \n...                   ...                     ...               ...   \n7723   EDPD_2017_NOV_T_62                    OVAR        2017-11-29   \n7724   EDPD_2017_NOV_T_63    SANTA-MARIA-DA-FEIRA        2017-11-03   \n7725   EDPD_2017_NOV_T_64    SANTA-MARIA-DA-FEIRA        2017-11-23   \n7726   EDPD_2017_NOV_T_65                ALMEIRIM        2017-11-03   \n7727  IGI_2017_DEZ_TC_001  VILA-NOVA-DE-FAMALICAO        2017-12-10   \n\n     nivel_de_tensao             causa_do_incidente duracao_incidente_min_  \\\n0                 MT                     Escavações                     55   \n1                 MT               Abate De Árvores                    163   \n2                 MT         Deslizamento De Terras                    596   \n3                 BT                       Veículos                    178   \n4                 MT                           Aves                    119   \n...              ...                            ...                    ...   \n7723              BT                       Veículos                    220   \n7724              BT                       Veículos                     92   \n7725              BT                       Veículos                    121   \n7726              BT   Descarga Atmosférica Directa                    154   \n7727      AT, MT, BT  Vento Intensidade Excepcional                   2440   \n\n      n_º_clientes_afetados  tiepi_mt_min_  saifi_mt_#_  saidi_mt_min_  ...  \\\n0                       828       0.002935     0.000044       0.002456  ...   \n1                       549       0.002933     0.000177       0.016501  ...   \n2                      3459       0.019228     0.000266       0.035905  ...   \n3                       102       0.000000     0.000000       0.000000  ...   \n4                      1731       0.004422     0.000155       0.010038  ...   \n...                     ...            ...          ...            ...  ...   \n7723                      2       0.000000     0.000000       0.000000  ...   \n7724                      1       0.000000     0.000000       0.000000  ...   \n7725                      1       0.000000     0.000000       0.000000  ...   \n7726                      1       0.000000     0.000000       0.000000  ...   \n7727                1058005      17.100000     0.330000      29.300000  ...   \n\n      pr_qtd  count_zonaa  count_zonab count_zonac total_concelho_zonas  \\\n0        0.0          102           63          14                  179   \n1        0.0            0            8          29                   37   \n2        4.0            0           32          13                   45   \n3       13.2            0           27          40                   67   \n4       15.9            0            5           6                   11   \n...      ...          ...          ...         ...                  ...   \n7723     0.0            0           38          18                   56   \n7724     NaN            0           32          36                   68   \n7725     8.1            0           32          36                   68   \n7726     NaN            0           26           6                   32   \n7727     NaN            0           49          39                   88   \n\n     percentagem_zonaa percentagem_zonab  percentagem_zonac  \\\n0             0.569832          0.351955           0.078212   \n1             0.000000          0.216216           0.783784   \n2             0.000000          0.711111           0.288889   \n3             0.000000          0.402985           0.597015   \n4             0.000000          0.454545           0.545455   \n...                ...               ...                ...   \n7723          0.000000          0.678571           0.321429   \n7724          0.000000          0.470588           0.529412   \n7725          0.000000          0.470588           0.529412   \n7726          0.000000          0.812500           0.187500   \n7727          0.000000          0.556818           0.443182   \n\n      soma_degree_rede_concelho  n_subestacoes_concelho  \n0                          17.0                     7.0  \n1                           1.0                     1.0  \n2                           1.0                     2.0  \n3                           6.0                     6.0  \n4                           0.0                     2.0  \n...                         ...                     ...  \n7723                        4.0                     2.0  \n7724                       10.0                     7.0  \n7725                       10.0                     7.0  \n7726                        1.0                     1.0  \n7727                        7.0                     4.0  \n\n[7728 rows x 45 columns]",
      "text/html": "<div>\n<style scoped>\n    .dataframe tbody tr th:only-of-type {\n        vertical-align: middle;\n    }\n\n    .dataframe tbody tr th {\n        vertical-align: top;\n    }\n\n    .dataframe thead th {\n        text-align: right;\n    }\n</style>\n<table border=\"1\" class=\"dataframe\">\n  <thead>\n    <tr style=\"text-align: right;\">\n      <th></th>\n      <th>codigo_do_relatorio</th>\n      <th>concelho</th>\n      <th>data_do_incidente</th>\n      <th>nivel_de_tensao</th>\n      <th>causa_do_incidente</th>\n      <th>duracao_incidente_min_</th>\n      <th>n_º_clientes_afetados</th>\n      <th>tiepi_mt_min_</th>\n      <th>saifi_mt_#_</th>\n      <th>saidi_mt_min_</th>\n      <th>...</th>\n      <th>pr_qtd</th>\n      <th>count_zonaa</th>\n      <th>count_zonab</th>\n      <th>count_zonac</th>\n      <th>total_concelho_zonas</th>\n      <th>percentagem_zonaa</th>\n      <th>percentagem_zonab</th>\n      <th>percentagem_zonac</th>\n      <th>soma_degree_rede_concelho</th>\n      <th>n_subestacoes_concelho</th>\n    </tr>\n  </thead>\n  <tbody>\n    <tr>\n      <th>0</th>\n      <td>EDPD_2018_JAN_T_1</td>\n      <td>ALMADA</td>\n      <td>2018-01-02</td>\n      <td>MT</td>\n      <td>Escavações</td>\n      <td>55</td>\n      <td>828</td>\n      <td>0.002935</td>\n      <td>0.000044</td>\n      <td>0.002456</td>\n      <td>...</td>\n      <td>0.0</td>\n      <td>102</td>\n      <td>63</td>\n      <td>14</td>\n      <td>179</td>\n      <td>0.569832</td>\n      <td>0.351955</td>\n      <td>0.078212</td>\n      <td>17.0</td>\n      <td>7.0</td>\n    </tr>\n    <tr>\n      <th>1</th>\n      <td>EDPD_2018_JAN_T_2</td>\n      <td>SERTA</td>\n      <td>2018-01-02</td>\n      <td>MT</td>\n      <td>Abate De Árvores</td>\n      <td>163</td>\n      <td>549</td>\n      <td>0.002933</td>\n      <td>0.000177</td>\n      <td>0.016501</td>\n      <td>...</td>\n      <td>0.0</td>\n      <td>0</td>\n      <td>8</td>\n      <td>29</td>\n      <td>37</td>\n      <td>0.000000</td>\n      <td>0.216216</td>\n      <td>0.783784</td>\n      <td>1.0</td>\n      <td>1.0</td>\n    </tr>\n    <tr>\n      <th>2</th>\n      <td>EDPD_2018_JAN_T_3</td>\n      <td>FELGUEIRAS</td>\n      <td>2018-01-04</td>\n      <td>MT</td>\n      <td>Deslizamento De Terras</td>\n      <td>596</td>\n      <td>3459</td>\n      <td>0.019228</td>\n      <td>0.000266</td>\n      <td>0.035905</td>\n      <td>...</td>\n      <td>4.0</td>\n      <td>0</td>\n      <td>32</td>\n      <td>13</td>\n      <td>45</td>\n      <td>0.000000</td>\n      <td>0.711111</td>\n      <td>0.288889</td>\n      <td>1.0</td>\n      <td>2.0</td>\n    </tr>\n    <tr>\n      <th>3</th>\n      <td>EDPD_2018_JAN_T_4</td>\n      <td>TORRES-VEDRAS</td>\n      <td>2018-01-05</td>\n      <td>BT</td>\n      <td>Veículos</td>\n      <td>178</td>\n      <td>102</td>\n      <td>0.000000</td>\n      <td>0.000000</td>\n      <td>0.000000</td>\n      <td>...</td>\n      <td>13.2</td>\n      <td>0</td>\n      <td>27</td>\n      <td>40</td>\n      <td>67</td>\n      <td>0.000000</td>\n      <td>0.402985</td>\n      <td>0.597015</td>\n      <td>6.0</td>\n      <td>6.0</td>\n    </tr>\n    <tr>\n      <th>4</th>\n      <td>EDPD_2018_JAN_T_5</td>\n      <td>NISA</td>\n      <td>2018-01-09</td>\n      <td>MT</td>\n      <td>Aves</td>\n      <td>119</td>\n      <td>1731</td>\n      <td>0.004422</td>\n      <td>0.000155</td>\n      <td>0.010038</td>\n      <td>...</td>\n      <td>15.9</td>\n      <td>0</td>\n      <td>5</td>\n      <td>6</td>\n      <td>11</td>\n      <td>0.000000</td>\n      <td>0.454545</td>\n      <td>0.545455</td>\n      <td>0.0</td>\n      <td>2.0</td>\n    </tr>\n    <tr>\n      <th>...</th>\n      <td>...</td>\n      <td>...</td>\n      <td>...</td>\n      <td>...</td>\n      <td>...</td>\n      <td>...</td>\n      <td>...</td>\n      <td>...</td>\n      <td>...</td>\n      <td>...</td>\n      <td>...</td>\n      <td>...</td>\n      <td>...</td>\n      <td>...</td>\n      <td>...</td>\n      <td>...</td>\n      <td>...</td>\n      <td>...</td>\n      <td>...</td>\n      <td>...</td>\n      <td>...</td>\n    </tr>\n    <tr>\n      <th>7723</th>\n      <td>EDPD_2017_NOV_T_62</td>\n      <td>OVAR</td>\n      <td>2017-11-29</td>\n      <td>BT</td>\n      <td>Veículos</td>\n      <td>220</td>\n      <td>2</td>\n      <td>0.000000</td>\n      <td>0.000000</td>\n      <td>0.000000</td>\n      <td>...</td>\n      <td>0.0</td>\n      <td>0</td>\n      <td>38</td>\n      <td>18</td>\n      <td>56</td>\n      <td>0.000000</td>\n      <td>0.678571</td>\n      <td>0.321429</td>\n      <td>4.0</td>\n      <td>2.0</td>\n    </tr>\n    <tr>\n      <th>7724</th>\n      <td>EDPD_2017_NOV_T_63</td>\n      <td>SANTA-MARIA-DA-FEIRA</td>\n      <td>2017-11-03</td>\n      <td>BT</td>\n      <td>Veículos</td>\n      <td>92</td>\n      <td>1</td>\n      <td>0.000000</td>\n      <td>0.000000</td>\n      <td>0.000000</td>\n      <td>...</td>\n      <td>NaN</td>\n      <td>0</td>\n      <td>32</td>\n      <td>36</td>\n      <td>68</td>\n      <td>0.000000</td>\n      <td>0.470588</td>\n      <td>0.529412</td>\n      <td>10.0</td>\n      <td>7.0</td>\n    </tr>\n    <tr>\n      <th>7725</th>\n      <td>EDPD_2017_NOV_T_64</td>\n      <td>SANTA-MARIA-DA-FEIRA</td>\n      <td>2017-11-23</td>\n      <td>BT</td>\n      <td>Veículos</td>\n      <td>121</td>\n      <td>1</td>\n      <td>0.000000</td>\n      <td>0.000000</td>\n      <td>0.000000</td>\n      <td>...</td>\n      <td>8.1</td>\n      <td>0</td>\n      <td>32</td>\n      <td>36</td>\n      <td>68</td>\n      <td>0.000000</td>\n      <td>0.470588</td>\n      <td>0.529412</td>\n      <td>10.0</td>\n      <td>7.0</td>\n    </tr>\n    <tr>\n      <th>7726</th>\n      <td>EDPD_2017_NOV_T_65</td>\n      <td>ALMEIRIM</td>\n      <td>2017-11-03</td>\n      <td>BT</td>\n      <td>Descarga Atmosférica Directa</td>\n      <td>154</td>\n      <td>1</td>\n      <td>0.000000</td>\n      <td>0.000000</td>\n      <td>0.000000</td>\n      <td>...</td>\n      <td>NaN</td>\n      <td>0</td>\n      <td>26</td>\n      <td>6</td>\n      <td>32</td>\n      <td>0.000000</td>\n      <td>0.812500</td>\n      <td>0.187500</td>\n      <td>1.0</td>\n      <td>1.0</td>\n    </tr>\n    <tr>\n      <th>7727</th>\n      <td>IGI_2017_DEZ_TC_001</td>\n      <td>VILA-NOVA-DE-FAMALICAO</td>\n      <td>2017-12-10</td>\n      <td>AT, MT, BT</td>\n      <td>Vento Intensidade Excepcional</td>\n      <td>2440</td>\n      <td>1058005</td>\n      <td>17.100000</td>\n      <td>0.330000</td>\n      <td>29.300000</td>\n      <td>...</td>\n      <td>NaN</td>\n      <td>0</td>\n      <td>49</td>\n      <td>39</td>\n      <td>88</td>\n      <td>0.000000</td>\n      <td>0.556818</td>\n      <td>0.443182</td>\n      <td>7.0</td>\n      <td>4.0</td>\n    </tr>\n  </tbody>\n</table>\n<p>7728 rows × 45 columns</p>\n</div>"
     },
     "execution_count": 141,
     "metadata": {},
     "output_type": "execute_result"
    }
   ],
   "source": [
    "# drop columns between bibliotecas_e_arquivos e duracao_minutos\n",
    "eventos = eventos.drop(columns=eventos.columns[21:39])\n",
    "eventos"
   ],
   "metadata": {
    "collapsed": false,
    "ExecuteTime": {
     "end_time": "2024-05-26T02:14:20.482398Z",
     "start_time": "2024-05-26T02:14:20.464199Z"
    }
   },
   "id": "7c21cb6a067891bd",
   "execution_count": 141
  },
  {
   "cell_type": "markdown",
   "source": [
    "# Duplicados"
   ],
   "metadata": {
    "collapsed": false
   },
   "id": "d8b1a9ba9b972527"
  },
  {
   "cell_type": "code",
   "outputs": [
    {
     "data": {
      "text/plain": "Empty DataFrame\nColumns: [codigo_do_relatorio, concelho, data_do_incidente, nivel_de_tensao, causa_do_incidente, duracao_incidente_min_, n_º_clientes_afetados, tiepi_mt_min_, saifi_mt_#_, saidi_mt_min_, end_mwh_, saifi_bt_#_, saidi_bt_min_, qualidade_de_energia_eletrica, qualidade_de_servico_comercial, fundamentacao, decisao, dia, mes, ano, distrito, densidade_populacional, populacao_residente, setor_primario, setor_secundario, setor_terciario, indice_de_envelhecimento, rural, t_med, t_max, t_min, dd_med, dd_ffx, ff_med, ff_max, pr_qtd, count_zonaa, count_zonab, count_zonac, total_concelho_zonas, percentagem_zonaa, percentagem_zonab, percentagem_zonac, soma_degree_rede_concelho, n_subestacoes_concelho]\nIndex: []\n\n[0 rows x 45 columns]",
      "text/html": "<div>\n<style scoped>\n    .dataframe tbody tr th:only-of-type {\n        vertical-align: middle;\n    }\n\n    .dataframe tbody tr th {\n        vertical-align: top;\n    }\n\n    .dataframe thead th {\n        text-align: right;\n    }\n</style>\n<table border=\"1\" class=\"dataframe\">\n  <thead>\n    <tr style=\"text-align: right;\">\n      <th></th>\n      <th>codigo_do_relatorio</th>\n      <th>concelho</th>\n      <th>data_do_incidente</th>\n      <th>nivel_de_tensao</th>\n      <th>causa_do_incidente</th>\n      <th>duracao_incidente_min_</th>\n      <th>n_º_clientes_afetados</th>\n      <th>tiepi_mt_min_</th>\n      <th>saifi_mt_#_</th>\n      <th>saidi_mt_min_</th>\n      <th>...</th>\n      <th>pr_qtd</th>\n      <th>count_zonaa</th>\n      <th>count_zonab</th>\n      <th>count_zonac</th>\n      <th>total_concelho_zonas</th>\n      <th>percentagem_zonaa</th>\n      <th>percentagem_zonab</th>\n      <th>percentagem_zonac</th>\n      <th>soma_degree_rede_concelho</th>\n      <th>n_subestacoes_concelho</th>\n    </tr>\n  </thead>\n  <tbody>\n  </tbody>\n</table>\n<p>0 rows × 45 columns</p>\n</div>"
     },
     "execution_count": 142,
     "metadata": {},
     "output_type": "execute_result"
    }
   ],
   "source": [
    "# print lines with dups\n",
    "eventos = eventos.drop_duplicates()\n",
    "eventos[eventos.duplicated(subset=['codigo_do_relatorio'], keep=False)]"
   ],
   "metadata": {
    "collapsed": false,
    "ExecuteTime": {
     "end_time": "2024-05-26T02:14:20.505822Z",
     "start_time": "2024-05-26T02:14:20.483368Z"
    }
   },
   "id": "e066e86115b9ebcf",
   "execution_count": 142
  },
  {
   "cell_type": "markdown",
   "source": [
    "# Fundamentacao"
   ],
   "metadata": {
    "collapsed": false
   },
   "id": "c2d5da9e8336e413"
  },
  {
   "cell_type": "code",
   "outputs": [
    {
     "data": {
      "text/plain": "                                          fundamentacao\n2396  - Após parecer emitido pela DGEG, conclui-se q...\n5924  - Após parecer emitido pela DGEG, conclui-se q...\n369   - Após parecer emitido pela DGEG, conclui-se q...\n1924  - Após parecer emitido pela DGEG, conclui-se q...\n1875  - Após parecer emitido pela DGEG, conclui-se q...\n...                                                 ...\n1     Reúne condições para aprovação: - Reúne os req...\n23    Reúne condições para aprovação: - Reúne os req...\n25    Reúne condições para aprovação: - Reúne os req...\n6799  Reúne condições para aprovação: -Reúne os requ...\n1089  Reúne condições para aprovação: ‐ Reúne os req...\n\n[640 rows x 1 columns]",
      "text/html": "<div>\n<style scoped>\n    .dataframe tbody tr th:only-of-type {\n        vertical-align: middle;\n    }\n\n    .dataframe tbody tr th {\n        vertical-align: top;\n    }\n\n    .dataframe thead th {\n        text-align: right;\n    }\n</style>\n<table border=\"1\" class=\"dataframe\">\n  <thead>\n    <tr style=\"text-align: right;\">\n      <th></th>\n      <th>fundamentacao</th>\n    </tr>\n  </thead>\n  <tbody>\n    <tr>\n      <th>2396</th>\n      <td>- Após parecer emitido pela DGEG, conclui-se q...</td>\n    </tr>\n    <tr>\n      <th>5924</th>\n      <td>- Após parecer emitido pela DGEG, conclui-se q...</td>\n    </tr>\n    <tr>\n      <th>369</th>\n      <td>- Após parecer emitido pela DGEG, conclui-se q...</td>\n    </tr>\n    <tr>\n      <th>1924</th>\n      <td>- Após parecer emitido pela DGEG, conclui-se q...</td>\n    </tr>\n    <tr>\n      <th>1875</th>\n      <td>- Após parecer emitido pela DGEG, conclui-se q...</td>\n    </tr>\n    <tr>\n      <th>...</th>\n      <td>...</td>\n    </tr>\n    <tr>\n      <th>1</th>\n      <td>Reúne condições para aprovação: - Reúne os req...</td>\n    </tr>\n    <tr>\n      <th>23</th>\n      <td>Reúne condições para aprovação: - Reúne os req...</td>\n    </tr>\n    <tr>\n      <th>25</th>\n      <td>Reúne condições para aprovação: - Reúne os req...</td>\n    </tr>\n    <tr>\n      <th>6799</th>\n      <td>Reúne condições para aprovação: -Reúne os requ...</td>\n    </tr>\n    <tr>\n      <th>1089</th>\n      <td>Reúne condições para aprovação: ‐ Reúne os req...</td>\n    </tr>\n  </tbody>\n</table>\n<p>640 rows × 1 columns</p>\n</div>"
     },
     "execution_count": 143,
     "metadata": {},
     "output_type": "execute_result"
    }
   ],
   "source": [
    "# print distinct fundamentacao\n",
    "\n",
    "fundamentacoes = eventos.drop_duplicates(\"fundamentacao\").select_columns(\"fundamentacao\").sort_values(\"fundamentacao\")\n",
    "fundamentacoes\n"
   ],
   "metadata": {
    "collapsed": false,
    "ExecuteTime": {
     "end_time": "2024-05-26T02:14:20.520829Z",
     "start_time": "2024-05-26T02:14:20.513882Z"
    }
   },
   "id": "34d4c94fc02777c8",
   "execution_count": 143
  },
  {
   "cell_type": "code",
   "outputs": [
    {
     "data": {
      "text/plain": "fundamentacao\nNão reúne condições para aprovação: -Não cumpre o critério <<Provoque uma significativa diminuição da qualidade de serviço prestada>>                                                                                                                                                                                                                                                                                                                          2691\nReúne condições para aprovação: - Reúne os requisitos para classificação - Tem parecer positivo das demais entidades                                                                                                                                                                                                                                                                                                                                           1240\nNão reúne condições para aprovação: - Não cumpre o critério \"Provoque uma significativa diminuição da qualidade de serviço prestada\".                                                                                                                                                                                                                                                                                                                           844\nReúne condições para aprovação: ‐ Reúne os requisitos para classificação ‐ Tem parecer positivo das demais entidades                                                                                                                                                                                                                                                                                                                                            624\nReúne condições para aprovação: - Reúne os requisitos para classificação - Tem parecer positivo das demais entidades\"                                                                                                                                                                                                                                                                                                                                           601\n                                                                                                                                                                                                                                                                                                                                                                                                                                                               ... \nNão reúne condições para aprovação: - Após parecer emitido pela DGEG, conclui-se que o documento não permite, através das figuras, observar a instalação elétrica alvo da referida descarga atmosférica. De referir também que é apresentada a mesma fotografia de um equipamento danificado (isolador rígido), nos relatórios com as ref.as: EDPD_2018_SET_T_2, EDPD_2018_SET_T_6 e EDPD_2018_SET_T_10.                                                          1\nNão reúne condições para aprovação: - Após parecer emitido pela DGEG, conclui-se que o documento não permite, através das figuras, observar a instalação elétrica alvo da referida descarga atmosférica. De referir também que é apresentada a mesma fotografia de um equipamento danificado (isolador rígido), nos relatórios com as ref.as: EDPD_2018_SET_T_20 e EDPD_2018_SET_T_21.                                                                            1\nNão reúne condições para aprovação: - Após parecer emitido pela DGEG, conclui-se que o documento não permite, através das figuras, observar a instalação elétrica alvo da referida descarga atmosférica. Tendo em conta que foi observada a existência da mesma fotografia em vários relatórios, não se considera suficiente a apresentação das imagens dos equipamentos desmontados que não evidenciem a parte da instalação elétrica de que faziam parte.       1\nNão reúne condições para aprovação: - Após parecer emitido pela DGEG, conclui-se que o documento refere-se a um incidente motivado por escavações numa ligação entre o seccionador SECC N00115 VCT e o PTC 5070 VTC, do qual resultou o dano no cabo MT, provocando a interrupção de alimentação aos clientes. No entanto, as fotos apresentadas não trazem evidencias mínimas que nos permitem fazer a avaliação que nos é solicitada.                           1\nNão reúne condições para aprovação: - Após parecer emitido pela DGEG, conclui-se que o relatório não indica o processo de licenciamento, não é feita a localização do incêndio nem são apresentadas evidências dos danos causados na instalação que permitam estabelecer o nexo casual entre o incêndio e os danos.                                                                                                                                               1\nName: count, Length: 640, dtype: int64"
     },
     "execution_count": 144,
     "metadata": {},
     "output_type": "execute_result"
    }
   ],
   "source": [
    "eventos.value_counts(\"fundamentacao\")"
   ],
   "metadata": {
    "collapsed": false,
    "ExecuteTime": {
     "end_time": "2024-05-26T02:14:20.542809Z",
     "start_time": "2024-05-26T02:14:20.535952Z"
    }
   },
   "id": "78544426f414a8c",
   "execution_count": 144
  },
  {
   "cell_type": "code",
   "outputs": [
    {
     "data": {
      "text/plain": "(array(['80.o', '81.o', 'O', 'acordo', 'apresentados', 'artigo', 'cabos',\n        'com', 'cumprimento', 'da', 'disposto', 'dos', 'elementos',\n        'enterrados', 'enterramento', 'evidenciem', 'existência', 'foi',\n        'foram', 'indica', 'licenciamento', 'mínima', 'no', 'processo',\n        'prova', 'segurança', 'suficientes'], dtype='<U13'),\n array(['(', ')', '79o', ';', 'ao', 'art', 'as', 'encontrava',\n        'estabelecidas', 'evidencia', 'longo', 'nas', 'nos', 'passeios',\n        'possível', 'públicas', 'se', 'sido', 'tenham', 'urbanizadas',\n        'valas', 'vias', 'zonas', 'é'], dtype='<U13'))"
     },
     "execution_count": 145,
     "metadata": {},
     "output_type": "execute_result"
    }
   ],
   "source": [
    "from nltk.tokenize import word_tokenize\n",
    "import numpy as np\n",
    "diffs = 2,3\n",
    "\n",
    "tokens = [np.array(word_tokenize(fundamentacao)) for fundamentacao in fundamentacoes.fundamentacao ]\n",
    "dif1 = np.setdiff1d(tokens[diffs[0]], tokens[diffs[1]])\n",
    "dif2 = np.setdiff1d(tokens[diffs[1]], tokens[diffs[0]])\n",
    "dif1, dif2\n"
   ],
   "metadata": {
    "collapsed": false,
    "ExecuteTime": {
     "end_time": "2024-05-26T02:14:20.700655Z",
     "start_time": "2024-05-26T02:14:20.585020Z"
    }
   },
   "id": "19151bea93df6654",
   "execution_count": 145
  },
  {
   "cell_type": "markdown",
   "source": [
    "Lixo"
   ],
   "metadata": {
    "collapsed": false
   },
   "id": "7abaa8edf3afd2cb"
  },
  {
   "cell_type": "code",
   "outputs": [
    {
     "name": "stderr",
     "output_type": "stream",
     "text": [
      "C:\\Users\\Plancha\\AppData\\Local\\Temp\\ipykernel_9208\\3793255187.py:1: SettingWithCopyWarning: \n",
      "A value is trying to be set on a copy of a slice from a DataFrame\n",
      "\n",
      "See the caveats in the documentation: https://pandas.pydata.org/pandas-docs/stable/user_guide/indexing.html#returning-a-view-versus-a-copy\n",
      "  eventos.drop(columns=[\"fundamentacao\"], inplace=True)\n"
     ]
    },
    {
     "data": {
      "text/plain": "      codigo_do_relatorio                concelho data_do_incidente  \\\n0       EDPD_2018_JAN_T_1                  ALMADA        2018-01-02   \n1       EDPD_2018_JAN_T_2                   SERTA        2018-01-02   \n2       EDPD_2018_JAN_T_3              FELGUEIRAS        2018-01-04   \n3       EDPD_2018_JAN_T_4           TORRES-VEDRAS        2018-01-05   \n4       EDPD_2018_JAN_T_5                    NISA        2018-01-09   \n...                   ...                     ...               ...   \n7723   EDPD_2017_NOV_T_62                    OVAR        2017-11-29   \n7724   EDPD_2017_NOV_T_63    SANTA-MARIA-DA-FEIRA        2017-11-03   \n7725   EDPD_2017_NOV_T_64    SANTA-MARIA-DA-FEIRA        2017-11-23   \n7726   EDPD_2017_NOV_T_65                ALMEIRIM        2017-11-03   \n7727  IGI_2017_DEZ_TC_001  VILA-NOVA-DE-FAMALICAO        2017-12-10   \n\n     nivel_de_tensao             causa_do_incidente duracao_incidente_min_  \\\n0                 MT                     Escavações                     55   \n1                 MT               Abate De Árvores                    163   \n2                 MT         Deslizamento De Terras                    596   \n3                 BT                       Veículos                    178   \n4                 MT                           Aves                    119   \n...              ...                            ...                    ...   \n7723              BT                       Veículos                    220   \n7724              BT                       Veículos                     92   \n7725              BT                       Veículos                    121   \n7726              BT   Descarga Atmosférica Directa                    154   \n7727      AT, MT, BT  Vento Intensidade Excepcional                   2440   \n\n      n_º_clientes_afetados  tiepi_mt_min_  saifi_mt_#_  saidi_mt_min_  ...  \\\n0                       828       0.002935     0.000044       0.002456  ...   \n1                       549       0.002933     0.000177       0.016501  ...   \n2                      3459       0.019228     0.000266       0.035905  ...   \n3                       102       0.000000     0.000000       0.000000  ...   \n4                      1731       0.004422     0.000155       0.010038  ...   \n...                     ...            ...          ...            ...  ...   \n7723                      2       0.000000     0.000000       0.000000  ...   \n7724                      1       0.000000     0.000000       0.000000  ...   \n7725                      1       0.000000     0.000000       0.000000  ...   \n7726                      1       0.000000     0.000000       0.000000  ...   \n7727                1058005      17.100000     0.330000      29.300000  ...   \n\n      pr_qtd  count_zonaa  count_zonab count_zonac total_concelho_zonas  \\\n0        0.0          102           63          14                  179   \n1        0.0            0            8          29                   37   \n2        4.0            0           32          13                   45   \n3       13.2            0           27          40                   67   \n4       15.9            0            5           6                   11   \n...      ...          ...          ...         ...                  ...   \n7723     0.0            0           38          18                   56   \n7724     NaN            0           32          36                   68   \n7725     8.1            0           32          36                   68   \n7726     NaN            0           26           6                   32   \n7727     NaN            0           49          39                   88   \n\n     percentagem_zonaa  percentagem_zonab  percentagem_zonac  \\\n0             0.569832           0.351955           0.078212   \n1             0.000000           0.216216           0.783784   \n2             0.000000           0.711111           0.288889   \n3             0.000000           0.402985           0.597015   \n4             0.000000           0.454545           0.545455   \n...                ...                ...                ...   \n7723          0.000000           0.678571           0.321429   \n7724          0.000000           0.470588           0.529412   \n7725          0.000000           0.470588           0.529412   \n7726          0.000000           0.812500           0.187500   \n7727          0.000000           0.556818           0.443182   \n\n      soma_degree_rede_concelho n_subestacoes_concelho  \n0                          17.0                    7.0  \n1                           1.0                    1.0  \n2                           1.0                    2.0  \n3                           6.0                    6.0  \n4                           0.0                    2.0  \n...                         ...                    ...  \n7723                        4.0                    2.0  \n7724                       10.0                    7.0  \n7725                       10.0                    7.0  \n7726                        1.0                    1.0  \n7727                        7.0                    4.0  \n\n[7719 rows x 44 columns]",
      "text/html": "<div>\n<style scoped>\n    .dataframe tbody tr th:only-of-type {\n        vertical-align: middle;\n    }\n\n    .dataframe tbody tr th {\n        vertical-align: top;\n    }\n\n    .dataframe thead th {\n        text-align: right;\n    }\n</style>\n<table border=\"1\" class=\"dataframe\">\n  <thead>\n    <tr style=\"text-align: right;\">\n      <th></th>\n      <th>codigo_do_relatorio</th>\n      <th>concelho</th>\n      <th>data_do_incidente</th>\n      <th>nivel_de_tensao</th>\n      <th>causa_do_incidente</th>\n      <th>duracao_incidente_min_</th>\n      <th>n_º_clientes_afetados</th>\n      <th>tiepi_mt_min_</th>\n      <th>saifi_mt_#_</th>\n      <th>saidi_mt_min_</th>\n      <th>...</th>\n      <th>pr_qtd</th>\n      <th>count_zonaa</th>\n      <th>count_zonab</th>\n      <th>count_zonac</th>\n      <th>total_concelho_zonas</th>\n      <th>percentagem_zonaa</th>\n      <th>percentagem_zonab</th>\n      <th>percentagem_zonac</th>\n      <th>soma_degree_rede_concelho</th>\n      <th>n_subestacoes_concelho</th>\n    </tr>\n  </thead>\n  <tbody>\n    <tr>\n      <th>0</th>\n      <td>EDPD_2018_JAN_T_1</td>\n      <td>ALMADA</td>\n      <td>2018-01-02</td>\n      <td>MT</td>\n      <td>Escavações</td>\n      <td>55</td>\n      <td>828</td>\n      <td>0.002935</td>\n      <td>0.000044</td>\n      <td>0.002456</td>\n      <td>...</td>\n      <td>0.0</td>\n      <td>102</td>\n      <td>63</td>\n      <td>14</td>\n      <td>179</td>\n      <td>0.569832</td>\n      <td>0.351955</td>\n      <td>0.078212</td>\n      <td>17.0</td>\n      <td>7.0</td>\n    </tr>\n    <tr>\n      <th>1</th>\n      <td>EDPD_2018_JAN_T_2</td>\n      <td>SERTA</td>\n      <td>2018-01-02</td>\n      <td>MT</td>\n      <td>Abate De Árvores</td>\n      <td>163</td>\n      <td>549</td>\n      <td>0.002933</td>\n      <td>0.000177</td>\n      <td>0.016501</td>\n      <td>...</td>\n      <td>0.0</td>\n      <td>0</td>\n      <td>8</td>\n      <td>29</td>\n      <td>37</td>\n      <td>0.000000</td>\n      <td>0.216216</td>\n      <td>0.783784</td>\n      <td>1.0</td>\n      <td>1.0</td>\n    </tr>\n    <tr>\n      <th>2</th>\n      <td>EDPD_2018_JAN_T_3</td>\n      <td>FELGUEIRAS</td>\n      <td>2018-01-04</td>\n      <td>MT</td>\n      <td>Deslizamento De Terras</td>\n      <td>596</td>\n      <td>3459</td>\n      <td>0.019228</td>\n      <td>0.000266</td>\n      <td>0.035905</td>\n      <td>...</td>\n      <td>4.0</td>\n      <td>0</td>\n      <td>32</td>\n      <td>13</td>\n      <td>45</td>\n      <td>0.000000</td>\n      <td>0.711111</td>\n      <td>0.288889</td>\n      <td>1.0</td>\n      <td>2.0</td>\n    </tr>\n    <tr>\n      <th>3</th>\n      <td>EDPD_2018_JAN_T_4</td>\n      <td>TORRES-VEDRAS</td>\n      <td>2018-01-05</td>\n      <td>BT</td>\n      <td>Veículos</td>\n      <td>178</td>\n      <td>102</td>\n      <td>0.000000</td>\n      <td>0.000000</td>\n      <td>0.000000</td>\n      <td>...</td>\n      <td>13.2</td>\n      <td>0</td>\n      <td>27</td>\n      <td>40</td>\n      <td>67</td>\n      <td>0.000000</td>\n      <td>0.402985</td>\n      <td>0.597015</td>\n      <td>6.0</td>\n      <td>6.0</td>\n    </tr>\n    <tr>\n      <th>4</th>\n      <td>EDPD_2018_JAN_T_5</td>\n      <td>NISA</td>\n      <td>2018-01-09</td>\n      <td>MT</td>\n      <td>Aves</td>\n      <td>119</td>\n      <td>1731</td>\n      <td>0.004422</td>\n      <td>0.000155</td>\n      <td>0.010038</td>\n      <td>...</td>\n      <td>15.9</td>\n      <td>0</td>\n      <td>5</td>\n      <td>6</td>\n      <td>11</td>\n      <td>0.000000</td>\n      <td>0.454545</td>\n      <td>0.545455</td>\n      <td>0.0</td>\n      <td>2.0</td>\n    </tr>\n    <tr>\n      <th>...</th>\n      <td>...</td>\n      <td>...</td>\n      <td>...</td>\n      <td>...</td>\n      <td>...</td>\n      <td>...</td>\n      <td>...</td>\n      <td>...</td>\n      <td>...</td>\n      <td>...</td>\n      <td>...</td>\n      <td>...</td>\n      <td>...</td>\n      <td>...</td>\n      <td>...</td>\n      <td>...</td>\n      <td>...</td>\n      <td>...</td>\n      <td>...</td>\n      <td>...</td>\n      <td>...</td>\n    </tr>\n    <tr>\n      <th>7723</th>\n      <td>EDPD_2017_NOV_T_62</td>\n      <td>OVAR</td>\n      <td>2017-11-29</td>\n      <td>BT</td>\n      <td>Veículos</td>\n      <td>220</td>\n      <td>2</td>\n      <td>0.000000</td>\n      <td>0.000000</td>\n      <td>0.000000</td>\n      <td>...</td>\n      <td>0.0</td>\n      <td>0</td>\n      <td>38</td>\n      <td>18</td>\n      <td>56</td>\n      <td>0.000000</td>\n      <td>0.678571</td>\n      <td>0.321429</td>\n      <td>4.0</td>\n      <td>2.0</td>\n    </tr>\n    <tr>\n      <th>7724</th>\n      <td>EDPD_2017_NOV_T_63</td>\n      <td>SANTA-MARIA-DA-FEIRA</td>\n      <td>2017-11-03</td>\n      <td>BT</td>\n      <td>Veículos</td>\n      <td>92</td>\n      <td>1</td>\n      <td>0.000000</td>\n      <td>0.000000</td>\n      <td>0.000000</td>\n      <td>...</td>\n      <td>NaN</td>\n      <td>0</td>\n      <td>32</td>\n      <td>36</td>\n      <td>68</td>\n      <td>0.000000</td>\n      <td>0.470588</td>\n      <td>0.529412</td>\n      <td>10.0</td>\n      <td>7.0</td>\n    </tr>\n    <tr>\n      <th>7725</th>\n      <td>EDPD_2017_NOV_T_64</td>\n      <td>SANTA-MARIA-DA-FEIRA</td>\n      <td>2017-11-23</td>\n      <td>BT</td>\n      <td>Veículos</td>\n      <td>121</td>\n      <td>1</td>\n      <td>0.000000</td>\n      <td>0.000000</td>\n      <td>0.000000</td>\n      <td>...</td>\n      <td>8.1</td>\n      <td>0</td>\n      <td>32</td>\n      <td>36</td>\n      <td>68</td>\n      <td>0.000000</td>\n      <td>0.470588</td>\n      <td>0.529412</td>\n      <td>10.0</td>\n      <td>7.0</td>\n    </tr>\n    <tr>\n      <th>7726</th>\n      <td>EDPD_2017_NOV_T_65</td>\n      <td>ALMEIRIM</td>\n      <td>2017-11-03</td>\n      <td>BT</td>\n      <td>Descarga Atmosférica Directa</td>\n      <td>154</td>\n      <td>1</td>\n      <td>0.000000</td>\n      <td>0.000000</td>\n      <td>0.000000</td>\n      <td>...</td>\n      <td>NaN</td>\n      <td>0</td>\n      <td>26</td>\n      <td>6</td>\n      <td>32</td>\n      <td>0.000000</td>\n      <td>0.812500</td>\n      <td>0.187500</td>\n      <td>1.0</td>\n      <td>1.0</td>\n    </tr>\n    <tr>\n      <th>7727</th>\n      <td>IGI_2017_DEZ_TC_001</td>\n      <td>VILA-NOVA-DE-FAMALICAO</td>\n      <td>2017-12-10</td>\n      <td>AT, MT, BT</td>\n      <td>Vento Intensidade Excepcional</td>\n      <td>2440</td>\n      <td>1058005</td>\n      <td>17.100000</td>\n      <td>0.330000</td>\n      <td>29.300000</td>\n      <td>...</td>\n      <td>NaN</td>\n      <td>0</td>\n      <td>49</td>\n      <td>39</td>\n      <td>88</td>\n      <td>0.000000</td>\n      <td>0.556818</td>\n      <td>0.443182</td>\n      <td>7.0</td>\n      <td>4.0</td>\n    </tr>\n  </tbody>\n</table>\n<p>7719 rows × 44 columns</p>\n</div>"
     },
     "execution_count": 146,
     "metadata": {},
     "output_type": "execute_result"
    }
   ],
   "source": [
    "eventos.drop(columns=[\"fundamentacao\"], inplace=True)\n",
    "eventos"
   ],
   "metadata": {
    "collapsed": false,
    "ExecuteTime": {
     "end_time": "2024-05-26T02:14:20.718837Z",
     "start_time": "2024-05-26T02:14:20.701653Z"
    }
   },
   "id": "3948b910df604e10",
   "execution_count": 146
  },
  {
   "cell_type": "markdown",
   "source": [
    "# Nivel de tensao"
   ],
   "metadata": {
    "collapsed": false
   },
   "id": "f680623e29932011"
  },
  {
   "cell_type": "code",
   "outputs": [
    {
     "data": {
      "text/plain": "nivel_de_tensao\nMT                  3761\nBT                  3690\nI                    175\nAT                    78\nAT - Alta tensão      12\nAT, MT, BT             2\neredes                 1\nName: count, dtype: int64"
     },
     "execution_count": 147,
     "metadata": {},
     "output_type": "execute_result"
    }
   ],
   "source": [
    "eventos.value_counts(\"nivel_de_tensao\")"
   ],
   "metadata": {
    "collapsed": false,
    "ExecuteTime": {
     "end_time": "2024-05-26T02:14:20.730871Z",
     "start_time": "2024-05-26T02:14:20.726349Z"
    }
   },
   "id": "73dc5a73826ac71d",
   "execution_count": 147
  },
  {
   "cell_type": "code",
   "outputs": [
    {
     "data": {
      "text/plain": "causa_do_incidente  Abate De Árvores  Animais Não Aves  Aves  \\\nnivel_de_tensao                                                \nAT                                 7                18    27   \nAT - Alta tensão                   0                 5     1   \nAT, MT, BT                         0                 0     0   \nBT                               235                49    35   \nI                                  6                 0     1   \nMT                               761                52  1204   \neredes                             0                 0     0   \n\ncausa_do_incidente  Corpos Estranhos Na Rede  \\\nnivel_de_tensao                                \nAT                                         0   \nAT - Alta tensão                           0   \nAT, MT, BT                                 0   \nBT                                        16   \nI                                          0   \nMT                                       119   \neredes                                     1   \n\ncausa_do_incidente  Desabamento De Muros/Outras Construções  \\\nnivel_de_tensao                                               \nAT                                                        0   \nAT - Alta tensão                                          0   \nAT, MT, BT                                                0   \nBT                                                       13   \nI                                                         0   \nMT                                                        4   \neredes                                                    0   \n\ncausa_do_incidente  Descarga Atmosférica Directa  Deslizamento De Terras  \\\nnivel_de_tensao                                                            \nAT                                             3                       0   \nAT - Alta tensão                               0                       0   \nAT, MT, BT                                     0                       0   \nBT                                            59                      10   \nI                                              2                       4   \nMT                                           299                      11   \neredes                                         0                       0   \n\ncausa_do_incidente  Escavações  Furtos  Incêndio  ...  Malfeitoria/Vandalismo  \\\nnivel_de_tensao                                   ...                           \nAT                           2       1         9  ...                       0   \nAT - Alta tensão             0       0         1  ...                       0   \nAT, MT, BT                   0       0         0  ...                       0   \nBT                         362     227       365  ...                     984   \nI                           26       6         2  ...                      86   \nMT                         620      74        99  ...                     135   \neredes                       0       0         0  ...                       0   \n\ncausa_do_incidente  Neve/Gelo/Granizo Condição Excecional  \\\nnivel_de_tensao                                             \nAT                                                      1   \nAT - Alta tensão                                        0   \nAT, MT, BT                                              0   \nBT                                                      0   \nI                                                       0   \nMT                                                     27   \neredes                                                  0   \n\ncausa_do_incidente  Risco Iminente Pessoas Ou Bens  \\\nnivel_de_tensao                                      \nAT                                               0   \nAT - Alta tensão                                 0   \nAT, MT, BT                                       0   \nBT                                               9   \nI                                                0   \nMT                                              65   \neredes                                           0   \n\ncausa_do_incidente  Rnt - Caso Fortuito/Força Maior/Razão Segurança  \\\nnivel_de_tensao                                                       \nAT                                                                1   \nAT - Alta tensão                                                  0   \nAT, MT, BT                                                        0   \nBT                                                                0   \nI                                                                 0   \nMT                                                                0   \neredes                                                            0   \n\ncausa_do_incidente  Ruptura De Canal. De Fluídos  Sabotagem  Terramoto  \\\nnivel_de_tensao                                                          \nAT                                             0          1          0   \nAT - Alta tensão                               0          0          0   \nAT, MT, BT                                     0          0          0   \nBT                                             1          4          0   \nI                                              0          1          0   \nMT                                             0          7          1   \neredes                                         0          0          0   \n\ncausa_do_incidente  Trabalhos De Terceiros ( Gruas,... )  \\\nnivel_de_tensao                                            \nAT                                                     0   \nAT - Alta tensão                                       0   \nAT, MT, BT                                             0   \nBT                                                    68   \nI                                                      3   \nMT                                                    12   \neredes                                                 0   \n\ncausa_do_incidente  Vento Intensidade Excepcional  Veículos  \nnivel_de_tensao                                              \nAT                                              4         2  \nAT - Alta tensão                                5         0  \nAT, MT, BT                                      2         0  \nBT                                             30      1103  \nI                                               4        30  \nMT                                             43       121  \neredes                                          0         0  \n\n[7 rows x 22 columns]",
      "text/html": "<div>\n<style scoped>\n    .dataframe tbody tr th:only-of-type {\n        vertical-align: middle;\n    }\n\n    .dataframe tbody tr th {\n        vertical-align: top;\n    }\n\n    .dataframe thead th {\n        text-align: right;\n    }\n</style>\n<table border=\"1\" class=\"dataframe\">\n  <thead>\n    <tr style=\"text-align: right;\">\n      <th>causa_do_incidente</th>\n      <th>Abate De Árvores</th>\n      <th>Animais Não Aves</th>\n      <th>Aves</th>\n      <th>Corpos Estranhos Na Rede</th>\n      <th>Desabamento De Muros/Outras Construções</th>\n      <th>Descarga Atmosférica Directa</th>\n      <th>Deslizamento De Terras</th>\n      <th>Escavações</th>\n      <th>Furtos</th>\n      <th>Incêndio</th>\n      <th>...</th>\n      <th>Malfeitoria/Vandalismo</th>\n      <th>Neve/Gelo/Granizo Condição Excecional</th>\n      <th>Risco Iminente Pessoas Ou Bens</th>\n      <th>Rnt - Caso Fortuito/Força Maior/Razão Segurança</th>\n      <th>Ruptura De Canal. De Fluídos</th>\n      <th>Sabotagem</th>\n      <th>Terramoto</th>\n      <th>Trabalhos De Terceiros ( Gruas,... )</th>\n      <th>Vento Intensidade Excepcional</th>\n      <th>Veículos</th>\n    </tr>\n    <tr>\n      <th>nivel_de_tensao</th>\n      <th></th>\n      <th></th>\n      <th></th>\n      <th></th>\n      <th></th>\n      <th></th>\n      <th></th>\n      <th></th>\n      <th></th>\n      <th></th>\n      <th></th>\n      <th></th>\n      <th></th>\n      <th></th>\n      <th></th>\n      <th></th>\n      <th></th>\n      <th></th>\n      <th></th>\n      <th></th>\n      <th></th>\n    </tr>\n  </thead>\n  <tbody>\n    <tr>\n      <th>AT</th>\n      <td>7</td>\n      <td>18</td>\n      <td>27</td>\n      <td>0</td>\n      <td>0</td>\n      <td>3</td>\n      <td>0</td>\n      <td>2</td>\n      <td>1</td>\n      <td>9</td>\n      <td>...</td>\n      <td>0</td>\n      <td>1</td>\n      <td>0</td>\n      <td>1</td>\n      <td>0</td>\n      <td>1</td>\n      <td>0</td>\n      <td>0</td>\n      <td>4</td>\n      <td>2</td>\n    </tr>\n    <tr>\n      <th>AT - Alta tensão</th>\n      <td>0</td>\n      <td>5</td>\n      <td>1</td>\n      <td>0</td>\n      <td>0</td>\n      <td>0</td>\n      <td>0</td>\n      <td>0</td>\n      <td>0</td>\n      <td>1</td>\n      <td>...</td>\n      <td>0</td>\n      <td>0</td>\n      <td>0</td>\n      <td>0</td>\n      <td>0</td>\n      <td>0</td>\n      <td>0</td>\n      <td>0</td>\n      <td>5</td>\n      <td>0</td>\n    </tr>\n    <tr>\n      <th>AT, MT, BT</th>\n      <td>0</td>\n      <td>0</td>\n      <td>0</td>\n      <td>0</td>\n      <td>0</td>\n      <td>0</td>\n      <td>0</td>\n      <td>0</td>\n      <td>0</td>\n      <td>0</td>\n      <td>...</td>\n      <td>0</td>\n      <td>0</td>\n      <td>0</td>\n      <td>0</td>\n      <td>0</td>\n      <td>0</td>\n      <td>0</td>\n      <td>0</td>\n      <td>2</td>\n      <td>0</td>\n    </tr>\n    <tr>\n      <th>BT</th>\n      <td>235</td>\n      <td>49</td>\n      <td>35</td>\n      <td>16</td>\n      <td>13</td>\n      <td>59</td>\n      <td>10</td>\n      <td>362</td>\n      <td>227</td>\n      <td>365</td>\n      <td>...</td>\n      <td>984</td>\n      <td>0</td>\n      <td>9</td>\n      <td>0</td>\n      <td>1</td>\n      <td>4</td>\n      <td>0</td>\n      <td>68</td>\n      <td>30</td>\n      <td>1103</td>\n    </tr>\n    <tr>\n      <th>I</th>\n      <td>6</td>\n      <td>0</td>\n      <td>1</td>\n      <td>0</td>\n      <td>0</td>\n      <td>2</td>\n      <td>4</td>\n      <td>26</td>\n      <td>6</td>\n      <td>2</td>\n      <td>...</td>\n      <td>86</td>\n      <td>0</td>\n      <td>0</td>\n      <td>0</td>\n      <td>0</td>\n      <td>1</td>\n      <td>0</td>\n      <td>3</td>\n      <td>4</td>\n      <td>30</td>\n    </tr>\n    <tr>\n      <th>MT</th>\n      <td>761</td>\n      <td>52</td>\n      <td>1204</td>\n      <td>119</td>\n      <td>4</td>\n      <td>299</td>\n      <td>11</td>\n      <td>620</td>\n      <td>74</td>\n      <td>99</td>\n      <td>...</td>\n      <td>135</td>\n      <td>27</td>\n      <td>65</td>\n      <td>0</td>\n      <td>0</td>\n      <td>7</td>\n      <td>1</td>\n      <td>12</td>\n      <td>43</td>\n      <td>121</td>\n    </tr>\n    <tr>\n      <th>eredes</th>\n      <td>0</td>\n      <td>0</td>\n      <td>0</td>\n      <td>1</td>\n      <td>0</td>\n      <td>0</td>\n      <td>0</td>\n      <td>0</td>\n      <td>0</td>\n      <td>0</td>\n      <td>...</td>\n      <td>0</td>\n      <td>0</td>\n      <td>0</td>\n      <td>0</td>\n      <td>0</td>\n      <td>0</td>\n      <td>0</td>\n      <td>0</td>\n      <td>0</td>\n      <td>0</td>\n    </tr>\n  </tbody>\n</table>\n<p>7 rows × 22 columns</p>\n</div>"
     },
     "execution_count": 148,
     "metadata": {},
     "output_type": "execute_result"
    }
   ],
   "source": [
    "# eventos.value_counts([\"causa_do_incidente\", \"nivel_de_tensao\"])\n",
    "# mesma coisa so que cruzada\n",
    "eventos.pivot_table(index=\"nivel_de_tensao\", columns=\"causa_do_incidente\", aggfunc=\"size\", fill_value=0)"
   ],
   "metadata": {
    "collapsed": false,
    "ExecuteTime": {
     "end_time": "2024-05-26T02:14:20.861891Z",
     "start_time": "2024-05-26T02:14:20.849379Z"
    }
   },
   "id": "f8ed6b6bebaaf909",
   "execution_count": 148
  },
  {
   "cell_type": "code",
   "outputs": [
    {
     "data": {
      "text/plain": "       codigo_do_relatorio              concelho data_do_incidente  \\\n1911  EREDES_2023_NOV_T_14  SANTA-MARIA-DA-FEIRA        2023-11-02   \n\n     nivel_de_tensao        causa_do_incidente duracao_incidente_min_  \\\n1911          eredes  Corpos Estranhos Na Rede                     93   \n\n      n_º_clientes_afetados  tiepi_mt_min_  saifi_mt_#_  saidi_mt_min_  ...  \\\n1911                   3082       0.029244     0.000472       0.023758  ...   \n\n      pr_qtd  count_zonaa  count_zonab count_zonac total_concelho_zonas  \\\n1911    13.8            0           32          36                   68   \n\n     percentagem_zonaa  percentagem_zonab  percentagem_zonac  \\\n1911               0.0           0.470588           0.529412   \n\n      soma_degree_rede_concelho n_subestacoes_concelho  \n1911                       10.0                    7.0  \n\n[1 rows x 44 columns]",
      "text/html": "<div>\n<style scoped>\n    .dataframe tbody tr th:only-of-type {\n        vertical-align: middle;\n    }\n\n    .dataframe tbody tr th {\n        vertical-align: top;\n    }\n\n    .dataframe thead th {\n        text-align: right;\n    }\n</style>\n<table border=\"1\" class=\"dataframe\">\n  <thead>\n    <tr style=\"text-align: right;\">\n      <th></th>\n      <th>codigo_do_relatorio</th>\n      <th>concelho</th>\n      <th>data_do_incidente</th>\n      <th>nivel_de_tensao</th>\n      <th>causa_do_incidente</th>\n      <th>duracao_incidente_min_</th>\n      <th>n_º_clientes_afetados</th>\n      <th>tiepi_mt_min_</th>\n      <th>saifi_mt_#_</th>\n      <th>saidi_mt_min_</th>\n      <th>...</th>\n      <th>pr_qtd</th>\n      <th>count_zonaa</th>\n      <th>count_zonab</th>\n      <th>count_zonac</th>\n      <th>total_concelho_zonas</th>\n      <th>percentagem_zonaa</th>\n      <th>percentagem_zonab</th>\n      <th>percentagem_zonac</th>\n      <th>soma_degree_rede_concelho</th>\n      <th>n_subestacoes_concelho</th>\n    </tr>\n  </thead>\n  <tbody>\n    <tr>\n      <th>1911</th>\n      <td>EREDES_2023_NOV_T_14</td>\n      <td>SANTA-MARIA-DA-FEIRA</td>\n      <td>2023-11-02</td>\n      <td>eredes</td>\n      <td>Corpos Estranhos Na Rede</td>\n      <td>93</td>\n      <td>3082</td>\n      <td>0.029244</td>\n      <td>0.000472</td>\n      <td>0.023758</td>\n      <td>...</td>\n      <td>13.8</td>\n      <td>0</td>\n      <td>32</td>\n      <td>36</td>\n      <td>68</td>\n      <td>0.0</td>\n      <td>0.470588</td>\n      <td>0.529412</td>\n      <td>10.0</td>\n      <td>7.0</td>\n    </tr>\n  </tbody>\n</table>\n<p>1 rows × 44 columns</p>\n</div>"
     },
     "execution_count": 149,
     "metadata": {},
     "output_type": "execute_result"
    }
   ],
   "source": [
    "# check where nivel_de_tensao is eredes\n",
    "eventos[eventos.nivel_de_tensao == \"eredes\"]"
   ],
   "metadata": {
    "collapsed": false,
    "ExecuteTime": {
     "end_time": "2024-05-26T02:14:20.931308Z",
     "start_time": "2024-05-26T02:14:20.919798Z"
    }
   },
   "id": "6b142a300cfa79c7",
   "execution_count": 149
  },
  {
   "cell_type": "code",
   "outputs": [
    {
     "name": "stderr",
     "output_type": "stream",
     "text": [
      "C:\\Users\\Plancha\\AppData\\Local\\Temp\\ipykernel_9208\\3789013546.py:17: SettingWithCopyWarning: \n",
      "A value is trying to be set on a copy of a slice from a DataFrame.\n",
      "Try using .loc[row_indexer,col_indexer] = value instead\n",
      "\n",
      "See the caveats in the documentation: https://pandas.pydata.org/pandas-docs/stable/user_guide/indexing.html#returning-a-view-versus-a-copy\n",
      "  eventos[\"nivel_de_tensao\"] = eventos.nivel_de_tensao.apply(assign_nt)\n"
     ]
    },
    {
     "data": {
      "text/plain": "nivel_de_tensao\nBT          3865\nMT          3762\nAT            90\nAT MT BT       2\nName: count, dtype: int64"
     },
     "execution_count": 150,
     "metadata": {},
     "output_type": "execute_result"
    }
   ],
   "source": [
    "def assign_nt(nivel_de_tensao):\n",
    "  if nivel_de_tensao == \"I\":\n",
    "    return \"BT\"\n",
    "  if nivel_de_tensao == \"eredes\":\n",
    "    return \"MT\"\n",
    "  elif nivel_de_tensao == \"AT, MT, BT\":\n",
    "    return \"AT MT BT\"\n",
    "  elif \"B\" in nivel_de_tensao:\n",
    "    return \"BT\"\n",
    "  elif \"M\" in nivel_de_tensao:\n",
    "    return \"MT\"\n",
    "  elif \"A\" in nivel_de_tensao:\n",
    "    return \"AT\"\n",
    "  else:\n",
    "    raise NotImplementedError(f\"nivel_de_tensao: {nivel_de_tensao}\")\n",
    "  \n",
    "eventos[\"nivel_de_tensao\"] = eventos.nivel_de_tensao.apply(assign_nt)\n",
    "eventos.value_counts(\"nivel_de_tensao\")"
   ],
   "metadata": {
    "collapsed": false,
    "ExecuteTime": {
     "end_time": "2024-05-26T02:14:20.953317Z",
     "start_time": "2024-05-26T02:14:20.941314Z"
    }
   },
   "id": "f1722f8f4b729196",
   "execution_count": 150
  },
  {
   "cell_type": "markdown",
   "source": [
    "# Causa do Incidente"
   ],
   "metadata": {
    "collapsed": false
   },
   "id": "5af0ec70d234a700"
  },
  {
   "cell_type": "code",
   "outputs": [
    {
     "data": {
      "text/plain": "causa_do_incidente\nAves                                               1268\nVeículos                                           1256\nMalfeitoria/Vandalismo                             1205\nEscavações                                         1010\nAbate De Árvores                                   1009\nIncêndio                                            476\nDescarga Atmosférica Directa                        363\nFurtos                                              308\nIntervenções À Superficie                           183\nCorpos Estranhos Na Rede                            136\nAnimais Não Aves                                    124\nVento Intensidade Excepcional                        88\nTrabalhos De Terceiros ( Gruas,... )                 83\nRisco Iminente Pessoas Ou Bens                       74\nInundações Imprevisíveis                             50\nNeve/Gelo/Granizo Condição Excecional                28\nDeslizamento De Terras                               25\nDesabamento De Muros/Outras Construções              17\nSabotagem                                            13\nRnt - Caso Fortuito/Força Maior/Razão Segurança       1\nRuptura De Canal. De Fluídos                          1\nTerramoto                                             1\nName: count, dtype: int64"
     },
     "execution_count": 151,
     "metadata": {},
     "output_type": "execute_result"
    }
   ],
   "source": [
    "# print unique causa_do_incidente\n",
    "eventos.value_counts(\"causa_do_incidente\")"
   ],
   "metadata": {
    "collapsed": false,
    "ExecuteTime": {
     "end_time": "2024-05-26T02:14:21.021878Z",
     "start_time": "2024-05-26T02:14:21.016776Z"
    }
   },
   "id": "7180f59ca8f41170",
   "execution_count": 151
  },
  {
   "cell_type": "code",
   "outputs": [
    {
     "data": {
      "text/plain": "decisao                                          Aprovado  Não Aprovado\ncausa_do_incidente                                                     \nAbate De Árvores                                      632           377\nAnimais Não Aves                                       54            70\nAves                                                 1110           158\nCorpos Estranhos Na Rede                               91            45\nDesabamento De Muros/Outras Construções                 3            14\nDescarga Atmosférica Directa                          160           203\nDeslizamento De Terras                                 10            15\nEscavações                                            198           812\nFurtos                                                 65           243\nIncêndio                                               99           377\nIntervenções À Superficie                              82           101\nInundações Imprevisíveis                               24            26\nMalfeitoria/Vandalismo                                129          1076\nNeve/Gelo/Granizo Condição Excecional                  11            17\nRisco Iminente Pessoas Ou Bens                         54            20\nRnt - Caso Fortuito/Força Maior/Razão Segurança         1             0\nRuptura De Canal. De Fluídos                            0             1\nSabotagem                                               5             8\nTerramoto                                               0             1\nTrabalhos De Terceiros ( Gruas,... )                   11            72\nVento Intensidade Excepcional                          24            64\nVeículos                                              135          1121",
      "text/html": "<div>\n<style scoped>\n    .dataframe tbody tr th:only-of-type {\n        vertical-align: middle;\n    }\n\n    .dataframe tbody tr th {\n        vertical-align: top;\n    }\n\n    .dataframe thead th {\n        text-align: right;\n    }\n</style>\n<table border=\"1\" class=\"dataframe\">\n  <thead>\n    <tr style=\"text-align: right;\">\n      <th>decisao</th>\n      <th>Aprovado</th>\n      <th>Não Aprovado</th>\n    </tr>\n    <tr>\n      <th>causa_do_incidente</th>\n      <th></th>\n      <th></th>\n    </tr>\n  </thead>\n  <tbody>\n    <tr>\n      <th>Abate De Árvores</th>\n      <td>632</td>\n      <td>377</td>\n    </tr>\n    <tr>\n      <th>Animais Não Aves</th>\n      <td>54</td>\n      <td>70</td>\n    </tr>\n    <tr>\n      <th>Aves</th>\n      <td>1110</td>\n      <td>158</td>\n    </tr>\n    <tr>\n      <th>Corpos Estranhos Na Rede</th>\n      <td>91</td>\n      <td>45</td>\n    </tr>\n    <tr>\n      <th>Desabamento De Muros/Outras Construções</th>\n      <td>3</td>\n      <td>14</td>\n    </tr>\n    <tr>\n      <th>Descarga Atmosférica Directa</th>\n      <td>160</td>\n      <td>203</td>\n    </tr>\n    <tr>\n      <th>Deslizamento De Terras</th>\n      <td>10</td>\n      <td>15</td>\n    </tr>\n    <tr>\n      <th>Escavações</th>\n      <td>198</td>\n      <td>812</td>\n    </tr>\n    <tr>\n      <th>Furtos</th>\n      <td>65</td>\n      <td>243</td>\n    </tr>\n    <tr>\n      <th>Incêndio</th>\n      <td>99</td>\n      <td>377</td>\n    </tr>\n    <tr>\n      <th>Intervenções À Superficie</th>\n      <td>82</td>\n      <td>101</td>\n    </tr>\n    <tr>\n      <th>Inundações Imprevisíveis</th>\n      <td>24</td>\n      <td>26</td>\n    </tr>\n    <tr>\n      <th>Malfeitoria/Vandalismo</th>\n      <td>129</td>\n      <td>1076</td>\n    </tr>\n    <tr>\n      <th>Neve/Gelo/Granizo Condição Excecional</th>\n      <td>11</td>\n      <td>17</td>\n    </tr>\n    <tr>\n      <th>Risco Iminente Pessoas Ou Bens</th>\n      <td>54</td>\n      <td>20</td>\n    </tr>\n    <tr>\n      <th>Rnt - Caso Fortuito/Força Maior/Razão Segurança</th>\n      <td>1</td>\n      <td>0</td>\n    </tr>\n    <tr>\n      <th>Ruptura De Canal. De Fluídos</th>\n      <td>0</td>\n      <td>1</td>\n    </tr>\n    <tr>\n      <th>Sabotagem</th>\n      <td>5</td>\n      <td>8</td>\n    </tr>\n    <tr>\n      <th>Terramoto</th>\n      <td>0</td>\n      <td>1</td>\n    </tr>\n    <tr>\n      <th>Trabalhos De Terceiros ( Gruas,... )</th>\n      <td>11</td>\n      <td>72</td>\n    </tr>\n    <tr>\n      <th>Vento Intensidade Excepcional</th>\n      <td>24</td>\n      <td>64</td>\n    </tr>\n    <tr>\n      <th>Veículos</th>\n      <td>135</td>\n      <td>1121</td>\n    </tr>\n  </tbody>\n</table>\n</div>"
     },
     "execution_count": 152,
     "metadata": {},
     "output_type": "execute_result"
    }
   ],
   "source": [
    "eventos.value_counts([\"causa_do_incidente\", \"decisao\"])\n",
    "# mesma coisa so que cruzada\n",
    "eventos.pivot_table(index=\"causa_do_incidente\", columns=\"decisao\", aggfunc=\"size\", fill_value=0)"
   ],
   "metadata": {
    "collapsed": false,
    "ExecuteTime": {
     "end_time": "2024-05-26T02:14:21.059037Z",
     "start_time": "2024-05-26T02:14:21.049039Z"
    }
   },
   "id": "c4a7ce0a8de42e0e",
   "execution_count": 152
  },
  {
   "cell_type": "code",
   "outputs": [
    {
     "name": "stderr",
     "output_type": "stream",
     "text": [
      "C:\\Users\\Plancha\\AppData\\Local\\Temp\\ipykernel_9208\\2113924799.py:26: SettingWithCopyWarning: \n",
      "A value is trying to be set on a copy of a slice from a DataFrame.\n",
      "Try using .loc[row_indexer,col_indexer] = value instead\n",
      "\n",
      "See the caveats in the documentation: https://pandas.pydata.org/pandas-docs/stable/user_guide/indexing.html#returning-a-view-versus-a-copy\n",
      "  eventos['classe_da_causa_4'] = eventos.causa_do_incidente.apply(assign_class)\n"
     ]
    },
    {
     "ename": "KeyError",
     "evalue": "\"No match was returned for 'classe_da_causa'\"",
     "output_type": "error",
     "traceback": [
      "\u001B[1;31m---------------------------------------------------------------------------\u001B[0m",
      "\u001B[1;31mKeyError\u001B[0m                                  Traceback (most recent call last)",
      "File \u001B[1;32m~\\Desktop\\pfacd\\.pixi\\envs\\default\\Lib\\site-packages\\pandas\\core\\indexes\\base.py:3802\u001B[0m, in \u001B[0;36mIndex.get_loc\u001B[1;34m(self, key)\u001B[0m\n\u001B[0;32m   3801\u001B[0m \u001B[38;5;28;01mtry\u001B[39;00m:\n\u001B[1;32m-> 3802\u001B[0m     \u001B[38;5;28;01mreturn\u001B[39;00m \u001B[38;5;28;43mself\u001B[39;49m\u001B[38;5;241;43m.\u001B[39;49m\u001B[43m_engine\u001B[49m\u001B[38;5;241;43m.\u001B[39;49m\u001B[43mget_loc\u001B[49m\u001B[43m(\u001B[49m\u001B[43mcasted_key\u001B[49m\u001B[43m)\u001B[49m\n\u001B[0;32m   3803\u001B[0m \u001B[38;5;28;01mexcept\u001B[39;00m \u001B[38;5;167;01mKeyError\u001B[39;00m \u001B[38;5;28;01mas\u001B[39;00m err:\n",
      "File \u001B[1;32mindex.pyx:153\u001B[0m, in \u001B[0;36mpandas._libs.index.IndexEngine.get_loc\u001B[1;34m()\u001B[0m\n",
      "File \u001B[1;32mindex.pyx:182\u001B[0m, in \u001B[0;36mpandas._libs.index.IndexEngine.get_loc\u001B[1;34m()\u001B[0m\n",
      "File \u001B[1;32mpandas\\\\_libs\\\\hashtable_class_helper.pxi:7081\u001B[0m, in \u001B[0;36mpandas._libs.hashtable.PyObjectHashTable.get_item\u001B[1;34m()\u001B[0m\n",
      "File \u001B[1;32mpandas\\\\_libs\\\\hashtable_class_helper.pxi:7089\u001B[0m, in \u001B[0;36mpandas._libs.hashtable.PyObjectHashTable.get_item\u001B[1;34m()\u001B[0m\n",
      "\u001B[1;31mKeyError\u001B[0m: 'classe_da_causa'",
      "\nThe above exception was the direct cause of the following exception:\n",
      "\u001B[1;31mKeyError\u001B[0m                                  Traceback (most recent call last)",
      "File \u001B[1;32m~\\Desktop\\pfacd\\.pixi\\envs\\default\\Lib\\site-packages\\janitor\\functions\\utils.py:343\u001B[0m, in \u001B[0;36m_index_dispatch\u001B[1;34m(arg, df, axis)\u001B[0m\n\u001B[0;32m    342\u001B[0m \u001B[38;5;28;01mtry\u001B[39;00m:\n\u001B[1;32m--> 343\u001B[0m     \u001B[38;5;28;01mreturn\u001B[39;00m \u001B[43mindex\u001B[49m\u001B[38;5;241;43m.\u001B[39;49m\u001B[43mget_loc\u001B[49m\u001B[43m(\u001B[49m\u001B[43marg\u001B[49m\u001B[43m)\u001B[49m\n\u001B[0;32m    344\u001B[0m \u001B[38;5;28;01mexcept\u001B[39;00m \u001B[38;5;167;01mKeyError\u001B[39;00m \u001B[38;5;28;01mas\u001B[39;00m exc:\n",
      "File \u001B[1;32m~\\Desktop\\pfacd\\.pixi\\envs\\default\\Lib\\site-packages\\pandas\\core\\indexes\\base.py:3809\u001B[0m, in \u001B[0;36mIndex.get_loc\u001B[1;34m(self, key)\u001B[0m\n\u001B[0;32m   3808\u001B[0m         \u001B[38;5;28;01mraise\u001B[39;00m InvalidIndexError(key)\n\u001B[1;32m-> 3809\u001B[0m     \u001B[38;5;28;01mraise\u001B[39;00m \u001B[38;5;167;01mKeyError\u001B[39;00m(key) \u001B[38;5;28;01mfrom\u001B[39;00m \u001B[38;5;21;01merr\u001B[39;00m\n\u001B[0;32m   3810\u001B[0m \u001B[38;5;28;01mexcept\u001B[39;00m \u001B[38;5;167;01mTypeError\u001B[39;00m:\n\u001B[0;32m   3811\u001B[0m     \u001B[38;5;66;03m# If we have a listlike key, _check_indexing_error will raise\u001B[39;00m\n\u001B[0;32m   3812\u001B[0m     \u001B[38;5;66;03m#  InvalidIndexError. Otherwise we fall through and re-raise\u001B[39;00m\n\u001B[0;32m   3813\u001B[0m     \u001B[38;5;66;03m#  the TypeError.\u001B[39;00m\n",
      "\u001B[1;31mKeyError\u001B[0m: 'classe_da_causa'",
      "\nDuring handling of the above exception, another exception occurred:\n",
      "\u001B[1;31mKeyError\u001B[0m                                  Traceback (most recent call last)",
      "File \u001B[1;32m~\\Desktop\\pfacd\\.pixi\\envs\\default\\Lib\\site-packages\\janitor\\functions\\utils.py:268\u001B[0m, in \u001B[0;36m_select_regex\u001B[1;34m(index, arg, source)\u001B[0m\n\u001B[0;32m    267\u001B[0m \u001B[38;5;28;01mif\u001B[39;00m \u001B[38;5;129;01mnot\u001B[39;00m bools\u001B[38;5;241m.\u001B[39many():\n\u001B[1;32m--> 268\u001B[0m     \u001B[38;5;28;01mraise\u001B[39;00m \u001B[38;5;167;01mKeyError\u001B[39;00m(\u001B[38;5;124mf\u001B[39m\u001B[38;5;124m\"\u001B[39m\u001B[38;5;124mNo match was returned for \u001B[39m\u001B[38;5;124m'\u001B[39m\u001B[38;5;132;01m{\u001B[39;00marg\u001B[38;5;132;01m}\u001B[39;00m\u001B[38;5;124m'\u001B[39m\u001B[38;5;124m\"\u001B[39m)\n\u001B[0;32m    269\u001B[0m \u001B[38;5;28;01mreturn\u001B[39;00m bools\n",
      "\u001B[1;31mKeyError\u001B[0m: \"No match was returned for 'classe_da_causa'\"",
      "\nThe above exception was the direct cause of the following exception:\n",
      "\u001B[1;31mKeyError\u001B[0m                                  Traceback (most recent call last)",
      "Cell \u001B[1;32mIn[153], line 27\u001B[0m\n\u001B[0;32m     24\u001B[0m     \u001B[38;5;28;01mraise\u001B[39;00m \u001B[38;5;167;01mNotImplementedError\u001B[39;00m(\u001B[38;5;124mf\u001B[39m\u001B[38;5;124m\"\u001B[39m\u001B[38;5;124mcause: \u001B[39m\u001B[38;5;132;01m{\u001B[39;00mcause\u001B[38;5;132;01m}\u001B[39;00m\u001B[38;5;124m\"\u001B[39m)\n\u001B[0;32m     26\u001B[0m eventos[\u001B[38;5;124m'\u001B[39m\u001B[38;5;124mclasse_da_causa_4\u001B[39m\u001B[38;5;124m'\u001B[39m] \u001B[38;5;241m=\u001B[39m eventos\u001B[38;5;241m.\u001B[39mcausa_do_incidente\u001B[38;5;241m.\u001B[39mapply(assign_class)\n\u001B[1;32m---> 27\u001B[0m \u001B[43meventos\u001B[49m\u001B[38;5;241;43m.\u001B[39;49m\u001B[43mselect_columns\u001B[49m\u001B[43m(\u001B[49m\u001B[38;5;124;43m\"\u001B[39;49m\u001B[38;5;124;43mcausa_do_incidente\u001B[39;49m\u001B[38;5;124;43m\"\u001B[39;49m\u001B[43m,\u001B[49m\u001B[43m \u001B[49m\u001B[38;5;124;43m\"\u001B[39;49m\u001B[38;5;124;43mclasse_da_causa\u001B[39;49m\u001B[38;5;124;43m\"\u001B[39;49m\u001B[43m)\u001B[49m\n",
      "File \u001B[1;32m~\\Desktop\\pfacd\\.pixi\\envs\\default\\Lib\\site-packages\\pandas_flavor\\register.py:157\u001B[0m, in \u001B[0;36mregister_dataframe_method.<locals>.inner.<locals>.AccessorMethod.__call__\u001B[1;34m(self, *args, **kwargs)\u001B[0m\n\u001B[0;32m    155\u001B[0m \u001B[38;5;28;01mglobal\u001B[39;00m method_call_ctx_factory\n\u001B[0;32m    156\u001B[0m \u001B[38;5;28;01mif\u001B[39;00m method_call_ctx_factory \u001B[38;5;129;01mis\u001B[39;00m \u001B[38;5;28;01mNone\u001B[39;00m:\n\u001B[1;32m--> 157\u001B[0m     \u001B[38;5;28;01mreturn\u001B[39;00m \u001B[43mmethod\u001B[49m\u001B[43m(\u001B[49m\u001B[38;5;28;43mself\u001B[39;49m\u001B[38;5;241;43m.\u001B[39;49m\u001B[43m_obj\u001B[49m\u001B[43m,\u001B[49m\u001B[43m \u001B[49m\u001B[38;5;241;43m*\u001B[39;49m\u001B[43margs\u001B[49m\u001B[43m,\u001B[49m\u001B[43m \u001B[49m\u001B[38;5;241;43m*\u001B[39;49m\u001B[38;5;241;43m*\u001B[39;49m\u001B[43mkwargs\u001B[49m\u001B[43m)\u001B[49m\n\u001B[0;32m    159\u001B[0m \u001B[38;5;28;01mreturn\u001B[39;00m handle_pandas_extension_call(\n\u001B[0;32m    160\u001B[0m     method, method_signature, \u001B[38;5;28mself\u001B[39m\u001B[38;5;241m.\u001B[39m_obj, args, kwargs\n\u001B[0;32m    161\u001B[0m )\n",
      "File \u001B[1;32m~\\Desktop\\pfacd\\.pixi\\envs\\default\\Lib\\site-packages\\janitor\\utils.py:298\u001B[0m, in \u001B[0;36mdeprecated_alias.<locals>.decorator.<locals>.wrapper\u001B[1;34m(*args, **kwargs)\u001B[0m\n\u001B[0;32m    295\u001B[0m \u001B[38;5;129m@wraps\u001B[39m(func)\n\u001B[0;32m    296\u001B[0m \u001B[38;5;28;01mdef\u001B[39;00m \u001B[38;5;21mwrapper\u001B[39m(\u001B[38;5;241m*\u001B[39margs, \u001B[38;5;241m*\u001B[39m\u001B[38;5;241m*\u001B[39mkwargs):\n\u001B[0;32m    297\u001B[0m     rename_kwargs(func\u001B[38;5;241m.\u001B[39m\u001B[38;5;18m__name__\u001B[39m, kwargs, aliases)\n\u001B[1;32m--> 298\u001B[0m     \u001B[38;5;28;01mreturn\u001B[39;00m \u001B[43mfunc\u001B[49m\u001B[43m(\u001B[49m\u001B[38;5;241;43m*\u001B[39;49m\u001B[43margs\u001B[49m\u001B[43m,\u001B[49m\u001B[43m \u001B[49m\u001B[38;5;241;43m*\u001B[39;49m\u001B[38;5;241;43m*\u001B[39;49m\u001B[43mkwargs\u001B[49m\u001B[43m)\u001B[49m\n",
      "File \u001B[1;32m~\\Desktop\\pfacd\\.pixi\\envs\\default\\Lib\\site-packages\\janitor\\functions\\select.py:221\u001B[0m, in \u001B[0;36mselect_columns\u001B[1;34m(df, invert, *args)\u001B[0m\n\u001B[0;32m      8\u001B[0m \u001B[38;5;129m@pf\u001B[39m\u001B[38;5;241m.\u001B[39mregister_dataframe_method\n\u001B[0;32m      9\u001B[0m \u001B[38;5;129m@deprecated_alias\u001B[39m(search_cols\u001B[38;5;241m=\u001B[39m\u001B[38;5;124m\"\u001B[39m\u001B[38;5;124msearch_column_names\u001B[39m\u001B[38;5;124m\"\u001B[39m)\n\u001B[0;32m     10\u001B[0m \u001B[38;5;28;01mdef\u001B[39;00m \u001B[38;5;21mselect_columns\u001B[39m(\n\u001B[1;32m   (...)\u001B[0m\n\u001B[0;32m     13\u001B[0m     invert: \u001B[38;5;28mbool\u001B[39m \u001B[38;5;241m=\u001B[39m \u001B[38;5;28;01mFalse\u001B[39;00m,\n\u001B[0;32m     14\u001B[0m ) \u001B[38;5;241m-\u001B[39m\u001B[38;5;241m>\u001B[39m pd\u001B[38;5;241m.\u001B[39mDataFrame:\n\u001B[0;32m     15\u001B[0m \u001B[38;5;250m    \u001B[39m\u001B[38;5;124;03m\"\"\"Method-chainable selection of columns.\u001B[39;00m\n\u001B[0;32m     16\u001B[0m \n\u001B[0;32m     17\u001B[0m \u001B[38;5;124;03m    It accepts a string, shell-like glob strings `(*string*)`,\u001B[39;00m\n\u001B[1;32m   (...)\u001B[0m\n\u001B[0;32m    218\u001B[0m \u001B[38;5;124;03m        A pandas DataFrame with the specified columns selected.\u001B[39;00m\n\u001B[0;32m    219\u001B[0m \u001B[38;5;124;03m    \"\"\"\u001B[39;00m  \u001B[38;5;66;03m# noqa: E501\u001B[39;00m\n\u001B[1;32m--> 221\u001B[0m     \u001B[38;5;28;01mreturn\u001B[39;00m \u001B[43m_select\u001B[49m\u001B[43m(\u001B[49m\u001B[43mdf\u001B[49m\u001B[43m,\u001B[49m\u001B[43m \u001B[49m\u001B[43margs\u001B[49m\u001B[38;5;241;43m=\u001B[39;49m\u001B[43margs\u001B[49m\u001B[43m,\u001B[49m\u001B[43m \u001B[49m\u001B[43minvert\u001B[49m\u001B[38;5;241;43m=\u001B[39;49m\u001B[43minvert\u001B[49m\u001B[43m,\u001B[49m\u001B[43m \u001B[49m\u001B[43maxis\u001B[49m\u001B[38;5;241;43m=\u001B[39;49m\u001B[38;5;124;43m\"\u001B[39;49m\u001B[38;5;124;43mcolumns\u001B[39;49m\u001B[38;5;124;43m\"\u001B[39;49m\u001B[43m)\u001B[49m\n",
      "File \u001B[1;32m~\\Desktop\\pfacd\\.pixi\\envs\\default\\Lib\\site-packages\\janitor\\functions\\utils.py:667\u001B[0m, in \u001B[0;36m_select\u001B[1;34m(df, args, invert, axis, rows, columns)\u001B[0m\n\u001B[0;32m    665\u001B[0m         columns \u001B[38;5;241m=\u001B[39m _select_index([columns], df, axis\u001B[38;5;241m=\u001B[39m\u001B[38;5;124m\"\u001B[39m\u001B[38;5;124mcolumns\u001B[39m\u001B[38;5;124m\"\u001B[39m)\n\u001B[0;32m    666\u001B[0m     \u001B[38;5;28;01mreturn\u001B[39;00m df\u001B[38;5;241m.\u001B[39miloc[rows, columns]\n\u001B[1;32m--> 667\u001B[0m indices \u001B[38;5;241m=\u001B[39m \u001B[43m_select_index\u001B[49m\u001B[43m(\u001B[49m\u001B[38;5;28;43mlist\u001B[39;49m\u001B[43m(\u001B[49m\u001B[43margs\u001B[49m\u001B[43m)\u001B[49m\u001B[43m,\u001B[49m\u001B[43m \u001B[49m\u001B[43mdf\u001B[49m\u001B[43m,\u001B[49m\u001B[43m \u001B[49m\u001B[43maxis\u001B[49m\u001B[43m)\u001B[49m\n\u001B[0;32m    668\u001B[0m \u001B[38;5;28;01mif\u001B[39;00m invert:\n\u001B[0;32m    669\u001B[0m     rev \u001B[38;5;241m=\u001B[39m np\u001B[38;5;241m.\u001B[39mones(\u001B[38;5;28mgetattr\u001B[39m(df, axis)\u001B[38;5;241m.\u001B[39msize, dtype\u001B[38;5;241m=\u001B[39mnp\u001B[38;5;241m.\u001B[39mbool_)\n",
      "File \u001B[1;32m~\\Desktop\\pfacd\\.pixi\\envs\\default\\Lib\\functools.py:909\u001B[0m, in \u001B[0;36msingledispatch.<locals>.wrapper\u001B[1;34m(*args, **kw)\u001B[0m\n\u001B[0;32m    905\u001B[0m \u001B[38;5;28;01mif\u001B[39;00m \u001B[38;5;129;01mnot\u001B[39;00m args:\n\u001B[0;32m    906\u001B[0m     \u001B[38;5;28;01mraise\u001B[39;00m \u001B[38;5;167;01mTypeError\u001B[39;00m(\u001B[38;5;124mf\u001B[39m\u001B[38;5;124m'\u001B[39m\u001B[38;5;132;01m{\u001B[39;00mfuncname\u001B[38;5;132;01m}\u001B[39;00m\u001B[38;5;124m requires at least \u001B[39m\u001B[38;5;124m'\u001B[39m\n\u001B[0;32m    907\u001B[0m                     \u001B[38;5;124m'\u001B[39m\u001B[38;5;124m1 positional argument\u001B[39m\u001B[38;5;124m'\u001B[39m)\n\u001B[1;32m--> 909\u001B[0m \u001B[38;5;28;01mreturn\u001B[39;00m \u001B[43mdispatch\u001B[49m\u001B[43m(\u001B[49m\u001B[43margs\u001B[49m\u001B[43m[\u001B[49m\u001B[38;5;241;43m0\u001B[39;49m\u001B[43m]\u001B[49m\u001B[38;5;241;43m.\u001B[39;49m\u001B[38;5;18;43m__class__\u001B[39;49m\u001B[43m)\u001B[49m\u001B[43m(\u001B[49m\u001B[38;5;241;43m*\u001B[39;49m\u001B[43margs\u001B[49m\u001B[43m,\u001B[49m\u001B[43m \u001B[49m\u001B[38;5;241;43m*\u001B[39;49m\u001B[38;5;241;43m*\u001B[39;49m\u001B[43mkw\u001B[49m\u001B[43m)\u001B[49m\n",
      "File \u001B[1;32m~\\Desktop\\pfacd\\.pixi\\envs\\default\\Lib\\site-packages\\janitor\\functions\\utils.py:566\u001B[0m, in \u001B[0;36m_index_dispatch\u001B[1;34m(arg, df, axis)\u001B[0m\n\u001B[0;32m    564\u001B[0m     arg \u001B[38;5;241m=\u001B[39m [entry \u001B[38;5;28;01mfor\u001B[39;00m entry \u001B[38;5;129;01min\u001B[39;00m arg \u001B[38;5;28;01mif\u001B[39;00m \u001B[38;5;129;01mnot\u001B[39;00m \u001B[38;5;28misinstance\u001B[39m(entry, DropLabel)]\n\u001B[0;32m    565\u001B[0m     arg\u001B[38;5;241m.\u001B[39mappend(drop_labels)\n\u001B[1;32m--> 566\u001B[0m indices \u001B[38;5;241m=\u001B[39m [\u001B[43m_select_index\u001B[49m\u001B[43m(\u001B[49m\u001B[43mentry\u001B[49m\u001B[43m,\u001B[49m\u001B[43m \u001B[49m\u001B[43mdf\u001B[49m\u001B[43m,\u001B[49m\u001B[43m \u001B[49m\u001B[43maxis\u001B[49m\u001B[43m)\u001B[49m \u001B[38;5;28;01mfor\u001B[39;00m entry \u001B[38;5;129;01min\u001B[39;00m arg]\n\u001B[0;32m    568\u001B[0m \u001B[38;5;66;03m# single entry does not need to be combined\u001B[39;00m\n\u001B[0;32m    569\u001B[0m \u001B[38;5;66;03m# or materialized if possible;\u001B[39;00m\n\u001B[0;32m    570\u001B[0m \u001B[38;5;66;03m# this offers more performance\u001B[39;00m\n\u001B[0;32m    571\u001B[0m \u001B[38;5;28;01mif\u001B[39;00m \u001B[38;5;28mlen\u001B[39m(indices) \u001B[38;5;241m==\u001B[39m \u001B[38;5;241m1\u001B[39m:\n",
      "File \u001B[1;32m~\\Desktop\\pfacd\\.pixi\\envs\\default\\Lib\\functools.py:909\u001B[0m, in \u001B[0;36msingledispatch.<locals>.wrapper\u001B[1;34m(*args, **kw)\u001B[0m\n\u001B[0;32m    905\u001B[0m \u001B[38;5;28;01mif\u001B[39;00m \u001B[38;5;129;01mnot\u001B[39;00m args:\n\u001B[0;32m    906\u001B[0m     \u001B[38;5;28;01mraise\u001B[39;00m \u001B[38;5;167;01mTypeError\u001B[39;00m(\u001B[38;5;124mf\u001B[39m\u001B[38;5;124m'\u001B[39m\u001B[38;5;132;01m{\u001B[39;00mfuncname\u001B[38;5;132;01m}\u001B[39;00m\u001B[38;5;124m requires at least \u001B[39m\u001B[38;5;124m'\u001B[39m\n\u001B[0;32m    907\u001B[0m                     \u001B[38;5;124m'\u001B[39m\u001B[38;5;124m1 positional argument\u001B[39m\u001B[38;5;124m'\u001B[39m)\n\u001B[1;32m--> 909\u001B[0m \u001B[38;5;28;01mreturn\u001B[39;00m \u001B[43mdispatch\u001B[49m\u001B[43m(\u001B[49m\u001B[43margs\u001B[49m\u001B[43m[\u001B[49m\u001B[38;5;241;43m0\u001B[39;49m\u001B[43m]\u001B[49m\u001B[38;5;241;43m.\u001B[39;49m\u001B[38;5;18;43m__class__\u001B[39;49m\u001B[43m)\u001B[49m\u001B[43m(\u001B[49m\u001B[38;5;241;43m*\u001B[39;49m\u001B[43margs\u001B[49m\u001B[43m,\u001B[49m\u001B[43m \u001B[49m\u001B[38;5;241;43m*\u001B[39;49m\u001B[38;5;241;43m*\u001B[39;49m\u001B[43mkw\u001B[49m\u001B[43m)\u001B[49m\n",
      "File \u001B[1;32m~\\Desktop\\pfacd\\.pixi\\envs\\default\\Lib\\site-packages\\janitor\\functions\\utils.py:356\u001B[0m, in \u001B[0;36m_index_dispatch\u001B[1;34m(arg, df, axis)\u001B[0m\n\u001B[0;32m    347\u001B[0m                 \u001B[38;5;28;01mreturn\u001B[39;00m \u001B[38;5;28mslice\u001B[39m(\u001B[38;5;28;01mNone\u001B[39;00m)\n\u001B[0;32m    348\u001B[0m             \u001B[38;5;66;03m# label selection should be case sensitive\u001B[39;00m\n\u001B[0;32m    349\u001B[0m             \u001B[38;5;66;03m# fix for Github Issue 1160\u001B[39;00m\n\u001B[0;32m    350\u001B[0m             \u001B[38;5;66;03m# translating to regex solves the case sensitivity\u001B[39;00m\n\u001B[1;32m   (...)\u001B[0m\n\u001B[0;32m    354\u001B[0m             \u001B[38;5;66;03m# could offer more performance, especially if the\u001B[39;00m\n\u001B[0;32m    355\u001B[0m             \u001B[38;5;66;03m# underlying array of the index is a PyArrow string array\u001B[39;00m\n\u001B[1;32m--> 356\u001B[0m             \u001B[38;5;28;01mreturn\u001B[39;00m \u001B[43m_select_regex\u001B[49m\u001B[43m(\u001B[49m\n\u001B[0;32m    357\u001B[0m \u001B[43m                \u001B[49m\u001B[43mindex\u001B[49m\u001B[43m,\u001B[49m\u001B[43m \u001B[49m\u001B[43m(\u001B[49m\u001B[43marg\u001B[49m\u001B[43m,\u001B[49m\u001B[43m \u001B[49m\u001B[43mfnmatch\u001B[49m\u001B[38;5;241;43m.\u001B[39;49m\u001B[43mtranslate\u001B[49m\u001B[43m(\u001B[49m\u001B[43marg\u001B[49m\u001B[43m)\u001B[49m\u001B[43m)\u001B[49m\u001B[43m,\u001B[49m\u001B[43m \u001B[49m\u001B[43msource\u001B[49m\u001B[38;5;241;43m=\u001B[39;49m\u001B[38;5;124;43m\"\u001B[39;49m\u001B[38;5;124;43mfnmatch\u001B[39;49m\u001B[38;5;124;43m\"\u001B[39;49m\n\u001B[0;32m    358\u001B[0m \u001B[43m            \u001B[49m\u001B[43m)\u001B[49m\n\u001B[0;32m    359\u001B[0m         \u001B[38;5;28;01mraise\u001B[39;00m \u001B[38;5;167;01mKeyError\u001B[39;00m(\u001B[38;5;124mf\u001B[39m\u001B[38;5;124m\"\u001B[39m\u001B[38;5;124mNo match was returned for \u001B[39m\u001B[38;5;124m'\u001B[39m\u001B[38;5;132;01m{\u001B[39;00marg\u001B[38;5;132;01m}\u001B[39;00m\u001B[38;5;124m'\u001B[39m\u001B[38;5;124m\"\u001B[39m) \u001B[38;5;28;01mfrom\u001B[39;00m \u001B[38;5;21;01mexc\u001B[39;00m\n\u001B[0;32m    360\u001B[0m \u001B[38;5;28;01mraise\u001B[39;00m \u001B[38;5;167;01mKeyError\u001B[39;00m(\u001B[38;5;124mf\u001B[39m\u001B[38;5;124m\"\u001B[39m\u001B[38;5;124mNo match was returned for \u001B[39m\u001B[38;5;124m'\u001B[39m\u001B[38;5;132;01m{\u001B[39;00marg\u001B[38;5;132;01m}\u001B[39;00m\u001B[38;5;124m'\u001B[39m\u001B[38;5;124m\"\u001B[39m)\n",
      "File \u001B[1;32m~\\Desktop\\pfacd\\.pixi\\envs\\default\\Lib\\site-packages\\janitor\\functions\\utils.py:271\u001B[0m, in \u001B[0;36m_select_regex\u001B[1;34m(index, arg, source)\u001B[0m\n\u001B[0;32m    269\u001B[0m     \u001B[38;5;28;01mreturn\u001B[39;00m bools\n\u001B[0;32m    270\u001B[0m \u001B[38;5;28;01mexcept\u001B[39;00m \u001B[38;5;167;01mException\u001B[39;00m \u001B[38;5;28;01mas\u001B[39;00m exc:\n\u001B[1;32m--> 271\u001B[0m     \u001B[38;5;28;01mraise\u001B[39;00m \u001B[38;5;167;01mKeyError\u001B[39;00m(\u001B[38;5;124mf\u001B[39m\u001B[38;5;124m\"\u001B[39m\u001B[38;5;124mNo match was returned for \u001B[39m\u001B[38;5;124m'\u001B[39m\u001B[38;5;132;01m{\u001B[39;00marg\u001B[38;5;132;01m}\u001B[39;00m\u001B[38;5;124m'\u001B[39m\u001B[38;5;124m\"\u001B[39m) \u001B[38;5;28;01mfrom\u001B[39;00m \u001B[38;5;21;01mexc\u001B[39;00m\n",
      "\u001B[1;31mKeyError\u001B[0m: \"No match was returned for 'classe_da_causa'\""
     ]
    }
   ],
   "source": [
    "humanosAcidente = ['Escavações', 'Abate De Árvores', 'Veículos',\n",
    "                   'Risco Iminente Pessoas Ou Bens', 'Trabalhos De Terceiros ( Gruas,... )',\n",
    "                   'Intervenções À Superficie', 'Desabamento De Muros/Outras Construções',\n",
    "                   'Ruptura De Canal. De Fluídos', 'Desabamento De Muros/Outras Cons', \"Rnt - Caso Fortuito/Força Maior/Razão Segurança\"]\n",
    "\n",
    "humanosIntenção = ['Malfeitorioa (Vandalismo)', 'Malfeitoria/Vandalismo', 'Furtos', 'Sabotagem',]\n",
    "\n",
    "animais = ['Aves', 'Animais Não Aves', 'Corpos Estranhos Na Rede'] # eu nao sei se corpos estranho é animais\n",
    "\n",
    "clima = ['Deslizamento De Terras', 'Terramoto', 'Neve/Gelo/Granizo Condição Excecional',\n",
    "         'Vento Intensidade Excepcional', 'Descarga Atmosférica Directa',\n",
    "         'Inundações Imprevisíveis', 'Incêndio']\n",
    "\n",
    "def assign_class(cause):\n",
    "  if cause in humanosAcidente:\n",
    "    return 'Humanos - Acidentes'\n",
    "  elif cause in humanosIntenção:\n",
    "    return 'Humanos - Intenção'\n",
    "  elif cause in animais:\n",
    "    return 'Animais'\n",
    "  elif cause in clima:\n",
    "    return 'Clima'\n",
    "  else:\n",
    "    raise NotImplementedError(f\"cause: {cause}\")\n",
    "\n",
    "eventos['classe_da_causa_4'] = eventos.causa_do_incidente.apply(assign_class)\n",
    "eventos.select_columns(\"causa_do_incidente\", \"classe_da_causa\")"
   ],
   "metadata": {
    "collapsed": false,
    "ExecuteTime": {
     "end_time": "2024-05-26T02:14:21.202757Z",
     "start_time": "2024-05-26T02:14:21.103810Z"
    }
   },
   "id": "b2301f5d2082490a",
   "execution_count": 153
  },
  {
   "cell_type": "code",
   "outputs": [
    {
     "data": {
      "text/plain": "classe_da_causa_4\nHumanos - Acidentes    3634\nAnimais                1528\nHumanos - Intenção     1526\nClima                  1031\nName: count, dtype: int64"
     },
     "execution_count": 154,
     "metadata": {},
     "output_type": "execute_result"
    }
   ],
   "source": [
    "eventos.value_counts(\"classe_da_causa_4\")"
   ],
   "metadata": {
    "collapsed": false,
    "ExecuteTime": {
     "end_time": "2024-05-26T02:14:21.309293Z",
     "start_time": "2024-05-26T02:14:21.304301Z"
    }
   },
   "id": "99c863697d43c81",
   "execution_count": 154
  },
  {
   "cell_type": "code",
   "outputs": [
    {
     "name": "stderr",
     "output_type": "stream",
     "text": [
      "C:\\Users\\Plancha\\AppData\\Local\\Temp\\ipykernel_9208\\873255282.py:24: SettingWithCopyWarning: \n",
      "A value is trying to be set on a copy of a slice from a DataFrame.\n",
      "Try using .loc[row_indexer,col_indexer] = value instead\n",
      "\n",
      "See the caveats in the documentation: https://pandas.pydata.org/pandas-docs/stable/user_guide/indexing.html#returning-a-view-versus-a-copy\n",
      "  eventos['classe_da_causa_6'] = eventos.causa_do_incidente.apply(assign_class)\n"
     ]
    },
    {
     "data": {
      "text/plain": "classe_da_causa_6\nObras                2303\nAnimais              1528\nMalfeito             1526\nVei                  1256\nClima                1031\nRisco                  75\nName: count, dtype: int64"
     },
     "execution_count": 155,
     "metadata": {},
     "output_type": "execute_result"
    }
   ],
   "source": [
    "Animais = ['Aves', 'Animais Não Aves', 'Corpos Estranhos Na Rede']\n",
    "Malfeito = ['Malfeitorioa (Vandalismo)', 'Malfeitoria/Vandalismo', 'Furtos', 'Sabotagem']\n",
    "Risco = ['Risco Iminente Pessoas Ou Bens', 'Rnt - Caso Fortuito/Força Maior/Razão Segurança']\n",
    "Vei = ['Veículos']\n",
    "Obras = ['Escavações', 'Abate De Árvores', 'Trabalhos De Terceiros ( Gruas,... )', 'Intervenções À Superficie', 'Desabamento De Muros/Outras Construções', 'Desabamento De Muros/Outras Cons', 'Ruptura De Canal. De Fluídos']\n",
    "Clima = ['Deslizamento De Terras', 'Terramoto', 'Neve/Gelo/Granizo Condição Excecional', 'Vento Intensidade Excepcional', 'Descarga Atmosférica Directa', 'Inundações Imprevisíveis', \"Incêndio\"]\n",
    "\n",
    "def assign_class(cause):\n",
    "  if cause in Animais:\n",
    "    return 'Animais'\n",
    "  elif cause in Malfeito:\n",
    "    return 'Malfeito'\n",
    "  elif cause in Risco:\n",
    "    return 'Risco'\n",
    "  elif cause in Vei:\n",
    "    return 'Vei'\n",
    "  elif cause in Obras:\n",
    "    return 'Obras'\n",
    "  elif cause in Clima:\n",
    "    return 'Clima'\n",
    "  else:\n",
    "    raise NotImplementedError(f\"cause: {cause}\")\n",
    "  \n",
    "eventos['classe_da_causa_6'] = eventos.causa_do_incidente.apply(assign_class)\n",
    "eventos.value_counts([\"classe_da_causa_6\"], dropna=False)\n",
    "# unico drama é que ficaram muito poucos de risco"
   ],
   "metadata": {
    "collapsed": false,
    "ExecuteTime": {
     "end_time": "2024-05-26T02:14:21.336234Z",
     "start_time": "2024-05-26T02:14:21.326236Z"
    }
   },
   "id": "bcf18200235463db",
   "execution_count": 155
  },
  {
   "cell_type": "code",
   "outputs": [
    {
     "data": {
      "text/plain": "       codigo_do_relatorio             concelho data_do_incidente  \\\n315     EDPD_2018_JUL_T_18            BARRANCOS        2018-07-13   \n351      EDPD_2018_AGO_T_5             AZAMBUJA        2018-08-04   \n400      EDPD_2018_SET_T_1            ALMODOVAR        2018-09-01   \n467     EDPD_2018_SET_T_68              MONTIJO        2018-09-26   \n657   EREDES_2021_FEV_T_44              VALONGO        2021-02-23   \n...                    ...                  ...               ...   \n7529    EDPD_2017_SET_T_70              CARTAXO        2017-09-05   \n7566     EDPD_2017_OUT_T_4  PAMPILHOSA-DA-SERRA        2017-10-07   \n7571     EDPD_2017_OUT_T_9         CASTRO-MARIM        2017-10-24   \n7572    EDPD_2017_OUT_T_10               SILVES        2017-10-01   \n7645   EDPD_2017_OUT_T_107        VILA-DO-CONDE        2017-10-26   \n\n     nivel_de_tensao              causa_do_incidente duracao_incidente_min_  \\\n315               MT  Risco Iminente Pessoas Ou Bens                    125   \n351               MT  Risco Iminente Pessoas Ou Bens                    275   \n400               MT  Risco Iminente Pessoas Ou Bens                      5   \n467               MT  Risco Iminente Pessoas Ou Bens                      8   \n657               MT  Risco Iminente Pessoas Ou Bens                     11   \n...              ...                             ...                    ...   \n7529              BT  Risco Iminente Pessoas Ou Bens                    175   \n7566              MT  Risco Iminente Pessoas Ou Bens                    278   \n7571              MT  Risco Iminente Pessoas Ou Bens                    145   \n7572              MT  Risco Iminente Pessoas Ou Bens                     44   \n7645              BT  Risco Iminente Pessoas Ou Bens                     89   \n\n      n_º_clientes_afetados  tiepi_mt_min_  saifi_mt_#_  saidi_mt_min_  ...  \\\n315                    1206       0.001372     0.000022       0.002762  ...   \n351                     499       0.002187     0.000110       0.007099  ...   \n400                     346       0.000187     0.000298       0.001706  ...   \n467                      24       0.000228     0.000066       0.000562  ...   \n657                     451       0.000410     0.000030       0.000360  ...   \n...                     ...            ...          ...            ...  ...   \n7529                    136       0.000000     0.000000       0.000000  ...   \n7566                   1480       0.001027     0.000254       0.007083  ...   \n7571                    236       0.005230     0.000066       0.009588  ...   \n7572                    340       0.003426     0.000166       0.007406  ...   \n7645                     19       0.000000     0.000000       0.000000  ...   \n\n      count_zonab  count_zonac  total_concelho_zonas percentagem_zonaa  \\\n315             0            1                     1               0.0   \n351            11           13                    24               0.0   \n400             0           10                    10               0.0   \n467            35            9                    44               0.0   \n657           105            1                   106               0.0   \n...           ...          ...                   ...               ...   \n7529           17            8                    25               0.0   \n7566            0           11                    11               0.0   \n7571            5            4                     9               0.0   \n7572           48           25                    73               0.0   \n7645           37           30                    67               0.0   \n\n     percentagem_zonab percentagem_zonac  soma_degree_rede_concelho  \\\n315           0.000000          1.000000                        0.0   \n351           0.458333          0.541667                        1.0   \n400           0.000000          1.000000                        1.0   \n467           0.795455          0.204545                        3.0   \n657           0.990566          0.009434                        7.0   \n...                ...               ...                        ...   \n7529          0.680000          0.320000                        5.0   \n7566          0.000000          1.000000                        0.0   \n7571          0.555556          0.444444                        4.0   \n7572          0.657534          0.342466                        9.0   \n7645          0.552239          0.447761                        7.0   \n\n      n_subestacoes_concelho    classe_da_causa_4 classe_da_causa_6  \n315                      0.0  Humanos - Acidentes             Risco  \n351                      1.0  Humanos - Acidentes             Risco  \n400                      2.0  Humanos - Acidentes             Risco  \n467                      2.0  Humanos - Acidentes             Risco  \n657                      3.0  Humanos - Acidentes             Risco  \n...                      ...                  ...               ...  \n7529                     2.0  Humanos - Acidentes             Risco  \n7566                     1.0  Humanos - Acidentes             Risco  \n7571                     2.0  Humanos - Acidentes             Risco  \n7572                     4.0  Humanos - Acidentes             Risco  \n7645                     3.0  Humanos - Acidentes             Risco  \n\n[74 rows x 46 columns]",
      "text/html": "<div>\n<style scoped>\n    .dataframe tbody tr th:only-of-type {\n        vertical-align: middle;\n    }\n\n    .dataframe tbody tr th {\n        vertical-align: top;\n    }\n\n    .dataframe thead th {\n        text-align: right;\n    }\n</style>\n<table border=\"1\" class=\"dataframe\">\n  <thead>\n    <tr style=\"text-align: right;\">\n      <th></th>\n      <th>codigo_do_relatorio</th>\n      <th>concelho</th>\n      <th>data_do_incidente</th>\n      <th>nivel_de_tensao</th>\n      <th>causa_do_incidente</th>\n      <th>duracao_incidente_min_</th>\n      <th>n_º_clientes_afetados</th>\n      <th>tiepi_mt_min_</th>\n      <th>saifi_mt_#_</th>\n      <th>saidi_mt_min_</th>\n      <th>...</th>\n      <th>count_zonab</th>\n      <th>count_zonac</th>\n      <th>total_concelho_zonas</th>\n      <th>percentagem_zonaa</th>\n      <th>percentagem_zonab</th>\n      <th>percentagem_zonac</th>\n      <th>soma_degree_rede_concelho</th>\n      <th>n_subestacoes_concelho</th>\n      <th>classe_da_causa_4</th>\n      <th>classe_da_causa_6</th>\n    </tr>\n  </thead>\n  <tbody>\n    <tr>\n      <th>315</th>\n      <td>EDPD_2018_JUL_T_18</td>\n      <td>BARRANCOS</td>\n      <td>2018-07-13</td>\n      <td>MT</td>\n      <td>Risco Iminente Pessoas Ou Bens</td>\n      <td>125</td>\n      <td>1206</td>\n      <td>0.001372</td>\n      <td>0.000022</td>\n      <td>0.002762</td>\n      <td>...</td>\n      <td>0</td>\n      <td>1</td>\n      <td>1</td>\n      <td>0.0</td>\n      <td>0.000000</td>\n      <td>1.000000</td>\n      <td>0.0</td>\n      <td>0.0</td>\n      <td>Humanos - Acidentes</td>\n      <td>Risco</td>\n    </tr>\n    <tr>\n      <th>351</th>\n      <td>EDPD_2018_AGO_T_5</td>\n      <td>AZAMBUJA</td>\n      <td>2018-08-04</td>\n      <td>MT</td>\n      <td>Risco Iminente Pessoas Ou Bens</td>\n      <td>275</td>\n      <td>499</td>\n      <td>0.002187</td>\n      <td>0.000110</td>\n      <td>0.007099</td>\n      <td>...</td>\n      <td>11</td>\n      <td>13</td>\n      <td>24</td>\n      <td>0.0</td>\n      <td>0.458333</td>\n      <td>0.541667</td>\n      <td>1.0</td>\n      <td>1.0</td>\n      <td>Humanos - Acidentes</td>\n      <td>Risco</td>\n    </tr>\n    <tr>\n      <th>400</th>\n      <td>EDPD_2018_SET_T_1</td>\n      <td>ALMODOVAR</td>\n      <td>2018-09-01</td>\n      <td>MT</td>\n      <td>Risco Iminente Pessoas Ou Bens</td>\n      <td>5</td>\n      <td>346</td>\n      <td>0.000187</td>\n      <td>0.000298</td>\n      <td>0.001706</td>\n      <td>...</td>\n      <td>0</td>\n      <td>10</td>\n      <td>10</td>\n      <td>0.0</td>\n      <td>0.000000</td>\n      <td>1.000000</td>\n      <td>1.0</td>\n      <td>2.0</td>\n      <td>Humanos - Acidentes</td>\n      <td>Risco</td>\n    </tr>\n    <tr>\n      <th>467</th>\n      <td>EDPD_2018_SET_T_68</td>\n      <td>MONTIJO</td>\n      <td>2018-09-26</td>\n      <td>MT</td>\n      <td>Risco Iminente Pessoas Ou Bens</td>\n      <td>8</td>\n      <td>24</td>\n      <td>0.000228</td>\n      <td>0.000066</td>\n      <td>0.000562</td>\n      <td>...</td>\n      <td>35</td>\n      <td>9</td>\n      <td>44</td>\n      <td>0.0</td>\n      <td>0.795455</td>\n      <td>0.204545</td>\n      <td>3.0</td>\n      <td>2.0</td>\n      <td>Humanos - Acidentes</td>\n      <td>Risco</td>\n    </tr>\n    <tr>\n      <th>657</th>\n      <td>EREDES_2021_FEV_T_44</td>\n      <td>VALONGO</td>\n      <td>2021-02-23</td>\n      <td>MT</td>\n      <td>Risco Iminente Pessoas Ou Bens</td>\n      <td>11</td>\n      <td>451</td>\n      <td>0.000410</td>\n      <td>0.000030</td>\n      <td>0.000360</td>\n      <td>...</td>\n      <td>105</td>\n      <td>1</td>\n      <td>106</td>\n      <td>0.0</td>\n      <td>0.990566</td>\n      <td>0.009434</td>\n      <td>7.0</td>\n      <td>3.0</td>\n      <td>Humanos - Acidentes</td>\n      <td>Risco</td>\n    </tr>\n    <tr>\n      <th>...</th>\n      <td>...</td>\n      <td>...</td>\n      <td>...</td>\n      <td>...</td>\n      <td>...</td>\n      <td>...</td>\n      <td>...</td>\n      <td>...</td>\n      <td>...</td>\n      <td>...</td>\n      <td>...</td>\n      <td>...</td>\n      <td>...</td>\n      <td>...</td>\n      <td>...</td>\n      <td>...</td>\n      <td>...</td>\n      <td>...</td>\n      <td>...</td>\n      <td>...</td>\n      <td>...</td>\n    </tr>\n    <tr>\n      <th>7529</th>\n      <td>EDPD_2017_SET_T_70</td>\n      <td>CARTAXO</td>\n      <td>2017-09-05</td>\n      <td>BT</td>\n      <td>Risco Iminente Pessoas Ou Bens</td>\n      <td>175</td>\n      <td>136</td>\n      <td>0.000000</td>\n      <td>0.000000</td>\n      <td>0.000000</td>\n      <td>...</td>\n      <td>17</td>\n      <td>8</td>\n      <td>25</td>\n      <td>0.0</td>\n      <td>0.680000</td>\n      <td>0.320000</td>\n      <td>5.0</td>\n      <td>2.0</td>\n      <td>Humanos - Acidentes</td>\n      <td>Risco</td>\n    </tr>\n    <tr>\n      <th>7566</th>\n      <td>EDPD_2017_OUT_T_4</td>\n      <td>PAMPILHOSA-DA-SERRA</td>\n      <td>2017-10-07</td>\n      <td>MT</td>\n      <td>Risco Iminente Pessoas Ou Bens</td>\n      <td>278</td>\n      <td>1480</td>\n      <td>0.001027</td>\n      <td>0.000254</td>\n      <td>0.007083</td>\n      <td>...</td>\n      <td>0</td>\n      <td>11</td>\n      <td>11</td>\n      <td>0.0</td>\n      <td>0.000000</td>\n      <td>1.000000</td>\n      <td>0.0</td>\n      <td>1.0</td>\n      <td>Humanos - Acidentes</td>\n      <td>Risco</td>\n    </tr>\n    <tr>\n      <th>7571</th>\n      <td>EDPD_2017_OUT_T_9</td>\n      <td>CASTRO-MARIM</td>\n      <td>2017-10-24</td>\n      <td>MT</td>\n      <td>Risco Iminente Pessoas Ou Bens</td>\n      <td>145</td>\n      <td>236</td>\n      <td>0.005230</td>\n      <td>0.000066</td>\n      <td>0.009588</td>\n      <td>...</td>\n      <td>5</td>\n      <td>4</td>\n      <td>9</td>\n      <td>0.0</td>\n      <td>0.555556</td>\n      <td>0.444444</td>\n      <td>4.0</td>\n      <td>2.0</td>\n      <td>Humanos - Acidentes</td>\n      <td>Risco</td>\n    </tr>\n    <tr>\n      <th>7572</th>\n      <td>EDPD_2017_OUT_T_10</td>\n      <td>SILVES</td>\n      <td>2017-10-01</td>\n      <td>MT</td>\n      <td>Risco Iminente Pessoas Ou Bens</td>\n      <td>44</td>\n      <td>340</td>\n      <td>0.003426</td>\n      <td>0.000166</td>\n      <td>0.007406</td>\n      <td>...</td>\n      <td>48</td>\n      <td>25</td>\n      <td>73</td>\n      <td>0.0</td>\n      <td>0.657534</td>\n      <td>0.342466</td>\n      <td>9.0</td>\n      <td>4.0</td>\n      <td>Humanos - Acidentes</td>\n      <td>Risco</td>\n    </tr>\n    <tr>\n      <th>7645</th>\n      <td>EDPD_2017_OUT_T_107</td>\n      <td>VILA-DO-CONDE</td>\n      <td>2017-10-26</td>\n      <td>BT</td>\n      <td>Risco Iminente Pessoas Ou Bens</td>\n      <td>89</td>\n      <td>19</td>\n      <td>0.000000</td>\n      <td>0.000000</td>\n      <td>0.000000</td>\n      <td>...</td>\n      <td>37</td>\n      <td>30</td>\n      <td>67</td>\n      <td>0.0</td>\n      <td>0.552239</td>\n      <td>0.447761</td>\n      <td>7.0</td>\n      <td>3.0</td>\n      <td>Humanos - Acidentes</td>\n      <td>Risco</td>\n    </tr>\n  </tbody>\n</table>\n<p>74 rows × 46 columns</p>\n</div>"
     },
     "execution_count": 156,
     "metadata": {},
     "output_type": "execute_result"
    }
   ],
   "source": [
    "# check those with Risco Iminente Pessoas Ou Bens\n",
    "eventos[eventos.causa_do_incidente == 'Risco Iminente Pessoas Ou Bens']"
   ],
   "metadata": {
    "collapsed": false,
    "ExecuteTime": {
     "end_time": "2024-05-26T02:14:21.492420Z",
     "start_time": "2024-05-26T02:14:21.475743Z"
    }
   },
   "id": "cffaba4cb5be63cb",
   "execution_count": 156
  },
  {
   "cell_type": "code",
   "outputs": [
    {
     "name": "stderr",
     "output_type": "stream",
     "text": [
      "C:\\Users\\Plancha\\Desktop\\pfacd\\.pixi\\envs\\default\\Lib\\site-packages\\openpyxl\\packaging\\core.py:99: DeprecationWarning: datetime.datetime.utcnow() is deprecated and scheduled for removal in a future version. Use timezone-aware objects to represent datetimes in UTC: datetime.datetime.now(datetime.UTC).\n",
      "  now = datetime.datetime.utcnow()\n",
      "C:\\Users\\Plancha\\Desktop\\pfacd\\.pixi\\envs\\default\\Lib\\site-packages\\openpyxl\\packaging\\core.py:99: DeprecationWarning: datetime.datetime.utcnow() is deprecated and scheduled for removal in a future version. Use timezone-aware objects to represent datetimes in UTC: datetime.datetime.now(datetime.UTC).\n",
      "  now = datetime.datetime.utcnow()\n"
     ]
    },
    {
     "data": {
      "text/plain": "0                     AGUEDA\n1         ALBERGARIA-A-VELHA\n2                     ANADIA\n3                     AROUCA\n4                     AVEIRO\n               ...          \n303        SAO-ROQUE-DO-PICO\n304                    HORTA\n305         LAJES-DAS-FLORES\n306    SANTA-CRUZ-DAS-FLORES\n307                    CORVO\nName: designacao, Length: 308, dtype: object"
     },
     "execution_count": 157,
     "metadata": {},
     "output_type": "execute_result"
    }
   ],
   "source": [
    "# check those where concelho is wrong\n",
    "# import here(\"data/concelhos-metadata.xlsx\")\n",
    "from unidecode import unidecode\n",
    "def transform_concelhos(x):\n",
    "  return unidecode(x).upper().replace(' ', '-')\n",
    "concelhos = pd.read_excel(here(\"data/concelhos-metadata.xlsx\"))\n",
    "concelhos = concelhos.designacao\n",
    "concelhos = concelhos.apply(transform_concelhos)\n",
    "concelhos"
   ],
   "metadata": {
    "collapsed": false,
    "ExecuteTime": {
     "end_time": "2024-05-26T02:14:21.589509Z",
     "start_time": "2024-05-26T02:14:21.529516Z"
    }
   },
   "id": "f6b228ba7404a00a",
   "execution_count": 157
  },
  {
   "cell_type": "code",
   "outputs": [
    {
     "data": {
      "text/plain": "Series([], dtype: object)"
     },
     "execution_count": 158,
     "metadata": {},
     "output_type": "execute_result"
    }
   ],
   "source": [
    "# check which from eventos nao esta nos concelhos\n",
    "eventos_concelhos = eventos.concelho.unique()\n",
    "eventos_concelhos = pd.Series(eventos_concelhos)\n",
    "eventos_concelhos = eventos_concelhos.apply(transform_concelhos)\n",
    "eventos_concelhos[~eventos_concelhos.isin(concelhos)]"
   ],
   "metadata": {
    "collapsed": false,
    "ExecuteTime": {
     "end_time": "2024-05-26T02:14:21.599772Z",
     "start_time": "2024-05-26T02:14:21.594501Z"
    }
   },
   "id": "b4002fc0d80b77c0",
   "execution_count": 158
  },
  {
   "cell_type": "markdown",
   "source": [
    "PENSEI QUE HAVIA MAS AFINAL NAOOOO :)"
   ],
   "metadata": {
    "collapsed": false
   },
   "id": "27bc49847dc7186b"
  },
  {
   "cell_type": "code",
   "outputs": [
    {
     "data": {
      "text/plain": "      codigo_do_relatorio                concelho data_do_incidente  \\\n6902  IGI_2017_FEV_TC_001               ESPOSENDE        2017-02-02   \n7727  IGI_2017_DEZ_TC_001  VILA-NOVA-DE-FAMALICAO        2017-12-10   \n\n     nivel_de_tensao             causa_do_incidente duracao_incidente_min_  \\\n6902        AT MT BT  Vento Intensidade Excepcional                   5220   \n7727        AT MT BT  Vento Intensidade Excepcional                   2440   \n\n      n_º_clientes_afetados  tiepi_mt_min_  saifi_mt_#_  saidi_mt_min_  ...  \\\n6902                 664675           9.62        0.236           18.4  ...   \n7727                1058005          17.10        0.330           29.3  ...   \n\n      count_zonab  count_zonac  total_concelho_zonas percentagem_zonaa  \\\n6902           14           12                    26               0.0   \n7727           49           39                    88               0.0   \n\n     percentagem_zonab percentagem_zonac  soma_degree_rede_concelho  \\\n6902          0.538462          0.461538                        0.0   \n7727          0.556818          0.443182                        7.0   \n\n      n_subestacoes_concelho  classe_da_causa_4 classe_da_causa_6  \n6902                     1.0              Clima             Clima  \n7727                     4.0              Clima             Clima  \n\n[2 rows x 46 columns]",
      "text/html": "<div>\n<style scoped>\n    .dataframe tbody tr th:only-of-type {\n        vertical-align: middle;\n    }\n\n    .dataframe tbody tr th {\n        vertical-align: top;\n    }\n\n    .dataframe thead th {\n        text-align: right;\n    }\n</style>\n<table border=\"1\" class=\"dataframe\">\n  <thead>\n    <tr style=\"text-align: right;\">\n      <th></th>\n      <th>codigo_do_relatorio</th>\n      <th>concelho</th>\n      <th>data_do_incidente</th>\n      <th>nivel_de_tensao</th>\n      <th>causa_do_incidente</th>\n      <th>duracao_incidente_min_</th>\n      <th>n_º_clientes_afetados</th>\n      <th>tiepi_mt_min_</th>\n      <th>saifi_mt_#_</th>\n      <th>saidi_mt_min_</th>\n      <th>...</th>\n      <th>count_zonab</th>\n      <th>count_zonac</th>\n      <th>total_concelho_zonas</th>\n      <th>percentagem_zonaa</th>\n      <th>percentagem_zonab</th>\n      <th>percentagem_zonac</th>\n      <th>soma_degree_rede_concelho</th>\n      <th>n_subestacoes_concelho</th>\n      <th>classe_da_causa_4</th>\n      <th>classe_da_causa_6</th>\n    </tr>\n  </thead>\n  <tbody>\n    <tr>\n      <th>6902</th>\n      <td>IGI_2017_FEV_TC_001</td>\n      <td>ESPOSENDE</td>\n      <td>2017-02-02</td>\n      <td>AT MT BT</td>\n      <td>Vento Intensidade Excepcional</td>\n      <td>5220</td>\n      <td>664675</td>\n      <td>9.62</td>\n      <td>0.236</td>\n      <td>18.4</td>\n      <td>...</td>\n      <td>14</td>\n      <td>12</td>\n      <td>26</td>\n      <td>0.0</td>\n      <td>0.538462</td>\n      <td>0.461538</td>\n      <td>0.0</td>\n      <td>1.0</td>\n      <td>Clima</td>\n      <td>Clima</td>\n    </tr>\n    <tr>\n      <th>7727</th>\n      <td>IGI_2017_DEZ_TC_001</td>\n      <td>VILA-NOVA-DE-FAMALICAO</td>\n      <td>2017-12-10</td>\n      <td>AT MT BT</td>\n      <td>Vento Intensidade Excepcional</td>\n      <td>2440</td>\n      <td>1058005</td>\n      <td>17.10</td>\n      <td>0.330</td>\n      <td>29.3</td>\n      <td>...</td>\n      <td>49</td>\n      <td>39</td>\n      <td>88</td>\n      <td>0.0</td>\n      <td>0.556818</td>\n      <td>0.443182</td>\n      <td>7.0</td>\n      <td>4.0</td>\n      <td>Clima</td>\n      <td>Clima</td>\n    </tr>\n  </tbody>\n</table>\n<p>2 rows × 46 columns</p>\n</div>"
     },
     "execution_count": 159,
     "metadata": {},
     "output_type": "execute_result"
    }
   ],
   "source": [
    "# CHECK THOSE TAHT ATE at mt bt\n",
    "eventos[eventos.nivel_de_tensao == \"AT MT BT\"]"
   ],
   "metadata": {
    "collapsed": false,
    "ExecuteTime": {
     "end_time": "2024-05-26T02:14:21.666856Z",
     "start_time": "2024-05-26T02:14:21.652347Z"
    }
   },
   "id": "75443dddb6273302",
   "execution_count": 159
  },
  {
   "cell_type": "code",
   "outputs": [
    {
     "data": {
      "text/plain": "     codigo_do_relatorio              concelho data_do_incidente  \\\n0      EDPD_2018_JAN_T_1                ALMADA        2018-01-02   \n1      EDPD_2018_JAN_T_2                 SERTA        2018-01-02   \n2      EDPD_2018_JAN_T_3            FELGUEIRAS        2018-01-04   \n3      EDPD_2018_JAN_T_4         TORRES-VEDRAS        2018-01-05   \n4      EDPD_2018_JAN_T_5                  NISA        2018-01-09   \n...                  ...                   ...               ...   \n7722  EDPD_2017_NOV_T_61             ESPOSENDE        2017-11-25   \n7723  EDPD_2017_NOV_T_62                  OVAR        2017-11-29   \n7724  EDPD_2017_NOV_T_63  SANTA-MARIA-DA-FEIRA        2017-11-03   \n7725  EDPD_2017_NOV_T_64  SANTA-MARIA-DA-FEIRA        2017-11-23   \n7726  EDPD_2017_NOV_T_65              ALMEIRIM        2017-11-03   \n\n     nivel_de_tensao            causa_do_incidente duracao_incidente_min_  \\\n0                 MT                    Escavações                     55   \n1                 MT              Abate De Árvores                    163   \n2                 MT        Deslizamento De Terras                    596   \n3                 BT                      Veículos                    178   \n4                 MT                          Aves                    119   \n...              ...                           ...                    ...   \n7722              BT                    Escavações                    235   \n7723              BT                      Veículos                    220   \n7724              BT                      Veículos                     92   \n7725              BT                      Veículos                    121   \n7726              BT  Descarga Atmosférica Directa                    154   \n\n      n_º_clientes_afetados  tiepi_mt_min_  saifi_mt_#_  saidi_mt_min_  ...  \\\n0                       828       0.002935     0.000044       0.002456  ...   \n1                       549       0.002933     0.000177       0.016501  ...   \n2                      3459       0.019228     0.000266       0.035905  ...   \n3                       102       0.000000     0.000000       0.000000  ...   \n4                      1731       0.004422     0.000155       0.010038  ...   \n...                     ...            ...          ...            ...  ...   \n7722                      2       0.000000     0.000000       0.000000  ...   \n7723                      2       0.000000     0.000000       0.000000  ...   \n7724                      1       0.000000     0.000000       0.000000  ...   \n7725                      1       0.000000     0.000000       0.000000  ...   \n7726                      1       0.000000     0.000000       0.000000  ...   \n\n      count_zonab  count_zonac  total_concelho_zonas percentagem_zonaa  \\\n0              63           14                   179          0.569832   \n1               8           29                    37          0.000000   \n2              32           13                    45          0.000000   \n3              27           40                    67          0.000000   \n4               5            6                    11          0.000000   \n...           ...          ...                   ...               ...   \n7722           14           12                    26          0.000000   \n7723           38           18                    56          0.000000   \n7724           32           36                    68          0.000000   \n7725           32           36                    68          0.000000   \n7726           26            6                    32          0.000000   \n\n     percentagem_zonab percentagem_zonac  soma_degree_rede_concelho  \\\n0             0.351955          0.078212                       17.0   \n1             0.216216          0.783784                        1.0   \n2             0.711111          0.288889                        1.0   \n3             0.402985          0.597015                        6.0   \n4             0.454545          0.545455                        0.0   \n...                ...               ...                        ...   \n7722          0.538462          0.461538                        0.0   \n7723          0.678571          0.321429                        4.0   \n7724          0.470588          0.529412                       10.0   \n7725          0.470588          0.529412                       10.0   \n7726          0.812500          0.187500                        1.0   \n\n      n_subestacoes_concelho    classe_da_causa_4 classe_da_causa_6  \n0                        7.0  Humanos - Acidentes             Obras  \n1                        1.0  Humanos - Acidentes             Obras  \n2                        2.0                Clima             Clima  \n3                        6.0  Humanos - Acidentes               Vei  \n4                        2.0              Animais           Animais  \n...                      ...                  ...               ...  \n7722                     1.0  Humanos - Acidentes             Obras  \n7723                     2.0  Humanos - Acidentes               Vei  \n7724                     7.0  Humanos - Acidentes               Vei  \n7725                     7.0  Humanos - Acidentes               Vei  \n7726                     1.0                Clima             Clima  \n\n[7717 rows x 46 columns]",
      "text/html": "<div>\n<style scoped>\n    .dataframe tbody tr th:only-of-type {\n        vertical-align: middle;\n    }\n\n    .dataframe tbody tr th {\n        vertical-align: top;\n    }\n\n    .dataframe thead th {\n        text-align: right;\n    }\n</style>\n<table border=\"1\" class=\"dataframe\">\n  <thead>\n    <tr style=\"text-align: right;\">\n      <th></th>\n      <th>codigo_do_relatorio</th>\n      <th>concelho</th>\n      <th>data_do_incidente</th>\n      <th>nivel_de_tensao</th>\n      <th>causa_do_incidente</th>\n      <th>duracao_incidente_min_</th>\n      <th>n_º_clientes_afetados</th>\n      <th>tiepi_mt_min_</th>\n      <th>saifi_mt_#_</th>\n      <th>saidi_mt_min_</th>\n      <th>...</th>\n      <th>count_zonab</th>\n      <th>count_zonac</th>\n      <th>total_concelho_zonas</th>\n      <th>percentagem_zonaa</th>\n      <th>percentagem_zonab</th>\n      <th>percentagem_zonac</th>\n      <th>soma_degree_rede_concelho</th>\n      <th>n_subestacoes_concelho</th>\n      <th>classe_da_causa_4</th>\n      <th>classe_da_causa_6</th>\n    </tr>\n  </thead>\n  <tbody>\n    <tr>\n      <th>0</th>\n      <td>EDPD_2018_JAN_T_1</td>\n      <td>ALMADA</td>\n      <td>2018-01-02</td>\n      <td>MT</td>\n      <td>Escavações</td>\n      <td>55</td>\n      <td>828</td>\n      <td>0.002935</td>\n      <td>0.000044</td>\n      <td>0.002456</td>\n      <td>...</td>\n      <td>63</td>\n      <td>14</td>\n      <td>179</td>\n      <td>0.569832</td>\n      <td>0.351955</td>\n      <td>0.078212</td>\n      <td>17.0</td>\n      <td>7.0</td>\n      <td>Humanos - Acidentes</td>\n      <td>Obras</td>\n    </tr>\n    <tr>\n      <th>1</th>\n      <td>EDPD_2018_JAN_T_2</td>\n      <td>SERTA</td>\n      <td>2018-01-02</td>\n      <td>MT</td>\n      <td>Abate De Árvores</td>\n      <td>163</td>\n      <td>549</td>\n      <td>0.002933</td>\n      <td>0.000177</td>\n      <td>0.016501</td>\n      <td>...</td>\n      <td>8</td>\n      <td>29</td>\n      <td>37</td>\n      <td>0.000000</td>\n      <td>0.216216</td>\n      <td>0.783784</td>\n      <td>1.0</td>\n      <td>1.0</td>\n      <td>Humanos - Acidentes</td>\n      <td>Obras</td>\n    </tr>\n    <tr>\n      <th>2</th>\n      <td>EDPD_2018_JAN_T_3</td>\n      <td>FELGUEIRAS</td>\n      <td>2018-01-04</td>\n      <td>MT</td>\n      <td>Deslizamento De Terras</td>\n      <td>596</td>\n      <td>3459</td>\n      <td>0.019228</td>\n      <td>0.000266</td>\n      <td>0.035905</td>\n      <td>...</td>\n      <td>32</td>\n      <td>13</td>\n      <td>45</td>\n      <td>0.000000</td>\n      <td>0.711111</td>\n      <td>0.288889</td>\n      <td>1.0</td>\n      <td>2.0</td>\n      <td>Clima</td>\n      <td>Clima</td>\n    </tr>\n    <tr>\n      <th>3</th>\n      <td>EDPD_2018_JAN_T_4</td>\n      <td>TORRES-VEDRAS</td>\n      <td>2018-01-05</td>\n      <td>BT</td>\n      <td>Veículos</td>\n      <td>178</td>\n      <td>102</td>\n      <td>0.000000</td>\n      <td>0.000000</td>\n      <td>0.000000</td>\n      <td>...</td>\n      <td>27</td>\n      <td>40</td>\n      <td>67</td>\n      <td>0.000000</td>\n      <td>0.402985</td>\n      <td>0.597015</td>\n      <td>6.0</td>\n      <td>6.0</td>\n      <td>Humanos - Acidentes</td>\n      <td>Vei</td>\n    </tr>\n    <tr>\n      <th>4</th>\n      <td>EDPD_2018_JAN_T_5</td>\n      <td>NISA</td>\n      <td>2018-01-09</td>\n      <td>MT</td>\n      <td>Aves</td>\n      <td>119</td>\n      <td>1731</td>\n      <td>0.004422</td>\n      <td>0.000155</td>\n      <td>0.010038</td>\n      <td>...</td>\n      <td>5</td>\n      <td>6</td>\n      <td>11</td>\n      <td>0.000000</td>\n      <td>0.454545</td>\n      <td>0.545455</td>\n      <td>0.0</td>\n      <td>2.0</td>\n      <td>Animais</td>\n      <td>Animais</td>\n    </tr>\n    <tr>\n      <th>...</th>\n      <td>...</td>\n      <td>...</td>\n      <td>...</td>\n      <td>...</td>\n      <td>...</td>\n      <td>...</td>\n      <td>...</td>\n      <td>...</td>\n      <td>...</td>\n      <td>...</td>\n      <td>...</td>\n      <td>...</td>\n      <td>...</td>\n      <td>...</td>\n      <td>...</td>\n      <td>...</td>\n      <td>...</td>\n      <td>...</td>\n      <td>...</td>\n      <td>...</td>\n      <td>...</td>\n    </tr>\n    <tr>\n      <th>7722</th>\n      <td>EDPD_2017_NOV_T_61</td>\n      <td>ESPOSENDE</td>\n      <td>2017-11-25</td>\n      <td>BT</td>\n      <td>Escavações</td>\n      <td>235</td>\n      <td>2</td>\n      <td>0.000000</td>\n      <td>0.000000</td>\n      <td>0.000000</td>\n      <td>...</td>\n      <td>14</td>\n      <td>12</td>\n      <td>26</td>\n      <td>0.000000</td>\n      <td>0.538462</td>\n      <td>0.461538</td>\n      <td>0.0</td>\n      <td>1.0</td>\n      <td>Humanos - Acidentes</td>\n      <td>Obras</td>\n    </tr>\n    <tr>\n      <th>7723</th>\n      <td>EDPD_2017_NOV_T_62</td>\n      <td>OVAR</td>\n      <td>2017-11-29</td>\n      <td>BT</td>\n      <td>Veículos</td>\n      <td>220</td>\n      <td>2</td>\n      <td>0.000000</td>\n      <td>0.000000</td>\n      <td>0.000000</td>\n      <td>...</td>\n      <td>38</td>\n      <td>18</td>\n      <td>56</td>\n      <td>0.000000</td>\n      <td>0.678571</td>\n      <td>0.321429</td>\n      <td>4.0</td>\n      <td>2.0</td>\n      <td>Humanos - Acidentes</td>\n      <td>Vei</td>\n    </tr>\n    <tr>\n      <th>7724</th>\n      <td>EDPD_2017_NOV_T_63</td>\n      <td>SANTA-MARIA-DA-FEIRA</td>\n      <td>2017-11-03</td>\n      <td>BT</td>\n      <td>Veículos</td>\n      <td>92</td>\n      <td>1</td>\n      <td>0.000000</td>\n      <td>0.000000</td>\n      <td>0.000000</td>\n      <td>...</td>\n      <td>32</td>\n      <td>36</td>\n      <td>68</td>\n      <td>0.000000</td>\n      <td>0.470588</td>\n      <td>0.529412</td>\n      <td>10.0</td>\n      <td>7.0</td>\n      <td>Humanos - Acidentes</td>\n      <td>Vei</td>\n    </tr>\n    <tr>\n      <th>7725</th>\n      <td>EDPD_2017_NOV_T_64</td>\n      <td>SANTA-MARIA-DA-FEIRA</td>\n      <td>2017-11-23</td>\n      <td>BT</td>\n      <td>Veículos</td>\n      <td>121</td>\n      <td>1</td>\n      <td>0.000000</td>\n      <td>0.000000</td>\n      <td>0.000000</td>\n      <td>...</td>\n      <td>32</td>\n      <td>36</td>\n      <td>68</td>\n      <td>0.000000</td>\n      <td>0.470588</td>\n      <td>0.529412</td>\n      <td>10.0</td>\n      <td>7.0</td>\n      <td>Humanos - Acidentes</td>\n      <td>Vei</td>\n    </tr>\n    <tr>\n      <th>7726</th>\n      <td>EDPD_2017_NOV_T_65</td>\n      <td>ALMEIRIM</td>\n      <td>2017-11-03</td>\n      <td>BT</td>\n      <td>Descarga Atmosférica Directa</td>\n      <td>154</td>\n      <td>1</td>\n      <td>0.000000</td>\n      <td>0.000000</td>\n      <td>0.000000</td>\n      <td>...</td>\n      <td>26</td>\n      <td>6</td>\n      <td>32</td>\n      <td>0.000000</td>\n      <td>0.812500</td>\n      <td>0.187500</td>\n      <td>1.0</td>\n      <td>1.0</td>\n      <td>Clima</td>\n      <td>Clima</td>\n    </tr>\n  </tbody>\n</table>\n<p>7717 rows × 46 columns</p>\n</div>"
     },
     "execution_count": 160,
     "metadata": {},
     "output_type": "execute_result"
    }
   ],
   "source": [
    "# TIRAR TODOS que comecao com IGI\n",
    "eventos = eventos[~eventos.codigo_do_relatorio.str.startswith(\"IGI\")]\n",
    "eventos"
   ],
   "metadata": {
    "collapsed": false,
    "ExecuteTime": {
     "end_time": "2024-05-26T02:14:21.727791Z",
     "start_time": "2024-05-26T02:14:21.706915Z"
    }
   },
   "id": "4bae359cf051c949",
   "execution_count": 160
  },
  {
   "cell_type": "code",
   "outputs": [
    {
     "name": "stderr",
     "output_type": "stream",
     "text": [
      "C:\\Users\\Plancha\\AppData\\Local\\Temp\\ipykernel_9208\\2270156183.py:4: SettingWithCopyWarning: \n",
      "A value is trying to be set on a copy of a slice from a DataFrame.\n",
      "Try using .loc[row_indexer,col_indexer] = value instead\n",
      "\n",
      "See the caveats in the documentation: https://pandas.pydata.org/pandas-docs/stable/user_guide/indexing.html#returning-a-view-versus-a-copy\n",
      "  eventos[\"perc_prim\"] = eventos.setor_primario / (eventos.setor_primario + eventos.setor_secundario + eventos.setor_terciario)\n",
      "C:\\Users\\Plancha\\AppData\\Local\\Temp\\ipykernel_9208\\2270156183.py:5: SettingWithCopyWarning: \n",
      "A value is trying to be set on a copy of a slice from a DataFrame.\n",
      "Try using .loc[row_indexer,col_indexer] = value instead\n",
      "\n",
      "See the caveats in the documentation: https://pandas.pydata.org/pandas-docs/stable/user_guide/indexing.html#returning-a-view-versus-a-copy\n",
      "  eventos[\"perc_sec\"] = eventos.setor_secundario / (eventos.setor_primario + eventos.setor_secundario + eventos.setor_terciario)\n",
      "C:\\Users\\Plancha\\AppData\\Local\\Temp\\ipykernel_9208\\2270156183.py:6: SettingWithCopyWarning: \n",
      "A value is trying to be set on a copy of a slice from a DataFrame.\n",
      "Try using .loc[row_indexer,col_indexer] = value instead\n",
      "\n",
      "See the caveats in the documentation: https://pandas.pydata.org/pandas-docs/stable/user_guide/indexing.html#returning-a-view-versus-a-copy\n",
      "  eventos[\"perc_terc\"] = eventos.setor_terciario / (eventos.setor_primario + eventos.setor_secundario + eventos.setor_terciario)\n"
     ]
    },
    {
     "data": {
      "text/plain": "      setor_primario  setor_secundario  setor_terciario  perc_prim  perc_sec  \\\n0                384             10044            63062   0.005225  0.136672   \n1                348              1521             3677   0.062748  0.274252   \n2                384             16110            10154   0.014410  0.604548   \n3               2672              9211            25840   0.070832  0.244175   \n4                165               385             1510   0.080097  0.186893   \n...              ...               ...              ...        ...       ...   \n7722             586              6463             9394   0.035638  0.393055   \n7723             290             10052            14465   0.011690  0.405208   \n7724             405             27541            33907   0.006548  0.445265   \n7725             405             27541            33907   0.006548  0.445265   \n7726            1148              1863             6030   0.126977  0.206061   \n\n      perc_terc  \n0      0.858103  \n1      0.663000  \n2      0.381042  \n3      0.684993  \n4      0.733010  \n...         ...  \n7722   0.571307  \n7723   0.583102  \n7724   0.548187  \n7725   0.548187  \n7726   0.666962  \n\n[7717 rows x 6 columns]",
      "text/html": "<div>\n<style scoped>\n    .dataframe tbody tr th:only-of-type {\n        vertical-align: middle;\n    }\n\n    .dataframe tbody tr th {\n        vertical-align: top;\n    }\n\n    .dataframe thead th {\n        text-align: right;\n    }\n</style>\n<table border=\"1\" class=\"dataframe\">\n  <thead>\n    <tr style=\"text-align: right;\">\n      <th></th>\n      <th>setor_primario</th>\n      <th>setor_secundario</th>\n      <th>setor_terciario</th>\n      <th>perc_prim</th>\n      <th>perc_sec</th>\n      <th>perc_terc</th>\n    </tr>\n  </thead>\n  <tbody>\n    <tr>\n      <th>0</th>\n      <td>384</td>\n      <td>10044</td>\n      <td>63062</td>\n      <td>0.005225</td>\n      <td>0.136672</td>\n      <td>0.858103</td>\n    </tr>\n    <tr>\n      <th>1</th>\n      <td>348</td>\n      <td>1521</td>\n      <td>3677</td>\n      <td>0.062748</td>\n      <td>0.274252</td>\n      <td>0.663000</td>\n    </tr>\n    <tr>\n      <th>2</th>\n      <td>384</td>\n      <td>16110</td>\n      <td>10154</td>\n      <td>0.014410</td>\n      <td>0.604548</td>\n      <td>0.381042</td>\n    </tr>\n    <tr>\n      <th>3</th>\n      <td>2672</td>\n      <td>9211</td>\n      <td>25840</td>\n      <td>0.070832</td>\n      <td>0.244175</td>\n      <td>0.684993</td>\n    </tr>\n    <tr>\n      <th>4</th>\n      <td>165</td>\n      <td>385</td>\n      <td>1510</td>\n      <td>0.080097</td>\n      <td>0.186893</td>\n      <td>0.733010</td>\n    </tr>\n    <tr>\n      <th>...</th>\n      <td>...</td>\n      <td>...</td>\n      <td>...</td>\n      <td>...</td>\n      <td>...</td>\n      <td>...</td>\n    </tr>\n    <tr>\n      <th>7722</th>\n      <td>586</td>\n      <td>6463</td>\n      <td>9394</td>\n      <td>0.035638</td>\n      <td>0.393055</td>\n      <td>0.571307</td>\n    </tr>\n    <tr>\n      <th>7723</th>\n      <td>290</td>\n      <td>10052</td>\n      <td>14465</td>\n      <td>0.011690</td>\n      <td>0.405208</td>\n      <td>0.583102</td>\n    </tr>\n    <tr>\n      <th>7724</th>\n      <td>405</td>\n      <td>27541</td>\n      <td>33907</td>\n      <td>0.006548</td>\n      <td>0.445265</td>\n      <td>0.548187</td>\n    </tr>\n    <tr>\n      <th>7725</th>\n      <td>405</td>\n      <td>27541</td>\n      <td>33907</td>\n      <td>0.006548</td>\n      <td>0.445265</td>\n      <td>0.548187</td>\n    </tr>\n    <tr>\n      <th>7726</th>\n      <td>1148</td>\n      <td>1863</td>\n      <td>6030</td>\n      <td>0.126977</td>\n      <td>0.206061</td>\n      <td>0.666962</td>\n    </tr>\n  </tbody>\n</table>\n<p>7717 rows × 6 columns</p>\n</div>"
     },
     "execution_count": 161,
     "metadata": {},
     "output_type": "execute_result"
    }
   ],
   "source": [
    "# fazer percentagem de setor_primario, setor_secundario, setor_terciario\n",
    "# perc_prim = setor_primario / sum(setor_primario, setor_secundario, setor_terciario) na linha\n",
    "\n",
    "eventos[\"perc_prim\"] = eventos.setor_primario / (eventos.setor_primario + eventos.setor_secundario + eventos.setor_terciario)\n",
    "eventos[\"perc_sec\"] = eventos.setor_secundario / (eventos.setor_primario + eventos.setor_secundario + eventos.setor_terciario)\n",
    "eventos[\"perc_terc\"] = eventos.setor_terciario / (eventos.setor_primario + eventos.setor_secundario + eventos.setor_terciario)\n",
    "eventos.select_columns(\"setor_primario\", \"setor_secundario\", \"setor_terciario\", \"perc_prim\", \"perc_sec\", \"perc_terc\")"
   ],
   "metadata": {
    "collapsed": false,
    "ExecuteTime": {
     "end_time": "2024-05-26T02:14:21.745015Z",
     "start_time": "2024-05-26T02:14:21.733787Z"
    }
   },
   "id": "d668b93584cbf75b",
   "execution_count": 161
  },
  {
   "cell_type": "code",
   "outputs": [
    {
     "data": {
      "text/plain": "    ano  count\n0  2014   1692\n2  2015    982\n1  2016   1174\n3  2017    947\n4  2018    583\n7  2019    473\n5  2020    506\n6  2021    505\n8  2022    441\n9  2023    414",
      "text/html": "<div>\n<style scoped>\n    .dataframe tbody tr th:only-of-type {\n        vertical-align: middle;\n    }\n\n    .dataframe tbody tr th {\n        vertical-align: top;\n    }\n\n    .dataframe thead th {\n        text-align: right;\n    }\n</style>\n<table border=\"1\" class=\"dataframe\">\n  <thead>\n    <tr style=\"text-align: right;\">\n      <th></th>\n      <th>ano</th>\n      <th>count</th>\n    </tr>\n  </thead>\n  <tbody>\n    <tr>\n      <th>0</th>\n      <td>2014</td>\n      <td>1692</td>\n    </tr>\n    <tr>\n      <th>2</th>\n      <td>2015</td>\n      <td>982</td>\n    </tr>\n    <tr>\n      <th>1</th>\n      <td>2016</td>\n      <td>1174</td>\n    </tr>\n    <tr>\n      <th>3</th>\n      <td>2017</td>\n      <td>947</td>\n    </tr>\n    <tr>\n      <th>4</th>\n      <td>2018</td>\n      <td>583</td>\n    </tr>\n    <tr>\n      <th>7</th>\n      <td>2019</td>\n      <td>473</td>\n    </tr>\n    <tr>\n      <th>5</th>\n      <td>2020</td>\n      <td>506</td>\n    </tr>\n    <tr>\n      <th>6</th>\n      <td>2021</td>\n      <td>505</td>\n    </tr>\n    <tr>\n      <th>8</th>\n      <td>2022</td>\n      <td>441</td>\n    </tr>\n    <tr>\n      <th>9</th>\n      <td>2023</td>\n      <td>414</td>\n    </tr>\n  </tbody>\n</table>\n</div>"
     },
     "execution_count": 162,
     "metadata": {},
     "output_type": "execute_result"
    }
   ],
   "source": [
    "# nº eventos por ano\n",
    "eventos.value_counts(\"ano\").reset_index().sort_values(\"ano\")"
   ],
   "metadata": {
    "collapsed": false,
    "ExecuteTime": {
     "end_time": "2024-05-26T02:14:21.781205Z",
     "start_time": "2024-05-26T02:14:21.775013Z"
    }
   },
   "id": "cac4e5768f64396c",
   "execution_count": 162
  },
  {
   "cell_type": "code",
   "outputs": [],
   "source": [
    "# drop lines before 2018\n",
    "eventos = eventos[eventos.ano >= 2018]"
   ],
   "metadata": {
    "collapsed": false,
    "ExecuteTime": {
     "end_time": "2024-05-26T02:14:21.829860Z",
     "start_time": "2024-05-26T02:14:21.825859Z"
    }
   },
   "id": "be8add9ddfcd0436",
   "execution_count": 163
  },
  {
   "cell_type": "code",
   "outputs": [
    {
     "data": {
      "text/plain": "      tiepi_mt_min_  saifi_mt_#_  saidi_mt_min_  end_mwh_  saifi_bt_#_  \\\n27           15.900       0.0794          36.00       NaN       0.0575   \n468          58.229       0.2380            NaN       NaN       0.1850   \n1979          1.860       0.0626           3.96       NaN       0.0492   \n2294          1.550       0.0728           3.41       NaN       0.0559   \n2392         52.900       0.6850          95.50       NaN       0.5250   \n\n      saidi_bt_min_  n_º_clientes_afetados   decisao  \n27           27.700                 243762  Aprovado  \n468          85.743                 785581  Aprovado  \n1979          3.010                 240299  Aprovado  \n2294          2.520                 289546  Aprovado  \n2392         73.800                1699906  Aprovado  ",
      "text/html": "<div>\n<style scoped>\n    .dataframe tbody tr th:only-of-type {\n        vertical-align: middle;\n    }\n\n    .dataframe tbody tr th {\n        vertical-align: top;\n    }\n\n    .dataframe thead th {\n        text-align: right;\n    }\n</style>\n<table border=\"1\" class=\"dataframe\">\n  <thead>\n    <tr style=\"text-align: right;\">\n      <th></th>\n      <th>tiepi_mt_min_</th>\n      <th>saifi_mt_#_</th>\n      <th>saidi_mt_min_</th>\n      <th>end_mwh_</th>\n      <th>saifi_bt_#_</th>\n      <th>saidi_bt_min_</th>\n      <th>n_º_clientes_afetados</th>\n      <th>decisao</th>\n    </tr>\n  </thead>\n  <tbody>\n    <tr>\n      <th>27</th>\n      <td>15.900</td>\n      <td>0.0794</td>\n      <td>36.00</td>\n      <td>NaN</td>\n      <td>0.0575</td>\n      <td>27.700</td>\n      <td>243762</td>\n      <td>Aprovado</td>\n    </tr>\n    <tr>\n      <th>468</th>\n      <td>58.229</td>\n      <td>0.2380</td>\n      <td>NaN</td>\n      <td>NaN</td>\n      <td>0.1850</td>\n      <td>85.743</td>\n      <td>785581</td>\n      <td>Aprovado</td>\n    </tr>\n    <tr>\n      <th>1979</th>\n      <td>1.860</td>\n      <td>0.0626</td>\n      <td>3.96</td>\n      <td>NaN</td>\n      <td>0.0492</td>\n      <td>3.010</td>\n      <td>240299</td>\n      <td>Aprovado</td>\n    </tr>\n    <tr>\n      <th>2294</th>\n      <td>1.550</td>\n      <td>0.0728</td>\n      <td>3.41</td>\n      <td>NaN</td>\n      <td>0.0559</td>\n      <td>2.520</td>\n      <td>289546</td>\n      <td>Aprovado</td>\n    </tr>\n    <tr>\n      <th>2392</th>\n      <td>52.900</td>\n      <td>0.6850</td>\n      <td>95.50</td>\n      <td>NaN</td>\n      <td>0.5250</td>\n      <td>73.800</td>\n      <td>1699906</td>\n      <td>Aprovado</td>\n    </tr>\n  </tbody>\n</table>\n</div>"
     },
     "execution_count": 164,
     "metadata": {},
     "output_type": "execute_result"
    }
   ],
   "source": [
    "# find where in these columns is na\n",
    "eventos_missing = eventos[eventos[\"tiepi_mt_min_\"].isna() | eventos[\"saifi_mt_#_\"].isna() | eventos[\"saidi_mt_min_\"].isna() | eventos[\"end_mwh_\"].isna() | eventos[\"saifi_bt_#_\"].isna() | eventos[\"saidi_bt_min_\"].isna() ]\n",
    "eventos_missing.select_columns(\"tiepi_mt_min_\", \"saifi_mt_#_\", \"saidi_mt_min_\", \"end_mwh_\", \"saifi_bt_#_\", \"saidi_bt_min_\", \"n_º_clientes_afetados\", \"decisao\")"
   ],
   "metadata": {
    "collapsed": false,
    "ExecuteTime": {
     "end_time": "2024-05-26T02:14:21.944096Z",
     "start_time": "2024-05-26T02:14:21.934849Z"
    }
   },
   "id": "2e65ddb75c777440",
   "execution_count": 164
  },
  {
   "cell_type": "code",
   "outputs": [
    {
     "name": "stderr",
     "output_type": "stream",
     "text": [
      "C:\\Users\\Plancha\\AppData\\Local\\Temp\\ipykernel_9208\\2869644314.py:6: SettingWithCopyWarning: \n",
      "A value is trying to be set on a copy of a slice from a DataFrame.\n",
      "Try using .loc[row_indexer,col_indexer] = value instead\n",
      "\n",
      "See the caveats in the documentation: https://pandas.pydata.org/pandas-docs/stable/user_guide/indexing.html#returning-a-view-versus-a-copy\n",
      "  eventos_inputation[\"decisao\"] = eventos_inputation[\"decisao\"].astype(\"category\")\n"
     ]
    },
    {
     "data": {
      "text/plain": "      tiepi_mt_min_  saifi_mt_#_  saidi_mt_min_  end_mwh_  saifi_bt_#_  \\\n27           15.900       0.0794          36.00    48.327       0.0575   \n468          58.229       0.2380           3.41    52.336       0.1850   \n1979          1.860       0.0626           3.96    48.327       0.0492   \n2294          1.550       0.0728           3.41    60.217       0.0559   \n2392         52.900       0.6850          95.50    60.217       0.5250   \n\n      saidi_bt_min_  n_º_clientes_afetados   decisao  \n27           27.700                 243762  Aprovado  \n468          85.743                 785581  Aprovado  \n1979          3.010                 240299  Aprovado  \n2294          2.520                 289546  Aprovado  \n2392         73.800                1699906  Aprovado  ",
      "text/html": "<div>\n<style scoped>\n    .dataframe tbody tr th:only-of-type {\n        vertical-align: middle;\n    }\n\n    .dataframe tbody tr th {\n        vertical-align: top;\n    }\n\n    .dataframe thead th {\n        text-align: right;\n    }\n</style>\n<table border=\"1\" class=\"dataframe\">\n  <thead>\n    <tr style=\"text-align: right;\">\n      <th></th>\n      <th>tiepi_mt_min_</th>\n      <th>saifi_mt_#_</th>\n      <th>saidi_mt_min_</th>\n      <th>end_mwh_</th>\n      <th>saifi_bt_#_</th>\n      <th>saidi_bt_min_</th>\n      <th>n_º_clientes_afetados</th>\n      <th>decisao</th>\n    </tr>\n  </thead>\n  <tbody>\n    <tr>\n      <th>27</th>\n      <td>15.900</td>\n      <td>0.0794</td>\n      <td>36.00</td>\n      <td>48.327</td>\n      <td>0.0575</td>\n      <td>27.700</td>\n      <td>243762</td>\n      <td>Aprovado</td>\n    </tr>\n    <tr>\n      <th>468</th>\n      <td>58.229</td>\n      <td>0.2380</td>\n      <td>3.41</td>\n      <td>52.336</td>\n      <td>0.1850</td>\n      <td>85.743</td>\n      <td>785581</td>\n      <td>Aprovado</td>\n    </tr>\n    <tr>\n      <th>1979</th>\n      <td>1.860</td>\n      <td>0.0626</td>\n      <td>3.96</td>\n      <td>48.327</td>\n      <td>0.0492</td>\n      <td>3.010</td>\n      <td>240299</td>\n      <td>Aprovado</td>\n    </tr>\n    <tr>\n      <th>2294</th>\n      <td>1.550</td>\n      <td>0.0728</td>\n      <td>3.41</td>\n      <td>60.217</td>\n      <td>0.0559</td>\n      <td>2.520</td>\n      <td>289546</td>\n      <td>Aprovado</td>\n    </tr>\n    <tr>\n      <th>2392</th>\n      <td>52.900</td>\n      <td>0.6850</td>\n      <td>95.50</td>\n      <td>60.217</td>\n      <td>0.5250</td>\n      <td>73.800</td>\n      <td>1699906</td>\n      <td>Aprovado</td>\n    </tr>\n  </tbody>\n</table>\n</div>"
     },
     "execution_count": 165,
     "metadata": {},
     "output_type": "execute_result"
    }
   ],
   "source": [
    "# inputar regressão usando as outras vars estes 5 no saidi_mt_min_\n",
    "import miceforest as mf\n",
    "\n",
    "eventos_inputation = eventos.select_columns(\"tiepi_mt_min_\", \"saifi_mt_#_\", \"saidi_mt_min_\", \"end_mwh_\", \"saifi_bt_#_\", \"saidi_bt_min_\", \"n_º_clientes_afetados\", \"decisao\")\n",
    "# change decisao para categorica\n",
    "eventos_inputation[\"decisao\"] = eventos_inputation[\"decisao\"].astype(\"category\")\n",
    "kds = mf.ImputationKernel(eventos_inputation, random_state=1991)\n",
    "kds.mice(10, n_estimators=50)\n",
    "eventos_inputation_complete = kds.complete_data()\n",
    "# check lines that were missing\n",
    "eventos_inputation_complete.loc[eventos_missing.index]"
   ],
   "metadata": {
    "collapsed": false,
    "ExecuteTime": {
     "end_time": "2024-05-26T02:14:23.502043Z",
     "start_time": "2024-05-26T02:14:21.998612Z"
    }
   },
   "id": "cf74a29d619a9f76",
   "execution_count": 165
  },
  {
   "cell_type": "code",
   "outputs": [
    {
     "data": {
      "text/plain": "      tiepi_mt_min_  saifi_mt_#_  saidi_mt_min_  end_mwh_  saifi_bt_#_  \\\n27           15.900       0.0794          36.00    48.327       0.0575   \n468          58.229       0.2380           3.41    52.336       0.1850   \n1979          1.860       0.0626           3.96    48.327       0.0492   \n2294          1.550       0.0728           3.41    60.217       0.0559   \n2392         52.900       0.6850          95.50    60.217       0.5250   \n\n      saidi_bt_min_  n_º_clientes_afetados   decisao  \n27           27.700                 243762  Aprovado  \n468          85.743                 785581  Aprovado  \n1979          3.010                 240299  Aprovado  \n2294          2.520                 289546  Aprovado  \n2392         73.800                1699906  Aprovado  ",
      "text/html": "<div>\n<style scoped>\n    .dataframe tbody tr th:only-of-type {\n        vertical-align: middle;\n    }\n\n    .dataframe tbody tr th {\n        vertical-align: top;\n    }\n\n    .dataframe thead th {\n        text-align: right;\n    }\n</style>\n<table border=\"1\" class=\"dataframe\">\n  <thead>\n    <tr style=\"text-align: right;\">\n      <th></th>\n      <th>tiepi_mt_min_</th>\n      <th>saifi_mt_#_</th>\n      <th>saidi_mt_min_</th>\n      <th>end_mwh_</th>\n      <th>saifi_bt_#_</th>\n      <th>saidi_bt_min_</th>\n      <th>n_º_clientes_afetados</th>\n      <th>decisao</th>\n    </tr>\n  </thead>\n  <tbody>\n    <tr>\n      <th>27</th>\n      <td>15.900</td>\n      <td>0.0794</td>\n      <td>36.00</td>\n      <td>48.327</td>\n      <td>0.0575</td>\n      <td>27.700</td>\n      <td>243762</td>\n      <td>Aprovado</td>\n    </tr>\n    <tr>\n      <th>468</th>\n      <td>58.229</td>\n      <td>0.2380</td>\n      <td>3.41</td>\n      <td>52.336</td>\n      <td>0.1850</td>\n      <td>85.743</td>\n      <td>785581</td>\n      <td>Aprovado</td>\n    </tr>\n    <tr>\n      <th>1979</th>\n      <td>1.860</td>\n      <td>0.0626</td>\n      <td>3.96</td>\n      <td>48.327</td>\n      <td>0.0492</td>\n      <td>3.010</td>\n      <td>240299</td>\n      <td>Aprovado</td>\n    </tr>\n    <tr>\n      <th>2294</th>\n      <td>1.550</td>\n      <td>0.0728</td>\n      <td>3.41</td>\n      <td>60.217</td>\n      <td>0.0559</td>\n      <td>2.520</td>\n      <td>289546</td>\n      <td>Aprovado</td>\n    </tr>\n    <tr>\n      <th>2392</th>\n      <td>52.900</td>\n      <td>0.6850</td>\n      <td>95.50</td>\n      <td>60.217</td>\n      <td>0.5250</td>\n      <td>73.800</td>\n      <td>1699906</td>\n      <td>Aprovado</td>\n    </tr>\n  </tbody>\n</table>\n</div>"
     },
     "execution_count": 166,
     "metadata": {},
     "output_type": "execute_result"
    }
   ],
   "source": [
    "eventos_inputation_complete.loc[eventos_missing.index]\n"
   ],
   "metadata": {
    "collapsed": false,
    "ExecuteTime": {
     "end_time": "2024-05-26T02:14:23.516056Z",
     "start_time": "2024-05-26T02:14:23.503039Z"
    }
   },
   "id": "5ccc0eb8e737f014",
   "execution_count": 166
  },
  {
   "cell_type": "code",
   "outputs": [
    {
     "data": {
      "text/plain": "     codigo_do_relatorio   concelho data_do_incidente nivel_de_tensao  \\\n27    EDPD_2018_FEV_TC_1     LAMEGO        2018-02-27              AT   \n468   EDPD_2018_OUT_TC_1     AGUEDA        2018-10-13              AT   \n1979  EDPD_2019_FEV_TC_1   BRAGANCA        2019-02-01              AT   \n2294  EDPD_2019_AGO_TC_1   BRAGANCA        2019-08-25              AT   \n2392  EDPD_2019_DEZ_TC_1  VILA-REAL        2019-12-18              AT   \n\n                         causa_do_incidente duracao_incidente_min_  \\\n27    Neve/Gelo/Granizo Condição Excecional                   4980   \n468           Vento Intensidade Excepcional                  11580   \n1979          Vento Intensidade Excepcional                    900   \n2294           Descarga Atmosférica Directa                   1920   \n2392          Vento Intensidade Excepcional                   9060   \n\n      n_º_clientes_afetados  tiepi_mt_min_  saifi_mt_#_  saidi_mt_min_  ...  \\\n27                   243762         15.900       0.0794          36.00  ...   \n468                  785581         58.229       0.2380           3.41  ...   \n1979                 240299          1.860       0.0626           3.96  ...   \n2294                 289546          1.550       0.0728           3.41  ...   \n2392                1699906         52.900       0.6850          95.50  ...   \n\n      percentagem_zonaa  percentagem_zonab  percentagem_zonac  \\\n27             0.000000           0.695652           0.304348   \n468            0.000000           0.259259           0.740741   \n1979           0.841270           0.000000           0.158730   \n2294           0.841270           0.000000           0.158730   \n2392           0.753247           0.000000           0.246753   \n\n     soma_degree_rede_concelho n_subestacoes_concelho classe_da_causa_4  \\\n27                         3.0                    3.0             Clima   \n468                        1.0                    2.0             Clima   \n1979                       0.0                    1.0             Clima   \n2294                       0.0                    1.0             Clima   \n2392                       3.0                    2.0             Clima   \n\n      classe_da_causa_6  perc_prim  perc_sec perc_terc  \n27                Clima   0.091821  0.194972  0.713207  \n468               Clima   0.015297  0.486952  0.497750  \n1979              Clima   0.044475  0.171124  0.784401  \n2294              Clima   0.044475  0.171124  0.784401  \n2392              Clima   0.041729  0.166823  0.791447  \n\n[5 rows x 49 columns]",
      "text/html": "<div>\n<style scoped>\n    .dataframe tbody tr th:only-of-type {\n        vertical-align: middle;\n    }\n\n    .dataframe tbody tr th {\n        vertical-align: top;\n    }\n\n    .dataframe thead th {\n        text-align: right;\n    }\n</style>\n<table border=\"1\" class=\"dataframe\">\n  <thead>\n    <tr style=\"text-align: right;\">\n      <th></th>\n      <th>codigo_do_relatorio</th>\n      <th>concelho</th>\n      <th>data_do_incidente</th>\n      <th>nivel_de_tensao</th>\n      <th>causa_do_incidente</th>\n      <th>duracao_incidente_min_</th>\n      <th>n_º_clientes_afetados</th>\n      <th>tiepi_mt_min_</th>\n      <th>saifi_mt_#_</th>\n      <th>saidi_mt_min_</th>\n      <th>...</th>\n      <th>percentagem_zonaa</th>\n      <th>percentagem_zonab</th>\n      <th>percentagem_zonac</th>\n      <th>soma_degree_rede_concelho</th>\n      <th>n_subestacoes_concelho</th>\n      <th>classe_da_causa_4</th>\n      <th>classe_da_causa_6</th>\n      <th>perc_prim</th>\n      <th>perc_sec</th>\n      <th>perc_terc</th>\n    </tr>\n  </thead>\n  <tbody>\n    <tr>\n      <th>27</th>\n      <td>EDPD_2018_FEV_TC_1</td>\n      <td>LAMEGO</td>\n      <td>2018-02-27</td>\n      <td>AT</td>\n      <td>Neve/Gelo/Granizo Condição Excecional</td>\n      <td>4980</td>\n      <td>243762</td>\n      <td>15.900</td>\n      <td>0.0794</td>\n      <td>36.00</td>\n      <td>...</td>\n      <td>0.000000</td>\n      <td>0.695652</td>\n      <td>0.304348</td>\n      <td>3.0</td>\n      <td>3.0</td>\n      <td>Clima</td>\n      <td>Clima</td>\n      <td>0.091821</td>\n      <td>0.194972</td>\n      <td>0.713207</td>\n    </tr>\n    <tr>\n      <th>468</th>\n      <td>EDPD_2018_OUT_TC_1</td>\n      <td>AGUEDA</td>\n      <td>2018-10-13</td>\n      <td>AT</td>\n      <td>Vento Intensidade Excepcional</td>\n      <td>11580</td>\n      <td>785581</td>\n      <td>58.229</td>\n      <td>0.2380</td>\n      <td>3.41</td>\n      <td>...</td>\n      <td>0.000000</td>\n      <td>0.259259</td>\n      <td>0.740741</td>\n      <td>1.0</td>\n      <td>2.0</td>\n      <td>Clima</td>\n      <td>Clima</td>\n      <td>0.015297</td>\n      <td>0.486952</td>\n      <td>0.497750</td>\n    </tr>\n    <tr>\n      <th>1979</th>\n      <td>EDPD_2019_FEV_TC_1</td>\n      <td>BRAGANCA</td>\n      <td>2019-02-01</td>\n      <td>AT</td>\n      <td>Vento Intensidade Excepcional</td>\n      <td>900</td>\n      <td>240299</td>\n      <td>1.860</td>\n      <td>0.0626</td>\n      <td>3.96</td>\n      <td>...</td>\n      <td>0.841270</td>\n      <td>0.000000</td>\n      <td>0.158730</td>\n      <td>0.0</td>\n      <td>1.0</td>\n      <td>Clima</td>\n      <td>Clima</td>\n      <td>0.044475</td>\n      <td>0.171124</td>\n      <td>0.784401</td>\n    </tr>\n    <tr>\n      <th>2294</th>\n      <td>EDPD_2019_AGO_TC_1</td>\n      <td>BRAGANCA</td>\n      <td>2019-08-25</td>\n      <td>AT</td>\n      <td>Descarga Atmosférica Directa</td>\n      <td>1920</td>\n      <td>289546</td>\n      <td>1.550</td>\n      <td>0.0728</td>\n      <td>3.41</td>\n      <td>...</td>\n      <td>0.841270</td>\n      <td>0.000000</td>\n      <td>0.158730</td>\n      <td>0.0</td>\n      <td>1.0</td>\n      <td>Clima</td>\n      <td>Clima</td>\n      <td>0.044475</td>\n      <td>0.171124</td>\n      <td>0.784401</td>\n    </tr>\n    <tr>\n      <th>2392</th>\n      <td>EDPD_2019_DEZ_TC_1</td>\n      <td>VILA-REAL</td>\n      <td>2019-12-18</td>\n      <td>AT</td>\n      <td>Vento Intensidade Excepcional</td>\n      <td>9060</td>\n      <td>1699906</td>\n      <td>52.900</td>\n      <td>0.6850</td>\n      <td>95.50</td>\n      <td>...</td>\n      <td>0.753247</td>\n      <td>0.000000</td>\n      <td>0.246753</td>\n      <td>3.0</td>\n      <td>2.0</td>\n      <td>Clima</td>\n      <td>Clima</td>\n      <td>0.041729</td>\n      <td>0.166823</td>\n      <td>0.791447</td>\n    </tr>\n  </tbody>\n</table>\n<p>5 rows × 49 columns</p>\n</div>"
     },
     "execution_count": 167,
     "metadata": {},
     "output_type": "execute_result"
    }
   ],
   "source": [
    "# put them back in eventos\n",
    "for col in eventos_inputation_complete.columns:\n",
    "  eventos.loc[eventos_missing.index, col] = eventos_inputation_complete.loc[eventos_missing.index, col]\n",
    "eventos.loc[eventos_missing.index]"
   ],
   "metadata": {
    "collapsed": false,
    "ExecuteTime": {
     "end_time": "2024-05-26T02:14:23.542888Z",
     "start_time": "2024-05-26T02:14:23.517056Z"
    }
   },
   "id": "6eddcf2a0e8a042f",
   "execution_count": 167
  },
  {
   "cell_type": "code",
   "outputs": [],
   "source": [
    "eventos_inputation_complete.to_feather(here(\"data/before_pcas.feather\"))"
   ],
   "metadata": {
    "collapsed": false,
    "ExecuteTime": {
     "end_time": "2024-05-26T02:14:23.559346Z",
     "start_time": "2024-05-26T02:14:23.546349Z"
    }
   },
   "id": "1d3789688088a936",
   "execution_count": 168
  },
  {
   "cell_type": "code",
   "outputs": [],
   "source": [
    "# TODO add imputated temperature values\n",
    "# TODO 360 that degree thing"
   ],
   "metadata": {
    "collapsed": false,
    "ExecuteTime": {
     "end_time": "2024-05-26T02:14:23.563419Z",
     "start_time": "2024-05-26T02:14:23.560346Z"
    }
   },
   "id": "4f066b5fc2fe42f8",
   "execution_count": 169
  },
  {
   "cell_type": "code",
   "outputs": [
    {
     "data": {
      "text/plain": "Index(['codigo_do_relatorio', 'concelho', 'data_do_incidente',\n       'nivel_de_tensao', 'causa_do_incidente', 'duracao_incidente_min_',\n       'n_º_clientes_afetados', 'tiepi_mt_min_', 'saifi_mt_#_',\n       'saidi_mt_min_', 'end_mwh_', 'saifi_bt_#_', 'saidi_bt_min_',\n       'qualidade_de_energia_eletrica', 'qualidade_de_servico_comercial',\n       'decisao', 'dia', 'mes', 'ano', 'distrito', 'densidade_populacional',\n       'populacao_residente', 'setor_primario', 'setor_secundario',\n       'setor_terciario', 'indice_de_envelhecimento', 'rural', 't_med',\n       't_max', 't_min', 'dd_med', 'dd_ffx', 'ff_med', 'ff_max', 'pr_qtd',\n       'count_zonaa', 'count_zonab', 'count_zonac', 'total_concelho_zonas',\n       'percentagem_zonaa', 'percentagem_zonab', 'percentagem_zonac',\n       'soma_degree_rede_concelho', 'n_subestacoes_concelho',\n       'classe_da_causa_4', 'classe_da_causa_6', 'perc_prim', 'perc_sec',\n       'perc_terc'],\n      dtype='object')"
     },
     "execution_count": 170,
     "metadata": {},
     "output_type": "execute_result"
    }
   ],
   "source": [
    "eventos.columns"
   ],
   "metadata": {
    "collapsed": false,
    "ExecuteTime": {
     "end_time": "2024-05-26T02:14:23.569416Z",
     "start_time": "2024-05-26T02:14:23.564416Z"
    }
   },
   "id": "4537707cafbfbb22",
   "execution_count": 170
  },
  {
   "cell_type": "code",
   "outputs": [],
   "source": [
    "variables_to_drop = [\"qualidade_de_energia_eletrica\", \"qualidade_de_servico_comercial\", \"dia\", \"mes\", \"ano\"]\n",
    "variables_to_not_use = [\"codigo_do_relatorio\", \"distrito\", \"perc_terc\"]\n",
    "variables_to_change_to_categorical = [\"concelho\", \"nivel_de_tensao\", \"causa_do_incidente\", \"decisao\", \"classe_da_causa_6\"]\n",
    "groups = {\n",
    "  \"populacao\": [\"densidade_populacional\", \"populacao_residente\"],\n",
    "  \"setor\": [[\"setor_primario\", \"setor_secundario\", \"setor_terciario\"], [\"perc_prim\", \"perc_sec\"]],\n",
    "  \"causas\": [\"classe_da_causa_6\", \"causa_do_incidente\", \"classe_da_causa_4\"],\n",
    "}"
   ],
   "metadata": {
    "collapsed": false,
    "ExecuteTime": {
     "end_time": "2024-05-26T02:14:23.576418Z",
     "start_time": "2024-05-26T02:14:23.571417Z"
    }
   },
   "id": "a0341f11559129a5",
   "execution_count": 171
  },
  {
   "cell_type": "code",
   "outputs": [
    {
     "data": {
      "text/plain": "╭──────────────────────────────────────────────── skimpy summary ─────────────────────────────────────────────────╮\n│ \u001B[3m         Data Summary         \u001B[0m \u001B[3m      Data Types       \u001B[0m                                                          │\n│ ┏━━━━━━━━━━━━━━━━━━━┳━━━━━━━━┓ ┏━━━━━━━━━━━━━┳━━━━━━━┓                                                          │\n│ ┃\u001B[1;36m \u001B[0m\u001B[1;36mdataframe        \u001B[0m\u001B[1;36m \u001B[0m┃\u001B[1;36m \u001B[0m\u001B[1;36mValues\u001B[0m\u001B[1;36m \u001B[0m┃ ┃\u001B[1;36m \u001B[0m\u001B[1;36mColumn Type\u001B[0m\u001B[1;36m \u001B[0m┃\u001B[1;36m \u001B[0m\u001B[1;36mCount\u001B[0m\u001B[1;36m \u001B[0m┃                                                          │\n│ ┡━━━━━━━━━━━━━━━━━━━╇━━━━━━━━┩ ┡━━━━━━━━━━━━━╇━━━━━━━┩                                                          │\n│ │ Number of rows    │ 2922   │ │ float64     │ 25    │                                                          │\n│ │ Number of columns │ 49     │ │ string      │ 12    │                                                          │\n│ └───────────────────┴────────┘ │ int32       │ 12    │                                                          │\n│                                └─────────────┴───────┘                                                          │\n│ \u001B[3m                                                    number                                                    \u001B[0m  │\n│ ┏━━━━━━━━━━━━━━━━━━┳━━━━━┳━━━━━━┳━━━━━━━━━┳━━━━━━━━┳━━━━━━━━┳━━━━━━━━━┳━━━━━━━━━┳━━━━━━━━━┳━━━━━━━━━┳━━━━━━━━┓  │\n│ ┃\u001B[1m \u001B[0m\u001B[1mcolumn_name     \u001B[0m\u001B[1m \u001B[0m┃\u001B[1m \u001B[0m\u001B[1mNA \u001B[0m\u001B[1m \u001B[0m┃\u001B[1m \u001B[0m\u001B[1mNA %\u001B[0m\u001B[1m \u001B[0m┃\u001B[1m \u001B[0m\u001B[1mmean   \u001B[0m\u001B[1m \u001B[0m┃\u001B[1m \u001B[0m\u001B[1msd    \u001B[0m\u001B[1m \u001B[0m┃\u001B[1m \u001B[0m\u001B[1mp0    \u001B[0m\u001B[1m \u001B[0m┃\u001B[1m \u001B[0m\u001B[1mp25    \u001B[0m\u001B[1m \u001B[0m┃\u001B[1m \u001B[0m\u001B[1mp50    \u001B[0m\u001B[1m \u001B[0m┃\u001B[1m \u001B[0m\u001B[1mp75    \u001B[0m\u001B[1m \u001B[0m┃\u001B[1m \u001B[0m\u001B[1mp100   \u001B[0m\u001B[1m \u001B[0m┃\u001B[1m \u001B[0m\u001B[1mhist  \u001B[0m\u001B[1m \u001B[0m┃  │\n│ ┡━━━━━━━━━━━━━━━━━━╇━━━━━╇━━━━━━╇━━━━━━━━━╇━━━━━━━━╇━━━━━━━━╇━━━━━━━━━╇━━━━━━━━━╇━━━━━━━━━╇━━━━━━━━━╇━━━━━━━━┩  │\n│ │ \u001B[38;5;141mn_º_clientes_afe\u001B[0m │ \u001B[36m  0\u001B[0m │ \u001B[36m   0\u001B[0m │ \u001B[36m   3300\u001B[0m │ \u001B[36m 36000\u001B[0m │ \u001B[36m     1\u001B[0m │ \u001B[36m    380\u001B[0m │ \u001B[36m   1500\u001B[0m │ \u001B[36m   2800\u001B[0m │ \u001B[36m1700000\u001B[0m │ \u001B[32m  ▇   \u001B[0m │  │\n│ │ \u001B[38;5;141mtados           \u001B[0m │     │      │         │        │        │         │         │         │         │        │  │\n│ │ \u001B[38;5;141mtiepi_mt_min_   \u001B[0m │ \u001B[36m  0\u001B[0m │ \u001B[36m   0\u001B[0m │ \u001B[36m  0.057\u001B[0m │ \u001B[36m   1.5\u001B[0m │ \u001B[36m     0\u001B[0m │ \u001B[36m 0.0026\u001B[0m │ \u001B[36m 0.0067\u001B[0m │ \u001B[36m  0.013\u001B[0m │ \u001B[36m     58\u001B[0m │ \u001B[32m  ▇   \u001B[0m │  │\n│ │ \u001B[38;5;141msaifi_mt_#_     \u001B[0m │ \u001B[36m  0\u001B[0m │ \u001B[36m   0\u001B[0m │ \u001B[36m 0.0012\u001B[0m │ \u001B[36m 0.031\u001B[0m │ \u001B[36m     0\u001B[0m │ \u001B[36m  6e-05\u001B[0m │ \u001B[36m0.00017\u001B[0m │ \u001B[36m0.00032\u001B[0m │ \u001B[36m    1.5\u001B[0m │ \u001B[32m  ▇   \u001B[0m │  │\n│ │ \u001B[38;5;141msaidi_mt_min_   \u001B[0m │ \u001B[36m  0\u001B[0m │ \u001B[36m   0\u001B[0m │ \u001B[36m   0.07\u001B[0m │ \u001B[36m   1.9\u001B[0m │ \u001B[36m     0\u001B[0m │ \u001B[36m 0.0033\u001B[0m │ \u001B[36m  0.012\u001B[0m │ \u001B[36m  0.023\u001B[0m │ \u001B[36m     96\u001B[0m │ \u001B[32m  ▇   \u001B[0m │  │\n│ │ \u001B[38;5;141mend_mwh_        \u001B[0m │ \u001B[36m  0\u001B[0m │ \u001B[36m   0\u001B[0m │ \u001B[36m      1\u001B[0m │ \u001B[36m   4.3\u001B[0m │ \u001B[36m     0\u001B[0m │ \u001B[36m   0.18\u001B[0m │ \u001B[36m   0.47\u001B[0m │ \u001B[36m   0.95\u001B[0m │ \u001B[36m    140\u001B[0m │ \u001B[32m  ▇   \u001B[0m │  │\n│ │ \u001B[38;5;141msaifi_bt_#_     \u001B[0m │ \u001B[36m  0\u001B[0m │ \u001B[36m   0\u001B[0m │ \u001B[36m0.00055\u001B[0m │ \u001B[36m 0.011\u001B[0m │ \u001B[36m     0\u001B[0m │ \u001B[36m2.5e-05\u001B[0m │ \u001B[36m0.00011\u001B[0m │ \u001B[36m0.00025\u001B[0m │ \u001B[36m   0.53\u001B[0m │ \u001B[32m  ▇   \u001B[0m │  │\n│ │ \u001B[38;5;141msaidi_bt_min_   \u001B[0m │ \u001B[36m  0\u001B[0m │ \u001B[36m   0\u001B[0m │ \u001B[36m  0.081\u001B[0m │ \u001B[36m   2.2\u001B[0m │ \u001B[36m     0\u001B[0m │ \u001B[36m 0.0019\u001B[0m │ \u001B[36m  0.007\u001B[0m │ \u001B[36m  0.016\u001B[0m │ \u001B[36m     86\u001B[0m │ \u001B[32m  ▇   \u001B[0m │  │\n│ │ \u001B[38;5;141mdia             \u001B[0m │ \u001B[36m  0\u001B[0m │ \u001B[36m   0\u001B[0m │ \u001B[36m     15\u001B[0m │ \u001B[36m   8.7\u001B[0m │ \u001B[36m     1\u001B[0m │ \u001B[36m      8\u001B[0m │ \u001B[36m     15\u001B[0m │ \u001B[36m     22\u001B[0m │ \u001B[36m     31\u001B[0m │ \u001B[32m▇▇▇▇▇▇\u001B[0m │  │\n│ │ \u001B[38;5;141mmes             \u001B[0m │ \u001B[36m  0\u001B[0m │ \u001B[36m   0\u001B[0m │ \u001B[36m      6\u001B[0m │ \u001B[36m   3.2\u001B[0m │ \u001B[36m     1\u001B[0m │ \u001B[36m      3\u001B[0m │ \u001B[36m      6\u001B[0m │ \u001B[36m      9\u001B[0m │ \u001B[36m     12\u001B[0m │ \u001B[32m▅▇▆▆▅▃\u001B[0m │  │\n│ │ \u001B[38;5;141mano             \u001B[0m │ \u001B[36m  0\u001B[0m │ \u001B[36m   0\u001B[0m │ \u001B[36m   2000\u001B[0m │ \u001B[36m   1.7\u001B[0m │ \u001B[36m  2000\u001B[0m │ \u001B[36m   2000\u001B[0m │ \u001B[36m   2000\u001B[0m │ \u001B[36m   2000\u001B[0m │ \u001B[36m   2000\u001B[0m │ \u001B[32m▇▆▇▇▆▆\u001B[0m │  │\n│ │ \u001B[38;5;141mdensidade_popula\u001B[0m │ \u001B[36m  0\u001B[0m │ \u001B[36m   0\u001B[0m │ \u001B[36m    630\u001B[0m │ \u001B[36m  1400\u001B[0m │ \u001B[36m   4.8\u001B[0m │ \u001B[36m     36\u001B[0m │ \u001B[36m    110\u001B[0m │ \u001B[36m    400\u001B[0m │ \u001B[36m   7300\u001B[0m │ \u001B[32m  ▇   \u001B[0m │  │\n│ │ \u001B[38;5;141mcional          \u001B[0m │     │      │         │        │        │         │         │         │         │        │  │\n│ │ \u001B[38;5;141mpopulacao_reside\u001B[0m │ \u001B[36m  0\u001B[0m │ \u001B[36m   0\u001B[0m │ \u001B[36m  77000\u001B[0m │ \u001B[36m110000\u001B[0m │ \u001B[36m  1600\u001B[0m │ \u001B[36m  14000\u001B[0m │ \u001B[36m  37000\u001B[0m │ \u001B[36m  81000\u001B[0m │ \u001B[36m 560000\u001B[0m │ \u001B[32m  ▇▁  \u001B[0m │  │\n│ │ \u001B[38;5;141mnte             \u001B[0m │     │      │         │        │        │         │         │         │         │        │  │\n│ │ \u001B[38;5;141msetor_primario  \u001B[0m │ \u001B[36m  0\u001B[0m │ \u001B[36m   0\u001B[0m │ \u001B[36m    620\u001B[0m │ \u001B[36m   590\u001B[0m │ \u001B[36m    33\u001B[0m │ \u001B[36m    310\u001B[0m │ \u001B[36m    490\u001B[0m │ \u001B[36m    770\u001B[0m │ \u001B[36m   5800\u001B[0m │ \u001B[32m  ▇▁  \u001B[0m │  │\n│ │ \u001B[38;5;141msetor_secundario\u001B[0m │ \u001B[36m  0\u001B[0m │ \u001B[36m   0\u001B[0m │ \u001B[36m   6800\u001B[0m │ \u001B[36m  7800\u001B[0m │ \u001B[36m   100\u001B[0m │ \u001B[36m   1400\u001B[0m │ \u001B[36m   3600\u001B[0m │ \u001B[36m   9700\u001B[0m │ \u001B[36m  34000\u001B[0m │ \u001B[32m ▇▂▁▁ \u001B[0m │  │\n│ │ \u001B[38;5;141msetor_terciario \u001B[0m │ \u001B[36m  0\u001B[0m │ \u001B[36m   0\u001B[0m │ \u001B[36m  26000\u001B[0m │ \u001B[36m 44000\u001B[0m │ \u001B[36m   390\u001B[0m │ \u001B[36m   3700\u001B[0m │ \u001B[36m  10000\u001B[0m │ \u001B[36m  24000\u001B[0m │ \u001B[36m 220000\u001B[0m │ \u001B[32m  ▇▁  \u001B[0m │  │\n│ │ \u001B[38;5;141mindice_de_envelh\u001B[0m │ \u001B[36m  0\u001B[0m │ \u001B[36m   0\u001B[0m │ \u001B[36m    230\u001B[0m │ \u001B[36m   100\u001B[0m │ \u001B[36m    95\u001B[0m │ \u001B[36m    160\u001B[0m │ \u001B[36m    200\u001B[0m │ \u001B[36m    260\u001B[0m │ \u001B[36m    810\u001B[0m │ \u001B[32m ▇▅▁  \u001B[0m │  │\n│ │ \u001B[38;5;141mecimento        \u001B[0m │     │      │         │        │        │         │         │         │         │        │  │\n│ │ \u001B[38;5;141mrural           \u001B[0m │ \u001B[36m  0\u001B[0m │ \u001B[36m   0\u001B[0m │ \u001B[36m    0.7\u001B[0m │ \u001B[36m  0.41\u001B[0m │ \u001B[36m     0\u001B[0m │ \u001B[36m   0.51\u001B[0m │ \u001B[36m      1\u001B[0m │ \u001B[36m      1\u001B[0m │ \u001B[36m      1\u001B[0m │ \u001B[32m▃   ▁▇\u001B[0m │  │\n│ │ \u001B[38;5;141mt_med           \u001B[0m │ \u001B[36m 61\u001B[0m │ \u001B[36m2.09\u001B[0m │ \u001B[36m     16\u001B[0m │ \u001B[36m   5.4\u001B[0m │ \u001B[36m     0\u001B[0m │ \u001B[36m     12\u001B[0m │ \u001B[36m     16\u001B[0m │ \u001B[36m     20\u001B[0m │ \u001B[36m     35\u001B[0m │ \u001B[32m ▅▇▇▂ \u001B[0m │  │\n│ │ \u001B[38;5;141mt_max           \u001B[0m │ \u001B[36m 56\u001B[0m │ \u001B[36m1.92\u001B[0m │ \u001B[36m     22\u001B[0m │ \u001B[36m     7\u001B[0m │ \u001B[36m     3\u001B[0m │ \u001B[36m     16\u001B[0m │ \u001B[36m     21\u001B[0m │ \u001B[36m     26\u001B[0m │ \u001B[36m     44\u001B[0m │ \u001B[32m ▆▇▅▂ \u001B[0m │  │\n│ │ \u001B[38;5;141mt_min           \u001B[0m │ \u001B[36m 53\u001B[0m │ \u001B[36m1.81\u001B[0m │ \u001B[36m     11\u001B[0m │ \u001B[36m     5\u001B[0m │ \u001B[36m  -5.5\u001B[0m │ \u001B[36m    8.1\u001B[0m │ \u001B[36m     12\u001B[0m │ \u001B[36m     15\u001B[0m │ \u001B[36m     30\u001B[0m │ \u001B[32m ▃▇▇▁ \u001B[0m │  │\n│ │ \u001B[38;5;141mdd_med          \u001B[0m │ \u001B[36m185\u001B[0m │ \u001B[36m6.33\u001B[0m │ \u001B[36m    210\u001B[0m │ \u001B[36m   110\u001B[0m │ \u001B[36m     0\u001B[0m │ \u001B[36m    140\u001B[0m │ \u001B[36m    240\u001B[0m │ \u001B[36m    300\u001B[0m │ \u001B[36m    360\u001B[0m │ \u001B[32m▅▃▃▅▇▇\u001B[0m │  │\n│ │ \u001B[38;5;141mdd_ffx          \u001B[0m │ \u001B[36m221\u001B[0m │ \u001B[36m7.56\u001B[0m │ \u001B[36m    230\u001B[0m │ \u001B[36m   100\u001B[0m │ \u001B[36m     0\u001B[0m │ \u001B[36m    170\u001B[0m │ \u001B[36m    260\u001B[0m │ \u001B[36m    320\u001B[0m │ \u001B[36m    360\u001B[0m │ \u001B[32m▂▂▂▃▆▇\u001B[0m │  │\n│ │ \u001B[38;5;141mff_med          \u001B[0m │ \u001B[36m124\u001B[0m │ \u001B[36m4.24\u001B[0m │ \u001B[36m      3\u001B[0m │ \u001B[36m   1.4\u001B[0m │ \u001B[36m   0.1\u001B[0m │ \u001B[36m      2\u001B[0m │ \u001B[36m    2.8\u001B[0m │ \u001B[36m    3.8\u001B[0m │ \u001B[36m     14\u001B[0m │ \u001B[32m ▆▇▁  \u001B[0m │  │\n│ │ \u001B[38;5;141mff_max          \u001B[0m │ \u001B[36m132\u001B[0m │ \u001B[36m4.52\u001B[0m │ \u001B[36m     10\u001B[0m │ \u001B[36m   3.7\u001B[0m │ \u001B[36m   0.6\u001B[0m │ \u001B[36m    7.6\u001B[0m │ \u001B[36m    9.5\u001B[0m │ \u001B[36m     12\u001B[0m │ \u001B[36m     33\u001B[0m │ \u001B[32m ▁▇▃▁ \u001B[0m │  │\n│ │ \u001B[38;5;141mpr_qtd          \u001B[0m │ \u001B[36m123\u001B[0m │ \u001B[36m4.21\u001B[0m │ \u001B[36m    3.4\u001B[0m │ \u001B[36m   8.5\u001B[0m │ \u001B[36m     0\u001B[0m │ \u001B[36m      0\u001B[0m │ \u001B[36m      0\u001B[0m │ \u001B[36m    2.3\u001B[0m │ \u001B[36m    150\u001B[0m │ \u001B[32m  ▇   \u001B[0m │  │\n│ │ \u001B[38;5;141mcount_zonaa     \u001B[0m │ \u001B[36m  0\u001B[0m │ \u001B[36m   0\u001B[0m │ \u001B[36m     59\u001B[0m │ \u001B[36m   170\u001B[0m │ \u001B[36m     0\u001B[0m │ \u001B[36m      0\u001B[0m │ \u001B[36m      0\u001B[0m │ \u001B[36m     41\u001B[0m │ \u001B[36m    880\u001B[0m │ \u001B[32m  ▇   \u001B[0m │  │\n│ │ \u001B[38;5;141mcount_zonab     \u001B[0m │ \u001B[36m  0\u001B[0m │ \u001B[36m   0\u001B[0m │ \u001B[36m     19\u001B[0m │ \u001B[36m    34\u001B[0m │ \u001B[36m     0\u001B[0m │ \u001B[36m      0\u001B[0m │ \u001B[36m      8\u001B[0m │ \u001B[36m     23\u001B[0m │ \u001B[36m    250\u001B[0m │ \u001B[32m  ▇▁  \u001B[0m │  │\n│ │ \u001B[38;5;141mcount_zonac     \u001B[0m │ \u001B[36m  0\u001B[0m │ \u001B[36m   0\u001B[0m │ \u001B[36m     17\u001B[0m │ \u001B[36m    17\u001B[0m │ \u001B[36m     0\u001B[0m │ \u001B[36m      6\u001B[0m │ \u001B[36m     13\u001B[0m │ \u001B[36m     23\u001B[0m │ \u001B[36m    110\u001B[0m │ \u001B[32m ▇▃▁▁ \u001B[0m │  │\n│ │ \u001B[38;5;141mtotal_concelho_z\u001B[0m │ \u001B[36m  0\u001B[0m │ \u001B[36m   0\u001B[0m │ \u001B[36m     95\u001B[0m │ \u001B[36m   170\u001B[0m │ \u001B[36m     1\u001B[0m │ \u001B[36m     15\u001B[0m │ \u001B[36m     38\u001B[0m │ \u001B[36m     89\u001B[0m │ \u001B[36m    880\u001B[0m │ \u001B[32m  ▇▁  \u001B[0m │  │\n│ │ \u001B[38;5;141monas            \u001B[0m │     │      │         │        │        │         │         │         │         │        │  │\n│ │ \u001B[38;5;141mpercentagem_zona\u001B[0m │ \u001B[36m  0\u001B[0m │ \u001B[36m   0\u001B[0m │ \u001B[36m    0.2\u001B[0m │ \u001B[36m  0.34\u001B[0m │ \u001B[36m     0\u001B[0m │ \u001B[36m      0\u001B[0m │ \u001B[36m      0\u001B[0m │ \u001B[36m   0.32\u001B[0m │ \u001B[36m      1\u001B[0m │ \u001B[32m▇   ▁▁\u001B[0m │  │\n│ │ \u001B[38;5;141ma               \u001B[0m │     │      │         │        │        │         │         │         │         │        │  │\n│ │ \u001B[38;5;141mpercentagem_zona\u001B[0m │ \u001B[36m  0\u001B[0m │ \u001B[36m   0\u001B[0m │ \u001B[36m   0.31\u001B[0m │ \u001B[36m  0.31\u001B[0m │ \u001B[36m     0\u001B[0m │ \u001B[36m      0\u001B[0m │ \u001B[36m   0.27\u001B[0m │ \u001B[36m   0.58\u001B[0m │ \u001B[36m      1\u001B[0m │ \u001B[32m▇▃▂▃▂▁\u001B[0m │  │\n│ │ \u001B[38;5;141mb               \u001B[0m │     │      │         │        │        │         │         │         │         │        │  │\n│ │ \u001B[38;5;141mpercentagem_zona\u001B[0m │ \u001B[36m  0\u001B[0m │ \u001B[36m   0\u001B[0m │ \u001B[36m   0.49\u001B[0m │ \u001B[36m  0.34\u001B[0m │ \u001B[36m     0\u001B[0m │ \u001B[36m   0.21\u001B[0m │ \u001B[36m   0.43\u001B[0m │ \u001B[36m   0.81\u001B[0m │ \u001B[36m      1\u001B[0m │ \u001B[32m▇▆▆▃▃▇\u001B[0m │  │\n│ │ \u001B[38;5;141mc               \u001B[0m │     │      │         │        │        │         │         │         │         │        │  │\n│ │ \u001B[38;5;141msoma_degree_rede\u001B[0m │ \u001B[36m  0\u001B[0m │ \u001B[36m   0\u001B[0m │ \u001B[36m    9.3\u001B[0m │ \u001B[36m    25\u001B[0m │ \u001B[36m     0\u001B[0m │ \u001B[36m   0.25\u001B[0m │ \u001B[36m      2\u001B[0m │ \u001B[36m      6\u001B[0m │ \u001B[36m    130\u001B[0m │ \u001B[32m  ▇   \u001B[0m │  │\n│ │ \u001B[38;5;141m_concelho       \u001B[0m │     │      │         │        │        │         │         │         │         │        │  │\n│ │ \u001B[38;5;141mn_subestacoes_co\u001B[0m │ \u001B[36m  0\u001B[0m │ \u001B[36m   0\u001B[0m │ \u001B[36m    3.4\u001B[0m │ \u001B[36m   4.8\u001B[0m │ \u001B[36m     0\u001B[0m │ \u001B[36m      1\u001B[0m │ \u001B[36m      2\u001B[0m │ \u001B[36m      4\u001B[0m │ \u001B[36m     26\u001B[0m │ \u001B[32m  ▇▁  \u001B[0m │  │\n│ │ \u001B[38;5;141mncelho          \u001B[0m │     │      │         │        │        │         │         │         │         │        │  │\n│ │ \u001B[38;5;141mperc_prim       \u001B[0m │ \u001B[36m  0\u001B[0m │ \u001B[36m   0\u001B[0m │ \u001B[36m  0.058\u001B[0m │ \u001B[36m 0.065\u001B[0m │ \u001B[36m0.0024\u001B[0m │ \u001B[36m  0.014\u001B[0m │ \u001B[36m  0.034\u001B[0m │ \u001B[36m  0.074\u001B[0m │ \u001B[36m    0.4\u001B[0m │ \u001B[32m ▇▂▁  \u001B[0m │  │\n│ │ \u001B[38;5;141mperc_sec        \u001B[0m │ \u001B[36m  0\u001B[0m │ \u001B[36m   0\u001B[0m │ \u001B[36m   0.25\u001B[0m │ \u001B[36m  0.11\u001B[0m │ \u001B[36m 0.089\u001B[0m │ \u001B[36m   0.17\u001B[0m │ \u001B[36m   0.23\u001B[0m │ \u001B[36m   0.32\u001B[0m │ \u001B[36m    0.6\u001B[0m │ \u001B[32m▇▇▅▃▂ \u001B[0m │  │\n│ │ \u001B[38;5;141mperc_terc       \u001B[0m │ \u001B[36m  0\u001B[0m │ \u001B[36m   0\u001B[0m │ \u001B[36m   0.69\u001B[0m │ \u001B[36m  0.11\u001B[0m │ \u001B[36m  0.38\u001B[0m │ \u001B[36m   0.62\u001B[0m │ \u001B[36m   0.68\u001B[0m │ \u001B[36m   0.77\u001B[0m │ \u001B[36m   0.91\u001B[0m │ \u001B[32m ▃▅▇▆▃\u001B[0m │  │\n│ └──────────────────┴─────┴──────┴─────────┴────────┴────────┴─────────┴─────────┴─────────┴─────────┴────────┘  │\n│ \u001B[3m                                                    string                                                    \u001B[0m  │\n│ ┏━━━━━━━━━━━━━━━━━━━━━━━━━━━━━━━━━━━━━━━┳━━━━━━━┳━━━━━━━━━━━┳━━━━━━━━━━━━━━━━━━━━━━━━━━┳━━━━━━━━━━━━━━━━━━━━━┓  │\n│ ┃\u001B[1m \u001B[0m\u001B[1mcolumn_name                          \u001B[0m\u001B[1m \u001B[0m┃\u001B[1m \u001B[0m\u001B[1mNA   \u001B[0m\u001B[1m \u001B[0m┃\u001B[1m \u001B[0m\u001B[1mNA %     \u001B[0m\u001B[1m \u001B[0m┃\u001B[1m \u001B[0m\u001B[1mwords per row           \u001B[0m\u001B[1m \u001B[0m┃\u001B[1m \u001B[0m\u001B[1mtotal words        \u001B[0m\u001B[1m \u001B[0m┃  │\n│ ┡━━━━━━━━━━━━━━━━━━━━━━━━━━━━━━━━━━━━━━━╇━━━━━━━╇━━━━━━━━━━━╇━━━━━━━━━━━━━━━━━━━━━━━━━━╇━━━━━━━━━━━━━━━━━━━━━┩  │\n│ │ \u001B[38;5;141mcodigo_do_relatorio                  \u001B[0m │ \u001B[36m    0\u001B[0m │ \u001B[36m        0\u001B[0m │ \u001B[36m                       1\u001B[0m │ \u001B[36m               2922\u001B[0m │  │\n│ │ \u001B[38;5;141mconcelho                             \u001B[0m │ \u001B[36m    0\u001B[0m │ \u001B[36m        0\u001B[0m │ \u001B[36m                       1\u001B[0m │ \u001B[36m               2922\u001B[0m │  │\n│ │ \u001B[38;5;141mdata_do_incidente                    \u001B[0m │ \u001B[36m    0\u001B[0m │ \u001B[36m        0\u001B[0m │ \u001B[36m                       1\u001B[0m │ \u001B[36m               2922\u001B[0m │  │\n│ │ \u001B[38;5;141mnivel_de_tensao                      \u001B[0m │ \u001B[36m    0\u001B[0m │ \u001B[36m        0\u001B[0m │ \u001B[36m                       1\u001B[0m │ \u001B[36m               2922\u001B[0m │  │\n│ │ \u001B[38;5;141mcausa_do_incidente                   \u001B[0m │ \u001B[36m    0\u001B[0m │ \u001B[36m        0\u001B[0m │ \u001B[36m                     1.8\u001B[0m │ \u001B[36m               5266\u001B[0m │  │\n│ │ \u001B[38;5;141mduracao_incidente_min_               \u001B[0m │ \u001B[36m    0\u001B[0m │ \u001B[36m        0\u001B[0m │ \u001B[36m                       1\u001B[0m │ \u001B[36m               2922\u001B[0m │  │\n│ │ \u001B[38;5;141mqualidade_de_energia_eletrica        \u001B[0m │ \u001B[36m    0\u001B[0m │ \u001B[36m        0\u001B[0m │ \u001B[36m                     1.1\u001B[0m │ \u001B[36m               3149\u001B[0m │  │\n│ │ \u001B[38;5;141mqualidade_de_servico_comercial       \u001B[0m │ \u001B[36m    0\u001B[0m │ \u001B[36m        0\u001B[0m │ \u001B[36m                     1.1\u001B[0m │ \u001B[36m               3102\u001B[0m │  │\n│ │ \u001B[38;5;141mdecisao                              \u001B[0m │ \u001B[36m    0\u001B[0m │ \u001B[36m        0\u001B[0m │ \u001B[36m                     1.4\u001B[0m │ \u001B[36m               4015\u001B[0m │  │\n│ │ \u001B[38;5;141mdistrito                             \u001B[0m │ \u001B[36m    0\u001B[0m │ \u001B[36m        0\u001B[0m │ \u001B[36m                     1.1\u001B[0m │ \u001B[36m               3353\u001B[0m │  │\n│ │ \u001B[38;5;141mclasse_da_causa_4                    \u001B[0m │ \u001B[36m    0\u001B[0m │ \u001B[36m        0\u001B[0m │ \u001B[36m                     2.1\u001B[0m │ \u001B[36m               6070\u001B[0m │  │\n│ │ \u001B[38;5;141mclasse_da_causa_6                    \u001B[0m │ \u001B[36m    0\u001B[0m │ \u001B[36m        0\u001B[0m │ \u001B[36m                       1\u001B[0m │ \u001B[36m               2922\u001B[0m │  │\n│ └───────────────────────────────────────┴───────┴───────────┴──────────────────────────┴─────────────────────┘  │\n╰────────────────────────────────────────────────────── End ──────────────────────────────────────────────────────╯\n",
      "text/html": "<pre style=\"white-space:pre;overflow-x:auto;line-height:normal;font-family:Menlo,'DejaVu Sans Mono',consolas,'Courier New',monospace\">╭──────────────────────────────────────────────── skimpy summary ─────────────────────────────────────────────────╮\n│ <span style=\"font-style: italic\">         Data Summary         </span> <span style=\"font-style: italic\">      Data Types       </span>                                                          │\n│ ┏━━━━━━━━━━━━━━━━━━━┳━━━━━━━━┓ ┏━━━━━━━━━━━━━┳━━━━━━━┓                                                          │\n│ ┃<span style=\"color: #008080; text-decoration-color: #008080; font-weight: bold\"> dataframe         </span>┃<span style=\"color: #008080; text-decoration-color: #008080; font-weight: bold\"> Values </span>┃ ┃<span style=\"color: #008080; text-decoration-color: #008080; font-weight: bold\"> Column Type </span>┃<span style=\"color: #008080; text-decoration-color: #008080; font-weight: bold\"> Count </span>┃                                                          │\n│ ┡━━━━━━━━━━━━━━━━━━━╇━━━━━━━━┩ ┡━━━━━━━━━━━━━╇━━━━━━━┩                                                          │\n│ │ Number of rows    │ 2922   │ │ float64     │ 25    │                                                          │\n│ │ Number of columns │ 49     │ │ string      │ 12    │                                                          │\n│ └───────────────────┴────────┘ │ int32       │ 12    │                                                          │\n│                                └─────────────┴───────┘                                                          │\n│ <span style=\"font-style: italic\">                                                    number                                                    </span>  │\n│ ┏━━━━━━━━━━━━━━━━━━┳━━━━━┳━━━━━━┳━━━━━━━━━┳━━━━━━━━┳━━━━━━━━┳━━━━━━━━━┳━━━━━━━━━┳━━━━━━━━━┳━━━━━━━━━┳━━━━━━━━┓  │\n│ ┃<span style=\"font-weight: bold\"> column_name      </span>┃<span style=\"font-weight: bold\"> NA  </span>┃<span style=\"font-weight: bold\"> NA % </span>┃<span style=\"font-weight: bold\"> mean    </span>┃<span style=\"font-weight: bold\"> sd     </span>┃<span style=\"font-weight: bold\"> p0     </span>┃<span style=\"font-weight: bold\"> p25     </span>┃<span style=\"font-weight: bold\"> p50     </span>┃<span style=\"font-weight: bold\"> p75     </span>┃<span style=\"font-weight: bold\"> p100    </span>┃<span style=\"font-weight: bold\"> hist   </span>┃  │\n│ ┡━━━━━━━━━━━━━━━━━━╇━━━━━╇━━━━━━╇━━━━━━━━━╇━━━━━━━━╇━━━━━━━━╇━━━━━━━━━╇━━━━━━━━━╇━━━━━━━━━╇━━━━━━━━━╇━━━━━━━━┩  │\n│ │ <span style=\"color: #af87ff; text-decoration-color: #af87ff\">n_º_clientes_afe</span> │ <span style=\"color: #008080; text-decoration-color: #008080\">  0</span> │ <span style=\"color: #008080; text-decoration-color: #008080\">   0</span> │ <span style=\"color: #008080; text-decoration-color: #008080\">   3300</span> │ <span style=\"color: #008080; text-decoration-color: #008080\"> 36000</span> │ <span style=\"color: #008080; text-decoration-color: #008080\">     1</span> │ <span style=\"color: #008080; text-decoration-color: #008080\">    380</span> │ <span style=\"color: #008080; text-decoration-color: #008080\">   1500</span> │ <span style=\"color: #008080; text-decoration-color: #008080\">   2800</span> │ <span style=\"color: #008080; text-decoration-color: #008080\">1700000</span> │ <span style=\"color: #008000; text-decoration-color: #008000\">  ▇   </span> │  │\n│ │ <span style=\"color: #af87ff; text-decoration-color: #af87ff\">tados           </span> │     │      │         │        │        │         │         │         │         │        │  │\n│ │ <span style=\"color: #af87ff; text-decoration-color: #af87ff\">tiepi_mt_min_   </span> │ <span style=\"color: #008080; text-decoration-color: #008080\">  0</span> │ <span style=\"color: #008080; text-decoration-color: #008080\">   0</span> │ <span style=\"color: #008080; text-decoration-color: #008080\">  0.057</span> │ <span style=\"color: #008080; text-decoration-color: #008080\">   1.5</span> │ <span style=\"color: #008080; text-decoration-color: #008080\">     0</span> │ <span style=\"color: #008080; text-decoration-color: #008080\"> 0.0026</span> │ <span style=\"color: #008080; text-decoration-color: #008080\"> 0.0067</span> │ <span style=\"color: #008080; text-decoration-color: #008080\">  0.013</span> │ <span style=\"color: #008080; text-decoration-color: #008080\">     58</span> │ <span style=\"color: #008000; text-decoration-color: #008000\">  ▇   </span> │  │\n│ │ <span style=\"color: #af87ff; text-decoration-color: #af87ff\">saifi_mt_#_     </span> │ <span style=\"color: #008080; text-decoration-color: #008080\">  0</span> │ <span style=\"color: #008080; text-decoration-color: #008080\">   0</span> │ <span style=\"color: #008080; text-decoration-color: #008080\"> 0.0012</span> │ <span style=\"color: #008080; text-decoration-color: #008080\"> 0.031</span> │ <span style=\"color: #008080; text-decoration-color: #008080\">     0</span> │ <span style=\"color: #008080; text-decoration-color: #008080\">  6e-05</span> │ <span style=\"color: #008080; text-decoration-color: #008080\">0.00017</span> │ <span style=\"color: #008080; text-decoration-color: #008080\">0.00032</span> │ <span style=\"color: #008080; text-decoration-color: #008080\">    1.5</span> │ <span style=\"color: #008000; text-decoration-color: #008000\">  ▇   </span> │  │\n│ │ <span style=\"color: #af87ff; text-decoration-color: #af87ff\">saidi_mt_min_   </span> │ <span style=\"color: #008080; text-decoration-color: #008080\">  0</span> │ <span style=\"color: #008080; text-decoration-color: #008080\">   0</span> │ <span style=\"color: #008080; text-decoration-color: #008080\">   0.07</span> │ <span style=\"color: #008080; text-decoration-color: #008080\">   1.9</span> │ <span style=\"color: #008080; text-decoration-color: #008080\">     0</span> │ <span style=\"color: #008080; text-decoration-color: #008080\"> 0.0033</span> │ <span style=\"color: #008080; text-decoration-color: #008080\">  0.012</span> │ <span style=\"color: #008080; text-decoration-color: #008080\">  0.023</span> │ <span style=\"color: #008080; text-decoration-color: #008080\">     96</span> │ <span style=\"color: #008000; text-decoration-color: #008000\">  ▇   </span> │  │\n│ │ <span style=\"color: #af87ff; text-decoration-color: #af87ff\">end_mwh_        </span> │ <span style=\"color: #008080; text-decoration-color: #008080\">  0</span> │ <span style=\"color: #008080; text-decoration-color: #008080\">   0</span> │ <span style=\"color: #008080; text-decoration-color: #008080\">      1</span> │ <span style=\"color: #008080; text-decoration-color: #008080\">   4.3</span> │ <span style=\"color: #008080; text-decoration-color: #008080\">     0</span> │ <span style=\"color: #008080; text-decoration-color: #008080\">   0.18</span> │ <span style=\"color: #008080; text-decoration-color: #008080\">   0.47</span> │ <span style=\"color: #008080; text-decoration-color: #008080\">   0.95</span> │ <span style=\"color: #008080; text-decoration-color: #008080\">    140</span> │ <span style=\"color: #008000; text-decoration-color: #008000\">  ▇   </span> │  │\n│ │ <span style=\"color: #af87ff; text-decoration-color: #af87ff\">saifi_bt_#_     </span> │ <span style=\"color: #008080; text-decoration-color: #008080\">  0</span> │ <span style=\"color: #008080; text-decoration-color: #008080\">   0</span> │ <span style=\"color: #008080; text-decoration-color: #008080\">0.00055</span> │ <span style=\"color: #008080; text-decoration-color: #008080\"> 0.011</span> │ <span style=\"color: #008080; text-decoration-color: #008080\">     0</span> │ <span style=\"color: #008080; text-decoration-color: #008080\">2.5e-05</span> │ <span style=\"color: #008080; text-decoration-color: #008080\">0.00011</span> │ <span style=\"color: #008080; text-decoration-color: #008080\">0.00025</span> │ <span style=\"color: #008080; text-decoration-color: #008080\">   0.53</span> │ <span style=\"color: #008000; text-decoration-color: #008000\">  ▇   </span> │  │\n│ │ <span style=\"color: #af87ff; text-decoration-color: #af87ff\">saidi_bt_min_   </span> │ <span style=\"color: #008080; text-decoration-color: #008080\">  0</span> │ <span style=\"color: #008080; text-decoration-color: #008080\">   0</span> │ <span style=\"color: #008080; text-decoration-color: #008080\">  0.081</span> │ <span style=\"color: #008080; text-decoration-color: #008080\">   2.2</span> │ <span style=\"color: #008080; text-decoration-color: #008080\">     0</span> │ <span style=\"color: #008080; text-decoration-color: #008080\"> 0.0019</span> │ <span style=\"color: #008080; text-decoration-color: #008080\">  0.007</span> │ <span style=\"color: #008080; text-decoration-color: #008080\">  0.016</span> │ <span style=\"color: #008080; text-decoration-color: #008080\">     86</span> │ <span style=\"color: #008000; text-decoration-color: #008000\">  ▇   </span> │  │\n│ │ <span style=\"color: #af87ff; text-decoration-color: #af87ff\">dia             </span> │ <span style=\"color: #008080; text-decoration-color: #008080\">  0</span> │ <span style=\"color: #008080; text-decoration-color: #008080\">   0</span> │ <span style=\"color: #008080; text-decoration-color: #008080\">     15</span> │ <span style=\"color: #008080; text-decoration-color: #008080\">   8.7</span> │ <span style=\"color: #008080; text-decoration-color: #008080\">     1</span> │ <span style=\"color: #008080; text-decoration-color: #008080\">      8</span> │ <span style=\"color: #008080; text-decoration-color: #008080\">     15</span> │ <span style=\"color: #008080; text-decoration-color: #008080\">     22</span> │ <span style=\"color: #008080; text-decoration-color: #008080\">     31</span> │ <span style=\"color: #008000; text-decoration-color: #008000\">▇▇▇▇▇▇</span> │  │\n│ │ <span style=\"color: #af87ff; text-decoration-color: #af87ff\">mes             </span> │ <span style=\"color: #008080; text-decoration-color: #008080\">  0</span> │ <span style=\"color: #008080; text-decoration-color: #008080\">   0</span> │ <span style=\"color: #008080; text-decoration-color: #008080\">      6</span> │ <span style=\"color: #008080; text-decoration-color: #008080\">   3.2</span> │ <span style=\"color: #008080; text-decoration-color: #008080\">     1</span> │ <span style=\"color: #008080; text-decoration-color: #008080\">      3</span> │ <span style=\"color: #008080; text-decoration-color: #008080\">      6</span> │ <span style=\"color: #008080; text-decoration-color: #008080\">      9</span> │ <span style=\"color: #008080; text-decoration-color: #008080\">     12</span> │ <span style=\"color: #008000; text-decoration-color: #008000\">▅▇▆▆▅▃</span> │  │\n│ │ <span style=\"color: #af87ff; text-decoration-color: #af87ff\">ano             </span> │ <span style=\"color: #008080; text-decoration-color: #008080\">  0</span> │ <span style=\"color: #008080; text-decoration-color: #008080\">   0</span> │ <span style=\"color: #008080; text-decoration-color: #008080\">   2000</span> │ <span style=\"color: #008080; text-decoration-color: #008080\">   1.7</span> │ <span style=\"color: #008080; text-decoration-color: #008080\">  2000</span> │ <span style=\"color: #008080; text-decoration-color: #008080\">   2000</span> │ <span style=\"color: #008080; text-decoration-color: #008080\">   2000</span> │ <span style=\"color: #008080; text-decoration-color: #008080\">   2000</span> │ <span style=\"color: #008080; text-decoration-color: #008080\">   2000</span> │ <span style=\"color: #008000; text-decoration-color: #008000\">▇▆▇▇▆▆</span> │  │\n│ │ <span style=\"color: #af87ff; text-decoration-color: #af87ff\">densidade_popula</span> │ <span style=\"color: #008080; text-decoration-color: #008080\">  0</span> │ <span style=\"color: #008080; text-decoration-color: #008080\">   0</span> │ <span style=\"color: #008080; text-decoration-color: #008080\">    630</span> │ <span style=\"color: #008080; text-decoration-color: #008080\">  1400</span> │ <span style=\"color: #008080; text-decoration-color: #008080\">   4.8</span> │ <span style=\"color: #008080; text-decoration-color: #008080\">     36</span> │ <span style=\"color: #008080; text-decoration-color: #008080\">    110</span> │ <span style=\"color: #008080; text-decoration-color: #008080\">    400</span> │ <span style=\"color: #008080; text-decoration-color: #008080\">   7300</span> │ <span style=\"color: #008000; text-decoration-color: #008000\">  ▇   </span> │  │\n│ │ <span style=\"color: #af87ff; text-decoration-color: #af87ff\">cional          </span> │     │      │         │        │        │         │         │         │         │        │  │\n│ │ <span style=\"color: #af87ff; text-decoration-color: #af87ff\">populacao_reside</span> │ <span style=\"color: #008080; text-decoration-color: #008080\">  0</span> │ <span style=\"color: #008080; text-decoration-color: #008080\">   0</span> │ <span style=\"color: #008080; text-decoration-color: #008080\">  77000</span> │ <span style=\"color: #008080; text-decoration-color: #008080\">110000</span> │ <span style=\"color: #008080; text-decoration-color: #008080\">  1600</span> │ <span style=\"color: #008080; text-decoration-color: #008080\">  14000</span> │ <span style=\"color: #008080; text-decoration-color: #008080\">  37000</span> │ <span style=\"color: #008080; text-decoration-color: #008080\">  81000</span> │ <span style=\"color: #008080; text-decoration-color: #008080\"> 560000</span> │ <span style=\"color: #008000; text-decoration-color: #008000\">  ▇▁  </span> │  │\n│ │ <span style=\"color: #af87ff; text-decoration-color: #af87ff\">nte             </span> │     │      │         │        │        │         │         │         │         │        │  │\n│ │ <span style=\"color: #af87ff; text-decoration-color: #af87ff\">setor_primario  </span> │ <span style=\"color: #008080; text-decoration-color: #008080\">  0</span> │ <span style=\"color: #008080; text-decoration-color: #008080\">   0</span> │ <span style=\"color: #008080; text-decoration-color: #008080\">    620</span> │ <span style=\"color: #008080; text-decoration-color: #008080\">   590</span> │ <span style=\"color: #008080; text-decoration-color: #008080\">    33</span> │ <span style=\"color: #008080; text-decoration-color: #008080\">    310</span> │ <span style=\"color: #008080; text-decoration-color: #008080\">    490</span> │ <span style=\"color: #008080; text-decoration-color: #008080\">    770</span> │ <span style=\"color: #008080; text-decoration-color: #008080\">   5800</span> │ <span style=\"color: #008000; text-decoration-color: #008000\">  ▇▁  </span> │  │\n│ │ <span style=\"color: #af87ff; text-decoration-color: #af87ff\">setor_secundario</span> │ <span style=\"color: #008080; text-decoration-color: #008080\">  0</span> │ <span style=\"color: #008080; text-decoration-color: #008080\">   0</span> │ <span style=\"color: #008080; text-decoration-color: #008080\">   6800</span> │ <span style=\"color: #008080; text-decoration-color: #008080\">  7800</span> │ <span style=\"color: #008080; text-decoration-color: #008080\">   100</span> │ <span style=\"color: #008080; text-decoration-color: #008080\">   1400</span> │ <span style=\"color: #008080; text-decoration-color: #008080\">   3600</span> │ <span style=\"color: #008080; text-decoration-color: #008080\">   9700</span> │ <span style=\"color: #008080; text-decoration-color: #008080\">  34000</span> │ <span style=\"color: #008000; text-decoration-color: #008000\"> ▇▂▁▁ </span> │  │\n│ │ <span style=\"color: #af87ff; text-decoration-color: #af87ff\">setor_terciario </span> │ <span style=\"color: #008080; text-decoration-color: #008080\">  0</span> │ <span style=\"color: #008080; text-decoration-color: #008080\">   0</span> │ <span style=\"color: #008080; text-decoration-color: #008080\">  26000</span> │ <span style=\"color: #008080; text-decoration-color: #008080\"> 44000</span> │ <span style=\"color: #008080; text-decoration-color: #008080\">   390</span> │ <span style=\"color: #008080; text-decoration-color: #008080\">   3700</span> │ <span style=\"color: #008080; text-decoration-color: #008080\">  10000</span> │ <span style=\"color: #008080; text-decoration-color: #008080\">  24000</span> │ <span style=\"color: #008080; text-decoration-color: #008080\"> 220000</span> │ <span style=\"color: #008000; text-decoration-color: #008000\">  ▇▁  </span> │  │\n│ │ <span style=\"color: #af87ff; text-decoration-color: #af87ff\">indice_de_envelh</span> │ <span style=\"color: #008080; text-decoration-color: #008080\">  0</span> │ <span style=\"color: #008080; text-decoration-color: #008080\">   0</span> │ <span style=\"color: #008080; text-decoration-color: #008080\">    230</span> │ <span style=\"color: #008080; text-decoration-color: #008080\">   100</span> │ <span style=\"color: #008080; text-decoration-color: #008080\">    95</span> │ <span style=\"color: #008080; text-decoration-color: #008080\">    160</span> │ <span style=\"color: #008080; text-decoration-color: #008080\">    200</span> │ <span style=\"color: #008080; text-decoration-color: #008080\">    260</span> │ <span style=\"color: #008080; text-decoration-color: #008080\">    810</span> │ <span style=\"color: #008000; text-decoration-color: #008000\"> ▇▅▁  </span> │  │\n│ │ <span style=\"color: #af87ff; text-decoration-color: #af87ff\">ecimento        </span> │     │      │         │        │        │         │         │         │         │        │  │\n│ │ <span style=\"color: #af87ff; text-decoration-color: #af87ff\">rural           </span> │ <span style=\"color: #008080; text-decoration-color: #008080\">  0</span> │ <span style=\"color: #008080; text-decoration-color: #008080\">   0</span> │ <span style=\"color: #008080; text-decoration-color: #008080\">    0.7</span> │ <span style=\"color: #008080; text-decoration-color: #008080\">  0.41</span> │ <span style=\"color: #008080; text-decoration-color: #008080\">     0</span> │ <span style=\"color: #008080; text-decoration-color: #008080\">   0.51</span> │ <span style=\"color: #008080; text-decoration-color: #008080\">      1</span> │ <span style=\"color: #008080; text-decoration-color: #008080\">      1</span> │ <span style=\"color: #008080; text-decoration-color: #008080\">      1</span> │ <span style=\"color: #008000; text-decoration-color: #008000\">▃   ▁▇</span> │  │\n│ │ <span style=\"color: #af87ff; text-decoration-color: #af87ff\">t_med           </span> │ <span style=\"color: #008080; text-decoration-color: #008080\"> 61</span> │ <span style=\"color: #008080; text-decoration-color: #008080\">2.09</span> │ <span style=\"color: #008080; text-decoration-color: #008080\">     16</span> │ <span style=\"color: #008080; text-decoration-color: #008080\">   5.4</span> │ <span style=\"color: #008080; text-decoration-color: #008080\">     0</span> │ <span style=\"color: #008080; text-decoration-color: #008080\">     12</span> │ <span style=\"color: #008080; text-decoration-color: #008080\">     16</span> │ <span style=\"color: #008080; text-decoration-color: #008080\">     20</span> │ <span style=\"color: #008080; text-decoration-color: #008080\">     35</span> │ <span style=\"color: #008000; text-decoration-color: #008000\"> ▅▇▇▂ </span> │  │\n│ │ <span style=\"color: #af87ff; text-decoration-color: #af87ff\">t_max           </span> │ <span style=\"color: #008080; text-decoration-color: #008080\"> 56</span> │ <span style=\"color: #008080; text-decoration-color: #008080\">1.92</span> │ <span style=\"color: #008080; text-decoration-color: #008080\">     22</span> │ <span style=\"color: #008080; text-decoration-color: #008080\">     7</span> │ <span style=\"color: #008080; text-decoration-color: #008080\">     3</span> │ <span style=\"color: #008080; text-decoration-color: #008080\">     16</span> │ <span style=\"color: #008080; text-decoration-color: #008080\">     21</span> │ <span style=\"color: #008080; text-decoration-color: #008080\">     26</span> │ <span style=\"color: #008080; text-decoration-color: #008080\">     44</span> │ <span style=\"color: #008000; text-decoration-color: #008000\"> ▆▇▅▂ </span> │  │\n│ │ <span style=\"color: #af87ff; text-decoration-color: #af87ff\">t_min           </span> │ <span style=\"color: #008080; text-decoration-color: #008080\"> 53</span> │ <span style=\"color: #008080; text-decoration-color: #008080\">1.81</span> │ <span style=\"color: #008080; text-decoration-color: #008080\">     11</span> │ <span style=\"color: #008080; text-decoration-color: #008080\">     5</span> │ <span style=\"color: #008080; text-decoration-color: #008080\">  -5.5</span> │ <span style=\"color: #008080; text-decoration-color: #008080\">    8.1</span> │ <span style=\"color: #008080; text-decoration-color: #008080\">     12</span> │ <span style=\"color: #008080; text-decoration-color: #008080\">     15</span> │ <span style=\"color: #008080; text-decoration-color: #008080\">     30</span> │ <span style=\"color: #008000; text-decoration-color: #008000\"> ▃▇▇▁ </span> │  │\n│ │ <span style=\"color: #af87ff; text-decoration-color: #af87ff\">dd_med          </span> │ <span style=\"color: #008080; text-decoration-color: #008080\">185</span> │ <span style=\"color: #008080; text-decoration-color: #008080\">6.33</span> │ <span style=\"color: #008080; text-decoration-color: #008080\">    210</span> │ <span style=\"color: #008080; text-decoration-color: #008080\">   110</span> │ <span style=\"color: #008080; text-decoration-color: #008080\">     0</span> │ <span style=\"color: #008080; text-decoration-color: #008080\">    140</span> │ <span style=\"color: #008080; text-decoration-color: #008080\">    240</span> │ <span style=\"color: #008080; text-decoration-color: #008080\">    300</span> │ <span style=\"color: #008080; text-decoration-color: #008080\">    360</span> │ <span style=\"color: #008000; text-decoration-color: #008000\">▅▃▃▅▇▇</span> │  │\n│ │ <span style=\"color: #af87ff; text-decoration-color: #af87ff\">dd_ffx          </span> │ <span style=\"color: #008080; text-decoration-color: #008080\">221</span> │ <span style=\"color: #008080; text-decoration-color: #008080\">7.56</span> │ <span style=\"color: #008080; text-decoration-color: #008080\">    230</span> │ <span style=\"color: #008080; text-decoration-color: #008080\">   100</span> │ <span style=\"color: #008080; text-decoration-color: #008080\">     0</span> │ <span style=\"color: #008080; text-decoration-color: #008080\">    170</span> │ <span style=\"color: #008080; text-decoration-color: #008080\">    260</span> │ <span style=\"color: #008080; text-decoration-color: #008080\">    320</span> │ <span style=\"color: #008080; text-decoration-color: #008080\">    360</span> │ <span style=\"color: #008000; text-decoration-color: #008000\">▂▂▂▃▆▇</span> │  │\n│ │ <span style=\"color: #af87ff; text-decoration-color: #af87ff\">ff_med          </span> │ <span style=\"color: #008080; text-decoration-color: #008080\">124</span> │ <span style=\"color: #008080; text-decoration-color: #008080\">4.24</span> │ <span style=\"color: #008080; text-decoration-color: #008080\">      3</span> │ <span style=\"color: #008080; text-decoration-color: #008080\">   1.4</span> │ <span style=\"color: #008080; text-decoration-color: #008080\">   0.1</span> │ <span style=\"color: #008080; text-decoration-color: #008080\">      2</span> │ <span style=\"color: #008080; text-decoration-color: #008080\">    2.8</span> │ <span style=\"color: #008080; text-decoration-color: #008080\">    3.8</span> │ <span style=\"color: #008080; text-decoration-color: #008080\">     14</span> │ <span style=\"color: #008000; text-decoration-color: #008000\"> ▆▇▁  </span> │  │\n│ │ <span style=\"color: #af87ff; text-decoration-color: #af87ff\">ff_max          </span> │ <span style=\"color: #008080; text-decoration-color: #008080\">132</span> │ <span style=\"color: #008080; text-decoration-color: #008080\">4.52</span> │ <span style=\"color: #008080; text-decoration-color: #008080\">     10</span> │ <span style=\"color: #008080; text-decoration-color: #008080\">   3.7</span> │ <span style=\"color: #008080; text-decoration-color: #008080\">   0.6</span> │ <span style=\"color: #008080; text-decoration-color: #008080\">    7.6</span> │ <span style=\"color: #008080; text-decoration-color: #008080\">    9.5</span> │ <span style=\"color: #008080; text-decoration-color: #008080\">     12</span> │ <span style=\"color: #008080; text-decoration-color: #008080\">     33</span> │ <span style=\"color: #008000; text-decoration-color: #008000\"> ▁▇▃▁ </span> │  │\n│ │ <span style=\"color: #af87ff; text-decoration-color: #af87ff\">pr_qtd          </span> │ <span style=\"color: #008080; text-decoration-color: #008080\">123</span> │ <span style=\"color: #008080; text-decoration-color: #008080\">4.21</span> │ <span style=\"color: #008080; text-decoration-color: #008080\">    3.4</span> │ <span style=\"color: #008080; text-decoration-color: #008080\">   8.5</span> │ <span style=\"color: #008080; text-decoration-color: #008080\">     0</span> │ <span style=\"color: #008080; text-decoration-color: #008080\">      0</span> │ <span style=\"color: #008080; text-decoration-color: #008080\">      0</span> │ <span style=\"color: #008080; text-decoration-color: #008080\">    2.3</span> │ <span style=\"color: #008080; text-decoration-color: #008080\">    150</span> │ <span style=\"color: #008000; text-decoration-color: #008000\">  ▇   </span> │  │\n│ │ <span style=\"color: #af87ff; text-decoration-color: #af87ff\">count_zonaa     </span> │ <span style=\"color: #008080; text-decoration-color: #008080\">  0</span> │ <span style=\"color: #008080; text-decoration-color: #008080\">   0</span> │ <span style=\"color: #008080; text-decoration-color: #008080\">     59</span> │ <span style=\"color: #008080; text-decoration-color: #008080\">   170</span> │ <span style=\"color: #008080; text-decoration-color: #008080\">     0</span> │ <span style=\"color: #008080; text-decoration-color: #008080\">      0</span> │ <span style=\"color: #008080; text-decoration-color: #008080\">      0</span> │ <span style=\"color: #008080; text-decoration-color: #008080\">     41</span> │ <span style=\"color: #008080; text-decoration-color: #008080\">    880</span> │ <span style=\"color: #008000; text-decoration-color: #008000\">  ▇   </span> │  │\n│ │ <span style=\"color: #af87ff; text-decoration-color: #af87ff\">count_zonab     </span> │ <span style=\"color: #008080; text-decoration-color: #008080\">  0</span> │ <span style=\"color: #008080; text-decoration-color: #008080\">   0</span> │ <span style=\"color: #008080; text-decoration-color: #008080\">     19</span> │ <span style=\"color: #008080; text-decoration-color: #008080\">    34</span> │ <span style=\"color: #008080; text-decoration-color: #008080\">     0</span> │ <span style=\"color: #008080; text-decoration-color: #008080\">      0</span> │ <span style=\"color: #008080; text-decoration-color: #008080\">      8</span> │ <span style=\"color: #008080; text-decoration-color: #008080\">     23</span> │ <span style=\"color: #008080; text-decoration-color: #008080\">    250</span> │ <span style=\"color: #008000; text-decoration-color: #008000\">  ▇▁  </span> │  │\n│ │ <span style=\"color: #af87ff; text-decoration-color: #af87ff\">count_zonac     </span> │ <span style=\"color: #008080; text-decoration-color: #008080\">  0</span> │ <span style=\"color: #008080; text-decoration-color: #008080\">   0</span> │ <span style=\"color: #008080; text-decoration-color: #008080\">     17</span> │ <span style=\"color: #008080; text-decoration-color: #008080\">    17</span> │ <span style=\"color: #008080; text-decoration-color: #008080\">     0</span> │ <span style=\"color: #008080; text-decoration-color: #008080\">      6</span> │ <span style=\"color: #008080; text-decoration-color: #008080\">     13</span> │ <span style=\"color: #008080; text-decoration-color: #008080\">     23</span> │ <span style=\"color: #008080; text-decoration-color: #008080\">    110</span> │ <span style=\"color: #008000; text-decoration-color: #008000\"> ▇▃▁▁ </span> │  │\n│ │ <span style=\"color: #af87ff; text-decoration-color: #af87ff\">total_concelho_z</span> │ <span style=\"color: #008080; text-decoration-color: #008080\">  0</span> │ <span style=\"color: #008080; text-decoration-color: #008080\">   0</span> │ <span style=\"color: #008080; text-decoration-color: #008080\">     95</span> │ <span style=\"color: #008080; text-decoration-color: #008080\">   170</span> │ <span style=\"color: #008080; text-decoration-color: #008080\">     1</span> │ <span style=\"color: #008080; text-decoration-color: #008080\">     15</span> │ <span style=\"color: #008080; text-decoration-color: #008080\">     38</span> │ <span style=\"color: #008080; text-decoration-color: #008080\">     89</span> │ <span style=\"color: #008080; text-decoration-color: #008080\">    880</span> │ <span style=\"color: #008000; text-decoration-color: #008000\">  ▇▁  </span> │  │\n│ │ <span style=\"color: #af87ff; text-decoration-color: #af87ff\">onas            </span> │     │      │         │        │        │         │         │         │         │        │  │\n│ │ <span style=\"color: #af87ff; text-decoration-color: #af87ff\">percentagem_zona</span> │ <span style=\"color: #008080; text-decoration-color: #008080\">  0</span> │ <span style=\"color: #008080; text-decoration-color: #008080\">   0</span> │ <span style=\"color: #008080; text-decoration-color: #008080\">    0.2</span> │ <span style=\"color: #008080; text-decoration-color: #008080\">  0.34</span> │ <span style=\"color: #008080; text-decoration-color: #008080\">     0</span> │ <span style=\"color: #008080; text-decoration-color: #008080\">      0</span> │ <span style=\"color: #008080; text-decoration-color: #008080\">      0</span> │ <span style=\"color: #008080; text-decoration-color: #008080\">   0.32</span> │ <span style=\"color: #008080; text-decoration-color: #008080\">      1</span> │ <span style=\"color: #008000; text-decoration-color: #008000\">▇   ▁▁</span> │  │\n│ │ <span style=\"color: #af87ff; text-decoration-color: #af87ff\">a               </span> │     │      │         │        │        │         │         │         │         │        │  │\n│ │ <span style=\"color: #af87ff; text-decoration-color: #af87ff\">percentagem_zona</span> │ <span style=\"color: #008080; text-decoration-color: #008080\">  0</span> │ <span style=\"color: #008080; text-decoration-color: #008080\">   0</span> │ <span style=\"color: #008080; text-decoration-color: #008080\">   0.31</span> │ <span style=\"color: #008080; text-decoration-color: #008080\">  0.31</span> │ <span style=\"color: #008080; text-decoration-color: #008080\">     0</span> │ <span style=\"color: #008080; text-decoration-color: #008080\">      0</span> │ <span style=\"color: #008080; text-decoration-color: #008080\">   0.27</span> │ <span style=\"color: #008080; text-decoration-color: #008080\">   0.58</span> │ <span style=\"color: #008080; text-decoration-color: #008080\">      1</span> │ <span style=\"color: #008000; text-decoration-color: #008000\">▇▃▂▃▂▁</span> │  │\n│ │ <span style=\"color: #af87ff; text-decoration-color: #af87ff\">b               </span> │     │      │         │        │        │         │         │         │         │        │  │\n│ │ <span style=\"color: #af87ff; text-decoration-color: #af87ff\">percentagem_zona</span> │ <span style=\"color: #008080; text-decoration-color: #008080\">  0</span> │ <span style=\"color: #008080; text-decoration-color: #008080\">   0</span> │ <span style=\"color: #008080; text-decoration-color: #008080\">   0.49</span> │ <span style=\"color: #008080; text-decoration-color: #008080\">  0.34</span> │ <span style=\"color: #008080; text-decoration-color: #008080\">     0</span> │ <span style=\"color: #008080; text-decoration-color: #008080\">   0.21</span> │ <span style=\"color: #008080; text-decoration-color: #008080\">   0.43</span> │ <span style=\"color: #008080; text-decoration-color: #008080\">   0.81</span> │ <span style=\"color: #008080; text-decoration-color: #008080\">      1</span> │ <span style=\"color: #008000; text-decoration-color: #008000\">▇▆▆▃▃▇</span> │  │\n│ │ <span style=\"color: #af87ff; text-decoration-color: #af87ff\">c               </span> │     │      │         │        │        │         │         │         │         │        │  │\n│ │ <span style=\"color: #af87ff; text-decoration-color: #af87ff\">soma_degree_rede</span> │ <span style=\"color: #008080; text-decoration-color: #008080\">  0</span> │ <span style=\"color: #008080; text-decoration-color: #008080\">   0</span> │ <span style=\"color: #008080; text-decoration-color: #008080\">    9.3</span> │ <span style=\"color: #008080; text-decoration-color: #008080\">    25</span> │ <span style=\"color: #008080; text-decoration-color: #008080\">     0</span> │ <span style=\"color: #008080; text-decoration-color: #008080\">   0.25</span> │ <span style=\"color: #008080; text-decoration-color: #008080\">      2</span> │ <span style=\"color: #008080; text-decoration-color: #008080\">      6</span> │ <span style=\"color: #008080; text-decoration-color: #008080\">    130</span> │ <span style=\"color: #008000; text-decoration-color: #008000\">  ▇   </span> │  │\n│ │ <span style=\"color: #af87ff; text-decoration-color: #af87ff\">_concelho       </span> │     │      │         │        │        │         │         │         │         │        │  │\n│ │ <span style=\"color: #af87ff; text-decoration-color: #af87ff\">n_subestacoes_co</span> │ <span style=\"color: #008080; text-decoration-color: #008080\">  0</span> │ <span style=\"color: #008080; text-decoration-color: #008080\">   0</span> │ <span style=\"color: #008080; text-decoration-color: #008080\">    3.4</span> │ <span style=\"color: #008080; text-decoration-color: #008080\">   4.8</span> │ <span style=\"color: #008080; text-decoration-color: #008080\">     0</span> │ <span style=\"color: #008080; text-decoration-color: #008080\">      1</span> │ <span style=\"color: #008080; text-decoration-color: #008080\">      2</span> │ <span style=\"color: #008080; text-decoration-color: #008080\">      4</span> │ <span style=\"color: #008080; text-decoration-color: #008080\">     26</span> │ <span style=\"color: #008000; text-decoration-color: #008000\">  ▇▁  </span> │  │\n│ │ <span style=\"color: #af87ff; text-decoration-color: #af87ff\">ncelho          </span> │     │      │         │        │        │         │         │         │         │        │  │\n│ │ <span style=\"color: #af87ff; text-decoration-color: #af87ff\">perc_prim       </span> │ <span style=\"color: #008080; text-decoration-color: #008080\">  0</span> │ <span style=\"color: #008080; text-decoration-color: #008080\">   0</span> │ <span style=\"color: #008080; text-decoration-color: #008080\">  0.058</span> │ <span style=\"color: #008080; text-decoration-color: #008080\"> 0.065</span> │ <span style=\"color: #008080; text-decoration-color: #008080\">0.0024</span> │ <span style=\"color: #008080; text-decoration-color: #008080\">  0.014</span> │ <span style=\"color: #008080; text-decoration-color: #008080\">  0.034</span> │ <span style=\"color: #008080; text-decoration-color: #008080\">  0.074</span> │ <span style=\"color: #008080; text-decoration-color: #008080\">    0.4</span> │ <span style=\"color: #008000; text-decoration-color: #008000\"> ▇▂▁  </span> │  │\n│ │ <span style=\"color: #af87ff; text-decoration-color: #af87ff\">perc_sec        </span> │ <span style=\"color: #008080; text-decoration-color: #008080\">  0</span> │ <span style=\"color: #008080; text-decoration-color: #008080\">   0</span> │ <span style=\"color: #008080; text-decoration-color: #008080\">   0.25</span> │ <span style=\"color: #008080; text-decoration-color: #008080\">  0.11</span> │ <span style=\"color: #008080; text-decoration-color: #008080\"> 0.089</span> │ <span style=\"color: #008080; text-decoration-color: #008080\">   0.17</span> │ <span style=\"color: #008080; text-decoration-color: #008080\">   0.23</span> │ <span style=\"color: #008080; text-decoration-color: #008080\">   0.32</span> │ <span style=\"color: #008080; text-decoration-color: #008080\">    0.6</span> │ <span style=\"color: #008000; text-decoration-color: #008000\">▇▇▅▃▂ </span> │  │\n│ │ <span style=\"color: #af87ff; text-decoration-color: #af87ff\">perc_terc       </span> │ <span style=\"color: #008080; text-decoration-color: #008080\">  0</span> │ <span style=\"color: #008080; text-decoration-color: #008080\">   0</span> │ <span style=\"color: #008080; text-decoration-color: #008080\">   0.69</span> │ <span style=\"color: #008080; text-decoration-color: #008080\">  0.11</span> │ <span style=\"color: #008080; text-decoration-color: #008080\">  0.38</span> │ <span style=\"color: #008080; text-decoration-color: #008080\">   0.62</span> │ <span style=\"color: #008080; text-decoration-color: #008080\">   0.68</span> │ <span style=\"color: #008080; text-decoration-color: #008080\">   0.77</span> │ <span style=\"color: #008080; text-decoration-color: #008080\">   0.91</span> │ <span style=\"color: #008000; text-decoration-color: #008000\"> ▃▅▇▆▃</span> │  │\n│ └──────────────────┴─────┴──────┴─────────┴────────┴────────┴─────────┴─────────┴─────────┴─────────┴────────┘  │\n│ <span style=\"font-style: italic\">                                                    string                                                    </span>  │\n│ ┏━━━━━━━━━━━━━━━━━━━━━━━━━━━━━━━━━━━━━━━┳━━━━━━━┳━━━━━━━━━━━┳━━━━━━━━━━━━━━━━━━━━━━━━━━┳━━━━━━━━━━━━━━━━━━━━━┓  │\n│ ┃<span style=\"font-weight: bold\"> column_name                           </span>┃<span style=\"font-weight: bold\"> NA    </span>┃<span style=\"font-weight: bold\"> NA %      </span>┃<span style=\"font-weight: bold\"> words per row            </span>┃<span style=\"font-weight: bold\"> total words         </span>┃  │\n│ ┡━━━━━━━━━━━━━━━━━━━━━━━━━━━━━━━━━━━━━━━╇━━━━━━━╇━━━━━━━━━━━╇━━━━━━━━━━━━━━━━━━━━━━━━━━╇━━━━━━━━━━━━━━━━━━━━━┩  │\n│ │ <span style=\"color: #af87ff; text-decoration-color: #af87ff\">codigo_do_relatorio                  </span> │ <span style=\"color: #008080; text-decoration-color: #008080\">    0</span> │ <span style=\"color: #008080; text-decoration-color: #008080\">        0</span> │ <span style=\"color: #008080; text-decoration-color: #008080\">                       1</span> │ <span style=\"color: #008080; text-decoration-color: #008080\">               2922</span> │  │\n│ │ <span style=\"color: #af87ff; text-decoration-color: #af87ff\">concelho                             </span> │ <span style=\"color: #008080; text-decoration-color: #008080\">    0</span> │ <span style=\"color: #008080; text-decoration-color: #008080\">        0</span> │ <span style=\"color: #008080; text-decoration-color: #008080\">                       1</span> │ <span style=\"color: #008080; text-decoration-color: #008080\">               2922</span> │  │\n│ │ <span style=\"color: #af87ff; text-decoration-color: #af87ff\">data_do_incidente                    </span> │ <span style=\"color: #008080; text-decoration-color: #008080\">    0</span> │ <span style=\"color: #008080; text-decoration-color: #008080\">        0</span> │ <span style=\"color: #008080; text-decoration-color: #008080\">                       1</span> │ <span style=\"color: #008080; text-decoration-color: #008080\">               2922</span> │  │\n│ │ <span style=\"color: #af87ff; text-decoration-color: #af87ff\">nivel_de_tensao                      </span> │ <span style=\"color: #008080; text-decoration-color: #008080\">    0</span> │ <span style=\"color: #008080; text-decoration-color: #008080\">        0</span> │ <span style=\"color: #008080; text-decoration-color: #008080\">                       1</span> │ <span style=\"color: #008080; text-decoration-color: #008080\">               2922</span> │  │\n│ │ <span style=\"color: #af87ff; text-decoration-color: #af87ff\">causa_do_incidente                   </span> │ <span style=\"color: #008080; text-decoration-color: #008080\">    0</span> │ <span style=\"color: #008080; text-decoration-color: #008080\">        0</span> │ <span style=\"color: #008080; text-decoration-color: #008080\">                     1.8</span> │ <span style=\"color: #008080; text-decoration-color: #008080\">               5266</span> │  │\n│ │ <span style=\"color: #af87ff; text-decoration-color: #af87ff\">duracao_incidente_min_               </span> │ <span style=\"color: #008080; text-decoration-color: #008080\">    0</span> │ <span style=\"color: #008080; text-decoration-color: #008080\">        0</span> │ <span style=\"color: #008080; text-decoration-color: #008080\">                       1</span> │ <span style=\"color: #008080; text-decoration-color: #008080\">               2922</span> │  │\n│ │ <span style=\"color: #af87ff; text-decoration-color: #af87ff\">qualidade_de_energia_eletrica        </span> │ <span style=\"color: #008080; text-decoration-color: #008080\">    0</span> │ <span style=\"color: #008080; text-decoration-color: #008080\">        0</span> │ <span style=\"color: #008080; text-decoration-color: #008080\">                     1.1</span> │ <span style=\"color: #008080; text-decoration-color: #008080\">               3149</span> │  │\n│ │ <span style=\"color: #af87ff; text-decoration-color: #af87ff\">qualidade_de_servico_comercial       </span> │ <span style=\"color: #008080; text-decoration-color: #008080\">    0</span> │ <span style=\"color: #008080; text-decoration-color: #008080\">        0</span> │ <span style=\"color: #008080; text-decoration-color: #008080\">                     1.1</span> │ <span style=\"color: #008080; text-decoration-color: #008080\">               3102</span> │  │\n│ │ <span style=\"color: #af87ff; text-decoration-color: #af87ff\">decisao                              </span> │ <span style=\"color: #008080; text-decoration-color: #008080\">    0</span> │ <span style=\"color: #008080; text-decoration-color: #008080\">        0</span> │ <span style=\"color: #008080; text-decoration-color: #008080\">                     1.4</span> │ <span style=\"color: #008080; text-decoration-color: #008080\">               4015</span> │  │\n│ │ <span style=\"color: #af87ff; text-decoration-color: #af87ff\">distrito                             </span> │ <span style=\"color: #008080; text-decoration-color: #008080\">    0</span> │ <span style=\"color: #008080; text-decoration-color: #008080\">        0</span> │ <span style=\"color: #008080; text-decoration-color: #008080\">                     1.1</span> │ <span style=\"color: #008080; text-decoration-color: #008080\">               3353</span> │  │\n│ │ <span style=\"color: #af87ff; text-decoration-color: #af87ff\">classe_da_causa_4                    </span> │ <span style=\"color: #008080; text-decoration-color: #008080\">    0</span> │ <span style=\"color: #008080; text-decoration-color: #008080\">        0</span> │ <span style=\"color: #008080; text-decoration-color: #008080\">                     2.1</span> │ <span style=\"color: #008080; text-decoration-color: #008080\">               6070</span> │  │\n│ │ <span style=\"color: #af87ff; text-decoration-color: #af87ff\">classe_da_causa_6                    </span> │ <span style=\"color: #008080; text-decoration-color: #008080\">    0</span> │ <span style=\"color: #008080; text-decoration-color: #008080\">        0</span> │ <span style=\"color: #008080; text-decoration-color: #008080\">                       1</span> │ <span style=\"color: #008080; text-decoration-color: #008080\">               2922</span> │  │\n│ └───────────────────────────────────────┴───────┴───────────┴──────────────────────────┴─────────────────────┘  │\n╰────────────────────────────────────────────────────── End ──────────────────────────────────────────────────────╯\n</pre>\n"
     },
     "metadata": {},
     "output_type": "display_data"
    }
   ],
   "source": [
    "from skimpy import skim\n",
    "\n",
    "skim(eventos)"
   ],
   "metadata": {
    "collapsed": false,
    "ExecuteTime": {
     "end_time": "2024-05-26T02:14:23.774943Z",
     "start_time": "2024-05-26T02:14:23.577418Z"
    }
   },
   "id": "18db33f9e5c09d8d",
   "execution_count": 172
  },
  {
   "cell_type": "code",
   "outputs": [
    {
     "name": "stderr",
     "output_type": "stream",
     "text": [
      "C:\\Users\\Plancha\\AppData\\Local\\Temp\\ipykernel_9208\\4144783495.py:1: SettingWithCopyWarning: \n",
      "A value is trying to be set on a copy of a slice from a DataFrame\n",
      "\n",
      "See the caveats in the documentation: https://pandas.pydata.org/pandas-docs/stable/user_guide/indexing.html#returning-a-view-versus-a-copy\n",
      "  eventos.drop(columns=variables_to_drop, inplace=True)\n"
     ]
    }
   ],
   "source": [
    "eventos.drop(columns=variables_to_drop, inplace=True)\n",
    "# write\n",
    "eventos.to_feather(here(\"data/EventosQuaseFinal.feather\"))"
   ],
   "metadata": {
    "collapsed": false,
    "ExecuteTime": {
     "end_time": "2024-05-26T02:14:44.880032Z",
     "start_time": "2024-05-26T02:14:44.864841Z"
    }
   },
   "id": "180958d6e1e69a5b",
   "execution_count": 173
  },
  {
   "cell_type": "code",
   "outputs": [],
   "source": [
    "# make daily TODO"
   ],
   "metadata": {
    "collapsed": false
   },
   "id": "239b39e3182825b5"
  }
 ],
 "metadata": {
  "kernelspec": {
   "display_name": "Python 3",
   "language": "python",
   "name": "python3"
  },
  "language_info": {
   "codemirror_mode": {
    "name": "ipython",
    "version": 2
   },
   "file_extension": ".py",
   "mimetype": "text/x-python",
   "name": "python",
   "nbconvert_exporter": "python",
   "pygments_lexer": "ipython2",
   "version": "2.7.6"
  }
 },
 "nbformat": 4,
 "nbformat_minor": 5
}
