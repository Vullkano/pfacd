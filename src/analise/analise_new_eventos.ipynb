{
 "cells": [
  {
   "cell_type": "code",
   "id": "initial_id",
   "metadata": {
    "collapsed": true,
    "ExecuteTime": {
     "end_time": "2024-04-20T13:07:41.888325Z",
     "start_time": "2024-04-20T13:07:35.555276Z"
    }
   },
   "source": [
    "import locale\n",
    "\n",
    "from pyprojroot.here import here\n",
    "\n",
    "here()\n",
    "import pandas as pd\n",
    "import duckdb\n",
    "from janitor import clean_names\n",
    "df = clean_names(pd.read_excel(here(r\"data/QuebrasJuntoInc.xlsx\")))\n",
    "df"
   ],
   "outputs": [
    {
     "name": "stderr",
     "output_type": "stream",
     "text": [
      "C:\\Users\\Plancha\\Desktop\\pfacd\\.pixi\\envs\\default\\Lib\\site-packages\\openpyxl\\packaging\\core.py:99: DeprecationWarning: datetime.datetime.utcnow() is deprecated and scheduled for removal in a future version. Use timezone-aware objects to represent datetimes in UTC: datetime.datetime.now(datetime.UTC).\n",
      "  now = datetime.datetime.utcnow()\n",
      "C:\\Users\\Plancha\\Desktop\\pfacd\\.pixi\\envs\\default\\Lib\\site-packages\\openpyxl\\packaging\\core.py:99: DeprecationWarning: datetime.datetime.utcnow() is deprecated and scheduled for removal in a future version. Use timezone-aware objects to represent datetimes in UTC: datetime.datetime.now(datetime.UTC).\n",
      "  now = datetime.datetime.utcnow()\n"
     ]
    },
    {
     "data": {
      "text/plain": "      codigo_do_relatorio                concelho data_do_incidente  \\\n0       EDPD_2018_JAN_T_1                  Almada        2018-01-02   \n1       EDPD_2018_JAN_T_2                   Sertã        2018-01-02   \n2       EDPD_2018_JAN_T_3              Felgueiras        2018-01-04   \n3       EDPD_2018_JAN_T_4           Torres Vedras        2018-01-05   \n4       EDPD_2018_JAN_T_5                    Nisa        2018-01-09   \n...                   ...                     ...               ...   \n7300   EDPD_2017_NOV_T_62                    Ovar        2017-11-29   \n7301   EDPD_2017_NOV_T_63    Santa Maria Da Feira        2017-11-03   \n7302   EDPD_2017_NOV_T_64    Santa Maria Da Feira        2017-11-23   \n7303   EDPD_2017_NOV_T_65                Almeirim        2017-11-03   \n7304  IGI_2017_DEZ_TC_001  Vila Nova De Famalicão        2017-12-10   \n\n     nivel_de_tensao             causa_do_incidente duracao_incidente_min_  \\\n0                 MT                     Escavações                     55   \n1                 MT               Abate De Árvores                    163   \n2                 MT         Deslizamento De Terras                    596   \n3                 BT                       Veículos                    178   \n4                 MT                           Aves                    119   \n...              ...                            ...                    ...   \n7300              BT                       Veículos                    220   \n7301              BT                       Veículos                     92   \n7302              BT                       Veículos                    121   \n7303              BT   Descarga Atmosférica Directa                    154   \n7304      AT, MT, BT  Vento Intensidade Excepcional                   2440   \n\n      n_º_clientes_afetados tiepi_mt_min_ saifi_mt_#_ saidi_mt_min_  ...  \\\n0                     828.0     0,0029345   0,0000443     0,0024563  ...   \n1                     549.0     0,0029335   0,0001770     0,0165009  ...   \n2                    3459.0     0,0192281   0,0002655     0,0359047  ...   \n3                     102.0     0,0000000   0,0000000     0,0000000  ...   \n4                    1731.0     0,0044221   0,0001549     0,0100377  ...   \n...                     ...           ...         ...           ...  ...   \n7300                    2.0             0           0             0  ...   \n7301                    1.0             0           0             0  ...   \n7302                    1.0             0           0             0  ...   \n7303                    1.0             0           0             0  ...   \n7304              1058005.0        17,100       0,330        29,300  ...   \n\n     indice_de_envelhecimento     rural t_med t_max t_min dd_med dd_ffx  \\\n0                       157.9  0.000000  10.7  17.4   2.6    NaN    NaN   \n1                       260.2  1.000000  10.6  13.8   6.2  249.0  270.0   \n2                       117.9  0.800000  14.0  14.8  12.9  197.0  180.0   \n3                       156.4  0.923077  12.4  15.1   9.1  288.0  225.0   \n4                       467.9  1.000000   4.9   7.8   2.2  137.0  118.0   \n...                       ...       ...   ...   ...   ...    ...    ...   \n7300                    141.7  1.000000  10.3  14.3   6.3    NaN    NaN   \n7301                    134.6  0.000000  16.4  20.6  14.8    NaN    NaN   \n7302                    134.6  0.000000  17.9  22.6  14.6    NaN    NaN   \n7303                    175.1  1.000000  15.0  20.8  12.8  186.0  186.0   \n7304                    124.3  0.794118  14.4  15.8  10.2  231.0  225.0   \n\n      ff_med  ff_max  pr_qtd  \n0        NaN     NaN     0.0  \n1        2.8     8.1     0.0  \n2        3.9    14.4     4.0  \n3        3.6    13.9    13.2  \n4        4.1    15.4    15.9  \n...      ...     ...     ...  \n7300     NaN     NaN     0.0  \n7301     NaN     NaN     NaN  \n7302     NaN     NaN     8.1  \n7303     2.5    11.0     NaN  \n7304     NaN     NaN     NaN  \n\n[7305 rows x 36 columns]",
      "text/html": "<div>\n<style scoped>\n    .dataframe tbody tr th:only-of-type {\n        vertical-align: middle;\n    }\n\n    .dataframe tbody tr th {\n        vertical-align: top;\n    }\n\n    .dataframe thead th {\n        text-align: right;\n    }\n</style>\n<table border=\"1\" class=\"dataframe\">\n  <thead>\n    <tr style=\"text-align: right;\">\n      <th></th>\n      <th>codigo_do_relatorio</th>\n      <th>concelho</th>\n      <th>data_do_incidente</th>\n      <th>nivel_de_tensao</th>\n      <th>causa_do_incidente</th>\n      <th>duracao_incidente_min_</th>\n      <th>n_º_clientes_afetados</th>\n      <th>tiepi_mt_min_</th>\n      <th>saifi_mt_#_</th>\n      <th>saidi_mt_min_</th>\n      <th>...</th>\n      <th>indice_de_envelhecimento</th>\n      <th>rural</th>\n      <th>t_med</th>\n      <th>t_max</th>\n      <th>t_min</th>\n      <th>dd_med</th>\n      <th>dd_ffx</th>\n      <th>ff_med</th>\n      <th>ff_max</th>\n      <th>pr_qtd</th>\n    </tr>\n  </thead>\n  <tbody>\n    <tr>\n      <th>0</th>\n      <td>EDPD_2018_JAN_T_1</td>\n      <td>Almada</td>\n      <td>2018-01-02</td>\n      <td>MT</td>\n      <td>Escavações</td>\n      <td>55</td>\n      <td>828.0</td>\n      <td>0,0029345</td>\n      <td>0,0000443</td>\n      <td>0,0024563</td>\n      <td>...</td>\n      <td>157.9</td>\n      <td>0.000000</td>\n      <td>10.7</td>\n      <td>17.4</td>\n      <td>2.6</td>\n      <td>NaN</td>\n      <td>NaN</td>\n      <td>NaN</td>\n      <td>NaN</td>\n      <td>0.0</td>\n    </tr>\n    <tr>\n      <th>1</th>\n      <td>EDPD_2018_JAN_T_2</td>\n      <td>Sertã</td>\n      <td>2018-01-02</td>\n      <td>MT</td>\n      <td>Abate De Árvores</td>\n      <td>163</td>\n      <td>549.0</td>\n      <td>0,0029335</td>\n      <td>0,0001770</td>\n      <td>0,0165009</td>\n      <td>...</td>\n      <td>260.2</td>\n      <td>1.000000</td>\n      <td>10.6</td>\n      <td>13.8</td>\n      <td>6.2</td>\n      <td>249.0</td>\n      <td>270.0</td>\n      <td>2.8</td>\n      <td>8.1</td>\n      <td>0.0</td>\n    </tr>\n    <tr>\n      <th>2</th>\n      <td>EDPD_2018_JAN_T_3</td>\n      <td>Felgueiras</td>\n      <td>2018-01-04</td>\n      <td>MT</td>\n      <td>Deslizamento De Terras</td>\n      <td>596</td>\n      <td>3459.0</td>\n      <td>0,0192281</td>\n      <td>0,0002655</td>\n      <td>0,0359047</td>\n      <td>...</td>\n      <td>117.9</td>\n      <td>0.800000</td>\n      <td>14.0</td>\n      <td>14.8</td>\n      <td>12.9</td>\n      <td>197.0</td>\n      <td>180.0</td>\n      <td>3.9</td>\n      <td>14.4</td>\n      <td>4.0</td>\n    </tr>\n    <tr>\n      <th>3</th>\n      <td>EDPD_2018_JAN_T_4</td>\n      <td>Torres Vedras</td>\n      <td>2018-01-05</td>\n      <td>BT</td>\n      <td>Veículos</td>\n      <td>178</td>\n      <td>102.0</td>\n      <td>0,0000000</td>\n      <td>0,0000000</td>\n      <td>0,0000000</td>\n      <td>...</td>\n      <td>156.4</td>\n      <td>0.923077</td>\n      <td>12.4</td>\n      <td>15.1</td>\n      <td>9.1</td>\n      <td>288.0</td>\n      <td>225.0</td>\n      <td>3.6</td>\n      <td>13.9</td>\n      <td>13.2</td>\n    </tr>\n    <tr>\n      <th>4</th>\n      <td>EDPD_2018_JAN_T_5</td>\n      <td>Nisa</td>\n      <td>2018-01-09</td>\n      <td>MT</td>\n      <td>Aves</td>\n      <td>119</td>\n      <td>1731.0</td>\n      <td>0,0044221</td>\n      <td>0,0001549</td>\n      <td>0,0100377</td>\n      <td>...</td>\n      <td>467.9</td>\n      <td>1.000000</td>\n      <td>4.9</td>\n      <td>7.8</td>\n      <td>2.2</td>\n      <td>137.0</td>\n      <td>118.0</td>\n      <td>4.1</td>\n      <td>15.4</td>\n      <td>15.9</td>\n    </tr>\n    <tr>\n      <th>...</th>\n      <td>...</td>\n      <td>...</td>\n      <td>...</td>\n      <td>...</td>\n      <td>...</td>\n      <td>...</td>\n      <td>...</td>\n      <td>...</td>\n      <td>...</td>\n      <td>...</td>\n      <td>...</td>\n      <td>...</td>\n      <td>...</td>\n      <td>...</td>\n      <td>...</td>\n      <td>...</td>\n      <td>...</td>\n      <td>...</td>\n      <td>...</td>\n      <td>...</td>\n      <td>...</td>\n    </tr>\n    <tr>\n      <th>7300</th>\n      <td>EDPD_2017_NOV_T_62</td>\n      <td>Ovar</td>\n      <td>2017-11-29</td>\n      <td>BT</td>\n      <td>Veículos</td>\n      <td>220</td>\n      <td>2.0</td>\n      <td>0</td>\n      <td>0</td>\n      <td>0</td>\n      <td>...</td>\n      <td>141.7</td>\n      <td>1.000000</td>\n      <td>10.3</td>\n      <td>14.3</td>\n      <td>6.3</td>\n      <td>NaN</td>\n      <td>NaN</td>\n      <td>NaN</td>\n      <td>NaN</td>\n      <td>0.0</td>\n    </tr>\n    <tr>\n      <th>7301</th>\n      <td>EDPD_2017_NOV_T_63</td>\n      <td>Santa Maria Da Feira</td>\n      <td>2017-11-03</td>\n      <td>BT</td>\n      <td>Veículos</td>\n      <td>92</td>\n      <td>1.0</td>\n      <td>0</td>\n      <td>0</td>\n      <td>0</td>\n      <td>...</td>\n      <td>134.6</td>\n      <td>0.000000</td>\n      <td>16.4</td>\n      <td>20.6</td>\n      <td>14.8</td>\n      <td>NaN</td>\n      <td>NaN</td>\n      <td>NaN</td>\n      <td>NaN</td>\n      <td>NaN</td>\n    </tr>\n    <tr>\n      <th>7302</th>\n      <td>EDPD_2017_NOV_T_64</td>\n      <td>Santa Maria Da Feira</td>\n      <td>2017-11-23</td>\n      <td>BT</td>\n      <td>Veículos</td>\n      <td>121</td>\n      <td>1.0</td>\n      <td>0</td>\n      <td>0</td>\n      <td>0</td>\n      <td>...</td>\n      <td>134.6</td>\n      <td>0.000000</td>\n      <td>17.9</td>\n      <td>22.6</td>\n      <td>14.6</td>\n      <td>NaN</td>\n      <td>NaN</td>\n      <td>NaN</td>\n      <td>NaN</td>\n      <td>8.1</td>\n    </tr>\n    <tr>\n      <th>7303</th>\n      <td>EDPD_2017_NOV_T_65</td>\n      <td>Almeirim</td>\n      <td>2017-11-03</td>\n      <td>BT</td>\n      <td>Descarga Atmosférica Directa</td>\n      <td>154</td>\n      <td>1.0</td>\n      <td>0</td>\n      <td>0</td>\n      <td>0</td>\n      <td>...</td>\n      <td>175.1</td>\n      <td>1.000000</td>\n      <td>15.0</td>\n      <td>20.8</td>\n      <td>12.8</td>\n      <td>186.0</td>\n      <td>186.0</td>\n      <td>2.5</td>\n      <td>11.0</td>\n      <td>NaN</td>\n    </tr>\n    <tr>\n      <th>7304</th>\n      <td>IGI_2017_DEZ_TC_001</td>\n      <td>Vila Nova De Famalicão</td>\n      <td>2017-12-10</td>\n      <td>AT, MT, BT</td>\n      <td>Vento Intensidade Excepcional</td>\n      <td>2440</td>\n      <td>1058005.0</td>\n      <td>17,100</td>\n      <td>0,330</td>\n      <td>29,300</td>\n      <td>...</td>\n      <td>124.3</td>\n      <td>0.794118</td>\n      <td>14.4</td>\n      <td>15.8</td>\n      <td>10.2</td>\n      <td>231.0</td>\n      <td>225.0</td>\n      <td>NaN</td>\n      <td>NaN</td>\n      <td>NaN</td>\n    </tr>\n  </tbody>\n</table>\n<p>7305 rows × 36 columns</p>\n</div>"
     },
     "execution_count": 1,
     "metadata": {},
     "output_type": "execute_result"
    }
   ],
   "execution_count": 1
  },
  {
   "cell_type": "code",
   "outputs": [
    {
     "data": {
      "text/plain": "┌──────────────────────┬──────────┬───────────────────┬─────────────────┬───┬────────┬────────┬────────┬────────┐\n│ codigo_do_relatorio  │ concelho │ data_do_incidente │ nivel_de_tensao │ … │ dd_ffx │ ff_med │ ff_max │ pr_qtd │\n│       varchar        │ varchar  │      varchar      │     varchar     │   │ double │ double │ double │ double │\n├──────────────────────┼──────────┼───────────────────┼─────────────────┼───┼────────┼────────┼────────┼────────┤\n│ EREDES_2022_JAN_T_22 │ Lagoa    │ 2022-01-18        │ MT              │ … │   85.0 │    4.5 │   10.6 │    0.0 │\n├──────────────────────┴──────────┴───────────────────┴─────────────────┴───┴────────┴────────┴────────┴────────┤\n│ 1 rows                                                                                   36 columns (8 shown) │\n└───────────────────────────────────────────────────────────────────────────────────────────────────────────────┘"
     },
     "execution_count": 2,
     "metadata": {},
     "output_type": "execute_result"
    }
   ],
   "source": [
    "duckdb.query(r\"select * from df where codigo_do_relatorio = 'EREDES_2022_JAN_T_22'\")"
   ],
   "metadata": {
    "collapsed": false,
    "ExecuteTime": {
     "end_time": "2024-04-20T13:07:41.942558Z",
     "start_time": "2024-04-20T13:07:41.889320Z"
    }
   },
   "id": "f4a933c044f613f",
   "execution_count": 2
  },
  {
   "cell_type": "code",
   "outputs": [
    {
     "data": {
      "text/plain": "(0, 0, 14)"
     },
     "execution_count": 3,
     "metadata": {},
     "output_type": "execute_result"
    }
   ],
   "source": [
    "alcoutim = duckdb.query(r\"select * from df where concelho like '%lcou%'\").df()\n",
    "manteigas = duckdb.query(r\"select * from df where concelho like '%teigas%'\").df()\n",
    "lagoa = duckdb.query(r\"select * from df where concelho like '%agoa%'\").df()\n",
    "(len(alcoutim), len(manteigas), len(lagoa))"
   ],
   "metadata": {
    "collapsed": false,
    "ExecuteTime": {
     "end_time": "2024-04-20T13:07:42.011996Z",
     "start_time": "2024-04-20T13:07:41.943069Z"
    }
   },
   "id": "e86e14cca9f09bc6",
   "execution_count": 3
  },
  {
   "cell_type": "code",
   "outputs": [
    {
     "data": {
      "text/plain": "       codigo_do_relatorio  concelho data_do_incidente nivel_de_tensao  \\\n0      EDPD_2014_MAR_T_081  Abrantes        2014-03-21              MT   \n1      EDPD_2014_JUN_T_035  Abrantes        2014-06-06              MT   \n2      EDPD_2014_SET_T_137  Abrantes        2014-09-13              MT   \n3      EDPD_2015_MAR_T_016  Abrantes        2015-03-27              MT   \n4      EDPD_2016_FEV_T_082  Abrantes        2016-02-23              MT   \n...                    ...       ...               ...             ...   \n3406  EREDES_2022_MAR_T_41    Ílhavo        2022-03-17              MT   \n3407   EREDES_2022_ABR_T_8    Ílhavo        2022-04-09              MT   \n3408   EDPD_2014_MAR_T_034    Óbidos        2014-03-05              MT   \n3409   EDPD_2015_JUN_T_049    Óbidos        2015-06-28              MT   \n3410   EDPD_2015_JUL_T_016    Óbidos        2015-07-24              MT   \n\n          causa_do_incidente duracao_incidente_min_  n_º_clientes_afetados  \\\n0                       Aves                    124                 1853.0   \n1                       Aves                    168                 2923.0   \n2     Malfeitoria/Vandalismo                    159                 6298.0   \n3                       Aves                    338                 2003.0   \n4           Abate De Árvores                     67                   78.0   \n...                      ...                    ...                    ...   \n3406                    Aves                     64                 1921.0   \n3407                    Aves                     92                 1920.0   \n3408                    Aves                     94                 2026.0   \n3409                    Aves                    105                 2048.0   \n3410                    Aves                    262                 2975.0   \n\n     tiepi_mt_min_ saifi_mt_#_ saidi_mt_min_  ... indice_de_envelhecimento  \\\n0         0,028301    0,000553      0,029893  ...                    222.2   \n1         0,010340    0,000884      0,035358  ...                    222.2   \n2         0,005313    0,000469      0,013798  ...                    222.2   \n3        0,0071687   0,0002352     0,0088462  ...                    231.6   \n4          0,00073     0,00002       0,00148  ...                    241.5   \n...            ...         ...           ...  ...                      ...   \n3406     0,0012525   0,0000213     0,0013394  ...                    160.9   \n3407     0,0042615   0,0000745     0,0035010  ...                    160.9   \n3408      0,007496    0,000323      0,014002  ...                    171.4   \n3409     0,0045120   0,0000895     0,0093486  ...                    178.0   \n3410     0,0159384   0,0001566     0,0448747  ...                    178.0   \n\n         rural t_med t_max t_min dd_med dd_ffx  ff_med  ff_max  pr_qtd  \n0     0.846154  12.2  15.8   8.4  211.0  321.0     2.4     7.2     0.5  \n1     0.846154  16.3  21.2  13.7  189.0  203.0     4.1    13.1    19.3  \n2     0.846154  21.2  27.8  16.9  196.0  186.0     1.5     7.5     0.1  \n3     0.846154  14.5  20.3  10.5  328.0  332.0     3.2    10.0     0.0  \n4     0.846154  11.2  16.2   7.7  317.0  332.0     2.0     6.8     0.0  \n...        ...   ...   ...   ...    ...    ...     ...     ...     ...  \n3406  0.000000  14.4  17.7  11.7   44.0   85.0     3.2    11.8     0.0  \n3407  0.000000  15.0  18.1  13.2  306.0  256.0     2.1     8.6     1.6  \n3408  1.000000   NaN   NaN   NaN  344.0  309.0     3.1    11.2     1.8  \n3409  1.000000  19.1  26.0  11.9  316.0  321.0     2.3     9.3     0.0  \n3410  1.000000  20.6  24.2  17.0  324.0  326.0     3.0    10.9     0.4  \n\n[3411 rows x 36 columns]",
      "text/html": "<div>\n<style scoped>\n    .dataframe tbody tr th:only-of-type {\n        vertical-align: middle;\n    }\n\n    .dataframe tbody tr th {\n        vertical-align: top;\n    }\n\n    .dataframe thead th {\n        text-align: right;\n    }\n</style>\n<table border=\"1\" class=\"dataframe\">\n  <thead>\n    <tr style=\"text-align: right;\">\n      <th></th>\n      <th>codigo_do_relatorio</th>\n      <th>concelho</th>\n      <th>data_do_incidente</th>\n      <th>nivel_de_tensao</th>\n      <th>causa_do_incidente</th>\n      <th>duracao_incidente_min_</th>\n      <th>n_º_clientes_afetados</th>\n      <th>tiepi_mt_min_</th>\n      <th>saifi_mt_#_</th>\n      <th>saidi_mt_min_</th>\n      <th>...</th>\n      <th>indice_de_envelhecimento</th>\n      <th>rural</th>\n      <th>t_med</th>\n      <th>t_max</th>\n      <th>t_min</th>\n      <th>dd_med</th>\n      <th>dd_ffx</th>\n      <th>ff_med</th>\n      <th>ff_max</th>\n      <th>pr_qtd</th>\n    </tr>\n  </thead>\n  <tbody>\n    <tr>\n      <th>0</th>\n      <td>EDPD_2014_MAR_T_081</td>\n      <td>Abrantes</td>\n      <td>2014-03-21</td>\n      <td>MT</td>\n      <td>Aves</td>\n      <td>124</td>\n      <td>1853.0</td>\n      <td>0,028301</td>\n      <td>0,000553</td>\n      <td>0,029893</td>\n      <td>...</td>\n      <td>222.2</td>\n      <td>0.846154</td>\n      <td>12.2</td>\n      <td>15.8</td>\n      <td>8.4</td>\n      <td>211.0</td>\n      <td>321.0</td>\n      <td>2.4</td>\n      <td>7.2</td>\n      <td>0.5</td>\n    </tr>\n    <tr>\n      <th>1</th>\n      <td>EDPD_2014_JUN_T_035</td>\n      <td>Abrantes</td>\n      <td>2014-06-06</td>\n      <td>MT</td>\n      <td>Aves</td>\n      <td>168</td>\n      <td>2923.0</td>\n      <td>0,010340</td>\n      <td>0,000884</td>\n      <td>0,035358</td>\n      <td>...</td>\n      <td>222.2</td>\n      <td>0.846154</td>\n      <td>16.3</td>\n      <td>21.2</td>\n      <td>13.7</td>\n      <td>189.0</td>\n      <td>203.0</td>\n      <td>4.1</td>\n      <td>13.1</td>\n      <td>19.3</td>\n    </tr>\n    <tr>\n      <th>2</th>\n      <td>EDPD_2014_SET_T_137</td>\n      <td>Abrantes</td>\n      <td>2014-09-13</td>\n      <td>MT</td>\n      <td>Malfeitoria/Vandalismo</td>\n      <td>159</td>\n      <td>6298.0</td>\n      <td>0,005313</td>\n      <td>0,000469</td>\n      <td>0,013798</td>\n      <td>...</td>\n      <td>222.2</td>\n      <td>0.846154</td>\n      <td>21.2</td>\n      <td>27.8</td>\n      <td>16.9</td>\n      <td>196.0</td>\n      <td>186.0</td>\n      <td>1.5</td>\n      <td>7.5</td>\n      <td>0.1</td>\n    </tr>\n    <tr>\n      <th>3</th>\n      <td>EDPD_2015_MAR_T_016</td>\n      <td>Abrantes</td>\n      <td>2015-03-27</td>\n      <td>MT</td>\n      <td>Aves</td>\n      <td>338</td>\n      <td>2003.0</td>\n      <td>0,0071687</td>\n      <td>0,0002352</td>\n      <td>0,0088462</td>\n      <td>...</td>\n      <td>231.6</td>\n      <td>0.846154</td>\n      <td>14.5</td>\n      <td>20.3</td>\n      <td>10.5</td>\n      <td>328.0</td>\n      <td>332.0</td>\n      <td>3.2</td>\n      <td>10.0</td>\n      <td>0.0</td>\n    </tr>\n    <tr>\n      <th>4</th>\n      <td>EDPD_2016_FEV_T_082</td>\n      <td>Abrantes</td>\n      <td>2016-02-23</td>\n      <td>MT</td>\n      <td>Abate De Árvores</td>\n      <td>67</td>\n      <td>78.0</td>\n      <td>0,00073</td>\n      <td>0,00002</td>\n      <td>0,00148</td>\n      <td>...</td>\n      <td>241.5</td>\n      <td>0.846154</td>\n      <td>11.2</td>\n      <td>16.2</td>\n      <td>7.7</td>\n      <td>317.0</td>\n      <td>332.0</td>\n      <td>2.0</td>\n      <td>6.8</td>\n      <td>0.0</td>\n    </tr>\n    <tr>\n      <th>...</th>\n      <td>...</td>\n      <td>...</td>\n      <td>...</td>\n      <td>...</td>\n      <td>...</td>\n      <td>...</td>\n      <td>...</td>\n      <td>...</td>\n      <td>...</td>\n      <td>...</td>\n      <td>...</td>\n      <td>...</td>\n      <td>...</td>\n      <td>...</td>\n      <td>...</td>\n      <td>...</td>\n      <td>...</td>\n      <td>...</td>\n      <td>...</td>\n      <td>...</td>\n      <td>...</td>\n    </tr>\n    <tr>\n      <th>3406</th>\n      <td>EREDES_2022_MAR_T_41</td>\n      <td>Ílhavo</td>\n      <td>2022-03-17</td>\n      <td>MT</td>\n      <td>Aves</td>\n      <td>64</td>\n      <td>1921.0</td>\n      <td>0,0012525</td>\n      <td>0,0000213</td>\n      <td>0,0013394</td>\n      <td>...</td>\n      <td>160.9</td>\n      <td>0.000000</td>\n      <td>14.4</td>\n      <td>17.7</td>\n      <td>11.7</td>\n      <td>44.0</td>\n      <td>85.0</td>\n      <td>3.2</td>\n      <td>11.8</td>\n      <td>0.0</td>\n    </tr>\n    <tr>\n      <th>3407</th>\n      <td>EREDES_2022_ABR_T_8</td>\n      <td>Ílhavo</td>\n      <td>2022-04-09</td>\n      <td>MT</td>\n      <td>Aves</td>\n      <td>92</td>\n      <td>1920.0</td>\n      <td>0,0042615</td>\n      <td>0,0000745</td>\n      <td>0,0035010</td>\n      <td>...</td>\n      <td>160.9</td>\n      <td>0.000000</td>\n      <td>15.0</td>\n      <td>18.1</td>\n      <td>13.2</td>\n      <td>306.0</td>\n      <td>256.0</td>\n      <td>2.1</td>\n      <td>8.6</td>\n      <td>1.6</td>\n    </tr>\n    <tr>\n      <th>3408</th>\n      <td>EDPD_2014_MAR_T_034</td>\n      <td>Óbidos</td>\n      <td>2014-03-05</td>\n      <td>MT</td>\n      <td>Aves</td>\n      <td>94</td>\n      <td>2026.0</td>\n      <td>0,007496</td>\n      <td>0,000323</td>\n      <td>0,014002</td>\n      <td>...</td>\n      <td>171.4</td>\n      <td>1.000000</td>\n      <td>NaN</td>\n      <td>NaN</td>\n      <td>NaN</td>\n      <td>344.0</td>\n      <td>309.0</td>\n      <td>3.1</td>\n      <td>11.2</td>\n      <td>1.8</td>\n    </tr>\n    <tr>\n      <th>3409</th>\n      <td>EDPD_2015_JUN_T_049</td>\n      <td>Óbidos</td>\n      <td>2015-06-28</td>\n      <td>MT</td>\n      <td>Aves</td>\n      <td>105</td>\n      <td>2048.0</td>\n      <td>0,0045120</td>\n      <td>0,0000895</td>\n      <td>0,0093486</td>\n      <td>...</td>\n      <td>178.0</td>\n      <td>1.000000</td>\n      <td>19.1</td>\n      <td>26.0</td>\n      <td>11.9</td>\n      <td>316.0</td>\n      <td>321.0</td>\n      <td>2.3</td>\n      <td>9.3</td>\n      <td>0.0</td>\n    </tr>\n    <tr>\n      <th>3410</th>\n      <td>EDPD_2015_JUL_T_016</td>\n      <td>Óbidos</td>\n      <td>2015-07-24</td>\n      <td>MT</td>\n      <td>Aves</td>\n      <td>262</td>\n      <td>2975.0</td>\n      <td>0,0159384</td>\n      <td>0,0001566</td>\n      <td>0,0448747</td>\n      <td>...</td>\n      <td>178.0</td>\n      <td>1.000000</td>\n      <td>20.6</td>\n      <td>24.2</td>\n      <td>17.0</td>\n      <td>324.0</td>\n      <td>326.0</td>\n      <td>3.0</td>\n      <td>10.9</td>\n      <td>0.4</td>\n    </tr>\n  </tbody>\n</table>\n<p>3411 rows × 36 columns</p>\n</div>"
     },
     "execution_count": 4,
     "metadata": {},
     "output_type": "execute_result"
    }
   ],
   "source": [
    "duckdb.query(r\"select * from df where nivel_de_tensao == 'MT' order by concelho, data_do_incidente\").df()"
   ],
   "metadata": {
    "collapsed": false,
    "ExecuteTime": {
     "end_time": "2024-04-20T13:07:42.075409Z",
     "start_time": "2024-04-20T13:07:42.012992Z"
    }
   },
   "id": "1bf1257f13579e2e",
   "execution_count": 4
  },
  {
   "metadata": {
    "ExecuteTime": {
     "end_time": "2024-04-20T13:08:03.036814Z",
     "start_time": "2024-04-20T13:08:03.002759Z"
    }
   },
   "cell_type": "code",
   "source": [
    "descricao_das_colunas = {\n",
    "  \"codigo_do_relatorio\":  \"Identificador Unico do Incidente\",\n",
    "  \"concelho_do_incidente\": \"Concelho onde ocorreu o incidente\",\n",
    "  \"data_do_incidente\": \"Data do Incidente\",\n",
    "  \"nivel_de_tensao\": \"Nivel de Tensao afetada (AT, MT, BT)\",\n",
    "  \"causa_do_incidente\": \"O que causou o incidente\",\n",
    "  \"duracao_incidente_min_\": \"Duração do Incidente (min)\",\n",
    "  \"n_º_clientes_afetados\": \"Nº de clientes afetados\",\n",
    "  # OS INDICADORES GERAIS NAO PERCEBBO NADAAAAAAAAAAAAAAAAAAAAAAA\n",
    "  \"tiepi_mt_min_\": \"Tempo de interrupção de potência/energia, calculado a partir do valor médio da potência\", # potencia do que?\n",
    "  \"saifi_mt_#_\": \"Número de interrupções por pontos de entrega (MT)\",\n",
    "  \"saidi_mt_min_\": \"Número de interrupções*tempo de interrupcao por pontos de entrega (MT)\",\n",
    "  \"end_mwh_\": \"Quantidade de Energia não distribuida pela rede MT (MWh)\",\n",
    "  \"saidi_bt_min_\": \"Número de interrupções*tempo de interrupcao por cliente (BT)\",\n",
    "  \"saidi_bt_#_\": \"Número de interrupções por cliente (BT)\",\n",
    "  \"qualidade_de_energia_eletrica\": \"Qualidade da energia eletrica\", # n sei\n",
    "  \"qualidade_de_servico_comercial\": \"Qualidade do serviço comercial\", # n sei\n",
    "  \"fundamentacao\": \"Justificação para [não] aprovação\",\n",
    "  \"decisao\": \"Se foi aprovado == Se é para ser considerado evento excecional ou imprevisto\",\n",
    "  # { estes sao desnecessarios\n",
    "  \"dia\": \"Dia do Incidente\",\n",
    "  \"mes\": \"Mês do Incidente\",\n",
    "  \"ano\": \"Ano do Incidente\",\n",
    "  \"distrito\": \"Distrito onde ocorreu o incidente\",\n",
    "  # }\n",
    "  \"densidade_populacional\": \"Densidade populacional do concelho do ano\",\n",
    "  \"populacao_residente\": \"População residente do concelho do ano\",\n",
    "  \"setor_primario\": \"Nº de pessoas empregadas no setor primário do concelho em 2021\", # TODO FALTA A DENSISADE\n",
    "  \"setor_secundario\": \"Nº de pessoas empregadas no setor secundário do concelho em 2021\", # TODO FALTA A DENSISADE\n",
    "  \"setor_terciario\": \"Nº de pessoas empregadas no setor terciário do concelho em 2021\", # TODO FALTA A DENSISADE\n",
    "  \"indice_de_envelhecimento\": \"Índice de envelhecimento do concelho por ano(?)\",\n",
    "  \"rural\": \"Percentagem de população rural do concelho em 2021(?)\",\n",
    "  \"t_med\": \"Temperatura média na capital do distrito do incidente no dia (ºC)\",\n",
    "  \"t_max\": \"Temperatura máxima na capital do distrito do incidente no dia (ºC)\",\n",
    "  \"t_min\": \"Temperatura mínima na capital do distrito do incidente no dia (ºC)\",\n",
    "  \"dd_med\": \"n sei (º)\", # TODO ver\n",
    "  \"dd_ffx\": \"n sei (º)\", # TODO ver\n",
    "  \"ff_med\": \"intensidade do vento média na capital do distrito do incidente no dia (m/s)\",\n",
    "  \"dd_max\": \"intensidade do vento máxima na capital do distrito do incidente no dia (m/s)\",\n",
    "  \"pr_qtd\": \"Quantidade de precipitação na capital do distrito do incidente no dia (mm)\",\n",
    "}\n",
    "# print the column names\n",
    "duckdb.query(r\"describe select * from df\").df() "
   ],
   "id": "1ec9196adf965101",
   "outputs": [
    {
     "data": {
      "text/plain": "                       column_name column_type null   key default extra\n0              codigo_do_relatorio     VARCHAR  YES  None    None  None\n1                         concelho     VARCHAR  YES  None    None  None\n2                data_do_incidente     VARCHAR  YES  None    None  None\n3                  nivel_de_tensao     VARCHAR  YES  None    None  None\n4               causa_do_incidente     VARCHAR  YES  None    None  None\n5           duracao_incidente_min_     VARCHAR  YES  None    None  None\n6            n_º_clientes_afetados      DOUBLE  YES  None    None  None\n7                    tiepi_mt_min_     VARCHAR  YES  None    None  None\n8                      saifi_mt_#_     VARCHAR  YES  None    None  None\n9                    saidi_mt_min_     VARCHAR  YES  None    None  None\n10                        end_mwh_     VARCHAR  YES  None    None  None\n11                     saifi_bt_#_     VARCHAR  YES  None    None  None\n12                   saidi_bt_min_     VARCHAR  YES  None    None  None\n13   qualidade_de_energia_eletrica     VARCHAR  YES  None    None  None\n14  qualidade_de_servico_comercial     VARCHAR  YES  None    None  None\n15                   fundamentacao     VARCHAR  YES  None    None  None\n16                         decisao     VARCHAR  YES  None    None  None\n17                             dia      BIGINT  YES  None    None  None\n18                             mes      BIGINT  YES  None    None  None\n19                             ano      BIGINT  YES  None    None  None\n20                        distrito     VARCHAR  YES  None    None  None\n21          densidade_populacional      DOUBLE  YES  None    None  None\n22             populacao_residente      BIGINT  YES  None    None  None\n23                  setor_primario      BIGINT  YES  None    None  None\n24                setor_secundario      BIGINT  YES  None    None  None\n25                 setor_terciario      BIGINT  YES  None    None  None\n26        indice_de_envelhecimento      DOUBLE  YES  None    None  None\n27                           rural      DOUBLE  YES  None    None  None\n28                           t_med      DOUBLE  YES  None    None  None\n29                           t_max      DOUBLE  YES  None    None  None\n30                           t_min      DOUBLE  YES  None    None  None\n31                          dd_med      DOUBLE  YES  None    None  None\n32                          dd_ffx      DOUBLE  YES  None    None  None\n33                          ff_med      DOUBLE  YES  None    None  None\n34                          ff_max      DOUBLE  YES  None    None  None\n35                          pr_qtd      DOUBLE  YES  None    None  None",
      "text/html": "<div>\n<style scoped>\n    .dataframe tbody tr th:only-of-type {\n        vertical-align: middle;\n    }\n\n    .dataframe tbody tr th {\n        vertical-align: top;\n    }\n\n    .dataframe thead th {\n        text-align: right;\n    }\n</style>\n<table border=\"1\" class=\"dataframe\">\n  <thead>\n    <tr style=\"text-align: right;\">\n      <th></th>\n      <th>column_name</th>\n      <th>column_type</th>\n      <th>null</th>\n      <th>key</th>\n      <th>default</th>\n      <th>extra</th>\n    </tr>\n  </thead>\n  <tbody>\n    <tr>\n      <th>0</th>\n      <td>codigo_do_relatorio</td>\n      <td>VARCHAR</td>\n      <td>YES</td>\n      <td>None</td>\n      <td>None</td>\n      <td>None</td>\n    </tr>\n    <tr>\n      <th>1</th>\n      <td>concelho</td>\n      <td>VARCHAR</td>\n      <td>YES</td>\n      <td>None</td>\n      <td>None</td>\n      <td>None</td>\n    </tr>\n    <tr>\n      <th>2</th>\n      <td>data_do_incidente</td>\n      <td>VARCHAR</td>\n      <td>YES</td>\n      <td>None</td>\n      <td>None</td>\n      <td>None</td>\n    </tr>\n    <tr>\n      <th>3</th>\n      <td>nivel_de_tensao</td>\n      <td>VARCHAR</td>\n      <td>YES</td>\n      <td>None</td>\n      <td>None</td>\n      <td>None</td>\n    </tr>\n    <tr>\n      <th>4</th>\n      <td>causa_do_incidente</td>\n      <td>VARCHAR</td>\n      <td>YES</td>\n      <td>None</td>\n      <td>None</td>\n      <td>None</td>\n    </tr>\n    <tr>\n      <th>5</th>\n      <td>duracao_incidente_min_</td>\n      <td>VARCHAR</td>\n      <td>YES</td>\n      <td>None</td>\n      <td>None</td>\n      <td>None</td>\n    </tr>\n    <tr>\n      <th>6</th>\n      <td>n_º_clientes_afetados</td>\n      <td>DOUBLE</td>\n      <td>YES</td>\n      <td>None</td>\n      <td>None</td>\n      <td>None</td>\n    </tr>\n    <tr>\n      <th>7</th>\n      <td>tiepi_mt_min_</td>\n      <td>VARCHAR</td>\n      <td>YES</td>\n      <td>None</td>\n      <td>None</td>\n      <td>None</td>\n    </tr>\n    <tr>\n      <th>8</th>\n      <td>saifi_mt_#_</td>\n      <td>VARCHAR</td>\n      <td>YES</td>\n      <td>None</td>\n      <td>None</td>\n      <td>None</td>\n    </tr>\n    <tr>\n      <th>9</th>\n      <td>saidi_mt_min_</td>\n      <td>VARCHAR</td>\n      <td>YES</td>\n      <td>None</td>\n      <td>None</td>\n      <td>None</td>\n    </tr>\n    <tr>\n      <th>10</th>\n      <td>end_mwh_</td>\n      <td>VARCHAR</td>\n      <td>YES</td>\n      <td>None</td>\n      <td>None</td>\n      <td>None</td>\n    </tr>\n    <tr>\n      <th>11</th>\n      <td>saifi_bt_#_</td>\n      <td>VARCHAR</td>\n      <td>YES</td>\n      <td>None</td>\n      <td>None</td>\n      <td>None</td>\n    </tr>\n    <tr>\n      <th>12</th>\n      <td>saidi_bt_min_</td>\n      <td>VARCHAR</td>\n      <td>YES</td>\n      <td>None</td>\n      <td>None</td>\n      <td>None</td>\n    </tr>\n    <tr>\n      <th>13</th>\n      <td>qualidade_de_energia_eletrica</td>\n      <td>VARCHAR</td>\n      <td>YES</td>\n      <td>None</td>\n      <td>None</td>\n      <td>None</td>\n    </tr>\n    <tr>\n      <th>14</th>\n      <td>qualidade_de_servico_comercial</td>\n      <td>VARCHAR</td>\n      <td>YES</td>\n      <td>None</td>\n      <td>None</td>\n      <td>None</td>\n    </tr>\n    <tr>\n      <th>15</th>\n      <td>fundamentacao</td>\n      <td>VARCHAR</td>\n      <td>YES</td>\n      <td>None</td>\n      <td>None</td>\n      <td>None</td>\n    </tr>\n    <tr>\n      <th>16</th>\n      <td>decisao</td>\n      <td>VARCHAR</td>\n      <td>YES</td>\n      <td>None</td>\n      <td>None</td>\n      <td>None</td>\n    </tr>\n    <tr>\n      <th>17</th>\n      <td>dia</td>\n      <td>BIGINT</td>\n      <td>YES</td>\n      <td>None</td>\n      <td>None</td>\n      <td>None</td>\n    </tr>\n    <tr>\n      <th>18</th>\n      <td>mes</td>\n      <td>BIGINT</td>\n      <td>YES</td>\n      <td>None</td>\n      <td>None</td>\n      <td>None</td>\n    </tr>\n    <tr>\n      <th>19</th>\n      <td>ano</td>\n      <td>BIGINT</td>\n      <td>YES</td>\n      <td>None</td>\n      <td>None</td>\n      <td>None</td>\n    </tr>\n    <tr>\n      <th>20</th>\n      <td>distrito</td>\n      <td>VARCHAR</td>\n      <td>YES</td>\n      <td>None</td>\n      <td>None</td>\n      <td>None</td>\n    </tr>\n    <tr>\n      <th>21</th>\n      <td>densidade_populacional</td>\n      <td>DOUBLE</td>\n      <td>YES</td>\n      <td>None</td>\n      <td>None</td>\n      <td>None</td>\n    </tr>\n    <tr>\n      <th>22</th>\n      <td>populacao_residente</td>\n      <td>BIGINT</td>\n      <td>YES</td>\n      <td>None</td>\n      <td>None</td>\n      <td>None</td>\n    </tr>\n    <tr>\n      <th>23</th>\n      <td>setor_primario</td>\n      <td>BIGINT</td>\n      <td>YES</td>\n      <td>None</td>\n      <td>None</td>\n      <td>None</td>\n    </tr>\n    <tr>\n      <th>24</th>\n      <td>setor_secundario</td>\n      <td>BIGINT</td>\n      <td>YES</td>\n      <td>None</td>\n      <td>None</td>\n      <td>None</td>\n    </tr>\n    <tr>\n      <th>25</th>\n      <td>setor_terciario</td>\n      <td>BIGINT</td>\n      <td>YES</td>\n      <td>None</td>\n      <td>None</td>\n      <td>None</td>\n    </tr>\n    <tr>\n      <th>26</th>\n      <td>indice_de_envelhecimento</td>\n      <td>DOUBLE</td>\n      <td>YES</td>\n      <td>None</td>\n      <td>None</td>\n      <td>None</td>\n    </tr>\n    <tr>\n      <th>27</th>\n      <td>rural</td>\n      <td>DOUBLE</td>\n      <td>YES</td>\n      <td>None</td>\n      <td>None</td>\n      <td>None</td>\n    </tr>\n    <tr>\n      <th>28</th>\n      <td>t_med</td>\n      <td>DOUBLE</td>\n      <td>YES</td>\n      <td>None</td>\n      <td>None</td>\n      <td>None</td>\n    </tr>\n    <tr>\n      <th>29</th>\n      <td>t_max</td>\n      <td>DOUBLE</td>\n      <td>YES</td>\n      <td>None</td>\n      <td>None</td>\n      <td>None</td>\n    </tr>\n    <tr>\n      <th>30</th>\n      <td>t_min</td>\n      <td>DOUBLE</td>\n      <td>YES</td>\n      <td>None</td>\n      <td>None</td>\n      <td>None</td>\n    </tr>\n    <tr>\n      <th>31</th>\n      <td>dd_med</td>\n      <td>DOUBLE</td>\n      <td>YES</td>\n      <td>None</td>\n      <td>None</td>\n      <td>None</td>\n    </tr>\n    <tr>\n      <th>32</th>\n      <td>dd_ffx</td>\n      <td>DOUBLE</td>\n      <td>YES</td>\n      <td>None</td>\n      <td>None</td>\n      <td>None</td>\n    </tr>\n    <tr>\n      <th>33</th>\n      <td>ff_med</td>\n      <td>DOUBLE</td>\n      <td>YES</td>\n      <td>None</td>\n      <td>None</td>\n      <td>None</td>\n    </tr>\n    <tr>\n      <th>34</th>\n      <td>ff_max</td>\n      <td>DOUBLE</td>\n      <td>YES</td>\n      <td>None</td>\n      <td>None</td>\n      <td>None</td>\n    </tr>\n    <tr>\n      <th>35</th>\n      <td>pr_qtd</td>\n      <td>DOUBLE</td>\n      <td>YES</td>\n      <td>None</td>\n      <td>None</td>\n      <td>None</td>\n    </tr>\n  </tbody>\n</table>\n</div>"
     },
     "execution_count": 5,
     "metadata": {},
     "output_type": "execute_result"
    }
   ],
   "execution_count": 5
  },
  {
   "cell_type": "code",
   "outputs": [
    {
     "data": {
      "text/plain": "   tiepi_mt_min_   end_mwh_\n0              0       None\n1      0,0000000  0,0000000\n2              0          0\n3        0,00000    0,00000\n4      0,0010347  0,0704240\n5      0,0026700  0,2334447\n6       0,011339       0,69\n7      0,0000000  0,0100000\n8      0,0000000      0.001\n9      0,0000000  0,0010000\n10      0,017303       1,18\n11       0,00089    0,06025",
      "text/html": "<div>\n<style scoped>\n    .dataframe tbody tr th:only-of-type {\n        vertical-align: middle;\n    }\n\n    .dataframe tbody tr th {\n        vertical-align: top;\n    }\n\n    .dataframe thead th {\n        text-align: right;\n    }\n</style>\n<table border=\"1\" class=\"dataframe\">\n  <thead>\n    <tr style=\"text-align: right;\">\n      <th></th>\n      <th>tiepi_mt_min_</th>\n      <th>end_mwh_</th>\n    </tr>\n  </thead>\n  <tbody>\n    <tr>\n      <th>0</th>\n      <td>0</td>\n      <td>None</td>\n    </tr>\n    <tr>\n      <th>1</th>\n      <td>0,0000000</td>\n      <td>0,0000000</td>\n    </tr>\n    <tr>\n      <th>2</th>\n      <td>0</td>\n      <td>0</td>\n    </tr>\n    <tr>\n      <th>3</th>\n      <td>0,00000</td>\n      <td>0,00000</td>\n    </tr>\n    <tr>\n      <th>4</th>\n      <td>0,0010347</td>\n      <td>0,0704240</td>\n    </tr>\n    <tr>\n      <th>5</th>\n      <td>0,0026700</td>\n      <td>0,2334447</td>\n    </tr>\n    <tr>\n      <th>6</th>\n      <td>0,011339</td>\n      <td>0,69</td>\n    </tr>\n    <tr>\n      <th>7</th>\n      <td>0,0000000</td>\n      <td>0,0100000</td>\n    </tr>\n    <tr>\n      <th>8</th>\n      <td>0,0000000</td>\n      <td>0.001</td>\n    </tr>\n    <tr>\n      <th>9</th>\n      <td>0,0000000</td>\n      <td>0,0010000</td>\n    </tr>\n    <tr>\n      <th>10</th>\n      <td>0,017303</td>\n      <td>1,18</td>\n    </tr>\n    <tr>\n      <th>11</th>\n      <td>0,00089</td>\n      <td>0,06025</td>\n    </tr>\n  </tbody>\n</table>\n</div>"
     },
     "execution_count": 6,
     "metadata": {},
     "output_type": "execute_result"
    }
   ],
   "source": [
    "duckdb.sql(r\"select distinct tiepi_mt_min_, end_mwh_ from df where nivel_de_tensao = 'BT'\").df()"
   ],
   "metadata": {
    "collapsed": false,
    "ExecuteTime": {
     "end_time": "2024-04-20T13:08:05.058332Z",
     "start_time": "2024-04-20T13:08:05.034216Z"
    }
   },
   "id": "8222edf88e2eaff8",
   "execution_count": 6
  },
  {
   "cell_type": "code",
   "outputs": [
    {
     "data": {
      "text/plain": "Empty DataFrame\nColumns: [codigo_do_relatorio, concelho, data_do_incidente, nivel_de_tensao, causa_do_incidente, duracao_incidente_min_, n_º_clientes_afetados, tiepi_mt_min_, saifi_mt_#_, saidi_mt_min_, end_mwh_, saifi_bt_#_, saidi_bt_min_, qualidade_de_energia_eletrica, qualidade_de_servico_comercial, fundamentacao, decisao, dia, mes, ano, distrito, densidade_populacional, populacao_residente, setor_primario, setor_secundario, setor_terciario, indice_de_envelhecimento, rural, t_med, t_max, t_min, dd_med, dd_ffx, ff_med, ff_max, pr_qtd]\nIndex: []\n\n[0 rows x 36 columns]",
      "text/html": "<div>\n<style scoped>\n    .dataframe tbody tr th:only-of-type {\n        vertical-align: middle;\n    }\n\n    .dataframe tbody tr th {\n        vertical-align: top;\n    }\n\n    .dataframe thead th {\n        text-align: right;\n    }\n</style>\n<table border=\"1\" class=\"dataframe\">\n  <thead>\n    <tr style=\"text-align: right;\">\n      <th></th>\n      <th>codigo_do_relatorio</th>\n      <th>concelho</th>\n      <th>data_do_incidente</th>\n      <th>nivel_de_tensao</th>\n      <th>causa_do_incidente</th>\n      <th>duracao_incidente_min_</th>\n      <th>n_º_clientes_afetados</th>\n      <th>tiepi_mt_min_</th>\n      <th>saifi_mt_#_</th>\n      <th>saidi_mt_min_</th>\n      <th>...</th>\n      <th>indice_de_envelhecimento</th>\n      <th>rural</th>\n      <th>t_med</th>\n      <th>t_max</th>\n      <th>t_min</th>\n      <th>dd_med</th>\n      <th>dd_ffx</th>\n      <th>ff_med</th>\n      <th>ff_max</th>\n      <th>pr_qtd</th>\n    </tr>\n  </thead>\n  <tbody>\n  </tbody>\n</table>\n<p>0 rows × 36 columns</p>\n</div>"
     },
     "execution_count": 8,
     "metadata": {},
     "output_type": "execute_result"
    }
   ],
   "source": [
    "# check which columns aren't YYYY-MM-DD in data_do_incidente\n",
    "df[~df.data_do_incidente.str.match(r\"\\d{4}-\\d{2}-\\d{2}\")]"
   ],
   "metadata": {
    "collapsed": false,
    "ExecuteTime": {
     "end_time": "2024-04-20T13:12:40.926126Z",
     "start_time": "2024-04-20T13:12:40.915224Z"
    }
   },
   "id": "c16741ae8c2342e7",
   "execution_count": 8
  },
  {
   "cell_type": "code",
   "outputs": [],
   "source": [],
   "metadata": {
    "collapsed": false
   },
   "id": "eb671817be15fad0"
  },
  {
   "cell_type": "code",
   "outputs": [],
   "source": [],
   "metadata": {
    "collapsed": false
   },
   "id": "7bdf9bc3d819b37a"
  }
 ],
 "metadata": {
  "kernelspec": {
   "display_name": "Python 3",
   "language": "python",
   "name": "python3"
  },
  "language_info": {
   "codemirror_mode": {
    "name": "ipython",
    "version": 2
   },
   "file_extension": ".py",
   "mimetype": "text/x-python",
   "name": "python",
   "nbconvert_exporter": "python",
   "pygments_lexer": "ipython2",
   "version": "2.7.6"
  }
 },
 "nbformat": 4,
 "nbformat_minor": 5
}
